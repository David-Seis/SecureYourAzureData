{
    "metadata": {
        "kernelspec": {
            "name": "SQL",
            "display_name": "SQL",
            "language": "sql"
        },
        "language_info": {
            "name": "sql",
            "version": ""
        }
    },
    "nbformat_minor": 2,
    "nbformat": 4,
    "cells": [
        {
            "cell_type": "markdown",
            "source": [
                "# SQL Server Ground to Cloud Security Workshop\n",
                "\n",
                "_Last Updated: 25 July 2022_\n",
                "\n",
                "In [this workshop](https://github.com/David-Seis/SecureYourAzureData) you'll cover the basics of securing SQL Server installations and databases, from on-premises systems to Microsoft Azure deployments.\n",
                "\n",
                "_Note that this Notebook is an example only; and should not be used in production. It should be evaluated as a training implement only, and you should use these scripts and statements in a read-only fashion on a test system not connected to your production environment._"
            ],
            "metadata": {
                "azdata_cell_guid": "c95624e2-bbdd-4d56-bf9f-68ffbd7b25d5"
            },
            "attachments": {}
        },
        {
            "cell_type": "markdown",
            "source": [
                "# Module 2 - SQL Server Security Basics\n",
                "\n",
                "Activities from the [SQL Server Security Course](https://github.com/David-Seis/SecureYourAzureData), for [Module 2](https://github.com/David-Seis/SecureYourAzureData/blob/main/SQLSecurity/02%2520-%2520SQLServerSecurityBasics.md)."
            ],
            "metadata": {
                "azdata_cell_guid": "b18963a3-cc42-4185-a776-e269e0820ce4"
            },
            "attachments": {}
        },
        {
            "cell_type": "code",
            "source": [
                "/* \r\n",
                "Module 2, Activity 1\r\n",
                "Create Users blah blah blah\r\n",
                " */\r\n",
                "\r\n",
                "SELECT * FROM sys.server_principals;\r\n",
                "GO"
            ],
            "metadata": {
                "azdata_cell_guid": "2b196a8a-92ed-4baf-a7dc-8e8a356c14fe",
                "language": "sql",
                "tags": []
            },
            "outputs": [
                {
                    "output_type": "display_data",
                    "data": {
                        "text/html": "(21 rows affected)"
                    },
                    "metadata": {}
                },
                {
                    "output_type": "display_data",
                    "data": {
                        "text/html": "Total execution time: 00:00:00.146"
                    },
                    "metadata": {}
                },
                {
                    "output_type": "execute_result",
                    "metadata": {},
                    "execution_count": 1,
                    "data": {
                        "application/vnd.dataresource+json": {
                            "schema": {
                                "fields": [
                                    {
                                        "name": "name"
                                    },
                                    {
                                        "name": "principal_id"
                                    },
                                    {
                                        "name": "sid"
                                    },
                                    {
                                        "name": "type"
                                    },
                                    {
                                        "name": "type_desc"
                                    },
                                    {
                                        "name": "is_disabled"
                                    },
                                    {
                                        "name": "create_date"
                                    },
                                    {
                                        "name": "modify_date"
                                    },
                                    {
                                        "name": "default_database_name"
                                    },
                                    {
                                        "name": "default_language_name"
                                    },
                                    {
                                        "name": "credential_id"
                                    },
                                    {
                                        "name": "owning_principal_id"
                                    },
                                    {
                                        "name": "is_fixed_role"
                                    }
                                ]
                            },
                            "data": [
                                {
                                    "0": "sa",
                                    "1": "1",
                                    "2": "0x01",
                                    "3": "S",
                                    "4": "SQL_LOGIN",
                                    "5": "0",
                                    "6": "2003-04-08 09:10:35.460",
                                    "7": "2021-10-31 22:07:19.670",
                                    "8": "master",
                                    "9": "us_english",
                                    "10": "NULL",
                                    "11": "NULL",
                                    "12": "0"
                                },
                                {
                                    "0": "public",
                                    "1": "2",
                                    "2": "0x02",
                                    "3": "R",
                                    "4": "SERVER_ROLE",
                                    "5": "0",
                                    "6": "2009-04-13 12:59:06.030",
                                    "7": "2009-04-13 12:59:06.030",
                                    "8": "NULL",
                                    "9": "NULL",
                                    "10": "NULL",
                                    "11": "1",
                                    "12": "0"
                                },
                                {
                                    "0": "sysadmin",
                                    "1": "3",
                                    "2": "0x03",
                                    "3": "R",
                                    "4": "SERVER_ROLE",
                                    "5": "0",
                                    "6": "2009-04-13 12:59:06.030",
                                    "7": "2009-04-13 12:59:06.030",
                                    "8": "NULL",
                                    "9": "NULL",
                                    "10": "NULL",
                                    "11": "1",
                                    "12": "1"
                                },
                                {
                                    "0": "securityadmin",
                                    "1": "4",
                                    "2": "0x04",
                                    "3": "R",
                                    "4": "SERVER_ROLE",
                                    "5": "0",
                                    "6": "2009-04-13 12:59:06.030",
                                    "7": "2009-04-13 12:59:06.030",
                                    "8": "NULL",
                                    "9": "NULL",
                                    "10": "NULL",
                                    "11": "1",
                                    "12": "1"
                                },
                                {
                                    "0": "serveradmin",
                                    "1": "5",
                                    "2": "0x05",
                                    "3": "R",
                                    "4": "SERVER_ROLE",
                                    "5": "0",
                                    "6": "2009-04-13 12:59:06.030",
                                    "7": "2009-04-13 12:59:06.030",
                                    "8": "NULL",
                                    "9": "NULL",
                                    "10": "NULL",
                                    "11": "1",
                                    "12": "1"
                                },
                                {
                                    "0": "setupadmin",
                                    "1": "6",
                                    "2": "0x06",
                                    "3": "R",
                                    "4": "SERVER_ROLE",
                                    "5": "0",
                                    "6": "2009-04-13 12:59:06.030",
                                    "7": "2009-04-13 12:59:06.030",
                                    "8": "NULL",
                                    "9": "NULL",
                                    "10": "NULL",
                                    "11": "1",
                                    "12": "1"
                                },
                                {
                                    "0": "processadmin",
                                    "1": "7",
                                    "2": "0x07",
                                    "3": "R",
                                    "4": "SERVER_ROLE",
                                    "5": "0",
                                    "6": "2009-04-13 12:59:06.030",
                                    "7": "2009-04-13 12:59:06.030",
                                    "8": "NULL",
                                    "9": "NULL",
                                    "10": "NULL",
                                    "11": "1",
                                    "12": "1"
                                },
                                {
                                    "0": "diskadmin",
                                    "1": "8",
                                    "2": "0x08",
                                    "3": "R",
                                    "4": "SERVER_ROLE",
                                    "5": "0",
                                    "6": "2009-04-13 12:59:06.030",
                                    "7": "2009-04-13 12:59:06.030",
                                    "8": "NULL",
                                    "9": "NULL",
                                    "10": "NULL",
                                    "11": "1",
                                    "12": "1"
                                },
                                {
                                    "0": "dbcreator",
                                    "1": "9",
                                    "2": "0x09",
                                    "3": "R",
                                    "4": "SERVER_ROLE",
                                    "5": "0",
                                    "6": "2009-04-13 12:59:06.030",
                                    "7": "2009-04-13 12:59:06.030",
                                    "8": "NULL",
                                    "9": "NULL",
                                    "10": "NULL",
                                    "11": "1",
                                    "12": "1"
                                },
                                {
                                    "0": "bulkadmin",
                                    "1": "10",
                                    "2": "0x0A",
                                    "3": "R",
                                    "4": "SERVER_ROLE",
                                    "5": "0",
                                    "6": "2009-04-13 12:59:06.030",
                                    "7": "2009-04-13 12:59:06.030",
                                    "8": "NULL",
                                    "9": "NULL",
                                    "10": "NULL",
                                    "11": "1",
                                    "12": "1"
                                },
                                {
                                    "0": "##MS_SQLResourceSigningCertificate##",
                                    "1": "101",
                                    "2": "0x0106000000000009010000004465745EF606FBAC6410C608566E3423FA189D03",
                                    "3": "C",
                                    "4": "CERTIFICATE_MAPPED_LOGIN",
                                    "5": "0",
                                    "6": "2021-09-23 17:19:27.580",
                                    "7": "2021-09-23 17:19:27.580",
                                    "8": "master",
                                    "9": "NULL",
                                    "10": "NULL",
                                    "11": "NULL",
                                    "12": "0"
                                },
                                {
                                    "0": "##MS_SQLReplicationSigningCertificate##",
                                    "1": "102",
                                    "2": "0x010600000000000901000000A4BCC49B7B6A141FBAE72882311C481772F8496B",
                                    "3": "C",
                                    "4": "CERTIFICATE_MAPPED_LOGIN",
                                    "5": "0",
                                    "6": "2021-09-23 17:19:27.580",
                                    "7": "2021-09-23 17:19:27.580",
                                    "8": "master",
                                    "9": "NULL",
                                    "10": "NULL",
                                    "11": "NULL",
                                    "12": "0"
                                },
                                {
                                    "0": "##MS_SQLAuthenticatorCertificate##",
                                    "1": "103",
                                    "2": "0x010600000000000901000000A177CA65738A43FE6625910B66EFD8EA66BA3B1C",
                                    "3": "C",
                                    "4": "CERTIFICATE_MAPPED_LOGIN",
                                    "5": "0",
                                    "6": "2021-09-23 17:19:27.580",
                                    "7": "2021-09-23 17:19:27.580",
                                    "8": "master",
                                    "9": "NULL",
                                    "10": "NULL",
                                    "11": "NULL",
                                    "12": "0"
                                },
                                {
                                    "0": "##MS_PolicySigningCertificate##",
                                    "1": "105",
                                    "2": "0x01060000000000090100000089DAFFC787539FC357A9C979EB9E23869C5CC89A",
                                    "3": "C",
                                    "4": "CERTIFICATE_MAPPED_LOGIN",
                                    "5": "0",
                                    "6": "2021-09-23 17:19:27.580",
                                    "7": "2021-09-23 17:19:27.580",
                                    "8": "master",
                                    "9": "NULL",
                                    "10": "NULL",
                                    "11": "NULL",
                                    "12": "0"
                                },
                                {
                                    "0": "##MS_SmoExtendedSigningCertificate##",
                                    "1": "106",
                                    "2": "0x010600000000000901000000FF213130D6F4DD1154B338E04743313D144AF8CD",
                                    "3": "C",
                                    "4": "CERTIFICATE_MAPPED_LOGIN",
                                    "5": "0",
                                    "6": "2021-09-23 17:19:27.580",
                                    "7": "2021-09-23 17:19:27.580",
                                    "8": "master",
                                    "9": "NULL",
                                    "10": "NULL",
                                    "11": "NULL",
                                    "12": "0"
                                },
                                {
                                    "0": "##MS_PolicyEventProcessingLogin##",
                                    "1": "256",
                                    "2": "0x31D47098D111594BB79E1AD79F7F76E8",
                                    "3": "S",
                                    "4": "SQL_LOGIN",
                                    "5": "1",
                                    "6": "2021-09-23 17:19:53.637",
                                    "7": "2021-10-31 22:07:18.657",
                                    "8": "master",
                                    "9": "us_english",
                                    "10": "NULL",
                                    "11": "NULL",
                                    "12": "0"
                                },
                                {
                                    "0": "##MS_PolicyTsqlExecutionLogin##",
                                    "1": "257",
                                    "2": "0x39F10C8E4A71C248B6D0989B04FCDFB0",
                                    "3": "S",
                                    "4": "SQL_LOGIN",
                                    "5": "1",
                                    "6": "2021-09-23 17:19:53.640",
                                    "7": "2021-10-31 22:07:18.657",
                                    "8": "master",
                                    "9": "us_english",
                                    "10": "NULL",
                                    "11": "NULL",
                                    "12": "0"
                                },
                                {
                                    "0": "##MS_AgentSigningCertificate##",
                                    "1": "258",
                                    "2": "0x010600000000000901000000B214AB957A380751521FE2DDDE8322ED12ECDF6F",
                                    "3": "C",
                                    "4": "CERTIFICATE_MAPPED_LOGIN",
                                    "5": "0",
                                    "6": "2021-09-23 17:19:59.210",
                                    "7": "2021-09-23 17:19:59.217",
                                    "8": "master",
                                    "9": "us_english",
                                    "10": "NULL",
                                    "11": "NULL",
                                    "12": "0"
                                },
                                {
                                    "0": "BUILTIN\\Administrators",
                                    "1": "259",
                                    "2": "0x01020000000000052000000020020000",
                                    "3": "G",
                                    "4": "WINDOWS_GROUP",
                                    "5": "0",
                                    "6": "2021-09-23 17:21:30.020",
                                    "7": "2021-09-23 17:21:30.030",
                                    "8": "master",
                                    "9": "us_english",
                                    "10": "NULL",
                                    "11": "NULL",
                                    "12": "0"
                                },
                                {
                                    "0": "NT AUTHORITY\\SYSTEM",
                                    "1": "260",
                                    "2": "0x010100000000000512000000",
                                    "3": "U",
                                    "4": "WINDOWS_LOGIN",
                                    "5": "0",
                                    "6": "2021-10-31 22:07:19.673",
                                    "7": "2021-10-31 22:07:19.680",
                                    "8": "master",
                                    "9": "us_english",
                                    "10": "NULL",
                                    "11": "NULL",
                                    "12": "0"
                                },
                                {
                                    "0": "NT AUTHORITY\\NETWORK SERVICE",
                                    "1": "261",
                                    "2": "0x010100000000000514000000",
                                    "3": "U",
                                    "4": "WINDOWS_LOGIN",
                                    "5": "0",
                                    "6": "2021-10-31 22:07:19.673",
                                    "7": "2021-10-31 22:07:19.683",
                                    "8": "master",
                                    "9": "us_english",
                                    "10": "NULL",
                                    "11": "NULL",
                                    "12": "0"
                                }
                            ]
                        },
                        "text/html": [
                            "<table>",
                            "<tr><th>name</th><th>principal_id</th><th>sid</th><th>type</th><th>type_desc</th><th>is_disabled</th><th>create_date</th><th>modify_date</th><th>default_database_name</th><th>default_language_name</th><th>credential_id</th><th>owning_principal_id</th><th>is_fixed_role</th></tr>",
                            "<tr><td>sa</td><td>1</td><td>0x01</td><td>S</td><td>SQL_LOGIN</td><td>0</td><td>2003-04-08 09:10:35.460</td><td>2021-10-31 22:07:19.670</td><td>master</td><td>us_english</td><td>NULL</td><td>NULL</td><td>0</td></tr>",
                            "<tr><td>public</td><td>2</td><td>0x02</td><td>R</td><td>SERVER_ROLE</td><td>0</td><td>2009-04-13 12:59:06.030</td><td>2009-04-13 12:59:06.030</td><td>NULL</td><td>NULL</td><td>NULL</td><td>1</td><td>0</td></tr>",
                            "<tr><td>sysadmin</td><td>3</td><td>0x03</td><td>R</td><td>SERVER_ROLE</td><td>0</td><td>2009-04-13 12:59:06.030</td><td>2009-04-13 12:59:06.030</td><td>NULL</td><td>NULL</td><td>NULL</td><td>1</td><td>1</td></tr>",
                            "<tr><td>securityadmin</td><td>4</td><td>0x04</td><td>R</td><td>SERVER_ROLE</td><td>0</td><td>2009-04-13 12:59:06.030</td><td>2009-04-13 12:59:06.030</td><td>NULL</td><td>NULL</td><td>NULL</td><td>1</td><td>1</td></tr>",
                            "<tr><td>serveradmin</td><td>5</td><td>0x05</td><td>R</td><td>SERVER_ROLE</td><td>0</td><td>2009-04-13 12:59:06.030</td><td>2009-04-13 12:59:06.030</td><td>NULL</td><td>NULL</td><td>NULL</td><td>1</td><td>1</td></tr>",
                            "<tr><td>setupadmin</td><td>6</td><td>0x06</td><td>R</td><td>SERVER_ROLE</td><td>0</td><td>2009-04-13 12:59:06.030</td><td>2009-04-13 12:59:06.030</td><td>NULL</td><td>NULL</td><td>NULL</td><td>1</td><td>1</td></tr>",
                            "<tr><td>processadmin</td><td>7</td><td>0x07</td><td>R</td><td>SERVER_ROLE</td><td>0</td><td>2009-04-13 12:59:06.030</td><td>2009-04-13 12:59:06.030</td><td>NULL</td><td>NULL</td><td>NULL</td><td>1</td><td>1</td></tr>",
                            "<tr><td>diskadmin</td><td>8</td><td>0x08</td><td>R</td><td>SERVER_ROLE</td><td>0</td><td>2009-04-13 12:59:06.030</td><td>2009-04-13 12:59:06.030</td><td>NULL</td><td>NULL</td><td>NULL</td><td>1</td><td>1</td></tr>",
                            "<tr><td>dbcreator</td><td>9</td><td>0x09</td><td>R</td><td>SERVER_ROLE</td><td>0</td><td>2009-04-13 12:59:06.030</td><td>2009-04-13 12:59:06.030</td><td>NULL</td><td>NULL</td><td>NULL</td><td>1</td><td>1</td></tr>",
                            "<tr><td>bulkadmin</td><td>10</td><td>0x0A</td><td>R</td><td>SERVER_ROLE</td><td>0</td><td>2009-04-13 12:59:06.030</td><td>2009-04-13 12:59:06.030</td><td>NULL</td><td>NULL</td><td>NULL</td><td>1</td><td>1</td></tr>",
                            "<tr><td>##MS_SQLResourceSigningCertificate##</td><td>101</td><td>0x0106000000000009010000004465745EF606FBAC6410C608566E3423FA189D03</td><td>C</td><td>CERTIFICATE_MAPPED_LOGIN</td><td>0</td><td>2021-09-23 17:19:27.580</td><td>2021-09-23 17:19:27.580</td><td>master</td><td>NULL</td><td>NULL</td><td>NULL</td><td>0</td></tr>",
                            "<tr><td>##MS_SQLReplicationSigningCertificate##</td><td>102</td><td>0x010600000000000901000000A4BCC49B7B6A141FBAE72882311C481772F8496B</td><td>C</td><td>CERTIFICATE_MAPPED_LOGIN</td><td>0</td><td>2021-09-23 17:19:27.580</td><td>2021-09-23 17:19:27.580</td><td>master</td><td>NULL</td><td>NULL</td><td>NULL</td><td>0</td></tr>",
                            "<tr><td>##MS_SQLAuthenticatorCertificate##</td><td>103</td><td>0x010600000000000901000000A177CA65738A43FE6625910B66EFD8EA66BA3B1C</td><td>C</td><td>CERTIFICATE_MAPPED_LOGIN</td><td>0</td><td>2021-09-23 17:19:27.580</td><td>2021-09-23 17:19:27.580</td><td>master</td><td>NULL</td><td>NULL</td><td>NULL</td><td>0</td></tr>",
                            "<tr><td>##MS_PolicySigningCertificate##</td><td>105</td><td>0x01060000000000090100000089DAFFC787539FC357A9C979EB9E23869C5CC89A</td><td>C</td><td>CERTIFICATE_MAPPED_LOGIN</td><td>0</td><td>2021-09-23 17:19:27.580</td><td>2021-09-23 17:19:27.580</td><td>master</td><td>NULL</td><td>NULL</td><td>NULL</td><td>0</td></tr>",
                            "<tr><td>##MS_SmoExtendedSigningCertificate##</td><td>106</td><td>0x010600000000000901000000FF213130D6F4DD1154B338E04743313D144AF8CD</td><td>C</td><td>CERTIFICATE_MAPPED_LOGIN</td><td>0</td><td>2021-09-23 17:19:27.580</td><td>2021-09-23 17:19:27.580</td><td>master</td><td>NULL</td><td>NULL</td><td>NULL</td><td>0</td></tr>",
                            "<tr><td>##MS_PolicyEventProcessingLogin##</td><td>256</td><td>0x31D47098D111594BB79E1AD79F7F76E8</td><td>S</td><td>SQL_LOGIN</td><td>1</td><td>2021-09-23 17:19:53.637</td><td>2021-10-31 22:07:18.657</td><td>master</td><td>us_english</td><td>NULL</td><td>NULL</td><td>0</td></tr>",
                            "<tr><td>##MS_PolicyTsqlExecutionLogin##</td><td>257</td><td>0x39F10C8E4A71C248B6D0989B04FCDFB0</td><td>S</td><td>SQL_LOGIN</td><td>1</td><td>2021-09-23 17:19:53.640</td><td>2021-10-31 22:07:18.657</td><td>master</td><td>us_english</td><td>NULL</td><td>NULL</td><td>0</td></tr>",
                            "<tr><td>##MS_AgentSigningCertificate##</td><td>258</td><td>0x010600000000000901000000B214AB957A380751521FE2DDDE8322ED12ECDF6F</td><td>C</td><td>CERTIFICATE_MAPPED_LOGIN</td><td>0</td><td>2021-09-23 17:19:59.210</td><td>2021-09-23 17:19:59.217</td><td>master</td><td>us_english</td><td>NULL</td><td>NULL</td><td>0</td></tr>",
                            "<tr><td>BUILTIN\\Administrators</td><td>259</td><td>0x01020000000000052000000020020000</td><td>G</td><td>WINDOWS_GROUP</td><td>0</td><td>2021-09-23 17:21:30.020</td><td>2021-09-23 17:21:30.030</td><td>master</td><td>us_english</td><td>NULL</td><td>NULL</td><td>0</td></tr>",
                            "<tr><td>NT AUTHORITY\\SYSTEM</td><td>260</td><td>0x010100000000000512000000</td><td>U</td><td>WINDOWS_LOGIN</td><td>0</td><td>2021-10-31 22:07:19.673</td><td>2021-10-31 22:07:19.680</td><td>master</td><td>us_english</td><td>NULL</td><td>NULL</td><td>0</td></tr>",
                            "<tr><td>NT AUTHORITY\\NETWORK SERVICE</td><td>261</td><td>0x010100000000000514000000</td><td>U</td><td>WINDOWS_LOGIN</td><td>0</td><td>2021-10-31 22:07:19.673</td><td>2021-10-31 22:07:19.683</td><td>master</td><td>us_english</td><td>NULL</td><td>NULL</td><td>0</td></tr>",
                            "</table>"
                        ]
                    }
                }
            ],
            "execution_count": 1
        }
    ]
}