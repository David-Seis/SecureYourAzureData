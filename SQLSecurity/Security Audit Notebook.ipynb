{
    "metadata": {
        "kernelspec": {
            "name": "SQL",
            "display_name": "SQL",
            "language": "sql"
        },
        "language_info": {
            "name": "sql",
            "version": ""
        }
    },
    "nbformat_minor": 2,
    "nbformat": 4,
    "cells": [
        {
            "cell_type": "markdown",
            "source": [
                "# SQL Server Ground to Cloud Security Audit\n",
                "\n",
                "_Last Updated: 28 June 2022_\n",
                "\n",
                "  \n",
                "\n",
                "This audit can be used as an example for a security audit you can perform on a SQL Server Instance, and where indicated, an Azure SQL DB environment. Note that this Notebook is an example only; and should not be used in production. It should be evaluated as a training implement only, and you should use these scripts and statements in a read-only fashion on a test system not connected to your production environment."
            ],
            "metadata": {
                "azdata_cell_guid": "c95624e2-bbdd-4d56-bf9f-68ffbd7b25d5"
            },
            "attachments": {}
        }
    ]
}