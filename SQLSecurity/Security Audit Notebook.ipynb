{
    "metadata": {
        "kernelspec": {
            "name": "SQL",
            "display_name": "SQL",
            "language": "sql"
        },
        "language_info": {
            "name": "sql",
            "version": ""
        }
    },
    "nbformat_minor": 2,
    "nbformat": 4,
    "cells": [
        {
            "cell_type": "markdown",
            "source": [
                "# SQL Server Ground to Cloud Security Workshop\n",
                "\n",
                "_Last Updated: 25 July 2022_\n",
                "\n",
                "In [this workshop](https://github.com/David-Seis/SecureYourAzureData) you'll cover the basics of securing SQL Server installations and databases, from on-premises systems to Microsoft Azure deployments.\n",
                "\n",
                "_Note that this Notebook is an example only; and should not be used in production. It should be evaluated as a training implement only, and you should use these scripts and statements in a read-only fashion on a test system not connected to your production environment._"
            ],
            "metadata": {
                "azdata_cell_guid": "c95624e2-bbdd-4d56-bf9f-68ffbd7b25d5"
            },
            "attachments": {}
        },
        {
            "cell_type": "markdown",
            "source": [
                "# Module 2 - SQL Server Security Basics\n",
                "\n",
                "Activities from the [SQL Server Security Course](https://github.com/David-Seis/SecureYourAzureData), for [Module 2](https://github.com/David-Seis/SecureYourAzureData/blob/main/SQLSecurity/02%2520-%2520SQLServerSecurityBasics.md)."
            ],
            "metadata": {
                "azdata_cell_guid": "b18963a3-cc42-4185-a776-e269e0820ce4"
            },
            "attachments": {}
        },
        {
            "cell_type": "markdown",
            "source": [
                "## 2.1 \"Principals\"\n",
                "\n",
                "Step 1: Create a test database named \"SQLSecurityTest\" to hold all of the examples we will be working through today:"
            ],
            "metadata": {
                "language": "sql",
                "azdata_cell_guid": "8a7c93e9-b3d1-41d3-9ee0-354e6cf70051"
            },
            "attachments": {}
        },
        {
            "cell_type": "code",
            "source": [
                "/* Module 2, Activity 1 - Create a test database */\r\n",
                "\r\n",
                "CREATE DATABASE SQLSecurityTest;\r\n",
                "GO"
            ],
            "metadata": {
                "language": "sql",
                "azdata_cell_guid": "83b11ed5-4067-445e-9d15-e40d7d5ba5f8",
                "tags": []
            },
            "outputs": [
                {
                    "output_type": "display_data",
                    "data": {
                        "text/html": "Commands completed successfully."
                    },
                    "metadata": {}
                },
                {
                    "output_type": "display_data",
                    "data": {
                        "text/html": "Total execution time: 00:00:00.722"
                    },
                    "metadata": {}
                }
            ],
            "execution_count": 3
        },
        {
            "cell_type": "markdown",
            "source": [
                "Step 2: Open the \"SamplePythonCodeNotebook\" notebook and create the two windows users:"
            ],
            "metadata": {
                "language": "sql",
                "azdata_cell_guid": "1ebe62bc-8fb4-40c8-b7c1-7bcdb4aec622"
            },
            "attachments": {}
        },
        {
            "cell_type": "markdown",
            "source": [
                "Step 3: Create a set of users in your SQL environment in a new query window, you will need to replace A1 with your device name. Remember, these are test users and are not designed to be secure."
            ],
            "metadata": {
                "language": "sql",
                "azdata_cell_guid": "a19a04fb-42dc-46a8-903c-1f8459e33c84"
            },
            "attachments": {}
        },
        {
            "cell_type": "code",
            "source": [
                "/* Module 2, Activity 1 - Add Test users */\r\n",
                "\r\n",
                "USE [master]\r\n",
                "GO\r\n",
                "CREATE LOGIN [A1\\User1] FROM WINDOWS WITH DEFAULT_DATABASE=[SQLSecurityTest]\r\n",
                "GO\r\n",
                "\r\n",
                "USE [SQLSecurityTest]\r\n",
                "GO\r\n",
                "CREATE USER [A1\\User1] FOR LOGIN [A1\\User1]\r\n",
                "GO\r\n",
                "\r\n",
                "USE [master]\r\n",
                "GO\r\n",
                "CREATE LOGIN [A1\\User2] FROM WINDOWS WITH DEFAULT_DATABASE=[SQLSecurityTest]\r\n",
                "GO\r\n",
                "\r\n",
                "USE [SQLSecurityTest]\r\n",
                "GO\r\n",
                "CREATE USER [A1\\User2] FOR LOGIN [A1\\User2]\r\n",
                "GO\r\n",
                "\r\n",
                "USE [master]\r\n",
                "GO\r\n",
                "CREATE LOGIN [User3] WITH PASSWORD=N'Tes#20. Use32!', DEFAULT_DATABASE=[SQLSecurityTest], CHECK_EXPIRATION=OFF, CHECK_POLICY=OFF\r\n",
                "GO\r\n",
                "\r\n",
                "USE [SQLSecurityTest]\r\n",
                "GO\r\n",
                "CREATE USER [User3] FOR LOGIN [User3]\r\n",
                "GO\r\n",
                "\r\n",
                "USE [master]\r\n",
                "GO\r\n",
                "CREATE LOGIN [User4] WITH PASSWORD=N'Tes#20. Use42!', DEFAULT_DATABASE=[SQLSecurityTest], CHECK_EXPIRATION=OFF, CHECK_POLICY=OFF\r\n",
                "GO\r\n",
                "\r\n",
                "USE [SQLSecurityTest]\r\n",
                "GO\r\n",
                "CREATE USER [User4] FOR LOGIN [User4]\r\n",
                "GO\r\n",
                ""
            ],
            "metadata": {
                "language": "sql",
                "azdata_cell_guid": "ef764b98-96fd-43de-b1a7-57b01db23fa2"
            },
            "outputs": [
                {
                    "output_type": "display_data",
                    "data": {
                        "text/html": "Commands completed successfully."
                    },
                    "metadata": {}
                },
                {
                    "output_type": "display_data",
                    "data": {
                        "text/html": "Commands completed successfully."
                    },
                    "metadata": {}
                },
                {
                    "output_type": "display_data",
                    "data": {
                        "text/html": "Commands completed successfully."
                    },
                    "metadata": {}
                },
                {
                    "output_type": "display_data",
                    "data": {
                        "text/html": "Commands completed successfully."
                    },
                    "metadata": {}
                },
                {
                    "output_type": "display_data",
                    "data": {
                        "text/html": "Commands completed successfully."
                    },
                    "metadata": {}
                },
                {
                    "output_type": "display_data",
                    "data": {
                        "text/html": "Commands completed successfully."
                    },
                    "metadata": {}
                },
                {
                    "output_type": "display_data",
                    "data": {
                        "text/html": "Commands completed successfully."
                    },
                    "metadata": {}
                },
                {
                    "output_type": "display_data",
                    "data": {
                        "text/html": "Commands completed successfully."
                    },
                    "metadata": {}
                },
                {
                    "output_type": "display_data",
                    "data": {
                        "text/html": "Commands completed successfully."
                    },
                    "metadata": {}
                },
                {
                    "output_type": "display_data",
                    "data": {
                        "text/html": "Commands completed successfully."
                    },
                    "metadata": {}
                },
                {
                    "output_type": "display_data",
                    "data": {
                        "text/html": "Commands completed successfully."
                    },
                    "metadata": {}
                },
                {
                    "output_type": "display_data",
                    "data": {
                        "text/html": "Commands completed successfully."
                    },
                    "metadata": {}
                },
                {
                    "output_type": "display_data",
                    "data": {
                        "text/html": "Commands completed successfully."
                    },
                    "metadata": {}
                },
                {
                    "output_type": "display_data",
                    "data": {
                        "text/html": "Commands completed successfully."
                    },
                    "metadata": {}
                },
                {
                    "output_type": "display_data",
                    "data": {
                        "text/html": "Commands completed successfully."
                    },
                    "metadata": {}
                },
                {
                    "output_type": "display_data",
                    "data": {
                        "text/html": "Commands completed successfully."
                    },
                    "metadata": {}
                },
                {
                    "output_type": "display_data",
                    "data": {
                        "text/html": "Total execution time: 00:00:00.020"
                    },
                    "metadata": {}
                }
            ],
            "execution_count": 8
        },
        {
            "cell_type": "markdown",
            "source": [
                "## 2.1.1 Roles\n",
                "\n",
                "Step 1: Create one server role and 2 database roles:"
            ],
            "metadata": {
                "language": "sql",
                "azdata_cell_guid": "9d8ee5b3-481c-4cfa-9d59-4e6f85e43711"
            },
            "attachments": {}
        },
        {
            "cell_type": "code",
            "source": [
                "/*  Module 2, Activity 2 - Create a server role and database roles */\r\n",
                "\r\n",
                "-- Create a server role that will eventually own a table in the database\r\n",
                "USE master;\r\n",
                "CREATE SERVER ROLE SQLSecurityTest_Table_Owner;\r\n",
                "\r\n",
                "-- Create a database roel that will eventually have rights to execute a stored procedure in the database\r\n",
                "USE [SQLSecurityTest];\r\n",
                "CREATE ROLE Stored_procedure_user_role;\r\n",
                "\r\n",
                "--Create a database role that will have permisison to query a view in the database\r\n",
                "USE [SQLSecurityTest];\r\n",
                "CREATE ROLE View_user_role;"
            ],
            "metadata": {
                "azdata_cell_guid": "2b196a8a-92ed-4baf-a7dc-8e8a356c14fe",
                "language": "sql",
                "tags": []
            },
            "outputs": [
                {
                    "output_type": "error",
                    "ename": "",
                    "evalue": "Msg 15025, Level 16, State 1, Line 5\r\nThe server principal 'SQLSecurityTest_Table_Owner' already exists.",
                    "traceback": []
                },
                {
                    "output_type": "display_data",
                    "data": {
                        "text/html": "Total execution time: 00:00:00.339"
                    },
                    "metadata": {}
                }
            ],
            "execution_count": 9
        },
        {
            "cell_type": "markdown",
            "source": [
                "Step 2: Assign users to roles. Remember to change the computer name from 'A1' in all the relevant places if you are running this on your own device."
            ],
            "metadata": {
                "language": "sql",
                "azdata_cell_guid": "77cfc513-1af4-4c2d-ad42-21ef1f1ba3b8"
            },
            "attachments": {}
        },
        {
            "cell_type": "code",
            "source": [
                "/*  Module 2, Activity 2 - Add users to roles */\r\n",
                "\r\n",
                "--Add user 1 to the Server role\r\n",
                "ALTER SERVER ROLE [SQLSecurityTest_Table_Owner] ADD MEMBER [A1\\User1]\r\n",
                "GO\r\n",
                "\r\n",
                "\r\n",
                "--Add user 2 and 3 to the stored procedure user role\r\n",
                "USE [SQLSecurityTest]\r\n",
                "GO\r\n",
                "ALTER ROLE [Stored_procedure_user_role] ADD MEMBER [A1\\User2]\r\n",
                "GO\r\n",
                "\r\n",
                "USE [SQLSecurityTest]\r\n",
                "GO\r\n",
                "ALTER ROLE [Stored_procedure_user_role] ADD MEMBER [User3]\r\n",
                "GO\r\n",
                "\r\n",
                "\r\n",
                "--Add user 1 and 4 to the View user role\r\n",
                "USE [SQLSecurityTest]\r\n",
                "GO\r\n",
                "ALTER ROLE [View_user_role] ADD MEMBER [A1\\User1]\r\n",
                "GO\r\n",
                "\r\n",
                "USE [SQLSecurityTest]\r\n",
                "GO\r\n",
                "ALTER ROLE [View_user_role] ADD MEMBER [User4]\r\n",
                "GO"
            ],
            "metadata": {
                "language": "sql",
                "azdata_cell_guid": "0595bf33-71f1-49da-bafa-fcb535c0f1af"
            },
            "outputs": [
                {
                    "output_type": "display_data",
                    "data": {
                        "text/html": "Commands completed successfully."
                    },
                    "metadata": {}
                },
                {
                    "output_type": "display_data",
                    "data": {
                        "text/html": "Commands completed successfully."
                    },
                    "metadata": {}
                },
                {
                    "output_type": "display_data",
                    "data": {
                        "text/html": "Commands completed successfully."
                    },
                    "metadata": {}
                },
                {
                    "output_type": "display_data",
                    "data": {
                        "text/html": "Commands completed successfully."
                    },
                    "metadata": {}
                },
                {
                    "output_type": "display_data",
                    "data": {
                        "text/html": "Commands completed successfully."
                    },
                    "metadata": {}
                },
                {
                    "output_type": "display_data",
                    "data": {
                        "text/html": "Commands completed successfully."
                    },
                    "metadata": {}
                },
                {
                    "output_type": "display_data",
                    "data": {
                        "text/html": "Commands completed successfully."
                    },
                    "metadata": {}
                },
                {
                    "output_type": "display_data",
                    "data": {
                        "text/html": "Commands completed successfully."
                    },
                    "metadata": {}
                },
                {
                    "output_type": "display_data",
                    "data": {
                        "text/html": "Commands completed successfully."
                    },
                    "metadata": {}
                },
                {
                    "output_type": "display_data",
                    "data": {
                        "text/html": "Total execution time: 00:00:00.008"
                    },
                    "metadata": {}
                }
            ],
            "execution_count": 40
        },
        {
            "cell_type": "markdown",
            "source": [
                "Step 3: Run this script to identify all user created roles on the SQL instance:\n",
                "\n",
                "_Note: You can remove 'AND is\\_fixed\\_role = 0  AND name NOT IN ('public')' to see all server and database roles on the instance._"
            ],
            "metadata": {
                "azdata_cell_guid": "61cef507-5fa0-46a3-92e8-9b0a3c8204aa"
            },
            "attachments": {}
        },
        {
            "cell_type": "code",
            "source": [
                "/*  Module 2, Activity 2 - Audit user-created roles on the server */\r\n",
                "--Server Principals\r\n",
                "SELECT * FROM sys.server_principals\r\n",
                "WHERE type = 'R' AND is_fixed_role = 0 AND name NOT IN ('public')\r\n",
                "\r\n",
                "--Database Principals\r\n",
                "SELECT * FROM sys.database_principals \r\n",
                "WHERE type = 'R' AND is_fixed_role = 0  AND name NOT IN ('public')\r\n",
                "\r\n",
                ""
            ],
            "metadata": {
                "azdata_cell_guid": "c4c4bf36-ebdb-4f0d-ba7a-799f05212c59",
                "language": "sql"
            },
            "outputs": [
                {
                    "output_type": "display_data",
                    "data": {
                        "text/html": "(1 row affected)"
                    },
                    "metadata": {}
                },
                {
                    "output_type": "display_data",
                    "data": {
                        "text/html": "(2 rows affected)"
                    },
                    "metadata": {}
                },
                {
                    "output_type": "display_data",
                    "data": {
                        "text/html": "Total execution time: 00:00:00.012"
                    },
                    "metadata": {}
                },
                {
                    "output_type": "execute_result",
                    "execution_count": 13,
                    "data": {
                        "application/vnd.dataresource+json": {
                            "schema": {
                                "fields": [
                                    {
                                        "name": "name"
                                    },
                                    {
                                        "name": "principal_id"
                                    },
                                    {
                                        "name": "sid"
                                    },
                                    {
                                        "name": "type"
                                    },
                                    {
                                        "name": "type_desc"
                                    },
                                    {
                                        "name": "is_disabled"
                                    },
                                    {
                                        "name": "create_date"
                                    },
                                    {
                                        "name": "modify_date"
                                    },
                                    {
                                        "name": "default_database_name"
                                    },
                                    {
                                        "name": "default_language_name"
                                    },
                                    {
                                        "name": "credential_id"
                                    },
                                    {
                                        "name": "owning_principal_id"
                                    },
                                    {
                                        "name": "is_fixed_role"
                                    }
                                ]
                            },
                            "data": [
                                {
                                    "0": "SQLSecurityTest_Table_Owner",
                                    "1": "271",
                                    "2": "0x5879B87CFE5D8D4487A65581B381DF3C",
                                    "3": "R",
                                    "4": "SERVER_ROLE",
                                    "5": "0",
                                    "6": "2022-07-26 19:45:28.570",
                                    "7": "2022-07-26 19:45:28.570",
                                    "8": "NULL",
                                    "9": "NULL",
                                    "10": "NULL",
                                    "11": "259",
                                    "12": "0"
                                }
                            ]
                        },
                        "text/html": "<table><tr><th>name</th><th>principal_id</th><th>sid</th><th>type</th><th>type_desc</th><th>is_disabled</th><th>create_date</th><th>modify_date</th><th>default_database_name</th><th>default_language_name</th><th>credential_id</th><th>owning_principal_id</th><th>is_fixed_role</th></tr><tr><td>SQLSecurityTest_Table_Owner</td><td>271</td><td>0x5879B87CFE5D8D4487A65581B381DF3C</td><td>R</td><td>SERVER_ROLE</td><td>0</td><td>2022-07-26 19:45:28.570</td><td>2022-07-26 19:45:28.570</td><td>NULL</td><td>NULL</td><td>NULL</td><td>259</td><td>0</td></tr></table>"
                    },
                    "metadata": {}
                },
                {
                    "output_type": "execute_result",
                    "execution_count": 13,
                    "data": {
                        "application/vnd.dataresource+json": {
                            "schema": {
                                "fields": [
                                    {
                                        "name": "name"
                                    },
                                    {
                                        "name": "principal_id"
                                    },
                                    {
                                        "name": "type"
                                    },
                                    {
                                        "name": "type_desc"
                                    },
                                    {
                                        "name": "default_schema_name"
                                    },
                                    {
                                        "name": "create_date"
                                    },
                                    {
                                        "name": "modify_date"
                                    },
                                    {
                                        "name": "owning_principal_id"
                                    },
                                    {
                                        "name": "sid"
                                    },
                                    {
                                        "name": "is_fixed_role"
                                    },
                                    {
                                        "name": "authentication_type"
                                    },
                                    {
                                        "name": "authentication_type_desc"
                                    },
                                    {
                                        "name": "default_language_name"
                                    },
                                    {
                                        "name": "default_language_lcid"
                                    },
                                    {
                                        "name": "allow_encrypted_value_modifications"
                                    }
                                ]
                            },
                            "data": [
                                {
                                    "0": "Stored_procedure_user_role",
                                    "1": "9",
                                    "2": "R",
                                    "3": "DATABASE_ROLE",
                                    "4": "NULL",
                                    "5": "2022-08-01 20:19:28.540",
                                    "6": "2022-08-01 20:19:28.540",
                                    "7": "1",
                                    "8": "0x010500000000000904000000C9D1BF9F7B6E544CA510EB7C0D35D34B",
                                    "9": "0",
                                    "10": "0",
                                    "11": "NONE",
                                    "12": "NULL",
                                    "13": "NULL",
                                    "14": "0"
                                },
                                {
                                    "0": "View_user_role",
                                    "1": "10",
                                    "2": "R",
                                    "3": "DATABASE_ROLE",
                                    "4": "NULL",
                                    "5": "2022-08-01 20:19:28.543",
                                    "6": "2022-08-01 20:19:28.543",
                                    "7": "1",
                                    "8": "0x01050000000000090400000092DAB72C9ACDDB458AC503316A12D3CE",
                                    "9": "0",
                                    "10": "0",
                                    "11": "NONE",
                                    "12": "NULL",
                                    "13": "NULL",
                                    "14": "0"
                                }
                            ]
                        },
                        "text/html": "<table><tr><th>name</th><th>principal_id</th><th>type</th><th>type_desc</th><th>default_schema_name</th><th>create_date</th><th>modify_date</th><th>owning_principal_id</th><th>sid</th><th>is_fixed_role</th><th>authentication_type</th><th>authentication_type_desc</th><th>default_language_name</th><th>default_language_lcid</th><th>allow_encrypted_value_modifications</th></tr><tr><td>Stored_procedure_user_role</td><td>9</td><td>R</td><td>DATABASE_ROLE</td><td>NULL</td><td>2022-08-01 20:19:28.540</td><td>2022-08-01 20:19:28.540</td><td>1</td><td>0x010500000000000904000000C9D1BF9F7B6E544CA510EB7C0D35D34B</td><td>0</td><td>0</td><td>NONE</td><td>NULL</td><td>NULL</td><td>0</td></tr><tr><td>View_user_role</td><td>10</td><td>R</td><td>DATABASE_ROLE</td><td>NULL</td><td>2022-08-01 20:19:28.543</td><td>2022-08-01 20:19:28.543</td><td>1</td><td>0x01050000000000090400000092DAB72C9ACDDB458AC503316A12D3CE</td><td>0</td><td>0</td><td>NONE</td><td>NULL</td><td>NULL</td><td>0</td></tr></table>"
                    },
                    "metadata": {}
                }
            ],
            "execution_count": 13
        },
        {
            "cell_type": "markdown",
            "source": [
                "Step 4: Run this script to identify all user-created SQL users and group them by type.\n",
                "\n",
                "_Note: You can remove the 'WHERE type...\" and the following arguments to see all SQL users on the instance._"
            ],
            "metadata": {
                "language": "sql",
                "azdata_cell_guid": "0e0b3ec3-af03-45f1-a598-ad362b5de80b"
            },
            "attachments": {}
        },
        {
            "cell_type": "code",
            "source": [
                "/*  Module 2, Activity 2 - Audit user-created logins on the server */\r\n",
                "\r\n",
                "-- Windows Logins\r\n",
                "SELECT * FROM sys.server_principals \r\n",
                "WHERE type IN ('U','G', 'E', 'X') AND name NOT LIKE '%NT%'\r\n",
                "ORDER BY type\r\n",
                "\r\n",
                "-- SQL Logins \r\n",
                "SELECT * FROM sys.server_principals \r\n",
                "WHERE type = 'S' AND name NOT LIKE '%#%' AND name NOT LIKE 'sa'\r\n",
                "ORDER BY type\r\n",
                "\r\n",
                ""
            ],
            "metadata": {
                "language": "sql",
                "azdata_cell_guid": "9ae58efe-2b2a-44fa-9ffa-5a7bc0e64c2e"
            },
            "outputs": [
                {
                    "output_type": "display_data",
                    "data": {
                        "text/html": "(3 rows affected)"
                    },
                    "metadata": {}
                },
                {
                    "output_type": "display_data",
                    "data": {
                        "text/html": "(2 rows affected)"
                    },
                    "metadata": {}
                },
                {
                    "output_type": "display_data",
                    "data": {
                        "text/html": "Total execution time: 00:00:00.021"
                    },
                    "metadata": {}
                },
                {
                    "output_type": "execute_result",
                    "execution_count": 14,
                    "data": {
                        "application/vnd.dataresource+json": {
                            "schema": {
                                "fields": [
                                    {
                                        "name": "name"
                                    },
                                    {
                                        "name": "principal_id"
                                    },
                                    {
                                        "name": "sid"
                                    },
                                    {
                                        "name": "type"
                                    },
                                    {
                                        "name": "type_desc"
                                    },
                                    {
                                        "name": "is_disabled"
                                    },
                                    {
                                        "name": "create_date"
                                    },
                                    {
                                        "name": "modify_date"
                                    },
                                    {
                                        "name": "default_database_name"
                                    },
                                    {
                                        "name": "default_language_name"
                                    },
                                    {
                                        "name": "credential_id"
                                    },
                                    {
                                        "name": "owning_principal_id"
                                    },
                                    {
                                        "name": "is_fixed_role"
                                    }
                                ]
                            },
                            "data": [
                                {
                                    "0": "A1\\Administrator",
                                    "1": "259",
                                    "2": "0x01050000000000051500000036DA95C338EC704F7A49A0B6F4010000",
                                    "3": "U",
                                    "4": "WINDOWS_LOGIN",
                                    "5": "0",
                                    "6": "2022-07-05 17:38:25.683",
                                    "7": "2022-07-05 17:38:25.697",
                                    "8": "master",
                                    "9": "us_english",
                                    "10": "NULL",
                                    "11": "NULL",
                                    "12": "0"
                                },
                                {
                                    "0": "A1\\User1",
                                    "1": "294",
                                    "2": "0x01050000000000051500000036DA95C338EC704F7A49A0B609040000",
                                    "3": "U",
                                    "4": "WINDOWS_LOGIN",
                                    "5": "0",
                                    "6": "2022-08-01 20:17:19.353",
                                    "7": "2022-08-01 20:21:21.387",
                                    "8": "SQLSecurityTest",
                                    "9": "us_english",
                                    "10": "NULL",
                                    "11": "NULL",
                                    "12": "0"
                                },
                                {
                                    "0": "A1\\User2",
                                    "1": "295",
                                    "2": "0x01050000000000051500000036DA95C338EC704F7A49A0B60A040000",
                                    "3": "U",
                                    "4": "WINDOWS_LOGIN",
                                    "5": "0",
                                    "6": "2022-08-01 20:17:19.360",
                                    "7": "2022-08-01 20:17:19.367",
                                    "8": "SQLSecurityTest",
                                    "9": "us_english",
                                    "10": "NULL",
                                    "11": "NULL",
                                    "12": "0"
                                }
                            ]
                        },
                        "text/html": "<table><tr><th>name</th><th>principal_id</th><th>sid</th><th>type</th><th>type_desc</th><th>is_disabled</th><th>create_date</th><th>modify_date</th><th>default_database_name</th><th>default_language_name</th><th>credential_id</th><th>owning_principal_id</th><th>is_fixed_role</th></tr><tr><td>A1\\Administrator</td><td>259</td><td>0x01050000000000051500000036DA95C338EC704F7A49A0B6F4010000</td><td>U</td><td>WINDOWS_LOGIN</td><td>0</td><td>2022-07-05 17:38:25.683</td><td>2022-07-05 17:38:25.697</td><td>master</td><td>us_english</td><td>NULL</td><td>NULL</td><td>0</td></tr><tr><td>A1\\User1</td><td>294</td><td>0x01050000000000051500000036DA95C338EC704F7A49A0B609040000</td><td>U</td><td>WINDOWS_LOGIN</td><td>0</td><td>2022-08-01 20:17:19.353</td><td>2022-08-01 20:21:21.387</td><td>SQLSecurityTest</td><td>us_english</td><td>NULL</td><td>NULL</td><td>0</td></tr><tr><td>A1\\User2</td><td>295</td><td>0x01050000000000051500000036DA95C338EC704F7A49A0B60A040000</td><td>U</td><td>WINDOWS_LOGIN</td><td>0</td><td>2022-08-01 20:17:19.360</td><td>2022-08-01 20:17:19.367</td><td>SQLSecurityTest</td><td>us_english</td><td>NULL</td><td>NULL</td><td>0</td></tr></table>"
                    },
                    "metadata": {}
                },
                {
                    "output_type": "execute_result",
                    "execution_count": 14,
                    "data": {
                        "application/vnd.dataresource+json": {
                            "schema": {
                                "fields": [
                                    {
                                        "name": "name"
                                    },
                                    {
                                        "name": "principal_id"
                                    },
                                    {
                                        "name": "sid"
                                    },
                                    {
                                        "name": "type"
                                    },
                                    {
                                        "name": "type_desc"
                                    },
                                    {
                                        "name": "is_disabled"
                                    },
                                    {
                                        "name": "create_date"
                                    },
                                    {
                                        "name": "modify_date"
                                    },
                                    {
                                        "name": "default_database_name"
                                    },
                                    {
                                        "name": "default_language_name"
                                    },
                                    {
                                        "name": "credential_id"
                                    },
                                    {
                                        "name": "owning_principal_id"
                                    },
                                    {
                                        "name": "is_fixed_role"
                                    }
                                ]
                            },
                            "data": [
                                {
                                    "0": "User3",
                                    "1": "296",
                                    "2": "0x32B7B7128FFF93409E0D0D509BA7D71D",
                                    "3": "S",
                                    "4": "SQL_LOGIN",
                                    "5": "0",
                                    "6": "2022-08-01 20:17:19.363",
                                    "7": "2022-08-01 20:17:19.373",
                                    "8": "SQLSecurityTest",
                                    "9": "us_english",
                                    "10": "NULL",
                                    "11": "NULL",
                                    "12": "0"
                                },
                                {
                                    "0": "User4",
                                    "1": "297",
                                    "2": "0xA3DAB9EA25231049AC456B3B92586D65",
                                    "3": "S",
                                    "4": "SQL_LOGIN",
                                    "5": "0",
                                    "6": "2022-08-01 20:17:19.367",
                                    "7": "2022-08-01 20:17:19.377",
                                    "8": "SQLSecurityTest",
                                    "9": "us_english",
                                    "10": "NULL",
                                    "11": "NULL",
                                    "12": "0"
                                }
                            ]
                        },
                        "text/html": "<table><tr><th>name</th><th>principal_id</th><th>sid</th><th>type</th><th>type_desc</th><th>is_disabled</th><th>create_date</th><th>modify_date</th><th>default_database_name</th><th>default_language_name</th><th>credential_id</th><th>owning_principal_id</th><th>is_fixed_role</th></tr><tr><td>User3</td><td>296</td><td>0x32B7B7128FFF93409E0D0D509BA7D71D</td><td>S</td><td>SQL_LOGIN</td><td>0</td><td>2022-08-01 20:17:19.363</td><td>2022-08-01 20:17:19.373</td><td>SQLSecurityTest</td><td>us_english</td><td>NULL</td><td>NULL</td><td>0</td></tr><tr><td>User4</td><td>297</td><td>0xA3DAB9EA25231049AC456B3B92586D65</td><td>S</td><td>SQL_LOGIN</td><td>0</td><td>2022-08-01 20:17:19.367</td><td>2022-08-01 20:17:19.377</td><td>SQLSecurityTest</td><td>us_english</td><td>NULL</td><td>NULL</td><td>0</td></tr></table>"
                    },
                    "metadata": {}
                }
            ],
            "execution_count": 14
        },
        {
            "cell_type": "markdown",
            "source": [
                "Step 5: Open the 'SamplePythonCodeNotebook' notebook to test the connections."
            ],
            "metadata": {
                "language": "sql",
                "azdata_cell_guid": "6f4019ae-15fd-4ede-a075-9e106d71aed4"
            },
            "attachments": {}
        },
        {
            "cell_type": "markdown",
            "source": [
                "## 2.2 Securables\n",
                "\n",
                "Step 1: Add a sample table to the test Database, view the data:"
            ],
            "metadata": {
                "language": "sql",
                "azdata_cell_guid": "a7ebebb2-5317-4376-bf97-8bb17534638d"
            },
            "attachments": {}
        },
        {
            "cell_type": "code",
            "source": [
                "/*  Module 2, Activity 3 - Create a sample table */\r\n",
                "\r\n",
                "USE [SQLSecurityTest]\r\n",
                "    GO\r\n",
                "    CREATE TABLE Patient (\r\n",
                "    LoginID tinyint\r\n",
                "    ,   LastName varchar(255)\r\n",
                "    ,   FirstName varchar(255)\r\n",
                "    ,   Address varchar(255)\r\n",
                "    ,   City varchar(255)\r\n",
                "    ,   SSN nvarchar(11)\r\n",
                "    ,   CardNumber nvarchar(19)\r\n",
                "    );\r\n",
                "\r\n",
                "    INSERT INTO Patient (loginid, lastname, firstname, address, city, ssn, cardnumber)\r\n",
                "    VALUES\t\r\n",
                "      (1,'Arbiter', 'Agatha', '111 Apple Ave.', 'Atlanta', '111-11-1111', '1111-1111-1111-1111')\r\n",
                "      , (2, 'Bob', 'Billy', '222 Bayshore Blvd.', 'Boice', '222-22-2222', '2222-2222-2222-2222')\r\n",
                "      , (3, 'Choice', 'Charley', '333 Castaway Ct.', 'Chesterfield', '333-33-3333', '3333-3333-3333-3333')\r\n",
                "      , (4, 'Dangerfield', 'David', '4444 Denvue Drive', 'Denver', '444-44-4444', '4444-4444-4444-4444')\r\n",
                "      , (5, 'Engleton', 'Edbert', '5555 Esquire Rd. E', 'Easton', '555-55-5555', '5555-5555-5555-5555')\r\n",
                "\r\n",
                "Select * FROM Patient"
            ],
            "metadata": {
                "language": "sql",
                "azdata_cell_guid": "ae6f2618-4b37-4e2f-9e38-d6b5a36747f7",
                "tags": []
            },
            "outputs": [
                {
                    "output_type": "display_data",
                    "data": {
                        "text/html": "Commands completed successfully."
                    },
                    "metadata": {}
                },
                {
                    "output_type": "display_data",
                    "data": {
                        "text/html": "(5 rows affected)"
                    },
                    "metadata": {}
                },
                {
                    "output_type": "display_data",
                    "data": {
                        "text/html": "(5 rows affected)"
                    },
                    "metadata": {}
                },
                {
                    "output_type": "display_data",
                    "data": {
                        "text/html": "Total execution time: 00:00:00.024"
                    },
                    "metadata": {}
                },
                {
                    "output_type": "execute_result",
                    "execution_count": 27,
                    "data": {
                        "application/vnd.dataresource+json": {
                            "schema": {
                                "fields": [
                                    {
                                        "name": "LoginID"
                                    },
                                    {
                                        "name": "LastName"
                                    },
                                    {
                                        "name": "FirstName"
                                    },
                                    {
                                        "name": "Address"
                                    },
                                    {
                                        "name": "City"
                                    },
                                    {
                                        "name": "SSN"
                                    },
                                    {
                                        "name": "CardNumber"
                                    }
                                ]
                            },
                            "data": [
                                {
                                    "0": "1",
                                    "1": "Arbiter",
                                    "2": "Agatha",
                                    "3": "111 Apple Ave.",
                                    "4": "Atlanta",
                                    "5": "111-11-1111",
                                    "6": "1111-1111-1111-1111"
                                },
                                {
                                    "0": "2",
                                    "1": "Bob",
                                    "2": "Billy",
                                    "3": "222 Bayshore Blvd.",
                                    "4": "Boice",
                                    "5": "222-22-2222",
                                    "6": "2222-2222-2222-2222"
                                },
                                {
                                    "0": "3",
                                    "1": "Choice",
                                    "2": "Charley",
                                    "3": "333 Castaway Ct.",
                                    "4": "Chesterfield",
                                    "5": "333-33-3333",
                                    "6": "3333-3333-3333-3333"
                                },
                                {
                                    "0": "4",
                                    "1": "Dangerfield",
                                    "2": "David",
                                    "3": "4444 Denvue Drive",
                                    "4": "Denver",
                                    "5": "444-44-4444",
                                    "6": "4444-4444-4444-4444"
                                },
                                {
                                    "0": "5",
                                    "1": "Engleton",
                                    "2": "Edbert",
                                    "3": "5555 Esquire Rd. E",
                                    "4": "Easton",
                                    "5": "555-55-5555",
                                    "6": "5555-5555-5555-5555"
                                }
                            ]
                        },
                        "text/html": "<table><tr><th>LoginID</th><th>LastName</th><th>FirstName</th><th>Address</th><th>City</th><th>SSN</th><th>CardNumber</th></tr><tr><td>1</td><td>Arbiter</td><td>Agatha</td><td>111 Apple Ave.</td><td>Atlanta</td><td>111-11-1111</td><td>1111-1111-1111-1111</td></tr><tr><td>2</td><td>Bob</td><td>Billy</td><td>222 Bayshore Blvd.</td><td>Boice</td><td>222-22-2222</td><td>2222-2222-2222-2222</td></tr><tr><td>3</td><td>Choice</td><td>Charley</td><td>333 Castaway Ct.</td><td>Chesterfield</td><td>333-33-3333</td><td>3333-3333-3333-3333</td></tr><tr><td>4</td><td>Dangerfield</td><td>David</td><td>4444 Denvue Drive</td><td>Denver</td><td>444-44-4444</td><td>4444-4444-4444-4444</td></tr><tr><td>5</td><td>Engleton</td><td>Edbert</td><td>5555 Esquire Rd. E</td><td>Easton</td><td>555-55-5555</td><td>5555-5555-5555-5555</td></tr></table>"
                    },
                    "metadata": {}
                }
            ],
            "execution_count": 27
        },
        {
            "cell_type": "markdown",
            "source": [
                "Step 2: Create a view in the table, view the data."
            ],
            "metadata": {
                "language": "sql",
                "azdata_cell_guid": "28c89c7c-c726-4b1e-8bd3-d227d7f2236f"
            },
            "attachments": {}
        },
        {
            "cell_type": "code",
            "source": [
                "/*  Module 2, Activity 3 - Create a sample view */\r\n",
                "CREATE VIEW Patient_Mailing_Address AS\r\n",
                "SELECT FirstName, LastName, Address, City\r\n",
                "FROM Patient"
            ],
            "metadata": {
                "language": "sql",
                "azdata_cell_guid": "52da19c1-6358-4d9e-93a4-297287e2bd75",
                "tags": []
            },
            "outputs": [
                {
                    "output_type": "display_data",
                    "data": {
                        "text/html": "Commands completed successfully."
                    },
                    "metadata": {}
                },
                {
                    "output_type": "display_data",
                    "data": {
                        "text/html": "Total execution time: 00:00:00.002"
                    },
                    "metadata": {}
                }
            ],
            "execution_count": 33
        },
        {
            "cell_type": "code",
            "source": [
                "/*  Module 2, Activity 3 - Look at the typical return of the view */\r\n",
                "SELECT * FROM Patient_Mailing_Address"
            ],
            "metadata": {
                "language": "sql",
                "azdata_cell_guid": "5c2d7f3c-d63c-427d-9309-beb61b710aa8"
            },
            "outputs": [
                {
                    "output_type": "display_data",
                    "data": {
                        "text/html": "(5 rows affected)"
                    },
                    "metadata": {}
                },
                {
                    "output_type": "display_data",
                    "data": {
                        "text/html": "Total execution time: 00:00:00.006"
                    },
                    "metadata": {}
                },
                {
                    "output_type": "execute_result",
                    "execution_count": 34,
                    "data": {
                        "application/vnd.dataresource+json": {
                            "schema": {
                                "fields": [
                                    {
                                        "name": "FirstName"
                                    },
                                    {
                                        "name": "LastName"
                                    },
                                    {
                                        "name": "Address"
                                    },
                                    {
                                        "name": "City"
                                    }
                                ]
                            },
                            "data": [
                                {
                                    "0": "Agatha",
                                    "1": "Arbiter",
                                    "2": "111 Apple Ave.",
                                    "3": "Atlanta"
                                },
                                {
                                    "0": "Billy",
                                    "1": "Bob",
                                    "2": "222 Bayshore Blvd.",
                                    "3": "Boice"
                                },
                                {
                                    "0": "Charley",
                                    "1": "Choice",
                                    "2": "333 Castaway Ct.",
                                    "3": "Chesterfield"
                                },
                                {
                                    "0": "David",
                                    "1": "Dangerfield",
                                    "2": "4444 Denvue Drive",
                                    "3": "Denver"
                                },
                                {
                                    "0": "Edbert",
                                    "1": "Engleton",
                                    "2": "5555 Esquire Rd. E",
                                    "3": "Easton"
                                }
                            ]
                        },
                        "text/html": "<table><tr><th>FirstName</th><th>LastName</th><th>Address</th><th>City</th></tr><tr><td>Agatha</td><td>Arbiter</td><td>111 Apple Ave.</td><td>Atlanta</td></tr><tr><td>Billy</td><td>Bob</td><td>222 Bayshore Blvd.</td><td>Boice</td></tr><tr><td>Charley</td><td>Choice</td><td>333 Castaway Ct.</td><td>Chesterfield</td></tr><tr><td>David</td><td>Dangerfield</td><td>4444 Denvue Drive</td><td>Denver</td></tr><tr><td>Edbert</td><td>Engleton</td><td>5555 Esquire Rd. E</td><td>Easton</td></tr></table>"
                    },
                    "metadata": {}
                }
            ],
            "execution_count": 34
        },
        {
            "cell_type": "markdown",
            "source": [
                "Step 3: Create a stored procedure in the database:"
            ],
            "metadata": {
                "language": "sql",
                "azdata_cell_guid": "20522b68-0031-4c60-ac13-bfd4d54e9eb1"
            },
            "attachments": {}
        },
        {
            "cell_type": "code",
            "source": [
                "/*  Module 2, Activity 3 - Create a sample stored procedure */\r\n",
                "USE SQLSecurityTest;  \r\n",
                "GO  \r\n",
                "CREATE PROCEDURE uspGetCardInformation   \r\n",
                "    @Loginid tinyint  \r\n",
                "AS   \r\n",
                "\r\n",
                "    SET NOCOUNT ON;  \r\n",
                "    SELECT Loginid, cardnumber  \r\n",
                "    FROM Patient  \r\n",
                "    WHERE loginId= @loginId   \r\n",
                "GO  \r\n",
                "\r\n",
                "EXEC dbo.uspGetCardInformation @loginID = 2"
            ],
            "metadata": {
                "language": "sql",
                "azdata_cell_guid": "0b3750b6-d6bc-4ac2-bc04-6b3dffbf6080"
            },
            "outputs": [
                {
                    "output_type": "display_data",
                    "data": {
                        "text/html": "Commands completed successfully."
                    },
                    "metadata": {}
                },
                {
                    "output_type": "display_data",
                    "data": {
                        "text/html": "Commands completed successfully."
                    },
                    "metadata": {}
                },
                {
                    "output_type": "display_data",
                    "data": {
                        "text/html": "Commands completed successfully."
                    },
                    "metadata": {}
                },
                {
                    "output_type": "display_data",
                    "data": {
                        "text/html": "Total execution time: 00:00:00.016"
                    },
                    "metadata": {}
                },
                {
                    "output_type": "execute_result",
                    "execution_count": 37,
                    "data": {
                        "application/vnd.dataresource+json": {
                            "schema": {
                                "fields": [
                                    {
                                        "name": "Loginid"
                                    },
                                    {
                                        "name": "cardnumber"
                                    }
                                ]
                            },
                            "data": [
                                {
                                    "0": "2",
                                    "1": "2222-2222-2222-2222"
                                }
                            ]
                        },
                        "text/html": "<table><tr><th>Loginid</th><th>cardnumber</th></tr><tr><td>2</td><td>2222-2222-2222-2222</td></tr></table>"
                    },
                    "metadata": {}
                }
            ],
            "execution_count": 37
        },
        {
            "cell_type": "markdown",
            "source": [
                "Step 4: Grant User1 full control on the table:"
            ],
            "metadata": {
                "language": "sql",
                "azdata_cell_guid": "ab36f6ae-2eca-419a-a82d-dc7f73dc0179"
            },
            "attachments": {}
        },
        {
            "cell_type": "code",
            "source": [
                "/*  Module 2, Activity 3 - Grant CONTROL on table to User1 */\r\n",
                "USE [SQLSecurityTest]\r\n",
                "GO\r\n",
                "GRANT CONTROL ON [dbo].[Patient] TO [A1\\User1]\r\n",
                "GO"
            ],
            "metadata": {
                "language": "sql",
                "azdata_cell_guid": "e926b2aa-486d-4afa-93ab-064b41842184"
            },
            "outputs": [
                {
                    "output_type": "display_data",
                    "data": {
                        "text/html": "Commands completed successfully."
                    },
                    "metadata": {}
                },
                {
                    "output_type": "display_data",
                    "data": {
                        "text/html": "Commands completed successfully."
                    },
                    "metadata": {}
                },
                {
                    "output_type": "display_data",
                    "data": {
                        "text/html": "Total execution time: 00:00:00.129"
                    },
                    "metadata": {}
                }
            ],
            "execution_count": 38
        },
        {
            "cell_type": "markdown",
            "source": [
                "Step 5: Grant rights to execute the stored procedure to the 'Stored\\_procdure\\_user\\_role' role."
            ],
            "metadata": {
                "language": "sql",
                "azdata_cell_guid": "659df390-3cf0-441b-af45-bfd8c239edae"
            },
            "attachments": {}
        },
        {
            "cell_type": "code",
            "source": [
                "/*  Module 2, Activity 3 - Grant EXECUTE on table to Stored_procedure_user_role */\r\n",
                "USE [SQLSecurityTest]\r\n",
                "GO\r\n",
                "GRANT EXECUTE ON [dbo].[uspGetCardInformation] TO [Stored_procedure_user_role]\r\n",
                "GO"
            ],
            "metadata": {
                "language": "sql",
                "azdata_cell_guid": "a12c6a0e-6dff-4378-9c4d-12d362033a26"
            },
            "outputs": [
                {
                    "output_type": "display_data",
                    "data": {
                        "text/html": "Commands completed successfully."
                    },
                    "metadata": {}
                },
                {
                    "output_type": "display_data",
                    "data": {
                        "text/html": "Commands completed successfully."
                    },
                    "metadata": {}
                },
                {
                    "output_type": "display_data",
                    "data": {
                        "text/html": "Total execution time: 00:00:00.010"
                    },
                    "metadata": {}
                }
            ],
            "execution_count": 39
        },
        {
            "cell_type": "markdown",
            "source": [
                "Step 6: Grant rights to use the view to the 'View\\_user\\_role' role."
            ],
            "metadata": {
                "language": "sql",
                "azdata_cell_guid": "d0923b37-10cc-41e1-9b36-c4f85c95c8fb"
            },
            "attachments": {}
        },
        {
            "cell_type": "code",
            "source": [
                "/*  Module 2, Activity 3 - Grant SELECT on table to View_user_role */\r\n",
                "USE [SQLSecurityTest]\r\n",
                "GO\r\n",
                "GRANT SELECT ON [dbo].[Patient_Mailing_Address] TO [View_user_role]\r\n",
                "GO"
            ],
            "metadata": {
                "language": "sql",
                "azdata_cell_guid": "67a3ca31-c03b-4065-ad21-88ccc9a981a9",
                "tags": []
            },
            "outputs": [
                {
                    "output_type": "display_data",
                    "data": {
                        "text/html": "Commands completed successfully."
                    },
                    "metadata": {}
                },
                {
                    "output_type": "display_data",
                    "data": {
                        "text/html": "Commands completed successfully."
                    },
                    "metadata": {}
                },
                {
                    "output_type": "display_data",
                    "data": {
                        "text/html": "Total execution time: 00:00:00.001"
                    },
                    "metadata": {}
                }
            ],
            "execution_count": 41
        },
        {
            "cell_type": "markdown",
            "source": [
                "Step 7: Open the 'SamplePythonCodeNotebook' notebook and execute test queries to see how the permisisons have affected the users."
            ],
            "metadata": {
                "language": "sql",
                "azdata_cell_guid": "9badfb3d-975a-415c-b5bb-46aaa8462e10"
            },
            "attachments": {}
        },
        {
            "cell_type": "markdown",
            "source": [
                "Step 8: Review the results:\n",
                "\n",
                "![](attachment:image.png)  \n",
                "Consider the permissions, and what was allowed based on the query and consider the presence of sensitive data.\n",
                "\n",
                "query5 <span style=\"color: #000000;\">=</span> <span style=\"color: #a31515;\">\"EXEC dbo.uspGetCardInformation @LoginID = 2\"</span>\n",
                "\n",
                "query6 <span style=\"color: #000000;\">=</span> <span style=\"color: #a31515;\">\"SELECT FirstName + ' ' + Lastname + ' ' + Address + ' ' + City FROM Patient_Mailing_Address\"</span>\n",
                "\n",
                "query7 <span style=\"color: #000000;\">=</span> <span style=\"color: #a31515;\">\"Select FirstName + ' ' + LastName +', ' + SSN FROM Patient\"</span> <span style=\"color: #008000;\">#this could be any combination of columns</span>"
            ],
            "metadata": {
                "language": "sql",
                "azdata_cell_guid": "9a0f1f7b-d501-4d31-87a2-199f27e15647"
            },
            "attachments": {
                "image.png": {
                    "image/png": "[encoded data removed]"
                }
            }
        },
        {
            "cell_type": "markdown",
            "source": [
                "## 2.3 Applications\n",
                "\n",
                "Step 1: Query the table as a general user using their login ID to see their account information:"
            ],
            "metadata": {
                "language": "sql",
                "azdata_cell_guid": "254a001b-a679-43ff-98c0-918ab03463a0"
            },
            "attachments": {}
        },
        {
            "cell_type": "code",
            "source": [
                "/*  Module 2, Activity 4 - Select as a general user seeing account details */\r\n",
                "SELECT * \r\n",
                "FROM Patient \r\n",
                "WHERE loginid = '1' \r\n",
                "-- user input = 1"
            ],
            "metadata": {
                "language": "sql",
                "azdata_cell_guid": "31c79020-bc5c-49ed-9206-5c4bfd14cb73",
                "tags": []
            },
            "outputs": [
                {
                    "output_type": "display_data",
                    "data": {
                        "text/html": "(1 row affected)"
                    },
                    "metadata": {}
                },
                {
                    "output_type": "display_data",
                    "data": {
                        "text/html": "Total execution time: 00:00:00.005"
                    },
                    "metadata": {}
                },
                {
                    "output_type": "execute_result",
                    "execution_count": 42,
                    "data": {
                        "application/vnd.dataresource+json": {
                            "schema": {
                                "fields": [
                                    {
                                        "name": "LoginID"
                                    },
                                    {
                                        "name": "LastName"
                                    },
                                    {
                                        "name": "FirstName"
                                    },
                                    {
                                        "name": "Address"
                                    },
                                    {
                                        "name": "City"
                                    },
                                    {
                                        "name": "SSN"
                                    },
                                    {
                                        "name": "CardNumber"
                                    }
                                ]
                            },
                            "data": [
                                {
                                    "0": "1",
                                    "1": "Arbiter",
                                    "2": "Agatha",
                                    "3": "111 Apple Ave.",
                                    "4": "Atlanta",
                                    "5": "111-11-1111",
                                    "6": "1111-1111-1111-1111"
                                }
                            ]
                        },
                        "text/html": "<table><tr><th>LoginID</th><th>LastName</th><th>FirstName</th><th>Address</th><th>City</th><th>SSN</th><th>CardNumber</th></tr><tr><td>1</td><td>Arbiter</td><td>Agatha</td><td>111 Apple Ave.</td><td>Atlanta</td><td>111-11-1111</td><td>1111-1111-1111-1111</td></tr></table>"
                    },
                    "metadata": {}
                }
            ],
            "execution_count": 42
        },
        {
            "cell_type": "markdown",
            "source": [
                "Step 2: Run the query below which simulates what happens when an injection occurs:"
            ],
            "metadata": {
                "azdata_cell_guid": "f44f55cb-e454-4a4e-9c61-487acf5fc4cf"
            },
            "attachments": {}
        },
        {
            "cell_type": "code",
            "source": [
                "/*  Module 2, Activity 4 - Select as a malicious actor using an injection string, showing all accounts in the system */\r\n",
                "SELECT * \r\n",
                "FROM Patient\r\n",
                "WHERE loginid = '' or 1=1 --'  \r\n",
                "-- user input = ' or 1=1 --  "
            ],
            "metadata": {
                "azdata_cell_guid": "6dfbfb34-ff74-44c7-86a8-f4e238a74226",
                "language": "sql",
                "tags": []
            },
            "outputs": [
                {
                    "output_type": "display_data",
                    "data": {
                        "text/html": "(5 rows affected)"
                    },
                    "metadata": {}
                },
                {
                    "output_type": "display_data",
                    "data": {
                        "text/html": "Total execution time: 00:00:00.007"
                    },
                    "metadata": {}
                },
                {
                    "output_type": "execute_result",
                    "execution_count": 43,
                    "data": {
                        "application/vnd.dataresource+json": {
                            "schema": {
                                "fields": [
                                    {
                                        "name": "LoginID"
                                    },
                                    {
                                        "name": "LastName"
                                    },
                                    {
                                        "name": "FirstName"
                                    },
                                    {
                                        "name": "Address"
                                    },
                                    {
                                        "name": "City"
                                    },
                                    {
                                        "name": "SSN"
                                    },
                                    {
                                        "name": "CardNumber"
                                    }
                                ]
                            },
                            "data": [
                                {
                                    "0": "1",
                                    "1": "Arbiter",
                                    "2": "Agatha",
                                    "3": "111 Apple Ave.",
                                    "4": "Atlanta",
                                    "5": "111-11-1111",
                                    "6": "1111-1111-1111-1111"
                                },
                                {
                                    "0": "2",
                                    "1": "Bob",
                                    "2": "Billy",
                                    "3": "222 Bayshore Blvd.",
                                    "4": "Boice",
                                    "5": "222-22-2222",
                                    "6": "2222-2222-2222-2222"
                                },
                                {
                                    "0": "3",
                                    "1": "Choice",
                                    "2": "Charley",
                                    "3": "333 Castaway Ct.",
                                    "4": "Chesterfield",
                                    "5": "333-33-3333",
                                    "6": "3333-3333-3333-3333"
                                },
                                {
                                    "0": "4",
                                    "1": "Dangerfield",
                                    "2": "David",
                                    "3": "4444 Denvue Drive",
                                    "4": "Denver",
                                    "5": "444-44-4444",
                                    "6": "4444-4444-4444-4444"
                                },
                                {
                                    "0": "5",
                                    "1": "Engleton",
                                    "2": "Edbert",
                                    "3": "5555 Esquire Rd. E",
                                    "4": "Easton",
                                    "5": "555-55-5555",
                                    "6": "5555-5555-5555-5555"
                                }
                            ]
                        },
                        "text/html": "<table><tr><th>LoginID</th><th>LastName</th><th>FirstName</th><th>Address</th><th>City</th><th>SSN</th><th>CardNumber</th></tr><tr><td>1</td><td>Arbiter</td><td>Agatha</td><td>111 Apple Ave.</td><td>Atlanta</td><td>111-11-1111</td><td>1111-1111-1111-1111</td></tr><tr><td>2</td><td>Bob</td><td>Billy</td><td>222 Bayshore Blvd.</td><td>Boice</td><td>222-22-2222</td><td>2222-2222-2222-2222</td></tr><tr><td>3</td><td>Choice</td><td>Charley</td><td>333 Castaway Ct.</td><td>Chesterfield</td><td>333-33-3333</td><td>3333-3333-3333-3333</td></tr><tr><td>4</td><td>Dangerfield</td><td>David</td><td>4444 Denvue Drive</td><td>Denver</td><td>444-44-4444</td><td>4444-4444-4444-4444</td></tr><tr><td>5</td><td>Engleton</td><td>Edbert</td><td>5555 Esquire Rd. E</td><td>Easton</td><td>555-55-5555</td><td>5555-5555-5555-5555</td></tr></table>"
                    },
                    "metadata": {}
                }
            ],
            "execution_count": 43
        },
        {
            "cell_type": "markdown",
            "source": [
                "Step 3: Run the query below showing how parameterizing the query helps prevent injection strings allowed by an application from negatively affecting SQL server:"
            ],
            "metadata": {
                "language": "sql",
                "azdata_cell_guid": "de2b42b8-1c3f-4cce-a410-d3409e96cb84"
            },
            "attachments": {}
        },
        {
            "cell_type": "code",
            "source": [
                "/*  Module 2, Activity 4 - Select as a general user after parameterizing the query */\r\n",
                "DECLARE @Loginid tinyint\r\n",
                "\r\n",
                "SET @Loginid = 1\r\n",
                "--user input = 1\r\n",
                "SELECT * \r\n",
                "FROM Patient\r\n",
                "WHERE loginid = @Loginid --parameterized input"
            ],
            "metadata": {
                "azdata_cell_guid": "4dbafa59-d8a4-4171-9295-d44925e7d997",
                "language": "sql"
            },
            "outputs": [
                {
                    "output_type": "display_data",
                    "data": {
                        "text/html": "(1 row affected)"
                    },
                    "metadata": {}
                },
                {
                    "output_type": "display_data",
                    "data": {
                        "text/html": "Total execution time: 00:00:00.002"
                    },
                    "metadata": {}
                },
                {
                    "output_type": "execute_result",
                    "execution_count": 53,
                    "data": {
                        "application/vnd.dataresource+json": {
                            "schema": {
                                "fields": [
                                    {
                                        "name": "LoginID"
                                    },
                                    {
                                        "name": "LastName"
                                    },
                                    {
                                        "name": "FirstName"
                                    },
                                    {
                                        "name": "Address"
                                    },
                                    {
                                        "name": "City"
                                    },
                                    {
                                        "name": "SSN"
                                    },
                                    {
                                        "name": "CardNumber"
                                    }
                                ]
                            },
                            "data": [
                                {
                                    "0": "1",
                                    "1": "Arbiter",
                                    "2": "Agatha",
                                    "3": "111 Apple Ave.",
                                    "4": "Atlanta",
                                    "5": "111-11-1111",
                                    "6": "1111-1111-1111-1111"
                                }
                            ]
                        },
                        "text/html": "<table><tr><th>LoginID</th><th>LastName</th><th>FirstName</th><th>Address</th><th>City</th><th>SSN</th><th>CardNumber</th></tr><tr><td>1</td><td>Arbiter</td><td>Agatha</td><td>111 Apple Ave.</td><td>Atlanta</td><td>111-11-1111</td><td>1111-1111-1111-1111</td></tr></table>"
                    },
                    "metadata": {}
                }
            ],
            "execution_count": 53
        },
        {
            "cell_type": "code",
            "source": [
                "/*  Module 2, Activity 4 - Select as a malicious actor after parameterizing the query */\r\n",
                "DECLARE @Loginid tinyint\r\n",
                "\r\n",
                "SET @Loginid = '' or 1=1-- '\r\n",
                "--user input = ' or 1=1-- \r\n",
                "SELECT * \r\n",
                "FROM Patient\r\n",
                "WHERE loginid = @Loginid --parameterized input"
            ],
            "metadata": {
                "language": "sql",
                "azdata_cell_guid": "33be2dc2-f5bd-414e-99e5-1cc17e3b658b"
            },
            "outputs": [
                {
                    "output_type": "error",
                    "ename": "",
                    "evalue": "Msg 156, Level 15, State 1, Line 3\r\nIncorrect syntax near the keyword 'or'.",
                    "traceback": []
                },
                {
                    "output_type": "display_data",
                    "data": {
                        "text/html": "Total execution time: 00:00:00"
                    },
                    "metadata": {}
                }
            ],
            "execution_count": 48
        },
        {
            "cell_type": "markdown",
            "source": [
                "Step 4: Notice that an error could be returned to a malicious actor which they could use to learn mroe about your environment. Adding error handling helps prevent verbose errors from giving more information for an attacker to use."
            ],
            "metadata": {
                "language": "sql",
                "azdata_cell_guid": "8d3c1757-1300-4380-a14c-acedd72290f8"
            },
            "attachments": {}
        },
        {
            "cell_type": "code",
            "source": [
                "/*  Module 2, Activity 4 - Select as a general user after adding error handling  */\r\n",
                "DECLARE @Loginid tinyint\r\n",
                "BEGIN TRY\r\n",
                "  SET @Loginid = '1' \r\n",
                "  --user input = 1\r\n",
                "  SELECT * \r\n",
                "  FROM Patient\r\n",
                "  WHERE loginid = @Loginid --parameterized input\r\n",
                "END TRY\r\n",
                "BEGIN CATCH\r\n",
                "  Print 'Please use only your user ID'\r\n",
                "END CATCH"
            ],
            "metadata": {
                "language": "sql",
                "azdata_cell_guid": "ecaf248c-85a6-4140-8499-16d423255327"
            },
            "outputs": [
                {
                    "output_type": "display_data",
                    "data": {
                        "text/html": "(1 row affected)"
                    },
                    "metadata": {}
                },
                {
                    "output_type": "display_data",
                    "data": {
                        "text/html": "Total execution time: 00:00:00.002"
                    },
                    "metadata": {}
                },
                {
                    "output_type": "execute_result",
                    "execution_count": 54,
                    "data": {
                        "application/vnd.dataresource+json": {
                            "schema": {
                                "fields": [
                                    {
                                        "name": "LoginID"
                                    },
                                    {
                                        "name": "LastName"
                                    },
                                    {
                                        "name": "FirstName"
                                    },
                                    {
                                        "name": "Address"
                                    },
                                    {
                                        "name": "City"
                                    },
                                    {
                                        "name": "SSN"
                                    },
                                    {
                                        "name": "CardNumber"
                                    }
                                ]
                            },
                            "data": [
                                {
                                    "0": "1",
                                    "1": "Arbiter",
                                    "2": "Agatha",
                                    "3": "111 Apple Ave.",
                                    "4": "Atlanta",
                                    "5": "111-11-1111",
                                    "6": "1111-1111-1111-1111"
                                }
                            ]
                        },
                        "text/html": "<table><tr><th>LoginID</th><th>LastName</th><th>FirstName</th><th>Address</th><th>City</th><th>SSN</th><th>CardNumber</th></tr><tr><td>1</td><td>Arbiter</td><td>Agatha</td><td>111 Apple Ave.</td><td>Atlanta</td><td>111-11-1111</td><td>1111-1111-1111-1111</td></tr></table>"
                    },
                    "metadata": {}
                }
            ],
            "execution_count": 54
        },
        {
            "cell_type": "code",
            "source": [
                "/*  Module 2, Activity 4 - Select as a malicious actor after adding error handling  */\r\n",
                "DECLARE @Loginid tinyint\r\n",
                "BEGIN TRY\r\n",
                "    SET @Loginid = ''' or 1=1--' \r\n",
                "    --user input = ' or 1=1--\r\n",
                "    SELECT * \r\n",
                "    FROM Patient\r\n",
                "    WHERE loginid = @Loginid --parameterized input\r\n",
                "END TRY\r\n",
                "BEGIN CATCH\r\n",
                "    Print 'Please use only your user ID'\r\n",
                "END CATCH"
            ],
            "metadata": {
                "language": "sql",
                "azdata_cell_guid": "41e2ddea-c72d-4f27-97f7-1287ec640b6a",
                "tags": []
            },
            "outputs": [
                {
                    "output_type": "display_data",
                    "data": {
                        "text/html": "Please use only your user ID"
                    },
                    "metadata": {}
                },
                {
                    "output_type": "display_data",
                    "data": {
                        "text/html": "Total execution time: 00:00:00"
                    },
                    "metadata": {}
                }
            ],
            "execution_count": 55
        },
        {
            "cell_type": "markdown",
            "source": [
                "## 2.4 Encryption, Certificates, and Keys\n",
                "\n",
                "Step 1: Create and backup master key."
            ],
            "metadata": {
                "language": "sql",
                "azdata_cell_guid": "6de8a70c-b035-4552-9e82-2bdb4f0c98b8"
            },
            "attachments": {}
        },
        {
            "cell_type": "code",
            "source": [
                "/*  Module 2, Activity 5 - Create and backup a master key using a secure password  */\r\n",
                "CREATE MASTER KEY ENCRYPTION BY PASSWORD = 'Fl@sh G0rd0n!';\r\n",
                "GO\r\n",
                "\r\n",
                "OPEN MASTER KEY DECRYPTION BY PASSWORD = 'Fl@sh G0rd0n!';\r\n",
                "GO\r\n",
                "BACKUP MASTER KEY TO FILE = 'C:\\EncryptedDrive\\masterkey.mk' \r\n",
                "    ENCRYPTION BY PASSWORD = 'S@vior Of.The Un1v3r$3!';\r\n",
                "GO"
            ],
            "metadata": {
                "language": "sql",
                "azdata_cell_guid": "5277cc41-2440-4df8-b5d6-7b51ba469085"
            },
            "outputs": [
                {
                    "output_type": "display_data",
                    "data": {
                        "text/html": "Commands completed successfully."
                    },
                    "metadata": {}
                },
                {
                    "output_type": "display_data",
                    "data": {
                        "text/html": "Commands completed successfully."
                    },
                    "metadata": {}
                },
                {
                    "output_type": "display_data",
                    "data": {
                        "text/html": "Commands completed successfully."
                    },
                    "metadata": {}
                },
                {
                    "output_type": "display_data",
                    "data": {
                        "text/html": "Total execution time: 00:00:00.004"
                    },
                    "metadata": {}
                }
            ],
            "execution_count": 4
        },
        {
            "cell_type": "markdown",
            "source": [
                "Step 2: Create and backup a certificate to use with TDE:"
            ],
            "metadata": {
                "language": "sql",
                "azdata_cell_guid": "72bb2e61-531a-4906-a08f-bfe3c2b1323c"
            },
            "attachments": {}
        },
        {
            "cell_type": "code",
            "source": [
                "/*  Module 2, Activity 5 - Create and backup the TDE_Certificate */\r\n",
                "CREATE CERTIFICATE TDE_Cert WITH SUBJECT = 'TDE Certificate';\r\n",
                "GO\r\n",
                "\r\n",
                "BACKUP CERTIFICATE TDE_Cert TO FILE = 'C:\\EncryptedDrive\\TDE_Cert.cer'\r\n",
                "    WITH PRIVATE KEY (\r\n",
                "        FILE = 'C:\\EncryptedDrive\\TDE_Cert.pvk',\r\n",
                "        ENCRYPTION BY PASSWORD = 'I$ @.Mirac1e!');\r\n",
                "GO"
            ],
            "metadata": {
                "language": "sql",
                "azdata_cell_guid": "af7e129e-3cde-46d8-ab36-a52dd5f98930",
                "tags": []
            },
            "outputs": [
                {
                    "output_type": "display_data",
                    "data": {
                        "text/html": "Commands completed successfully."
                    },
                    "metadata": {}
                },
                {
                    "output_type": "display_data",
                    "data": {
                        "text/html": "Commands completed successfully."
                    },
                    "metadata": {}
                },
                {
                    "output_type": "display_data",
                    "data": {
                        "text/html": "Total execution time: 00:00:00.053"
                    },
                    "metadata": {}
                }
            ],
            "execution_count": 13
        },
        {
            "cell_type": "markdown",
            "source": [
                "Step 3: Verify the creation/presence of the TDE\\_Cert and the Database Master key."
            ],
            "metadata": {
                "language": "sql",
                "azdata_cell_guid": "1f7d52fc-9c42-49a8-b762-5a5858ddf307"
            },
            "attachments": {}
        },
        {
            "cell_type": "code",
            "source": [
                "/*  Module 2, Activity 5 - Verify the creation and presence of the database master key and TDE_Cert */\r\n",
                "USE [master]\r\n",
                "SELECT name, pvt_key_encryption_type_desc, expiry_date, Start_date, pvt_key_last_backup_date FROM sys.certificates where [name] = 'TDE_Cert'\r\n",
                "GO\r\n",
                "\r\n",
                "Select name, create_date from sys.symmetric_keys WHERE name like '%DatabaseMaster%'"
            ],
            "metadata": {
                "language": "",
                "azdata_cell_guid": "a593f6a9-be16-4434-9071-05be0f27fc5d",
                "tags": []
            },
            "outputs": [
                {
                    "output_type": "display_data",
                    "data": {
                        "text/html": "(1 row affected)"
                    },
                    "metadata": {}
                },
                {
                    "output_type": "display_data",
                    "data": {
                        "text/html": "(1 row affected)"
                    },
                    "metadata": {}
                },
                {
                    "output_type": "display_data",
                    "data": {
                        "text/html": "Total execution time: 00:00:00.011"
                    },
                    "metadata": {}
                },
                {
                    "output_type": "execute_result",
                    "metadata": {},
                    "execution_count": 30,
                    "data": {
                        "application/vnd.dataresource+json": {
                            "schema": {
                                "fields": [
                                    {
                                        "name": "name"
                                    },
                                    {
                                        "name": "pvt_key_encryption_type_desc"
                                    },
                                    {
                                        "name": "expiry_date"
                                    },
                                    {
                                        "name": "Start_date"
                                    },
                                    {
                                        "name": "pvt_key_last_backup_date"
                                    }
                                ]
                            },
                            "data": [
                                {
                                    "0": "TDE_Cert",
                                    "1": "ENCRYPTED_BY_MASTER_KEY",
                                    "2": "2023-08-02 23:50:23.000",
                                    "3": "2022-08-02 23:50:23.000",
                                    "4": "2022-08-02 23:50:23.617"
                                }
                            ]
                        },
                        "text/html": [
                            "<table>",
                            "<tr><th>name</th><th>pvt_key_encryption_type_desc</th><th>expiry_date</th><th>Start_date</th><th>pvt_key_last_backup_date</th></tr>",
                            "<tr><td>TDE_Cert</td><td>ENCRYPTED_BY_MASTER_KEY</td><td>2023-08-02 23:50:23.000</td><td>2022-08-02 23:50:23.000</td><td>2022-08-02 23:50:23.617</td></tr>",
                            "</table>"
                        ]
                    }
                },
                {
                    "output_type": "execute_result",
                    "metadata": {},
                    "execution_count": 30,
                    "data": {
                        "application/vnd.dataresource+json": {
                            "schema": {
                                "fields": [
                                    {
                                        "name": "name"
                                    },
                                    {
                                        "name": "create_date"
                                    }
                                ]
                            },
                            "data": [
                                {
                                    "0": "##MS_DatabaseMasterKey##",
                                    "1": "2022-08-02 19:40:55.170"
                                }
                            ]
                        },
                        "text/html": [
                            "<table>",
                            "<tr><th>name</th><th>create_date</th></tr>",
                            "<tr><td>##MS_DatabaseMasterKey##</td><td>2022-08-02 19:40:55.170</td></tr>",
                            "</table>"
                        ]
                    }
                }
            ],
            "execution_count": 30
        },
        {
            "cell_type": "markdown",
            "source": [
                "Step 4: Encrypt the test Database (the time of this process is dependent on the size of the database beign encrypted"
            ],
            "metadata": {
                "azdata_cell_guid": "bf17d6c0-c49f-461c-a7ce-04ffb0f20741"
            },
            "attachments": {}
        },
        {
            "cell_type": "code",
            "source": [
                "/*  Module 2, Activity 5 - Encrypt the Test Database */\r\n",
                "USE SQLSecurityTest\r\n",
                "GO\r\n",
                "\r\n",
                "/*Create Encryption key*/\r\n",
                "CREATE DATABASE ENCRYPTION KEY\r\n",
                "    WITH ALGORITHM = AES_256\r\n",
                "    ENCRYPTION BY SERVER CERTIFICATE TDE_Cert;\r\n",
                "GO\r\n",
                "\r\n",
                "/* Encrypt database */\r\n",
                "ALTER DATABASE SQLSecurityTest SET ENCRYPTION ON;\r\n",
                "GO"
            ],
            "metadata": {
                "azdata_cell_guid": "281bab4e-ed43-46db-940e-6ee271c42fe5",
                "language": ""
            },
            "outputs": [
                {
                    "output_type": "display_data",
                    "data": {
                        "text/html": "Commands completed successfully."
                    },
                    "metadata": {}
                },
                {
                    "output_type": "display_data",
                    "data": {
                        "text/html": "Commands completed successfully."
                    },
                    "metadata": {}
                },
                {
                    "output_type": "display_data",
                    "data": {
                        "text/html": "Commands completed successfully."
                    },
                    "metadata": {}
                },
                {
                    "output_type": "display_data",
                    "data": {
                        "text/html": "Total execution time: 00:00:00.423"
                    },
                    "metadata": {}
                }
            ],
            "execution_count": 17
        },
        {
            "cell_type": "code",
            "source": [
                "/*  Module 2, Activity 5 - Verify Encryption */\r\n",
                "SELECT \r\n",
                "DB_NAME(database_id) AS DatabaseName\r\n",
                ", encryption_state_desc AS EncryptionState\r\n",
                ", key_algorithm AS Algorithm\r\n",
                ", key_length AS KeyLength\r\n",
                "FROM sys.dm_database_encryption_keys\r\n",
                "GO\r\n",
                "\r\n",
                "SELECT \r\n",
                "NAME AS DatabaseName\r\n",
                ", IS_ENCRYPTED AS IsEncrypted \r\n",
                "FROM sys.databases where name ='SQLSecurityTest'\r\n",
                "GO"
            ],
            "metadata": {
                "azdata_cell_guid": "e9cf21d6-06ab-4406-831a-307d040192cb",
                "language": "sql",
                "tags": []
            },
            "outputs": [
                {
                    "output_type": "display_data",
                    "data": {
                        "text/html": "(2 rows affected)"
                    },
                    "metadata": {}
                },
                {
                    "output_type": "display_data",
                    "data": {
                        "text/html": "(1 row affected)"
                    },
                    "metadata": {}
                },
                {
                    "output_type": "display_data",
                    "data": {
                        "text/html": "Total execution time: 00:00:00.009"
                    },
                    "metadata": {}
                },
                {
                    "output_type": "execute_result",
                    "metadata": {},
                    "execution_count": 19,
                    "data": {
                        "application/vnd.dataresource+json": {
                            "schema": {
                                "fields": [
                                    {
                                        "name": "DatabaseName"
                                    },
                                    {
                                        "name": "EncryptionState"
                                    },
                                    {
                                        "name": "Algorithm"
                                    },
                                    {
                                        "name": "KeyLength"
                                    }
                                ]
                            },
                            "data": [
                                {
                                    "0": "tempdb",
                                    "1": "ENCRYPTED",
                                    "2": "AES",
                                    "3": "256"
                                },
                                {
                                    "0": "SQLSecurityTest",
                                    "1": "ENCRYPTED",
                                    "2": "AES",
                                    "3": "256"
                                }
                            ]
                        },
                        "text/html": [
                            "<table>",
                            "<tr><th>DatabaseName</th><th>EncryptionState</th><th>Algorithm</th><th>KeyLength</th></tr>",
                            "<tr><td>tempdb</td><td>ENCRYPTED</td><td>AES</td><td>256</td></tr>",
                            "<tr><td>SQLSecurityTest</td><td>ENCRYPTED</td><td>AES</td><td>256</td></tr>",
                            "</table>"
                        ]
                    }
                },
                {
                    "output_type": "execute_result",
                    "metadata": {},
                    "execution_count": 19,
                    "data": {
                        "application/vnd.dataresource+json": {
                            "schema": {
                                "fields": [
                                    {
                                        "name": "DatabaseName"
                                    },
                                    {
                                        "name": "IsEncrypted"
                                    }
                                ]
                            },
                            "data": [
                                {
                                    "0": "SQLSecurityTest",
                                    "1": "1"
                                }
                            ]
                        },
                        "text/html": [
                            "<table>",
                            "<tr><th>DatabaseName</th><th>IsEncrypted</th></tr>",
                            "<tr><td>SQLSecurityTest</td><td>1</td></tr>",
                            "</table>"
                        ]
                    }
                }
            ],
            "execution_count": 19
        },
        {
            "cell_type": "markdown",
            "source": [
                "## 2.5 Auditing\n",
                "\n",
                "Step 1: Create a SQL Server Audit for the Patient table data"
            ],
            "metadata": {
                "language": "sql",
                "azdata_cell_guid": "cf1ebaac-2776-4526-958a-3a4be71809fd"
            },
            "attachments": {}
        },
        {
            "cell_type": "code",
            "source": [
                "/*  Module 2, Activity 6 - Create and enable the  Server Audit */\r\n",
                "USE [master]\r\n",
                "GO\r\n",
                "\r\n",
                "CREATE SERVER AUDIT [Patient_Data_Audit]\r\n",
                "TO FILE \r\n",
                "(\tFILEPATH = N'C:\\EncryptedDrive'\r\n",
                "\t,MAXSIZE = 1024 MB\r\n",
                "\t,MAX_ROLLOVER_FILES = 10\r\n",
                "\t,RESERVE_DISK_SPACE = OFF\r\n",
                ") WITH (QUEUE_DELAY = 1000, ON_FAILURE = CONTINUE)\r\n",
                "\r\n",
                "GO\r\n",
                "\r\n",
                "ALTER SERVER AUDIT [Patient_Data_Audit]  \r\n",
                "WITH (STATE = ON) ;  \r\n",
                "GO  "
            ],
            "metadata": {
                "language": "sql",
                "azdata_cell_guid": "0b08e426-2e8a-4249-bc78-3ca3b4489f01"
            },
            "outputs": [
                {
                    "output_type": "display_data",
                    "data": {
                        "text/html": "Commands completed successfully."
                    },
                    "metadata": {}
                },
                {
                    "output_type": "display_data",
                    "data": {
                        "text/html": "Commands completed successfully."
                    },
                    "metadata": {}
                },
                {
                    "output_type": "display_data",
                    "data": {
                        "text/html": "Commands completed successfully."
                    },
                    "metadata": {}
                },
                {
                    "output_type": "display_data",
                    "data": {
                        "text/html": "Total execution time: 00:00:00.008"
                    },
                    "metadata": {}
                }
            ],
            "execution_count": 39
        },
        {
            "cell_type": "markdown",
            "source": [
                "Step 2: Add an Audit Specification that catches actions on the table"
            ],
            "metadata": {
                "language": "sql",
                "azdata_cell_guid": "4fb1c5e2-6fa1-4ca2-a977-637973c5f161"
            },
            "attachments": {}
        },
        {
            "cell_type": "code",
            "source": [
                "/*  Module 2, Activity 6 - Create the database audit specification.  */\r\n",
                "USE [SQLSecurityTest]\r\n",
                "CREATE DATABASE AUDIT SPECIFICATION Audit_Data_Select_On_Patient_Table\r\n",
                "FOR SERVER AUDIT [Patient_Data_Audit]\r\n",
                "ADD ( SELECT, INSERT, UPDATE, DELETE  \r\n",
                "     ON SQLSecurityTest.dbo.Patient BY Public )  \r\n",
                "WITH (STATE = ON) ;    \r\n",
                "GO  "
            ],
            "metadata": {
                "language": "",
                "azdata_cell_guid": "50397eb7-575a-42f3-b8e2-1ce06e197d91",
                "tags": []
            },
            "outputs": [
                {
                    "output_type": "display_data",
                    "data": {
                        "text/html": "Commands completed successfully."
                    },
                    "metadata": {}
                },
                {
                    "output_type": "display_data",
                    "data": {
                        "text/html": "Total execution time: 00:00:00.002"
                    },
                    "metadata": {}
                }
            ],
            "execution_count": 46
        },
        {
            "cell_type": "markdown",
            "source": [
                "Step 3: Go to the Python notebook to perform autidable actions from the app side."
            ],
            "metadata": {
                "azdata_cell_guid": "5ac8661c-bf93-41d4-a764-009b167761ef"
            },
            "attachments": {}
        },
        {
            "cell_type": "code",
            "source": [
                "/*  Module 2, Activity 6 - Run queries that will be caught by the audit  */\r\n",
                "USE [SQLSecurityTest]\r\n",
                "INSERT INTO Patient (LoginID,FirstName,LastName,Address,City,SSN,CardNumber)\r\n",
                "VALUES ('6','Fred','Fernandez', '66 Freedom Fwy.', 'Fremont', '666-66-6666', '6666-6666-6666-6666')\r\n",
                "GO\r\n",
                "\r\n",
                "USE [SQLSecurityTest]\r\n",
                "SELECT * FROM Patient\r\n",
                "WHERE LoginID > 3\r\n",
                "GO\r\n",
                "\r\n",
                "USE [SQLSecurityTest]\r\n",
                "UPDATE Patient\r\n",
                "SET City = 'Fresno' \r\n",
                "WHERE City = 'Fremont'\r\n",
                "GO\r\n",
                "\r\n",
                "USE [SQLSecurityTest]\r\n",
                "SELECT * FROM Patient\r\n",
                "WHERE LoginID > 3\r\n",
                "GO\r\n",
                "\r\n",
                "USE [SQLSecurityTest]\r\n",
                "DELETE FROM Patient\r\n",
                "WHERE FirstName = 'Fred'\r\n",
                "GO\r\n",
                "\r\n",
                "USE [SQLSecurityTest]\r\n",
                "SELECT * FROM Patient\r\n",
                "GO"
            ],
            "metadata": {
                "azdata_cell_guid": "836540d2-ed4b-4f15-9ef3-3a053a63ae1e",
                "language": "sql",
                "tags": []
            },
            "outputs": [
                {
                    "output_type": "display_data",
                    "data": {
                        "text/html": "(1 row affected)"
                    },
                    "metadata": {}
                },
                {
                    "output_type": "display_data",
                    "data": {
                        "text/html": "(3 rows affected)"
                    },
                    "metadata": {}
                },
                {
                    "output_type": "display_data",
                    "data": {
                        "text/html": "(1 row affected)"
                    },
                    "metadata": {}
                },
                {
                    "output_type": "display_data",
                    "data": {
                        "text/html": "(3 rows affected)"
                    },
                    "metadata": {}
                },
                {
                    "output_type": "display_data",
                    "data": {
                        "text/html": "(1 row affected)"
                    },
                    "metadata": {}
                },
                {
                    "output_type": "display_data",
                    "data": {
                        "text/html": "(5 rows affected)"
                    },
                    "metadata": {}
                },
                {
                    "output_type": "display_data",
                    "data": {
                        "text/html": "Total execution time: 00:00:00.011"
                    },
                    "metadata": {}
                },
                {
                    "output_type": "execute_result",
                    "metadata": {},
                    "execution_count": 47,
                    "data": {
                        "application/vnd.dataresource+json": {
                            "schema": {
                                "fields": [
                                    {
                                        "name": "LoginID"
                                    },
                                    {
                                        "name": "LastName"
                                    },
                                    {
                                        "name": "FirstName"
                                    },
                                    {
                                        "name": "Address"
                                    },
                                    {
                                        "name": "City"
                                    },
                                    {
                                        "name": "SSN"
                                    },
                                    {
                                        "name": "CardNumber"
                                    }
                                ]
                            },
                            "data": [
                                {
                                    "0": "4",
                                    "1": "Dangerfield",
                                    "2": "David",
                                    "3": "4444 Denvue Drive",
                                    "4": "Denver",
                                    "5": "444-44-4444",
                                    "6": "4444-4444-4444-4444"
                                },
                                {
                                    "0": "5",
                                    "1": "Engleton",
                                    "2": "Edbert",
                                    "3": "5555 Esquire Rd. E",
                                    "4": "Easton",
                                    "5": "555-55-5555",
                                    "6": "5555-5555-5555-5555"
                                },
                                {
                                    "0": "6",
                                    "1": "Fernandez",
                                    "2": "Fred",
                                    "3": "66 Freedom Fwy.",
                                    "4": "Fremont",
                                    "5": "666-66-6666",
                                    "6": "6666-6666-6666-6666"
                                }
                            ]
                        },
                        "text/html": [
                            "<table>",
                            "<tr><th>LoginID</th><th>LastName</th><th>FirstName</th><th>Address</th><th>City</th><th>SSN</th><th>CardNumber</th></tr>",
                            "<tr><td>4</td><td>Dangerfield</td><td>David</td><td>4444 Denvue Drive</td><td>Denver</td><td>444-44-4444</td><td>4444-4444-4444-4444</td></tr>",
                            "<tr><td>5</td><td>Engleton</td><td>Edbert</td><td>5555 Esquire Rd. E</td><td>Easton</td><td>555-55-5555</td><td>5555-5555-5555-5555</td></tr>",
                            "<tr><td>6</td><td>Fernandez</td><td>Fred</td><td>66 Freedom Fwy.</td><td>Fremont</td><td>666-66-6666</td><td>6666-6666-6666-6666</td></tr>",
                            "</table>"
                        ]
                    }
                },
                {
                    "output_type": "execute_result",
                    "metadata": {},
                    "execution_count": 47,
                    "data": {
                        "application/vnd.dataresource+json": {
                            "schema": {
                                "fields": [
                                    {
                                        "name": "LoginID"
                                    },
                                    {
                                        "name": "LastName"
                                    },
                                    {
                                        "name": "FirstName"
                                    },
                                    {
                                        "name": "Address"
                                    },
                                    {
                                        "name": "City"
                                    },
                                    {
                                        "name": "SSN"
                                    },
                                    {
                                        "name": "CardNumber"
                                    }
                                ]
                            },
                            "data": [
                                {
                                    "0": "4",
                                    "1": "Dangerfield",
                                    "2": "David",
                                    "3": "4444 Denvue Drive",
                                    "4": "Denver",
                                    "5": "444-44-4444",
                                    "6": "4444-4444-4444-4444"
                                },
                                {
                                    "0": "5",
                                    "1": "Engleton",
                                    "2": "Edbert",
                                    "3": "5555 Esquire Rd. E",
                                    "4": "Easton",
                                    "5": "555-55-5555",
                                    "6": "5555-5555-5555-5555"
                                },
                                {
                                    "0": "6",
                                    "1": "Fernandez",
                                    "2": "Fred",
                                    "3": "66 Freedom Fwy.",
                                    "4": "Fresno",
                                    "5": "666-66-6666",
                                    "6": "6666-6666-6666-6666"
                                }
                            ]
                        },
                        "text/html": [
                            "<table>",
                            "<tr><th>LoginID</th><th>LastName</th><th>FirstName</th><th>Address</th><th>City</th><th>SSN</th><th>CardNumber</th></tr>",
                            "<tr><td>4</td><td>Dangerfield</td><td>David</td><td>4444 Denvue Drive</td><td>Denver</td><td>444-44-4444</td><td>4444-4444-4444-4444</td></tr>",
                            "<tr><td>5</td><td>Engleton</td><td>Edbert</td><td>5555 Esquire Rd. E</td><td>Easton</td><td>555-55-5555</td><td>5555-5555-5555-5555</td></tr>",
                            "<tr><td>6</td><td>Fernandez</td><td>Fred</td><td>66 Freedom Fwy.</td><td>Fresno</td><td>666-66-6666</td><td>6666-6666-6666-6666</td></tr>",
                            "</table>"
                        ]
                    }
                },
                {
                    "output_type": "execute_result",
                    "metadata": {},
                    "execution_count": 47,
                    "data": {
                        "application/vnd.dataresource+json": {
                            "schema": {
                                "fields": [
                                    {
                                        "name": "LoginID"
                                    },
                                    {
                                        "name": "LastName"
                                    },
                                    {
                                        "name": "FirstName"
                                    },
                                    {
                                        "name": "Address"
                                    },
                                    {
                                        "name": "City"
                                    },
                                    {
                                        "name": "SSN"
                                    },
                                    {
                                        "name": "CardNumber"
                                    }
                                ]
                            },
                            "data": [
                                {
                                    "0": "1",
                                    "1": "Arbiter",
                                    "2": "Agatha",
                                    "3": "111 Apple Ave.",
                                    "4": "Atlanta",
                                    "5": "111-11-1111",
                                    "6": "1111-1111-1111-1111"
                                },
                                {
                                    "0": "2",
                                    "1": "Bob",
                                    "2": "Billy",
                                    "3": "222 Bayshore Blvd.",
                                    "4": "Boice",
                                    "5": "222-22-2222",
                                    "6": "2222-2222-2222-2222"
                                },
                                {
                                    "0": "3",
                                    "1": "Choice",
                                    "2": "Charley",
                                    "3": "333 Castaway Ct.",
                                    "4": "Chesterfield",
                                    "5": "333-33-3333",
                                    "6": "3333-3333-3333-3333"
                                },
                                {
                                    "0": "4",
                                    "1": "Dangerfield",
                                    "2": "David",
                                    "3": "4444 Denvue Drive",
                                    "4": "Denver",
                                    "5": "444-44-4444",
                                    "6": "4444-4444-4444-4444"
                                },
                                {
                                    "0": "5",
                                    "1": "Engleton",
                                    "2": "Edbert",
                                    "3": "5555 Esquire Rd. E",
                                    "4": "Easton",
                                    "5": "555-55-5555",
                                    "6": "5555-5555-5555-5555"
                                }
                            ]
                        },
                        "text/html": [
                            "<table>",
                            "<tr><th>LoginID</th><th>LastName</th><th>FirstName</th><th>Address</th><th>City</th><th>SSN</th><th>CardNumber</th></tr>",
                            "<tr><td>1</td><td>Arbiter</td><td>Agatha</td><td>111 Apple Ave.</td><td>Atlanta</td><td>111-11-1111</td><td>1111-1111-1111-1111</td></tr>",
                            "<tr><td>2</td><td>Bob</td><td>Billy</td><td>222 Bayshore Blvd.</td><td>Boice</td><td>222-22-2222</td><td>2222-2222-2222-2222</td></tr>",
                            "<tr><td>3</td><td>Choice</td><td>Charley</td><td>333 Castaway Ct.</td><td>Chesterfield</td><td>333-33-3333</td><td>3333-3333-3333-3333</td></tr>",
                            "<tr><td>4</td><td>Dangerfield</td><td>David</td><td>4444 Denvue Drive</td><td>Denver</td><td>444-44-4444</td><td>4444-4444-4444-4444</td></tr>",
                            "<tr><td>5</td><td>Engleton</td><td>Edbert</td><td>5555 Esquire Rd. E</td><td>Easton</td><td>555-55-5555</td><td>5555-5555-5555-5555</td></tr>",
                            "</table>"
                        ]
                    }
                }
            ],
            "execution_count": 47
        },
        {
            "cell_type": "markdown",
            "source": [
                "Step 4: Read the audit log events."
            ],
            "metadata": {
                "language": "sql",
                "azdata_cell_guid": "1d0f6745-bdf7-4d18-9c8c-dc5e6cfb9609"
            },
            "attachments": {}
        },
        {
            "cell_type": "code",
            "source": [
                "/*  Module 2, Activity 6 - Read the Audit log events  */\r\n",
                "SELECT event_time, server_instance_name, server_principal_name, database_name, object_name, [statement] FROM sys.fn_get_audit_file ('C:\\EncryptedDrive\\Pa*',default,default);  \r\n",
                "GO  "
            ],
            "metadata": {
                "language": "sql",
                "azdata_cell_guid": "409c7ea5-c5ba-42a3-bafc-98cfe47dea12",
                "tags": []
            },
            "outputs": [
                {
                    "output_type": "display_data",
                    "data": {
                        "text/html": "(9 rows affected)"
                    },
                    "metadata": {}
                },
                {
                    "output_type": "display_data",
                    "data": {
                        "text/html": "Total execution time: 00:00:00.024"
                    },
                    "metadata": {}
                },
                {
                    "output_type": "execute_result",
                    "metadata": {},
                    "execution_count": 49,
                    "data": {
                        "application/vnd.dataresource+json": {
                            "schema": {
                                "fields": [
                                    {
                                        "name": "event_time"
                                    },
                                    {
                                        "name": "server_instance_name"
                                    },
                                    {
                                        "name": "server_principal_name"
                                    },
                                    {
                                        "name": "database_name"
                                    },
                                    {
                                        "name": "object_name"
                                    },
                                    {
                                        "name": "statement"
                                    }
                                ]
                            },
                            "data": [
                                {
                                    "0": "2022-08-03 00:36:39.0765612",
                                    "1": "A1",
                                    "2": "A1\\Administrator",
                                    "3": "",
                                    "4": "",
                                    "5": ""
                                },
                                {
                                    "0": "2022-08-03 00:38:47.0846859",
                                    "1": "A1",
                                    "2": "A1\\Administrator",
                                    "3": "SQLSecurityTest",
                                    "4": "Patient",
                                    "5": "INSERT INTO Patient (LoginID,FirstName,LastName,Address,City,SSN,CardNumber)\r\nVALUES ('6','Fred','Fernandez', '66 Freedom Fwy.', 'Fremont', '666-66-6666', '6666-6666-6666-6666')"
                                },
                                {
                                    "0": "2022-08-03 00:38:47.0866692",
                                    "1": "A1",
                                    "2": "A1\\Administrator",
                                    "3": "SQLSecurityTest",
                                    "4": "Patient",
                                    "5": "SELECT * FROM Patient\r\nWHERE LoginID > 3"
                                },
                                {
                                    "0": "2022-08-03 00:38:47.0906696",
                                    "1": "A1",
                                    "2": "A1\\Administrator",
                                    "3": "SQLSecurityTest",
                                    "4": "Patient",
                                    "5": "UPDATE Patient\r\nSET City = 'Fresno' \r\nWHERE City = 'Fremont'"
                                },
                                {
                                    "0": "2022-08-03 00:38:47.0906696",
                                    "1": "A1",
                                    "2": "A1\\Administrator",
                                    "3": "SQLSecurityTest",
                                    "4": "Patient",
                                    "5": "UPDATE Patient\r\nSET City = 'Fresno' \r\nWHERE City = 'Fremont'"
                                },
                                {
                                    "0": "2022-08-03 00:38:47.0926676",
                                    "1": "A1",
                                    "2": "A1\\Administrator",
                                    "3": "SQLSecurityTest",
                                    "4": "Patient",
                                    "5": "SELECT * FROM Patient\r\nWHERE LoginID > 3"
                                },
                                {
                                    "0": "2022-08-03 00:38:47.0956673",
                                    "1": "A1",
                                    "2": "A1\\Administrator",
                                    "3": "SQLSecurityTest",
                                    "4": "Patient",
                                    "5": "DELETE FROM Patient\r\nWHERE FirstName = 'Fred'"
                                },
                                {
                                    "0": "2022-08-03 00:38:47.0956673",
                                    "1": "A1",
                                    "2": "A1\\Administrator",
                                    "3": "SQLSecurityTest",
                                    "4": "Patient",
                                    "5": "DELETE FROM Patient\r\nWHERE FirstName = 'Fred'"
                                },
                                {
                                    "0": "2022-08-03 00:38:47.0966812",
                                    "1": "A1",
                                    "2": "A1\\Administrator",
                                    "3": "SQLSecurityTest",
                                    "4": "Patient",
                                    "5": "SELECT * FROM Patient"
                                }
                            ]
                        },
                        "text/html": [
                            "<table>",
                            "<tr><th>event_time</th><th>server_instance_name</th><th>server_principal_name</th><th>database_name</th><th>object_name</th><th>statement</th></tr>",
                            "<tr><td>2022-08-03 00:36:39.0765612</td><td>A1</td><td>A1\\Administrator</td><td></td><td></td><td></td></tr>",
                            "<tr><td>2022-08-03 00:38:47.0846859</td><td>A1</td><td>A1\\Administrator</td><td>SQLSecurityTest</td><td>Patient</td><td>INSERT INTO Patient (LoginID,FirstName,LastName,Address,City,SSN,CardNumber)\r\nVALUES ('6','Fred','Fernandez', '66 Freedom Fwy.', 'Fremont', '666-66-6666', '6666-6666-6666-6666')</td></tr>",
                            "<tr><td>2022-08-03 00:38:47.0866692</td><td>A1</td><td>A1\\Administrator</td><td>SQLSecurityTest</td><td>Patient</td><td>SELECT * FROM Patient\r\nWHERE LoginID &gt; 3</td></tr>",
                            "<tr><td>2022-08-03 00:38:47.0906696</td><td>A1</td><td>A1\\Administrator</td><td>SQLSecurityTest</td><td>Patient</td><td>UPDATE Patient\r\nSET City = 'Fresno' \r\nWHERE City = 'Fremont'</td></tr>",
                            "<tr><td>2022-08-03 00:38:47.0906696</td><td>A1</td><td>A1\\Administrator</td><td>SQLSecurityTest</td><td>Patient</td><td>UPDATE Patient\r\nSET City = 'Fresno' \r\nWHERE City = 'Fremont'</td></tr>",
                            "<tr><td>2022-08-03 00:38:47.0926676</td><td>A1</td><td>A1\\Administrator</td><td>SQLSecurityTest</td><td>Patient</td><td>SELECT * FROM Patient\r\nWHERE LoginID &gt; 3</td></tr>",
                            "<tr><td>2022-08-03 00:38:47.0956673</td><td>A1</td><td>A1\\Administrator</td><td>SQLSecurityTest</td><td>Patient</td><td>DELETE FROM Patient\r\nWHERE FirstName = 'Fred'</td></tr>",
                            "<tr><td>2022-08-03 00:38:47.0956673</td><td>A1</td><td>A1\\Administrator</td><td>SQLSecurityTest</td><td>Patient</td><td>DELETE FROM Patient\r\nWHERE FirstName = 'Fred'</td></tr>",
                            "<tr><td>2022-08-03 00:38:47.0966812</td><td>A1</td><td>A1\\Administrator</td><td>SQLSecurityTest</td><td>Patient</td><td>SELECT * FROM Patient</td></tr>",
                            "</table>"
                        ]
                    }
                }
            ],
            "execution_count": 49
        }
    ]
}