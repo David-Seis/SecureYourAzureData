{
    "metadata": {
        "kernelspec": {
            "name": "SQL",
            "display_name": "SQL",
            "language": "sql"
        },
        "language_info": {
            "name": "sql",
            "version": ""
        }
    },
    "nbformat_minor": 2,
    "nbformat": 4,
    "cells": [
        {
            "cell_type": "markdown",
            "source": [
                "# SQL Server Ground to Cloud Security Workshop\n",
                "\n",
                "_Last Updated: 3 August 2022_\n",
                "\n",
                "In [this workshop](https://github.com/David-Seis/SecureYourAzureData) you'll cover the basics of securing SQL Server installations and databases, from on-premises systems to Microsoft Azure deployments.\n",
                "\n",
                "_Note that this Notebook is an example only; and should not be used in production. It should be evaluated as a training implement only, and you should use these scripts and statements in a read-only fashion on a test system not connected to your production environment._"
            ],
            "metadata": {
                "azdata_cell_guid": "c95624e2-bbdd-4d56-bf9f-68ffbd7b25d5"
            },
            "attachments": {}
        },
        {
            "cell_type": "code",
            "source": [
                "/* Module 2, Connect to test Server */\n",
                "SELECT @@SERVERNAME AS [Server Name]\n",
                "SELECT SERVERPROPERTY('MACHINENAME') AS [Machine Name]"
            ],
            "metadata": {
                "azdata_cell_guid": "4b3f6867-2b6d-46f1-9f6a-d42cdf991ac4",
                "language": "sql",
                "tags": []
            },
            "outputs": [
                {
                    "output_type": "display_data",
                    "data": {
                        "text/html": "(1 row affected)"
                    },
                    "metadata": {}
                },
                {
                    "output_type": "display_data",
                    "data": {
                        "text/html": "(1 row affected)"
                    },
                    "metadata": {}
                },
                {
                    "output_type": "display_data",
                    "data": {
                        "text/html": "Total execution time: 00:00:00.003"
                    },
                    "metadata": {}
                },
                {
                    "output_type": "execute_result",
                    "metadata": {},
                    "execution_count": 4,
                    "data": {
                        "application/vnd.dataresource+json": {
                            "schema": {
                                "fields": [
                                    {
                                        "name": "Server Name"
                                    }
                                ]
                            },
                            "data": [
                                {
                                    "0": "A1"
                                }
                            ]
                        },
                        "text/html": [
                            "<table>",
                            "<tr><th>Server Name</th></tr>",
                            "<tr><td>A1</td></tr>",
                            "</table>"
                        ]
                    }
                },
                {
                    "output_type": "execute_result",
                    "metadata": {},
                    "execution_count": 4,
                    "data": {
                        "application/vnd.dataresource+json": {
                            "schema": {
                                "fields": [
                                    {
                                        "name": "Machine Name"
                                    }
                                ]
                            },
                            "data": [
                                {
                                    "0": "A1"
                                }
                            ]
                        },
                        "text/html": [
                            "<table>",
                            "<tr><th>Machine Name</th></tr>",
                            "<tr><td>A1</td></tr>",
                            "</table>"
                        ]
                    }
                }
            ],
            "execution_count": 4
        },
        {
            "cell_type": "markdown",
            "source": [
                "# Module 2 - SQL Server Security Basics\n",
                "\n",
                "Activities from the [SQL Server Security Course](https://github.com/David-Seis/SecureYourAzureData), for [Module 2](https://github.com/David-Seis/SecureYourAzureData/blob/main/SQLSecurity/02%20-%20SQLServerSecurityBasics.md)."
            ],
            "metadata": {
                "azdata_cell_guid": "b18963a3-cc42-4185-a776-e269e0820ce4"
            },
            "attachments": {}
        },
        {
            "cell_type": "markdown",
            "source": [
                "## 2.2 Principals\n",
                "\n",
                "Step 1: Create a test database named \"SQLSecurityTest\" to hold all of the examples we will be working through today:"
            ],
            "metadata": {
                "language": "sql",
                "azdata_cell_guid": "8a7c93e9-b3d1-41d3-9ee0-354e6cf70051"
            },
            "attachments": {}
        },
        {
            "cell_type": "code",
            "source": [
                "/* Module 2, Activity 1 - Create a test database */\r\n",
                "\r\n",
                "CREATE DATABASE SQLSecurityTest;\r\n",
                "GO\r\n",
                "\r\n",
                "SELECT name, create_date, state_desc \r\n",
                "FROM sys.databases"
            ],
            "metadata": {
                "language": "sql",
                "azdata_cell_guid": "83b11ed5-4067-445e-9d15-e40d7d5ba5f8",
                "tags": []
            },
            "outputs": [
                {
                    "output_type": "display_data",
                    "data": {
                        "text/html": "Commands completed successfully."
                    },
                    "metadata": {}
                },
                {
                    "output_type": "display_data",
                    "data": {
                        "text/html": "(5 rows affected)"
                    },
                    "metadata": {}
                },
                {
                    "output_type": "display_data",
                    "data": {
                        "text/html": "Total execution time: 00:00:01.207"
                    },
                    "metadata": {}
                },
                {
                    "output_type": "execute_result",
                    "metadata": {},
                    "execution_count": 5,
                    "data": {
                        "application/vnd.dataresource+json": {
                            "schema": {
                                "fields": [
                                    {
                                        "name": "name"
                                    },
                                    {
                                        "name": "create_date"
                                    },
                                    {
                                        "name": "state_desc"
                                    }
                                ]
                            },
                            "data": [
                                {
                                    "0": "master",
                                    "1": "2003-04-08 09:13:36.390",
                                    "2": "ONLINE"
                                },
                                {
                                    "0": "tempdb",
                                    "1": "2022-08-23 19:16:34.857",
                                    "2": "ONLINE"
                                },
                                {
                                    "0": "model",
                                    "1": "2003-04-08 09:13:36.390",
                                    "2": "ONLINE"
                                },
                                {
                                    "0": "msdb",
                                    "1": "2019-09-24 14:21:42.270",
                                    "2": "ONLINE"
                                },
                                {
                                    "0": "SQLSecurityTest",
                                    "1": "2022-08-23 21:06:00.603",
                                    "2": "ONLINE"
                                }
                            ]
                        },
                        "text/html": [
                            "<table>",
                            "<tr><th>name</th><th>create_date</th><th>state_desc</th></tr>",
                            "<tr><td>master</td><td>2003-04-08 09:13:36.390</td><td>ONLINE</td></tr>",
                            "<tr><td>tempdb</td><td>2022-08-23 19:16:34.857</td><td>ONLINE</td></tr>",
                            "<tr><td>model</td><td>2003-04-08 09:13:36.390</td><td>ONLINE</td></tr>",
                            "<tr><td>msdb</td><td>2019-09-24 14:21:42.270</td><td>ONLINE</td></tr>",
                            "<tr><td>SQLSecurityTest</td><td>2022-08-23 21:06:00.603</td><td>ONLINE</td></tr>",
                            "</table>"
                        ]
                    }
                }
            ],
            "execution_count": 5
        },
        {
            "cell_type": "markdown",
            "source": [
                "Step 2: Open the \"SamplePythonCodeNotebook\" notebook and create the two windows users:"
            ],
            "metadata": {
                "language": "sql",
                "azdata_cell_guid": "1ebe62bc-8fb4-40c8-b7c1-7bcdb4aec622"
            },
            "attachments": {}
        },
        {
            "cell_type": "markdown",
            "source": [
                "Step 3: Create a set of users in your SQL environment in a new query window, you will need to replace -Placeholder- with your device name. Remember, these are test users and are not designed to be secure."
            ],
            "metadata": {
                "language": "sql",
                "azdata_cell_guid": "a19a04fb-42dc-46a8-903c-1f8459e33c84"
            },
            "attachments": {}
        },
        {
            "cell_type": "code",
            "source": [
                "/* Module 2, Activity 1 - Add Test users */\r\n",
                "\r\n",
                "USE [master]\r\n",
                "GO\r\n",
                "CREATE LOGIN [-Placeholder-\\User1] FROM WINDOWS WITH DEFAULT_DATABASE=[SQLSecurityTest]\r\n",
                "GO\r\n",
                "\r\n",
                "USE [SQLSecurityTest]\r\n",
                "GO\r\n",
                "CREATE USER [-Placeholder-\\User1] FOR LOGIN [-Placeholder-\\User1]\r\n",
                "GO\r\n",
                "\r\n",
                "USE [master]\r\n",
                "GO\r\n",
                "CREATE LOGIN [-Placeholder-\\User2] FROM WINDOWS WITH DEFAULT_DATABASE=[SQLSecurityTest]\r\n",
                "GO\r\n",
                "\r\n",
                "USE [SQLSecurityTest]\r\n",
                "GO\r\n",
                "CREATE USER [-Placeholder-\\User2] FOR LOGIN [-Placeholder-\\User2]\r\n",
                "GO\r\n",
                "\r\n",
                "USE [master]\r\n",
                "GO\r\n",
                "CREATE LOGIN [User3] WITH PASSWORD=N'Tes#20. Use32!', DEFAULT_DATABASE=[SQLSecurityTest], CHECK_EXPIRATION=OFF, CHECK_POLICY=OFF\r\n",
                "GO\r\n",
                "\r\n",
                "USE [SQLSecurityTest]\r\n",
                "GO\r\n",
                "CREATE USER [User3] FOR LOGIN [User3]\r\n",
                "GO\r\n",
                "\r\n",
                "USE [master]\r\n",
                "GO\r\n",
                "CREATE LOGIN [User4] WITH PASSWORD=N'Tes#20. Use42!', DEFAULT_DATABASE=[SQLSecurityTest], CHECK_EXPIRATION=OFF, CHECK_POLICY=OFF\r\n",
                "GO\r\n",
                "\r\n",
                "USE [SQLSecurityTest]\r\n",
                "GO\r\n",
                "CREATE USER [User4] FOR LOGIN [User4]\r\n",
                "GO\r\n",
                "\r\n",
                "--sp_adduser is DEPRECATED"
            ],
            "metadata": {
                "language": "sql",
                "azdata_cell_guid": "ef764b98-96fd-43de-b1a7-57b01db23fa2",
                "tags": []
            },
            "outputs": [
                {
                    "output_type": "display_data",
                    "data": {
                        "text/html": "Commands completed successfully."
                    },
                    "metadata": {}
                },
                {
                    "output_type": "display_data",
                    "data": {
                        "text/html": "Commands completed successfully."
                    },
                    "metadata": {}
                },
                {
                    "output_type": "display_data",
                    "data": {
                        "text/html": "Commands completed successfully."
                    },
                    "metadata": {}
                },
                {
                    "output_type": "display_data",
                    "data": {
                        "text/html": "Commands completed successfully."
                    },
                    "metadata": {}
                },
                {
                    "output_type": "display_data",
                    "data": {
                        "text/html": "Commands completed successfully."
                    },
                    "metadata": {}
                },
                {
                    "output_type": "display_data",
                    "data": {
                        "text/html": "Commands completed successfully."
                    },
                    "metadata": {}
                },
                {
                    "output_type": "display_data",
                    "data": {
                        "text/html": "Commands completed successfully."
                    },
                    "metadata": {}
                },
                {
                    "output_type": "display_data",
                    "data": {
                        "text/html": "Commands completed successfully."
                    },
                    "metadata": {}
                },
                {
                    "output_type": "display_data",
                    "data": {
                        "text/html": "Commands completed successfully."
                    },
                    "metadata": {}
                },
                {
                    "output_type": "display_data",
                    "data": {
                        "text/html": "Commands completed successfully."
                    },
                    "metadata": {}
                },
                {
                    "output_type": "display_data",
                    "data": {
                        "text/html": "Commands completed successfully."
                    },
                    "metadata": {}
                },
                {
                    "output_type": "display_data",
                    "data": {
                        "text/html": "Commands completed successfully."
                    },
                    "metadata": {}
                },
                {
                    "output_type": "display_data",
                    "data": {
                        "text/html": "Commands completed successfully."
                    },
                    "metadata": {}
                },
                {
                    "output_type": "display_data",
                    "data": {
                        "text/html": "Commands completed successfully."
                    },
                    "metadata": {}
                },
                {
                    "output_type": "display_data",
                    "data": {
                        "text/html": "Commands completed successfully."
                    },
                    "metadata": {}
                },
                {
                    "output_type": "display_data",
                    "data": {
                        "text/html": "Commands completed successfully."
                    },
                    "metadata": {}
                },
                {
                    "output_type": "display_data",
                    "data": {
                        "text/html": "Commands completed successfully."
                    },
                    "metadata": {}
                },
                {
                    "output_type": "display_data",
                    "data": {
                        "text/html": "Total execution time: 00:00:00.011"
                    },
                    "metadata": {}
                }
            ],
            "execution_count": 7
        },
        {
            "cell_type": "code",
            "source": [
                "/* Module 2, Activity 1 - Review and created users and role memberships */\r\n",
                "\r\n",
                "EXEC sp_helplogins\r\n",
                "\r\n",
                "\r\n",
                "--Find Role Memberships \r\n",
                "SELECT DP1.name AS ServerRoleName,   \r\n",
                "    isnull (DP2.name, 'No members') AS ServerUserName   \r\n",
                "FROM sys.server_role_members AS DRM  \r\n",
                "RIGHT OUTER JOIN sys.server_principals AS DP1  \r\n",
                "    ON DRM.role_principal_id = DP1.principal_id  \r\n",
                "LEFT OUTER JOIN sys.server_principals AS DP2  \r\n",
                "    ON DRM.member_principal_id = DP2.principal_id  \r\n",
                "WHERE DP1.type = 'R'\r\n",
                "ORDER BY DP1.name; "
            ],
            "metadata": {
                "language": "sql",
                "azdata_cell_guid": "2c3fb503-6e74-4c52-8abe-e621ef96d93e",
                "tags": []
            },
            "outputs": [
                {
                    "output_type": "display_data",
                    "data": {
                        "text/html": "(20 rows affected)"
                    },
                    "metadata": {}
                },
                {
                    "output_type": "display_data",
                    "data": {
                        "text/html": "(20 rows affected)"
                    },
                    "metadata": {}
                },
                {
                    "output_type": "display_data",
                    "data": {
                        "text/html": "(16 rows affected)"
                    },
                    "metadata": {}
                },
                {
                    "output_type": "display_data",
                    "data": {
                        "text/html": "Total execution time: 00:00:00.864"
                    },
                    "metadata": {}
                },
                {
                    "output_type": "execute_result",
                    "metadata": {},
                    "execution_count": 8,
                    "data": {
                        "application/vnd.dataresource+json": {
                            "schema": {
                                "fields": [
                                    {
                                        "name": "LoginName"
                                    },
                                    {
                                        "name": "SID"
                                    },
                                    {
                                        "name": "DefDBName"
                                    },
                                    {
                                        "name": "DefLangName"
                                    },
                                    {
                                        "name": "AUser"
                                    },
                                    {
                                        "name": "ARemote"
                                    }
                                ]
                            },
                            "data": [
                                {
                                    "0": "##MS_AgentSigningCertificate##",
                                    "1": "0x0106000000000009010000004C1967C27FEB2EAD332894C5A0779EAE202847C8",
                                    "2": "master",
                                    "3": "us_english",
                                    "4": "yes  ",
                                    "5": "no     "
                                },
                                {
                                    "0": "##MS_PolicyEventProcessingLogin##",
                                    "1": "0x5681CCE7A1F1FF41B2F95CED7D792E70",
                                    "2": "master",
                                    "3": "us_english",
                                    "4": "yes  ",
                                    "5": "no     "
                                },
                                {
                                    "0": "##MS_PolicySigningCertificate##",
                                    "1": "0x010600000000000901000000BB1B6130E13E5B67B7BD49CE40730A5B67188088",
                                    "2": "master",
                                    "3": "NULL",
                                    "4": "NO   ",
                                    "5": "no     "
                                },
                                {
                                    "0": "##MS_PolicyTsqlExecutionLogin##",
                                    "1": "0x27578D8516843E4094EFA2CEED085C82",
                                    "2": "master",
                                    "3": "us_english",
                                    "4": "yes  ",
                                    "5": "no     "
                                },
                                {
                                    "0": "##MS_SmoExtendedSigningCertificate##",
                                    "1": "0x010600000000000901000000DCFDCE5B748D5515E793FC84E1ECCBE22A187F7A",
                                    "2": "master",
                                    "3": "NULL",
                                    "4": "NO   ",
                                    "5": "no     "
                                },
                                {
                                    "0": "##MS_SQLAuthenticatorCertificate##",
                                    "1": "0x010600000000000901000000FB236D83A8DC8E7DE549C56382C1A25F85EA3704",
                                    "2": "master",
                                    "3": "NULL",
                                    "4": "NO   ",
                                    "5": "no     "
                                },
                                {
                                    "0": "##MS_SQLReplicationSigningCertificate##",
                                    "1": "0x010600000000000901000000ED1B6318A0592D96CE6D143A9184BE0F758287BE",
                                    "2": "master",
                                    "3": "NULL",
                                    "4": "NO   ",
                                    "5": "no     "
                                },
                                {
                                    "0": "##MS_SQLResourceSigningCertificate##",
                                    "1": "0x0106000000000009010000001E501960278B270FD34191426BF0193FC0B4E786",
                                    "2": "master",
                                    "3": "NULL",
                                    "4": "NO   ",
                                    "5": "no     "
                                },
                                {
                                    "0": "A1\\Administrator",
                                    "1": "0x01050000000000051500000036DA95C338EC704F7A49A0B6F4010000",
                                    "2": "master",
                                    "3": "us_english",
                                    "4": "yes  ",
                                    "5": "no     "
                                },
                                {
                                    "0": "A1\\User1",
                                    "1": "0x01050000000000051500000036DA95C338EC704F7A49A0B60F040000",
                                    "2": "SQLSecurityTest",
                                    "3": "us_english",
                                    "4": "yes  ",
                                    "5": "no     "
                                },
                                {
                                    "0": "A1\\User2",
                                    "1": "0x01050000000000051500000036DA95C338EC704F7A49A0B610040000",
                                    "2": "SQLSecurityTest",
                                    "3": "us_english",
                                    "4": "yes  ",
                                    "5": "no     "
                                },
                                {
                                    "0": "NT AUTHORITY\\SYSTEM",
                                    "1": "0x010100000000000512000000",
                                    "2": "master",
                                    "3": "us_english",
                                    "4": "NO   ",
                                    "5": "no     "
                                },
                                {
                                    "0": "NT Service\\MSSQLSERVER",
                                    "1": "0x010600000000000550000000E20F4FE7B15874E48E19026478C2DC9AC307B83E",
                                    "2": "master",
                                    "3": "us_english",
                                    "4": "NO   ",
                                    "5": "no     "
                                },
                                {
                                    "0": "NT SERVICE\\SQLSERVERAGENT",
                                    "1": "0x010600000000000550000000DCA88F14B79FD47A992A3D8943F829A726066357",
                                    "2": "master",
                                    "3": "us_english",
                                    "4": "NO   ",
                                    "5": "no     "
                                },
                                {
                                    "0": "NT SERVICE\\SQLTELEMETRY",
                                    "1": "0x010600000000000550000000447A1A9EE0235381234A54AA9BD0549C4FCC0642",
                                    "2": "master",
                                    "3": "us_english",
                                    "4": "NO   ",
                                    "5": "no     "
                                },
                                {
                                    "0": "NT SERVICE\\SQLWriter",
                                    "1": "0x010600000000000550000000732B9753646EF90356745CB675C3AA6CD6B4D28B",
                                    "2": "master",
                                    "3": "us_english",
                                    "4": "NO   ",
                                    "5": "no     "
                                },
                                {
                                    "0": "NT SERVICE\\Winmgmt",
                                    "1": "0x0106000000000005500000005A048DDFF9C7430AB450D4E7477A2172AB4170F4",
                                    "2": "master",
                                    "3": "us_english",
                                    "4": "NO   ",
                                    "5": "no     "
                                },
                                {
                                    "0": "sa",
                                    "1": "0x01",
                                    "2": "master",
                                    "3": "us_english",
                                    "4": "yes  ",
                                    "5": "no     "
                                },
                                {
                                    "0": "User3",
                                    "1": "0xBC93E38F16BF184783F7D3283246A620",
                                    "2": "SQLSecurityTest",
                                    "3": "us_english",
                                    "4": "yes  ",
                                    "5": "no     "
                                },
                                {
                                    "0": "User4",
                                    "1": "0xF6C1420197983F409850502D3647D99E",
                                    "2": "SQLSecurityTest",
                                    "3": "us_english",
                                    "4": "yes  ",
                                    "5": "no     "
                                }
                            ]
                        },
                        "text/html": [
                            "<table>",
                            "<tr><th>LoginName</th><th>SID</th><th>DefDBName</th><th>DefLangName</th><th>AUser</th><th>ARemote</th></tr>",
                            "<tr><td>##MS_AgentSigningCertificate##</td><td>0x0106000000000009010000004C1967C27FEB2EAD332894C5A0779EAE202847C8</td><td>master</td><td>us_english</td><td>yes  </td><td>no     </td></tr>",
                            "<tr><td>##MS_PolicyEventProcessingLogin##</td><td>0x5681CCE7A1F1FF41B2F95CED7D792E70</td><td>master</td><td>us_english</td><td>yes  </td><td>no     </td></tr>",
                            "<tr><td>##MS_PolicySigningCertificate##</td><td>0x010600000000000901000000BB1B6130E13E5B67B7BD49CE40730A5B67188088</td><td>master</td><td>NULL</td><td>NO   </td><td>no     </td></tr>",
                            "<tr><td>##MS_PolicyTsqlExecutionLogin##</td><td>0x27578D8516843E4094EFA2CEED085C82</td><td>master</td><td>us_english</td><td>yes  </td><td>no     </td></tr>",
                            "<tr><td>##MS_SmoExtendedSigningCertificate##</td><td>0x010600000000000901000000DCFDCE5B748D5515E793FC84E1ECCBE22A187F7A</td><td>master</td><td>NULL</td><td>NO   </td><td>no     </td></tr>",
                            "<tr><td>##MS_SQLAuthenticatorCertificate##</td><td>0x010600000000000901000000FB236D83A8DC8E7DE549C56382C1A25F85EA3704</td><td>master</td><td>NULL</td><td>NO   </td><td>no     </td></tr>",
                            "<tr><td>##MS_SQLReplicationSigningCertificate##</td><td>0x010600000000000901000000ED1B6318A0592D96CE6D143A9184BE0F758287BE</td><td>master</td><td>NULL</td><td>NO   </td><td>no     </td></tr>",
                            "<tr><td>##MS_SQLResourceSigningCertificate##</td><td>0x0106000000000009010000001E501960278B270FD34191426BF0193FC0B4E786</td><td>master</td><td>NULL</td><td>NO   </td><td>no     </td></tr>",
                            "<tr><td>A1\\Administrator</td><td>0x01050000000000051500000036DA95C338EC704F7A49A0B6F4010000</td><td>master</td><td>us_english</td><td>yes  </td><td>no     </td></tr>",
                            "<tr><td>A1\\User1</td><td>0x01050000000000051500000036DA95C338EC704F7A49A0B60F040000</td><td>SQLSecurityTest</td><td>us_english</td><td>yes  </td><td>no     </td></tr>",
                            "<tr><td>A1\\User2</td><td>0x01050000000000051500000036DA95C338EC704F7A49A0B610040000</td><td>SQLSecurityTest</td><td>us_english</td><td>yes  </td><td>no     </td></tr>",
                            "<tr><td>NT AUTHORITY\\SYSTEM</td><td>0x010100000000000512000000</td><td>master</td><td>us_english</td><td>NO   </td><td>no     </td></tr>",
                            "<tr><td>NT Service\\MSSQLSERVER</td><td>0x010600000000000550000000E20F4FE7B15874E48E19026478C2DC9AC307B83E</td><td>master</td><td>us_english</td><td>NO   </td><td>no     </td></tr>",
                            "<tr><td>NT SERVICE\\SQLSERVERAGENT</td><td>0x010600000000000550000000DCA88F14B79FD47A992A3D8943F829A726066357</td><td>master</td><td>us_english</td><td>NO   </td><td>no     </td></tr>",
                            "<tr><td>NT SERVICE\\SQLTELEMETRY</td><td>0x010600000000000550000000447A1A9EE0235381234A54AA9BD0549C4FCC0642</td><td>master</td><td>us_english</td><td>NO   </td><td>no     </td></tr>",
                            "<tr><td>NT SERVICE\\SQLWriter</td><td>0x010600000000000550000000732B9753646EF90356745CB675C3AA6CD6B4D28B</td><td>master</td><td>us_english</td><td>NO   </td><td>no     </td></tr>",
                            "<tr><td>NT SERVICE\\Winmgmt</td><td>0x0106000000000005500000005A048DDFF9C7430AB450D4E7477A2172AB4170F4</td><td>master</td><td>us_english</td><td>NO   </td><td>no     </td></tr>",
                            "<tr><td>sa</td><td>0x01</td><td>master</td><td>us_english</td><td>yes  </td><td>no     </td></tr>",
                            "<tr><td>User3</td><td>0xBC93E38F16BF184783F7D3283246A620</td><td>SQLSecurityTest</td><td>us_english</td><td>yes  </td><td>no     </td></tr>",
                            "<tr><td>User4</td><td>0xF6C1420197983F409850502D3647D99E</td><td>SQLSecurityTest</td><td>us_english</td><td>yes  </td><td>no     </td></tr>",
                            "</table>"
                        ]
                    }
                },
                {
                    "output_type": "execute_result",
                    "metadata": {},
                    "execution_count": 8,
                    "data": {
                        "application/vnd.dataresource+json": {
                            "schema": {
                                "fields": [
                                    {
                                        "name": "LoginName"
                                    },
                                    {
                                        "name": "DBName"
                                    },
                                    {
                                        "name": "UserName"
                                    },
                                    {
                                        "name": "UserOrAlias"
                                    }
                                ]
                            },
                            "data": [
                                {
                                    "0": "##MS_AgentSigningCertificate##",
                                    "1": "master",
                                    "2": "##MS_AgentSigningCertificate##",
                                    "3": "User    "
                                },
                                {
                                    "0": "##MS_PolicyEventProcessingLogin##",
                                    "1": "master",
                                    "2": "##MS_PolicyEventProcessingLogin##",
                                    "3": "User    "
                                },
                                {
                                    "0": "##MS_PolicyEventProcessingLogin##",
                                    "1": "msdb",
                                    "2": "##MS_PolicyEventProcessingLogin##",
                                    "3": "User    "
                                },
                                {
                                    "0": "##MS_PolicyEventProcessingLogin##",
                                    "1": "msdb",
                                    "2": "PolicyAdministratorRole",
                                    "3": "MemberOf"
                                },
                                {
                                    "0": "##MS_PolicyTsqlExecutionLogin##",
                                    "1": "msdb",
                                    "2": "##MS_PolicyTsqlExecutionLogin##",
                                    "3": "User    "
                                },
                                {
                                    "0": "##MS_PolicyTsqlExecutionLogin##",
                                    "1": "msdb",
                                    "2": "PolicyAdministratorRole",
                                    "3": "MemberOf"
                                },
                                {
                                    "0": "A1\\Administrator",
                                    "1": "SQLSecurityTest",
                                    "2": "db_owner",
                                    "3": "MemberOf"
                                },
                                {
                                    "0": "A1\\Administrator",
                                    "1": "SQLSecurityTest",
                                    "2": "dbo",
                                    "3": "User    "
                                },
                                {
                                    "0": "A1\\User1",
                                    "1": "SQLSecurityTest",
                                    "2": "A1\\User1",
                                    "3": "User    "
                                },
                                {
                                    "0": "A1\\User2",
                                    "1": "SQLSecurityTest",
                                    "2": "A1\\User2",
                                    "3": "User    "
                                },
                                {
                                    "0": "sa",
                                    "1": "master",
                                    "2": "db_owner",
                                    "3": "MemberOf"
                                },
                                {
                                    "0": "sa",
                                    "1": "master",
                                    "2": "dbo",
                                    "3": "User    "
                                },
                                {
                                    "0": "sa",
                                    "1": "model",
                                    "2": "db_owner",
                                    "3": "MemberOf"
                                },
                                {
                                    "0": "sa",
                                    "1": "model",
                                    "2": "dbo",
                                    "3": "User    "
                                },
                                {
                                    "0": "sa",
                                    "1": "msdb",
                                    "2": "db_owner",
                                    "3": "MemberOf"
                                },
                                {
                                    "0": "sa",
                                    "1": "msdb",
                                    "2": "dbo",
                                    "3": "User    "
                                },
                                {
                                    "0": "sa",
                                    "1": "tempdb",
                                    "2": "db_owner",
                                    "3": "MemberOf"
                                },
                                {
                                    "0": "sa",
                                    "1": "tempdb",
                                    "2": "dbo",
                                    "3": "User    "
                                },
                                {
                                    "0": "User3",
                                    "1": "SQLSecurityTest",
                                    "2": "User3",
                                    "3": "User    "
                                },
                                {
                                    "0": "User4",
                                    "1": "SQLSecurityTest",
                                    "2": "User4",
                                    "3": "User    "
                                }
                            ]
                        },
                        "text/html": [
                            "<table>",
                            "<tr><th>LoginName</th><th>DBName</th><th>UserName</th><th>UserOrAlias</th></tr>",
                            "<tr><td>##MS_AgentSigningCertificate##</td><td>master</td><td>##MS_AgentSigningCertificate##</td><td>User    </td></tr>",
                            "<tr><td>##MS_PolicyEventProcessingLogin##</td><td>master</td><td>##MS_PolicyEventProcessingLogin##</td><td>User    </td></tr>",
                            "<tr><td>##MS_PolicyEventProcessingLogin##</td><td>msdb</td><td>##MS_PolicyEventProcessingLogin##</td><td>User    </td></tr>",
                            "<tr><td>##MS_PolicyEventProcessingLogin##</td><td>msdb</td><td>PolicyAdministratorRole</td><td>MemberOf</td></tr>",
                            "<tr><td>##MS_PolicyTsqlExecutionLogin##</td><td>msdb</td><td>##MS_PolicyTsqlExecutionLogin##</td><td>User    </td></tr>",
                            "<tr><td>##MS_PolicyTsqlExecutionLogin##</td><td>msdb</td><td>PolicyAdministratorRole</td><td>MemberOf</td></tr>",
                            "<tr><td>A1\\Administrator</td><td>SQLSecurityTest</td><td>db_owner</td><td>MemberOf</td></tr>",
                            "<tr><td>A1\\Administrator</td><td>SQLSecurityTest</td><td>dbo</td><td>User    </td></tr>",
                            "<tr><td>A1\\User1</td><td>SQLSecurityTest</td><td>A1\\User1</td><td>User    </td></tr>",
                            "<tr><td>A1\\User2</td><td>SQLSecurityTest</td><td>A1\\User2</td><td>User    </td></tr>",
                            "<tr><td>sa</td><td>master</td><td>db_owner</td><td>MemberOf</td></tr>",
                            "<tr><td>sa</td><td>master</td><td>dbo</td><td>User    </td></tr>",
                            "<tr><td>sa</td><td>model</td><td>db_owner</td><td>MemberOf</td></tr>",
                            "<tr><td>sa</td><td>model</td><td>dbo</td><td>User    </td></tr>",
                            "<tr><td>sa</td><td>msdb</td><td>db_owner</td><td>MemberOf</td></tr>",
                            "<tr><td>sa</td><td>msdb</td><td>dbo</td><td>User    </td></tr>",
                            "<tr><td>sa</td><td>tempdb</td><td>db_owner</td><td>MemberOf</td></tr>",
                            "<tr><td>sa</td><td>tempdb</td><td>dbo</td><td>User    </td></tr>",
                            "<tr><td>User3</td><td>SQLSecurityTest</td><td>User3</td><td>User    </td></tr>",
                            "<tr><td>User4</td><td>SQLSecurityTest</td><td>User4</td><td>User    </td></tr>",
                            "</table>"
                        ]
                    }
                },
                {
                    "output_type": "execute_result",
                    "metadata": {},
                    "execution_count": 8,
                    "data": {
                        "application/vnd.dataresource+json": {
                            "schema": {
                                "fields": [
                                    {
                                        "name": "ServerRoleName"
                                    },
                                    {
                                        "name": "ServerUserName"
                                    }
                                ]
                            },
                            "data": [
                                {
                                    "0": "bulkadmin",
                                    "1": "No members"
                                },
                                {
                                    "0": "dbcreator",
                                    "1": "No members"
                                },
                                {
                                    "0": "diskadmin",
                                    "1": "No members"
                                },
                                {
                                    "0": "examplerole",
                                    "1": "No members"
                                },
                                {
                                    "0": "processadmin",
                                    "1": "No members"
                                },
                                {
                                    "0": "public",
                                    "1": "No members"
                                },
                                {
                                    "0": "securityadmin",
                                    "1": "No members"
                                },
                                {
                                    "0": "serveradmin",
                                    "1": "No members"
                                },
                                {
                                    "0": "setupadmin",
                                    "1": "No members"
                                },
                                {
                                    "0": "SQLSecurityTest_Table_Owner",
                                    "1": "No members"
                                },
                                {
                                    "0": "sysadmin",
                                    "1": "sa"
                                },
                                {
                                    "0": "sysadmin",
                                    "1": "A1\\Administrator"
                                },
                                {
                                    "0": "sysadmin",
                                    "1": "NT SERVICE\\SQLWriter"
                                },
                                {
                                    "0": "sysadmin",
                                    "1": "NT SERVICE\\Winmgmt"
                                },
                                {
                                    "0": "sysadmin",
                                    "1": "NT Service\\MSSQLSERVER"
                                },
                                {
                                    "0": "sysadmin",
                                    "1": "NT SERVICE\\SQLSERVERAGENT"
                                }
                            ]
                        },
                        "text/html": [
                            "<table>",
                            "<tr><th>ServerRoleName</th><th>ServerUserName</th></tr>",
                            "<tr><td>bulkadmin</td><td>No members</td></tr>",
                            "<tr><td>dbcreator</td><td>No members</td></tr>",
                            "<tr><td>diskadmin</td><td>No members</td></tr>",
                            "<tr><td>examplerole</td><td>No members</td></tr>",
                            "<tr><td>processadmin</td><td>No members</td></tr>",
                            "<tr><td>public</td><td>No members</td></tr>",
                            "<tr><td>securityadmin</td><td>No members</td></tr>",
                            "<tr><td>serveradmin</td><td>No members</td></tr>",
                            "<tr><td>setupadmin</td><td>No members</td></tr>",
                            "<tr><td>SQLSecurityTest_Table_Owner</td><td>No members</td></tr>",
                            "<tr><td>sysadmin</td><td>sa</td></tr>",
                            "<tr><td>sysadmin</td><td>A1\\Administrator</td></tr>",
                            "<tr><td>sysadmin</td><td>NT SERVICE\\SQLWriter</td></tr>",
                            "<tr><td>sysadmin</td><td>NT SERVICE\\Winmgmt</td></tr>",
                            "<tr><td>sysadmin</td><td>NT Service\\MSSQLSERVER</td></tr>",
                            "<tr><td>sysadmin</td><td>NT SERVICE\\SQLSERVERAGENT</td></tr>",
                            "</table>"
                        ]
                    }
                }
            ],
            "execution_count": 8
        },
        {
            "cell_type": "markdown",
            "source": [
                "## 2.2.1 Roles\n",
                "\n",
                "Step 1: Create one server role and 2 database roles:"
            ],
            "metadata": {
                "language": "sql",
                "azdata_cell_guid": "9d8ee5b3-481c-4cfa-9d59-4e6f85e43711"
            },
            "attachments": {}
        },
        {
            "cell_type": "code",
            "source": [
                "/*  Module 2, Activity 2 - Create a server role and database roles */\r\n",
                "\r\n",
                "-- Create a server role that will eventually own a table in the database\r\n",
                "USE master;\r\n",
                "CREATE SERVER ROLE SQLSecurityTest_Table_Owner;\r\n",
                "\r\n",
                "-- Create a database role that will eventually have rights to execute a stored procedure in the database\r\n",
                "USE [SQLSecurityTest];\r\n",
                "CREATE ROLE Stored_procedure_user_role;\r\n",
                "\r\n",
                "--Create a database role that will have permisison to query a view in the database\r\n",
                "USE [SQLSecurityTest];\r\n",
                "CREATE ROLE View_user_role;"
            ],
            "metadata": {
                "azdata_cell_guid": "2b196a8a-92ed-4baf-a7dc-8e8a356c14fe",
                "language": "sql",
                "tags": []
            },
            "outputs": [
                {
                    "output_type": "display_data",
                    "data": {
                        "text/html": "Commands completed successfully."
                    },
                    "metadata": {}
                },
                {
                    "output_type": "display_data",
                    "data": {
                        "text/html": "Total execution time: 00:00:00.005"
                    },
                    "metadata": {}
                }
            ],
            "execution_count": 10
        },
        {
            "cell_type": "markdown",
            "source": [
                "Step 2: Assign users to roles. Remember to change the computer name from '-Placeholder-' in all the relevant places if you are running this on your own device."
            ],
            "metadata": {
                "language": "sql",
                "azdata_cell_guid": "77cfc513-1af4-4c2d-ad42-21ef1f1ba3b8"
            },
            "attachments": {}
        },
        {
            "cell_type": "code",
            "source": [
                "/*  Module 2, Activity 2 - Add users to roles */\r\n",
                "\r\n",
                "--Add user 1 to the Server role\r\n",
                "ALTER SERVER ROLE [SQLSecurityTest_Table_Owner] ADD MEMBER [-Placeholder-\\User1]\r\n",
                "GO\r\n",
                "\r\n",
                "\r\n",
                "--Add user 2 and 3 to the stored procedure user role\r\n",
                "USE [SQLSecurityTest]\r\n",
                "GO\r\n",
                "ALTER ROLE [Stored_procedure_user_role] ADD MEMBER [-Placeholder-\\User2]\r\n",
                "GO\r\n",
                "\r\n",
                "USE [SQLSecurityTest]\r\n",
                "GO\r\n",
                "ALTER ROLE [Stored_procedure_user_role] ADD MEMBER [User3]\r\n",
                "GO\r\n",
                "\r\n",
                "\r\n",
                "--Add user 1 and 4 to the View user role\r\n",
                "USE [SQLSecurityTest]\r\n",
                "GO\r\n",
                "ALTER ROLE [View_user_role] ADD MEMBER [-Placeholder-\\User1]\r\n",
                "GO\r\n",
                "\r\n",
                "USE [SQLSecurityTest]\r\n",
                "GO\r\n",
                "ALTER ROLE [View_user_role] ADD MEMBER [User4]\r\n",
                "GO"
            ],
            "metadata": {
                "language": "sql",
                "azdata_cell_guid": "0595bf33-71f1-49da-bafa-fcb535c0f1af",
                "tags": []
            },
            "outputs": [
                {
                    "output_type": "display_data",
                    "data": {
                        "text/html": "Commands completed successfully."
                    },
                    "metadata": {}
                },
                {
                    "output_type": "display_data",
                    "data": {
                        "text/html": "Commands completed successfully."
                    },
                    "metadata": {}
                },
                {
                    "output_type": "display_data",
                    "data": {
                        "text/html": "Commands completed successfully."
                    },
                    "metadata": {}
                },
                {
                    "output_type": "display_data",
                    "data": {
                        "text/html": "Commands completed successfully."
                    },
                    "metadata": {}
                },
                {
                    "output_type": "display_data",
                    "data": {
                        "text/html": "Commands completed successfully."
                    },
                    "metadata": {}
                },
                {
                    "output_type": "display_data",
                    "data": {
                        "text/html": "Commands completed successfully."
                    },
                    "metadata": {}
                },
                {
                    "output_type": "display_data",
                    "data": {
                        "text/html": "Commands completed successfully."
                    },
                    "metadata": {}
                },
                {
                    "output_type": "display_data",
                    "data": {
                        "text/html": "Commands completed successfully."
                    },
                    "metadata": {}
                },
                {
                    "output_type": "display_data",
                    "data": {
                        "text/html": "Commands completed successfully."
                    },
                    "metadata": {}
                },
                {
                    "output_type": "display_data",
                    "data": {
                        "text/html": "Total execution time: 00:00:00.005"
                    },
                    "metadata": {}
                }
            ],
            "execution_count": 11
        },
        {
            "cell_type": "markdown",
            "source": [
                "Step 3: Run this script to identify all user created roles on the SQL instance, as well as identify role memberships\n",
                "\n",
                "_Note: You can remove 'AND is\\_fixed\\_role = 0  AND name NOT IN ('public')' to see all server and database roles on the instance._"
            ],
            "metadata": {
                "azdata_cell_guid": "61cef507-5fa0-46a3-92e8-9b0a3c8204aa"
            },
            "attachments": {}
        },
        {
            "cell_type": "code",
            "source": [
                "/*  Module 2, Activity 2 - Audit all user created roles on the system, as well as role memberships */\r\n",
                "--Server Principals\r\n",
                "SELECT name, type_desc, create_date FROM sys.server_principals\r\n",
                "WHERE type = 'R' AND is_fixed_role = 0 AND name NOT IN ('public')\r\n",
                "\r\n",
                "--Database Principals\r\n",
                "SELECT name, type_desc, create_date FROM sys.database_principals \r\n",
                "WHERE type = 'R' AND is_fixed_role = 0  AND name NOT IN ('public')\r\n",
                "\r\n",
                "--Find Role Memberships \r\n",
                "SELECT DP1.name AS DatabaseRoleName,   \r\n",
                "    isnull (DP2.name, 'No members') AS DatabaseUserName   \r\n",
                "FROM sys.database_role_members AS DRM  \r\n",
                "RIGHT OUTER JOIN sys.database_principals AS DP1  \r\n",
                "    ON DRM.role_principal_id = DP1.principal_id  \r\n",
                "LEFT OUTER JOIN sys.database_principals AS DP2  \r\n",
                "    ON DRM.member_principal_id = DP2.principal_id  \r\n",
                "WHERE DP1.type = 'R'\r\n",
                "ORDER BY DP1.name; "
            ],
            "metadata": {
                "azdata_cell_guid": "c4c4bf36-ebdb-4f0d-ba7a-799f05212c59",
                "language": "sql",
                "tags": []
            },
            "outputs": [
                {
                    "output_type": "display_data",
                    "data": {
                        "text/html": "(1 row affected)"
                    },
                    "metadata": {}
                },
                {
                    "output_type": "display_data",
                    "data": {
                        "text/html": "(2 rows affected)"
                    },
                    "metadata": {}
                },
                {
                    "output_type": "display_data",
                    "data": {
                        "text/html": "(14 rows affected)"
                    },
                    "metadata": {}
                },
                {
                    "output_type": "display_data",
                    "data": {
                        "text/html": "Total execution time: 00:00:00.008"
                    },
                    "metadata": {}
                },
                {
                    "output_type": "execute_result",
                    "metadata": {},
                    "execution_count": 13,
                    "data": {
                        "application/vnd.dataresource+json": {
                            "schema": {
                                "fields": [
                                    {
                                        "name": "name"
                                    },
                                    {
                                        "name": "type_desc"
                                    },
                                    {
                                        "name": "create_date"
                                    }
                                ]
                            },
                            "data": [
                                {
                                    "0": "SQLSecurityTest_Table_Owner",
                                    "1": "SERVER_ROLE",
                                    "2": "2022-08-23 21:10:40.163"
                                }
                            ]
                        },
                        "text/html": [
                            "<table>",
                            "<tr><th>name</th><th>type_desc</th><th>create_date</th></tr>",
                            "<tr><td>SQLSecurityTest_Table_Owner</td><td>SERVER_ROLE</td><td>2022-08-23 21:10:40.163</td></tr>",
                            "</table>"
                        ]
                    }
                },
                {
                    "output_type": "execute_result",
                    "metadata": {},
                    "execution_count": 13,
                    "data": {
                        "application/vnd.dataresource+json": {
                            "schema": {
                                "fields": [
                                    {
                                        "name": "name"
                                    },
                                    {
                                        "name": "type_desc"
                                    },
                                    {
                                        "name": "create_date"
                                    }
                                ]
                            },
                            "data": [
                                {
                                    "0": "Stored_procedure_user_role",
                                    "1": "DATABASE_ROLE",
                                    "2": "2022-08-23 21:10:40.163"
                                },
                                {
                                    "0": "View_user_role",
                                    "1": "DATABASE_ROLE",
                                    "2": "2022-08-23 21:10:40.167"
                                }
                            ]
                        },
                        "text/html": [
                            "<table>",
                            "<tr><th>name</th><th>type_desc</th><th>create_date</th></tr>",
                            "<tr><td>Stored_procedure_user_role</td><td>DATABASE_ROLE</td><td>2022-08-23 21:10:40.163</td></tr>",
                            "<tr><td>View_user_role</td><td>DATABASE_ROLE</td><td>2022-08-23 21:10:40.167</td></tr>",
                            "</table>"
                        ]
                    }
                },
                {
                    "output_type": "execute_result",
                    "metadata": {},
                    "execution_count": 13,
                    "data": {
                        "application/vnd.dataresource+json": {
                            "schema": {
                                "fields": [
                                    {
                                        "name": "DatabaseRoleName"
                                    },
                                    {
                                        "name": "DatabaseUserName"
                                    }
                                ]
                            },
                            "data": [
                                {
                                    "0": "db_accessadmin",
                                    "1": "No members"
                                },
                                {
                                    "0": "db_backupoperator",
                                    "1": "No members"
                                },
                                {
                                    "0": "db_datareader",
                                    "1": "No members"
                                },
                                {
                                    "0": "db_datawriter",
                                    "1": "No members"
                                },
                                {
                                    "0": "db_ddladmin",
                                    "1": "No members"
                                },
                                {
                                    "0": "db_denydatareader",
                                    "1": "No members"
                                },
                                {
                                    "0": "db_denydatawriter",
                                    "1": "No members"
                                },
                                {
                                    "0": "db_owner",
                                    "1": "dbo"
                                },
                                {
                                    "0": "db_securityadmin",
                                    "1": "No members"
                                },
                                {
                                    "0": "public",
                                    "1": "No members"
                                },
                                {
                                    "0": "Stored_procedure_user_role",
                                    "1": "A1\\User2"
                                },
                                {
                                    "0": "Stored_procedure_user_role",
                                    "1": "User3"
                                },
                                {
                                    "0": "View_user_role",
                                    "1": "A1\\User1"
                                },
                                {
                                    "0": "View_user_role",
                                    "1": "User4"
                                }
                            ]
                        },
                        "text/html": [
                            "<table>",
                            "<tr><th>DatabaseRoleName</th><th>DatabaseUserName</th></tr>",
                            "<tr><td>db_accessadmin</td><td>No members</td></tr>",
                            "<tr><td>db_backupoperator</td><td>No members</td></tr>",
                            "<tr><td>db_datareader</td><td>No members</td></tr>",
                            "<tr><td>db_datawriter</td><td>No members</td></tr>",
                            "<tr><td>db_ddladmin</td><td>No members</td></tr>",
                            "<tr><td>db_denydatareader</td><td>No members</td></tr>",
                            "<tr><td>db_denydatawriter</td><td>No members</td></tr>",
                            "<tr><td>db_owner</td><td>dbo</td></tr>",
                            "<tr><td>db_securityadmin</td><td>No members</td></tr>",
                            "<tr><td>public</td><td>No members</td></tr>",
                            "<tr><td>Stored_procedure_user_role</td><td>A1\\User2</td></tr>",
                            "<tr><td>Stored_procedure_user_role</td><td>User3</td></tr>",
                            "<tr><td>View_user_role</td><td>A1\\User1</td></tr>",
                            "<tr><td>View_user_role</td><td>User4</td></tr>",
                            "</table>"
                        ]
                    }
                }
            ],
            "execution_count": 13
        },
        {
            "cell_type": "markdown",
            "source": [
                "Step 4: Run this script to identify all user-created SQL users and group them by type.\n",
                "\n",
                "_Note: You can remove the 'WHERE type...\" and the following arguments to see all SQL users on the instance._"
            ],
            "metadata": {
                "language": "sql",
                "azdata_cell_guid": "0e0b3ec3-af03-45f1-a598-ad362b5de80b"
            },
            "attachments": {}
        },
        {
            "cell_type": "code",
            "source": [
                "/*  Module 2, Activity 2 - List all users by whether they are SQL or Windows users, excluding any built-in users */\r\n",
                "\r\n",
                "-- Windows Logins\r\n",
                "SELECT name, type_desc, create_date, default_database_name FROM sys.server_principals \r\n",
                "WHERE type IN ('U','G', 'E', 'X') AND name NOT LIKE '%NT%'\r\n",
                "ORDER BY type\r\n",
                "\r\n",
                "-- SQL Logins \r\n",
                "SELECT name, type_desc, create_date, default_database_name FROM sys.server_principals \r\n",
                "WHERE type = 'S' AND name NOT LIKE '%#%' AND name NOT LIKE 'sa'\r\n",
                "ORDER BY type"
            ],
            "metadata": {
                "language": "sql",
                "azdata_cell_guid": "9ae58efe-2b2a-44fa-9ffa-5a7bc0e64c2e",
                "tags": []
            },
            "outputs": [
                {
                    "output_type": "display_data",
                    "data": {
                        "text/html": "(3 rows affected)"
                    },
                    "metadata": {}
                },
                {
                    "output_type": "display_data",
                    "data": {
                        "text/html": "(2 rows affected)"
                    },
                    "metadata": {}
                },
                {
                    "output_type": "display_data",
                    "data": {
                        "text/html": "Total execution time: 00:00:00.012"
                    },
                    "metadata": {}
                },
                {
                    "output_type": "execute_result",
                    "metadata": {},
                    "execution_count": 14,
                    "data": {
                        "application/vnd.dataresource+json": {
                            "schema": {
                                "fields": [
                                    {
                                        "name": "name"
                                    },
                                    {
                                        "name": "type_desc"
                                    },
                                    {
                                        "name": "create_date"
                                    },
                                    {
                                        "name": "default_database_name"
                                    }
                                ]
                            },
                            "data": [
                                {
                                    "0": "A1\\Administrator",
                                    "1": "WINDOWS_LOGIN",
                                    "2": "2022-07-05 17:38:25.683",
                                    "3": "master"
                                },
                                {
                                    "0": "A1\\User1",
                                    "1": "WINDOWS_LOGIN",
                                    "2": "2022-08-23 21:09:43.487",
                                    "3": "SQLSecurityTest"
                                },
                                {
                                    "0": "A1\\User2",
                                    "1": "WINDOWS_LOGIN",
                                    "2": "2022-08-23 21:09:43.490",
                                    "3": "SQLSecurityTest"
                                }
                            ]
                        },
                        "text/html": [
                            "<table>",
                            "<tr><th>name</th><th>type_desc</th><th>create_date</th><th>default_database_name</th></tr>",
                            "<tr><td>A1\\Administrator</td><td>WINDOWS_LOGIN</td><td>2022-07-05 17:38:25.683</td><td>master</td></tr>",
                            "<tr><td>A1\\User1</td><td>WINDOWS_LOGIN</td><td>2022-08-23 21:09:43.487</td><td>SQLSecurityTest</td></tr>",
                            "<tr><td>A1\\User2</td><td>WINDOWS_LOGIN</td><td>2022-08-23 21:09:43.490</td><td>SQLSecurityTest</td></tr>",
                            "</table>"
                        ]
                    }
                },
                {
                    "output_type": "execute_result",
                    "metadata": {},
                    "execution_count": 14,
                    "data": {
                        "application/vnd.dataresource+json": {
                            "schema": {
                                "fields": [
                                    {
                                        "name": "name"
                                    },
                                    {
                                        "name": "type_desc"
                                    },
                                    {
                                        "name": "create_date"
                                    },
                                    {
                                        "name": "default_database_name"
                                    }
                                ]
                            },
                            "data": [
                                {
                                    "0": "User3",
                                    "1": "SQL_LOGIN",
                                    "2": "2022-08-23 21:09:43.493",
                                    "3": "SQLSecurityTest"
                                },
                                {
                                    "0": "User4",
                                    "1": "SQL_LOGIN",
                                    "2": "2022-08-23 21:09:43.497",
                                    "3": "SQLSecurityTest"
                                }
                            ]
                        },
                        "text/html": [
                            "<table>",
                            "<tr><th>name</th><th>type_desc</th><th>create_date</th><th>default_database_name</th></tr>",
                            "<tr><td>User3</td><td>SQL_LOGIN</td><td>2022-08-23 21:09:43.493</td><td>SQLSecurityTest</td></tr>",
                            "<tr><td>User4</td><td>SQL_LOGIN</td><td>2022-08-23 21:09:43.497</td><td>SQLSecurityTest</td></tr>",
                            "</table>"
                        ]
                    }
                }
            ],
            "execution_count": 14
        },
        {
            "cell_type": "markdown",
            "source": [
                "Step 5: Open the 'SamplePythonCodeNotebook' notebook to test the connections."
            ],
            "metadata": {
                "language": "sql",
                "azdata_cell_guid": "6f4019ae-15fd-4ede-a075-9e106d71aed4"
            },
            "attachments": {}
        },
        {
            "cell_type": "markdown",
            "source": [
                "## 2.3 Securables\n",
                "\n",
                "Step 1: Add a sample table to the test Database, view the data:"
            ],
            "metadata": {
                "language": "sql",
                "azdata_cell_guid": "a7ebebb2-5317-4376-bf97-8bb17534638d"
            },
            "attachments": {}
        },
        {
            "cell_type": "code",
            "source": [
                "/*  Module 2, Activity 3 - Create a sample table */\r\n",
                "\r\n",
                "USE [SQLSecurityTest]\r\n",
                "    GO\r\n",
                "    CREATE TABLE Patient (\r\n",
                "    LoginID tinyint\r\n",
                "    ,   LastName varchar(255)\r\n",
                "    ,   FirstName varchar(255)\r\n",
                "    ,   Address varchar(255)\r\n",
                "    ,   City varchar(255)\r\n",
                "    ,   SSN nvarchar(11)\r\n",
                "    ,   CardNumber nvarchar(19)\r\n",
                "    );\r\n",
                "\r\n",
                "    INSERT INTO Patient (loginid, lastname, firstname, address, city, ssn, cardnumber)\r\n",
                "    VALUES\t\r\n",
                "      (1,'Arbiter', 'Agatha', '111 Apple Ave.', 'Atlanta', '111-11-1111', '1111-1111-1111-1111')\r\n",
                "      , (2, 'Bob', 'Billy', '222 Bayshore Blvd.', 'Boice', '222-22-2222', '2222-2222-2222-2222')\r\n",
                "      , (3, 'Choice', 'Charley', '333 Castaway Ct.', 'Chesterfield', '333-33-3333', '3333-3333-3333-3333')\r\n",
                "      , (4, 'Dangerfield', 'David', '4444 Denvue Drive', 'Denver', '444-44-4444', '4444-4444-4444-4444')\r\n",
                "      , (5, 'Engleton', 'Edbert', '5555 Esquire Rd. E', 'Easton', '555-55-5555', '5555-5555-5555-5555')\r\n",
                "\r\n",
                "Select * FROM Patient"
            ],
            "metadata": {
                "language": "sql",
                "azdata_cell_guid": "ae6f2618-4b37-4e2f-9e38-d6b5a36747f7",
                "tags": []
            },
            "outputs": [
                {
                    "output_type": "display_data",
                    "data": {
                        "text/html": "Commands completed successfully."
                    },
                    "metadata": {}
                },
                {
                    "output_type": "display_data",
                    "data": {
                        "text/html": "(5 rows affected)"
                    },
                    "metadata": {}
                },
                {
                    "output_type": "display_data",
                    "data": {
                        "text/html": "(5 rows affected)"
                    },
                    "metadata": {}
                },
                {
                    "output_type": "display_data",
                    "data": {
                        "text/html": "Total execution time: 00:00:00.016"
                    },
                    "metadata": {}
                },
                {
                    "output_type": "execute_result",
                    "metadata": {},
                    "execution_count": 15,
                    "data": {
                        "application/vnd.dataresource+json": {
                            "schema": {
                                "fields": [
                                    {
                                        "name": "LoginID"
                                    },
                                    {
                                        "name": "LastName"
                                    },
                                    {
                                        "name": "FirstName"
                                    },
                                    {
                                        "name": "Address"
                                    },
                                    {
                                        "name": "City"
                                    },
                                    {
                                        "name": "SSN"
                                    },
                                    {
                                        "name": "CardNumber"
                                    }
                                ]
                            },
                            "data": [
                                {
                                    "0": "1",
                                    "1": "Arbiter",
                                    "2": "Agatha",
                                    "3": "111 Apple Ave.",
                                    "4": "Atlanta",
                                    "5": "111-11-1111",
                                    "6": "1111-1111-1111-1111"
                                },
                                {
                                    "0": "2",
                                    "1": "Bob",
                                    "2": "Billy",
                                    "3": "222 Bayshore Blvd.",
                                    "4": "Boice",
                                    "5": "222-22-2222",
                                    "6": "2222-2222-2222-2222"
                                },
                                {
                                    "0": "3",
                                    "1": "Choice",
                                    "2": "Charley",
                                    "3": "333 Castaway Ct.",
                                    "4": "Chesterfield",
                                    "5": "333-33-3333",
                                    "6": "3333-3333-3333-3333"
                                },
                                {
                                    "0": "4",
                                    "1": "Dangerfield",
                                    "2": "David",
                                    "3": "4444 Denvue Drive",
                                    "4": "Denver",
                                    "5": "444-44-4444",
                                    "6": "4444-4444-4444-4444"
                                },
                                {
                                    "0": "5",
                                    "1": "Engleton",
                                    "2": "Edbert",
                                    "3": "5555 Esquire Rd. E",
                                    "4": "Easton",
                                    "5": "555-55-5555",
                                    "6": "5555-5555-5555-5555"
                                }
                            ]
                        },
                        "text/html": [
                            "<table>",
                            "<tr><th>LoginID</th><th>LastName</th><th>FirstName</th><th>Address</th><th>City</th><th>SSN</th><th>CardNumber</th></tr>",
                            "<tr><td>1</td><td>Arbiter</td><td>Agatha</td><td>111 Apple Ave.</td><td>Atlanta</td><td>111-11-1111</td><td>1111-1111-1111-1111</td></tr>",
                            "<tr><td>2</td><td>Bob</td><td>Billy</td><td>222 Bayshore Blvd.</td><td>Boice</td><td>222-22-2222</td><td>2222-2222-2222-2222</td></tr>",
                            "<tr><td>3</td><td>Choice</td><td>Charley</td><td>333 Castaway Ct.</td><td>Chesterfield</td><td>333-33-3333</td><td>3333-3333-3333-3333</td></tr>",
                            "<tr><td>4</td><td>Dangerfield</td><td>David</td><td>4444 Denvue Drive</td><td>Denver</td><td>444-44-4444</td><td>4444-4444-4444-4444</td></tr>",
                            "<tr><td>5</td><td>Engleton</td><td>Edbert</td><td>5555 Esquire Rd. E</td><td>Easton</td><td>555-55-5555</td><td>5555-5555-5555-5555</td></tr>",
                            "</table>"
                        ]
                    }
                }
            ],
            "execution_count": 15
        },
        {
            "cell_type": "markdown",
            "source": [
                "Step 2: Create a view in the table, view the data."
            ],
            "metadata": {
                "language": "sql",
                "azdata_cell_guid": "28c89c7c-c726-4b1e-8bd3-d227d7f2236f"
            },
            "attachments": {}
        },
        {
            "cell_type": "code",
            "source": [
                "/*  Module 2, Activity 3 - Create a sample view */\r\n",
                "CREATE VIEW Patient_Mailing_Address AS\r\n",
                "SELECT FirstName, LastName, Address, City\r\n",
                "FROM Patient"
            ],
            "metadata": {
                "language": "sql",
                "azdata_cell_guid": "52da19c1-6358-4d9e-93a4-297287e2bd75",
                "tags": []
            },
            "outputs": [
                {
                    "output_type": "display_data",
                    "data": {
                        "text/html": "Commands completed successfully."
                    },
                    "metadata": {}
                },
                {
                    "output_type": "display_data",
                    "data": {
                        "text/html": "Total execution time: 00:00:00.028"
                    },
                    "metadata": {}
                }
            ],
            "execution_count": 16
        },
        {
            "cell_type": "code",
            "source": [
                "/*  Module 2, Activity 3 - Look at the typical return of the view */\r\n",
                "SELECT * FROM Patient_Mailing_Address"
            ],
            "metadata": {
                "language": "sql",
                "azdata_cell_guid": "5c2d7f3c-d63c-427d-9309-beb61b710aa8",
                "tags": []
            },
            "outputs": [
                {
                    "output_type": "display_data",
                    "data": {
                        "text/html": "(5 rows affected)"
                    },
                    "metadata": {}
                },
                {
                    "output_type": "display_data",
                    "data": {
                        "text/html": "Total execution time: 00:00:00.005"
                    },
                    "metadata": {}
                },
                {
                    "output_type": "execute_result",
                    "metadata": {},
                    "execution_count": 17,
                    "data": {
                        "application/vnd.dataresource+json": {
                            "schema": {
                                "fields": [
                                    {
                                        "name": "FirstName"
                                    },
                                    {
                                        "name": "LastName"
                                    },
                                    {
                                        "name": "Address"
                                    },
                                    {
                                        "name": "City"
                                    }
                                ]
                            },
                            "data": [
                                {
                                    "0": "Agatha",
                                    "1": "Arbiter",
                                    "2": "111 Apple Ave.",
                                    "3": "Atlanta"
                                },
                                {
                                    "0": "Billy",
                                    "1": "Bob",
                                    "2": "222 Bayshore Blvd.",
                                    "3": "Boice"
                                },
                                {
                                    "0": "Charley",
                                    "1": "Choice",
                                    "2": "333 Castaway Ct.",
                                    "3": "Chesterfield"
                                },
                                {
                                    "0": "David",
                                    "1": "Dangerfield",
                                    "2": "4444 Denvue Drive",
                                    "3": "Denver"
                                },
                                {
                                    "0": "Edbert",
                                    "1": "Engleton",
                                    "2": "5555 Esquire Rd. E",
                                    "3": "Easton"
                                }
                            ]
                        },
                        "text/html": [
                            "<table>",
                            "<tr><th>FirstName</th><th>LastName</th><th>Address</th><th>City</th></tr>",
                            "<tr><td>Agatha</td><td>Arbiter</td><td>111 Apple Ave.</td><td>Atlanta</td></tr>",
                            "<tr><td>Billy</td><td>Bob</td><td>222 Bayshore Blvd.</td><td>Boice</td></tr>",
                            "<tr><td>Charley</td><td>Choice</td><td>333 Castaway Ct.</td><td>Chesterfield</td></tr>",
                            "<tr><td>David</td><td>Dangerfield</td><td>4444 Denvue Drive</td><td>Denver</td></tr>",
                            "<tr><td>Edbert</td><td>Engleton</td><td>5555 Esquire Rd. E</td><td>Easton</td></tr>",
                            "</table>"
                        ]
                    }
                }
            ],
            "execution_count": 17
        },
        {
            "cell_type": "markdown",
            "source": [
                "Step 3: Create a stored procedure in the database:"
            ],
            "metadata": {
                "language": "sql",
                "azdata_cell_guid": "20522b68-0031-4c60-ac13-bfd4d54e9eb1"
            },
            "attachments": {}
        },
        {
            "cell_type": "code",
            "source": [
                "/*  Module 2, Activity 3 - Create a sample stored procedure */\r\n",
                "USE SQLSecurityTest;  \r\n",
                "GO  \r\n",
                "CREATE PROCEDURE uspGetCardInformation   \r\n",
                "    @Loginid tinyint  \r\n",
                "AS   \r\n",
                "\r\n",
                "    SET NOCOUNT ON;  \r\n",
                "    SELECT cardnumber  \r\n",
                "    FROM Patient  \r\n",
                "    WHERE loginId= @loginId   \r\n",
                "GO  \r\n",
                "\r\n",
                "\r\n",
                "-- Execute the query to verify it works\r\n",
                "EXEC dbo.uspGetCardInformation @loginID = 2"
            ],
            "metadata": {
                "language": "sql",
                "azdata_cell_guid": "0b3750b6-d6bc-4ac2-bc04-6b3dffbf6080",
                "tags": []
            },
            "outputs": [
                {
                    "output_type": "display_data",
                    "data": {
                        "text/html": "Commands completed successfully."
                    },
                    "metadata": {}
                },
                {
                    "output_type": "display_data",
                    "data": {
                        "text/html": "Commands completed successfully."
                    },
                    "metadata": {}
                },
                {
                    "output_type": "display_data",
                    "data": {
                        "text/html": "Commands completed successfully."
                    },
                    "metadata": {}
                },
                {
                    "output_type": "display_data",
                    "data": {
                        "text/html": "Total execution time: 00:00:00.007"
                    },
                    "metadata": {}
                },
                {
                    "output_type": "execute_result",
                    "metadata": {},
                    "execution_count": 22,
                    "data": {
                        "application/vnd.dataresource+json": {
                            "schema": {
                                "fields": [
                                    {
                                        "name": "cardnumber"
                                    }
                                ]
                            },
                            "data": [
                                {
                                    "0": "2222-2222-2222-2222"
                                }
                            ]
                        },
                        "text/html": [
                            "<table>",
                            "<tr><th>cardnumber</th></tr>",
                            "<tr><td>2222-2222-2222-2222</td></tr>",
                            "</table>"
                        ]
                    }
                }
            ],
            "execution_count": 22
        },
        {
            "cell_type": "markdown",
            "source": [
                "Step 4: Grant User1 full control on the table:"
            ],
            "metadata": {
                "language": "sql",
                "azdata_cell_guid": "ab36f6ae-2eca-419a-a82d-dc7f73dc0179"
            },
            "attachments": {}
        },
        {
            "cell_type": "code",
            "source": [
                "/*  Module 2, Activity 3 - Grant CONTROL on table to User1 */\r\n",
                "USE [SQLSecurityTest]\r\n",
                "GO\r\n",
                "GRANT CONTROL ON [dbo].[Patient] TO [-Placeholder-\\User1]\r\n",
                "GO"
            ],
            "metadata": {
                "language": "sql",
                "azdata_cell_guid": "e926b2aa-486d-4afa-93ab-064b41842184",
                "tags": []
            },
            "outputs": [
                {
                    "output_type": "display_data",
                    "data": {
                        "text/html": "Commands completed successfully."
                    },
                    "metadata": {}
                },
                {
                    "output_type": "display_data",
                    "data": {
                        "text/html": "Commands completed successfully."
                    },
                    "metadata": {}
                },
                {
                    "output_type": "display_data",
                    "data": {
                        "text/html": "Total execution time: 00:00:00.001"
                    },
                    "metadata": {}
                }
            ],
            "execution_count": 24
        },
        {
            "cell_type": "markdown",
            "source": [
                "Step 5: Grant rights to execute the stored procedure to the 'Stored\\_procdure\\_user\\_role' role."
            ],
            "metadata": {
                "language": "sql",
                "azdata_cell_guid": "659df390-3cf0-441b-af45-bfd8c239edae"
            },
            "attachments": {}
        },
        {
            "cell_type": "code",
            "source": [
                "/*  Module 2, Activity 3 - Grant EXECUTE on table to Stored_procedure_user_role */\r\n",
                "USE [SQLSecurityTest]\r\n",
                "GO\r\n",
                "GRANT EXECUTE ON [dbo].[uspGetCardInformation] TO [Stored_procedure_user_role]\r\n",
                "GO"
            ],
            "metadata": {
                "language": "sql",
                "azdata_cell_guid": "a12c6a0e-6dff-4378-9c4d-12d362033a26",
                "tags": []
            },
            "outputs": [
                {
                    "output_type": "display_data",
                    "data": {
                        "text/html": "Commands completed successfully."
                    },
                    "metadata": {}
                },
                {
                    "output_type": "display_data",
                    "data": {
                        "text/html": "Commands completed successfully."
                    },
                    "metadata": {}
                },
                {
                    "output_type": "display_data",
                    "data": {
                        "text/html": "Total execution time: 00:00:00.001"
                    },
                    "metadata": {}
                }
            ],
            "execution_count": 25
        },
        {
            "cell_type": "markdown",
            "source": [
                "Step 6: Grant rights to use the view to the 'View\\_user\\_role' role."
            ],
            "metadata": {
                "language": "sql",
                "azdata_cell_guid": "d0923b37-10cc-41e1-9b36-c4f85c95c8fb"
            },
            "attachments": {}
        },
        {
            "cell_type": "code",
            "source": [
                "/*  Module 2, Activity 3 - Grant SELECT on table to View_user_role */\r\n",
                "USE [SQLSecurityTest]\r\n",
                "GO\r\n",
                "GRANT SELECT ON [dbo].[Patient_Mailing_Address] TO [View_user_role]\r\n",
                "GO"
            ],
            "metadata": {
                "language": "sql",
                "azdata_cell_guid": "67a3ca31-c03b-4065-ad21-88ccc9a981a9",
                "tags": []
            },
            "outputs": [
                {
                    "output_type": "display_data",
                    "data": {
                        "text/html": "Commands completed successfully."
                    },
                    "metadata": {}
                },
                {
                    "output_type": "display_data",
                    "data": {
                        "text/html": "Commands completed successfully."
                    },
                    "metadata": {}
                },
                {
                    "output_type": "display_data",
                    "data": {
                        "text/html": "Total execution time: 00:00:00.001"
                    },
                    "metadata": {}
                }
            ],
            "execution_count": 26
        },
        {
            "cell_type": "markdown",
            "source": [
                "Step 7: Open the 'SamplePythonCodeNotebook' notebook and execute test queries to see how the permisisons have affected the users."
            ],
            "metadata": {
                "language": "sql",
                "azdata_cell_guid": "9badfb3d-975a-415c-b5bb-46aaa8462e10"
            },
            "attachments": {}
        },
        {
            "cell_type": "markdown",
            "source": [
                "Step 8: Review the results:\n",
                "\n",
                "![](attachment:image.png)  \n",
                "Consider the permissions, and what was allowed based on the query and consider the presence of sensitive data.\n",
                "\n",
                "query5 <span style=\"color: #000000;\">=</span> <span style=\"color: #a31515;\">\"EXEC dbo.uspGetCardInformation @LoginID = 2\"</span>\n",
                "\n",
                "query6 <span style=\"color: #000000;\">=</span> <span style=\"color: #a31515;\">\"SELECT FirstName + ' ' + Lastname + ' ' + Address + ' ' + City FROM Patient_Mailing_Address\"</span>\n",
                "\n",
                "query7 <span style=\"color: #000000;\">=</span> <span style=\"color: #a31515;\">\"Select FirstName + ' ' + LastName +', ' + SSN FROM Patient\"</span> <span style=\"color: #008000;\">#this could be any combination of columns</span>"
            ],
            "metadata": {
                "language": "sql",
                "azdata_cell_guid": "9a0f1f7b-d501-4d31-87a2-199f27e15647"
            },
            "attachments": {
                "image.png": {
                    "image/png": "[encoded data removed]"
                }
            }
        },
        {
            "cell_type": "markdown",
            "source": [
                "## 2.4 Applications\n",
                "\n",
                "Step 1: Query the table as a general user using their login ID to see their account information:"
            ],
            "metadata": {
                "language": "sql",
                "azdata_cell_guid": "254a001b-a679-43ff-98c0-918ab03463a0"
            },
            "attachments": {}
        },
        {
            "cell_type": "code",
            "source": [
                "/*  Module 2, Activity 4 - Select as a general user seeing account details */\r\n",
                "SELECT * \r\n",
                "FROM Patient \r\n",
                "WHERE loginid = '1' \r\n",
                "-- user input = 1"
            ],
            "metadata": {
                "language": "sql",
                "azdata_cell_guid": "31c79020-bc5c-49ed-9206-5c4bfd14cb73",
                "tags": []
            },
            "outputs": [
                {
                    "output_type": "display_data",
                    "data": {
                        "text/html": "(1 row affected)"
                    },
                    "metadata": {}
                },
                {
                    "output_type": "display_data",
                    "data": {
                        "text/html": "Total execution time: 00:00:00.005"
                    },
                    "metadata": {}
                },
                {
                    "output_type": "execute_result",
                    "metadata": {},
                    "execution_count": 27,
                    "data": {
                        "application/vnd.dataresource+json": {
                            "schema": {
                                "fields": [
                                    {
                                        "name": "LoginID"
                                    },
                                    {
                                        "name": "LastName"
                                    },
                                    {
                                        "name": "FirstName"
                                    },
                                    {
                                        "name": "Address"
                                    },
                                    {
                                        "name": "City"
                                    },
                                    {
                                        "name": "SSN"
                                    },
                                    {
                                        "name": "CardNumber"
                                    }
                                ]
                            },
                            "data": [
                                {
                                    "0": "1",
                                    "1": "Arbiter",
                                    "2": "Agatha",
                                    "3": "111 Apple Ave.",
                                    "4": "Atlanta",
                                    "5": "111-11-1111",
                                    "6": "1111-1111-1111-1111"
                                }
                            ]
                        },
                        "text/html": [
                            "<table>",
                            "<tr><th>LoginID</th><th>LastName</th><th>FirstName</th><th>Address</th><th>City</th><th>SSN</th><th>CardNumber</th></tr>",
                            "<tr><td>1</td><td>Arbiter</td><td>Agatha</td><td>111 Apple Ave.</td><td>Atlanta</td><td>111-11-1111</td><td>1111-1111-1111-1111</td></tr>",
                            "</table>"
                        ]
                    }
                }
            ],
            "execution_count": 27
        },
        {
            "cell_type": "markdown",
            "source": [
                "Step 2: Run the query below which simulates what happens when an injection occurs:"
            ],
            "metadata": {
                "azdata_cell_guid": "f44f55cb-e454-4a4e-9c61-487acf5fc4cf"
            },
            "attachments": {}
        },
        {
            "cell_type": "code",
            "source": [
                "/*  Module 2, Activity 4 - Select as a malicious actor using an injection string, which reveals all accounts in the system. */\r\n",
                "SELECT * \r\n",
                "FROM Patient\r\n",
                "WHERE loginid = '' or 1=1 --'  \r\n",
                "-- user input = ' or 1=1 --  "
            ],
            "metadata": {
                "azdata_cell_guid": "6dfbfb34-ff74-44c7-86a8-f4e238a74226",
                "language": "sql",
                "tags": []
            },
            "outputs": [
                {
                    "output_type": "display_data",
                    "data": {
                        "text/html": "(5 rows affected)"
                    },
                    "metadata": {}
                },
                {
                    "output_type": "display_data",
                    "data": {
                        "text/html": "Total execution time: 00:00:00.003"
                    },
                    "metadata": {}
                },
                {
                    "output_type": "execute_result",
                    "metadata": {},
                    "execution_count": 28,
                    "data": {
                        "application/vnd.dataresource+json": {
                            "schema": {
                                "fields": [
                                    {
                                        "name": "LoginID"
                                    },
                                    {
                                        "name": "LastName"
                                    },
                                    {
                                        "name": "FirstName"
                                    },
                                    {
                                        "name": "Address"
                                    },
                                    {
                                        "name": "City"
                                    },
                                    {
                                        "name": "SSN"
                                    },
                                    {
                                        "name": "CardNumber"
                                    }
                                ]
                            },
                            "data": [
                                {
                                    "0": "1",
                                    "1": "Arbiter",
                                    "2": "Agatha",
                                    "3": "111 Apple Ave.",
                                    "4": "Atlanta",
                                    "5": "111-11-1111",
                                    "6": "1111-1111-1111-1111"
                                },
                                {
                                    "0": "2",
                                    "1": "Bob",
                                    "2": "Billy",
                                    "3": "222 Bayshore Blvd.",
                                    "4": "Boice",
                                    "5": "222-22-2222",
                                    "6": "2222-2222-2222-2222"
                                },
                                {
                                    "0": "3",
                                    "1": "Choice",
                                    "2": "Charley",
                                    "3": "333 Castaway Ct.",
                                    "4": "Chesterfield",
                                    "5": "333-33-3333",
                                    "6": "3333-3333-3333-3333"
                                },
                                {
                                    "0": "4",
                                    "1": "Dangerfield",
                                    "2": "David",
                                    "3": "4444 Denvue Drive",
                                    "4": "Denver",
                                    "5": "444-44-4444",
                                    "6": "4444-4444-4444-4444"
                                },
                                {
                                    "0": "5",
                                    "1": "Engleton",
                                    "2": "Edbert",
                                    "3": "5555 Esquire Rd. E",
                                    "4": "Easton",
                                    "5": "555-55-5555",
                                    "6": "5555-5555-5555-5555"
                                }
                            ]
                        },
                        "text/html": [
                            "<table>",
                            "<tr><th>LoginID</th><th>LastName</th><th>FirstName</th><th>Address</th><th>City</th><th>SSN</th><th>CardNumber</th></tr>",
                            "<tr><td>1</td><td>Arbiter</td><td>Agatha</td><td>111 Apple Ave.</td><td>Atlanta</td><td>111-11-1111</td><td>1111-1111-1111-1111</td></tr>",
                            "<tr><td>2</td><td>Bob</td><td>Billy</td><td>222 Bayshore Blvd.</td><td>Boice</td><td>222-22-2222</td><td>2222-2222-2222-2222</td></tr>",
                            "<tr><td>3</td><td>Choice</td><td>Charley</td><td>333 Castaway Ct.</td><td>Chesterfield</td><td>333-33-3333</td><td>3333-3333-3333-3333</td></tr>",
                            "<tr><td>4</td><td>Dangerfield</td><td>David</td><td>4444 Denvue Drive</td><td>Denver</td><td>444-44-4444</td><td>4444-4444-4444-4444</td></tr>",
                            "<tr><td>5</td><td>Engleton</td><td>Edbert</td><td>5555 Esquire Rd. E</td><td>Easton</td><td>555-55-5555</td><td>5555-5555-5555-5555</td></tr>",
                            "</table>"
                        ]
                    }
                }
            ],
            "execution_count": 28
        },
        {
            "cell_type": "markdown",
            "source": [
                "Step 3: Run the query below showing how parameterizing the query helps prevent injection strings allowed by an application from negatively affecting SQL server:"
            ],
            "metadata": {
                "language": "sql",
                "azdata_cell_guid": "de2b42b8-1c3f-4cce-a410-d3409e96cb84"
            },
            "attachments": {}
        },
        {
            "cell_type": "code",
            "source": [
                "/*  Module 2, Activity 4 - Select as a general user after parameterizing the query */\r\n",
                "DECLARE @Loginid tinyint\r\n",
                "\r\n",
                "SET @Loginid = 1\r\n",
                "--user input = 1\r\n",
                "SELECT * \r\n",
                "FROM Patient\r\n",
                "WHERE loginid = @Loginid --parameterized input"
            ],
            "metadata": {
                "azdata_cell_guid": "4dbafa59-d8a4-4171-9295-d44925e7d997",
                "language": "sql",
                "tags": []
            },
            "outputs": [
                {
                    "output_type": "display_data",
                    "data": {
                        "text/html": "(1 row affected)"
                    },
                    "metadata": {}
                },
                {
                    "output_type": "display_data",
                    "data": {
                        "text/html": "Total execution time: 00:00:00.003"
                    },
                    "metadata": {}
                },
                {
                    "output_type": "execute_result",
                    "metadata": {},
                    "execution_count": 29,
                    "data": {
                        "application/vnd.dataresource+json": {
                            "schema": {
                                "fields": [
                                    {
                                        "name": "LoginID"
                                    },
                                    {
                                        "name": "LastName"
                                    },
                                    {
                                        "name": "FirstName"
                                    },
                                    {
                                        "name": "Address"
                                    },
                                    {
                                        "name": "City"
                                    },
                                    {
                                        "name": "SSN"
                                    },
                                    {
                                        "name": "CardNumber"
                                    }
                                ]
                            },
                            "data": [
                                {
                                    "0": "1",
                                    "1": "Arbiter",
                                    "2": "Agatha",
                                    "3": "111 Apple Ave.",
                                    "4": "Atlanta",
                                    "5": "111-11-1111",
                                    "6": "1111-1111-1111-1111"
                                }
                            ]
                        },
                        "text/html": [
                            "<table>",
                            "<tr><th>LoginID</th><th>LastName</th><th>FirstName</th><th>Address</th><th>City</th><th>SSN</th><th>CardNumber</th></tr>",
                            "<tr><td>1</td><td>Arbiter</td><td>Agatha</td><td>111 Apple Ave.</td><td>Atlanta</td><td>111-11-1111</td><td>1111-1111-1111-1111</td></tr>",
                            "</table>"
                        ]
                    }
                }
            ],
            "execution_count": 29
        },
        {
            "cell_type": "code",
            "source": [
                "/*  Module 2, Activity 4 - Select as a malicious actor after parameterizing the query */\r\n",
                "DECLARE @Loginid tinyint\r\n",
                "\r\n",
                "SET @Loginid = '' or 1=1-- '\r\n",
                "--user input = ' or 1=1-- \r\n",
                "SELECT * \r\n",
                "FROM Patient\r\n",
                "WHERE loginid = @Loginid --parameterized input"
            ],
            "metadata": {
                "language": "sql",
                "azdata_cell_guid": "33be2dc2-f5bd-414e-99e5-1cc17e3b658b",
                "tags": []
            },
            "outputs": [
                {
                    "output_type": "error",
                    "evalue": "Msg 156, Level 15, State 1, Line 4\r\nIncorrect syntax near the keyword 'or'.",
                    "ename": "",
                    "traceback": []
                },
                {
                    "output_type": "display_data",
                    "data": {
                        "text/html": "Total execution time: 00:00:00"
                    },
                    "metadata": {}
                }
            ],
            "execution_count": 30
        },
        {
            "cell_type": "markdown",
            "source": [
                "Step 4: Notice that an error could be returned to a malicious actor which they could use to learn more about your environment. Adding error handling helps prevent verbose errors from giving more information for an attacker to use."
            ],
            "metadata": {
                "language": "sql",
                "azdata_cell_guid": "8d3c1757-1300-4380-a14c-acedd72290f8"
            },
            "attachments": {}
        },
        {
            "cell_type": "code",
            "source": [
                "/*  Module 2, Activity 4 - Select as a general user after adding error handling  */\r\n",
                "DECLARE @Loginid tinyint\r\n",
                "BEGIN TRY\r\n",
                "  SET @Loginid = '1' \r\n",
                "  --user input = 1\r\n",
                "  SELECT * \r\n",
                "  FROM Patient\r\n",
                "  WHERE loginid = @Loginid --parameterized input\r\n",
                "END TRY\r\n",
                "BEGIN CATCH\r\n",
                "  Print 'Please use only your user ID'\r\n",
                "END CATCH"
            ],
            "metadata": {
                "language": "sql",
                "azdata_cell_guid": "ecaf248c-85a6-4140-8499-16d423255327",
                "tags": []
            },
            "outputs": [
                {
                    "output_type": "display_data",
                    "data": {
                        "text/html": "(1 row affected)"
                    },
                    "metadata": {}
                },
                {
                    "output_type": "display_data",
                    "data": {
                        "text/html": "Total execution time: 00:00:00.003"
                    },
                    "metadata": {}
                },
                {
                    "output_type": "execute_result",
                    "metadata": {},
                    "execution_count": 31,
                    "data": {
                        "application/vnd.dataresource+json": {
                            "schema": {
                                "fields": [
                                    {
                                        "name": "LoginID"
                                    },
                                    {
                                        "name": "LastName"
                                    },
                                    {
                                        "name": "FirstName"
                                    },
                                    {
                                        "name": "Address"
                                    },
                                    {
                                        "name": "City"
                                    },
                                    {
                                        "name": "SSN"
                                    },
                                    {
                                        "name": "CardNumber"
                                    }
                                ]
                            },
                            "data": [
                                {
                                    "0": "1",
                                    "1": "Arbiter",
                                    "2": "Agatha",
                                    "3": "111 Apple Ave.",
                                    "4": "Atlanta",
                                    "5": "111-11-1111",
                                    "6": "1111-1111-1111-1111"
                                }
                            ]
                        },
                        "text/html": [
                            "<table>",
                            "<tr><th>LoginID</th><th>LastName</th><th>FirstName</th><th>Address</th><th>City</th><th>SSN</th><th>CardNumber</th></tr>",
                            "<tr><td>1</td><td>Arbiter</td><td>Agatha</td><td>111 Apple Ave.</td><td>Atlanta</td><td>111-11-1111</td><td>1111-1111-1111-1111</td></tr>",
                            "</table>"
                        ]
                    }
                }
            ],
            "execution_count": 31
        },
        {
            "cell_type": "code",
            "source": [
                "/*  Module 2, Activity 4 - Select as a malicious actor after adding error handling  */\r\n",
                "DECLARE @Loginid tinyint\r\n",
                "BEGIN TRY\r\n",
                "    SET @Loginid = ''' or 1=1--' \r\n",
                "    --user input = ' or 1=1--\r\n",
                "    SELECT * \r\n",
                "    FROM Patient\r\n",
                "    WHERE loginid = @Loginid --parameterized input\r\n",
                "END TRY\r\n",
                "BEGIN CATCH\r\n",
                "    Print 'Please use only your user ID'\r\n",
                "END CATCH"
            ],
            "metadata": {
                "language": "sql",
                "azdata_cell_guid": "41e2ddea-c72d-4f27-97f7-1287ec640b6a",
                "tags": []
            },
            "outputs": [
                {
                    "output_type": "display_data",
                    "data": {
                        "text/html": "Please use only your user ID"
                    },
                    "metadata": {}
                },
                {
                    "output_type": "display_data",
                    "data": {
                        "text/html": "Total execution time: 00:00:00.082"
                    },
                    "metadata": {}
                }
            ],
            "execution_count": 32
        },
        {
            "cell_type": "markdown",
            "source": [
                "## 2.5 Encryption, Certificates, and Keys\n",
                "\n",
                "Step 1: Create and backup master key. - you need to create the folder '<span style=\"color: rgb(163, 21, 21); font-family: Consolas, &quot;Courier New&quot;, monospace; font-size: 12px; white-space: pre;\">C:\\EncryptedDrive' </span> (or replace the location with one SQL already has access to- we would recommend the default backup locaiton if possible) and then grant access to the SQL server service account before running this."
            ],
            "metadata": {
                "language": "sql",
                "azdata_cell_guid": "6de8a70c-b035-4552-9e82-2bdb4f0c98b8"
            },
            "attachments": {}
        },
        {
            "cell_type": "code",
            "source": [
                "/*  Module 2, Activity 5 - Create and backup a master key using a secure password  */\r\n",
                "CREATE MASTER KEY ENCRYPTION BY PASSWORD = 'Fl@sh G0rd0n!';\r\n",
                "GO\r\n",
                "\r\n",
                "OPEN MASTER KEY DECRYPTION BY PASSWORD = 'Fl@sh G0rd0n!';\r\n",
                "GO\r\n",
                "BACKUP MASTER KEY TO FILE = 'C:\\EncryptedDrive\\masterkey.mk' \r\n",
                "    ENCRYPTION BY PASSWORD = 'S@vior Of.The Un1v3r$3!';\r\n",
                "GO"
            ],
            "metadata": {
                "language": "sql",
                "azdata_cell_guid": "5277cc41-2440-4df8-b5d6-7b51ba469085",
                "tags": []
            },
            "outputs": [
                {
                    "output_type": "display_data",
                    "data": {
                        "text/html": "Commands completed successfully."
                    },
                    "metadata": {}
                },
                {
                    "output_type": "display_data",
                    "data": {
                        "text/html": "Commands completed successfully."
                    },
                    "metadata": {}
                },
                {
                    "output_type": "display_data",
                    "data": {
                        "text/html": "Commands completed successfully."
                    },
                    "metadata": {}
                },
                {
                    "output_type": "display_data",
                    "data": {
                        "text/html": "Total execution time: 00:00:00.037"
                    },
                    "metadata": {}
                }
            ],
            "execution_count": 33
        },
        {
            "cell_type": "markdown",
            "source": [
                "Step 2: Create and backup a certificate to use with TDE:"
            ],
            "metadata": {
                "language": "sql",
                "azdata_cell_guid": "72bb2e61-531a-4906-a08f-bfe3c2b1323c"
            },
            "attachments": {}
        },
        {
            "cell_type": "code",
            "source": [
                "/*  Module 2, Activity 5 - Create and backup the TDE_Certificate */\r\n",
                "CREATE CERTIFICATE TDE_Cert WITH SUBJECT = 'TDE Certificate';\r\n",
                "GO\r\n",
                "\r\n",
                "BACKUP CERTIFICATE TDE_Cert TO FILE = 'C:\\EncryptedDrive\\TDE_Cert.cer'\r\n",
                "    WITH PRIVATE KEY (\r\n",
                "        FILE = 'C:\\EncryptedDrive\\TDE_Cert.pvk',\r\n",
                "        ENCRYPTION BY PASSWORD = 'I$ @.Mirac1e!');\r\n",
                "GO"
            ],
            "metadata": {
                "language": "sql",
                "azdata_cell_guid": "af7e129e-3cde-46d8-ab36-a52dd5f98930",
                "tags": []
            },
            "outputs": [
                {
                    "output_type": "display_data",
                    "data": {
                        "text/html": "Commands completed successfully."
                    },
                    "metadata": {}
                },
                {
                    "output_type": "display_data",
                    "data": {
                        "text/html": "Commands completed successfully."
                    },
                    "metadata": {}
                },
                {
                    "output_type": "display_data",
                    "data": {
                        "text/html": "Total execution time: 00:00:00.064"
                    },
                    "metadata": {}
                }
            ],
            "execution_count": 34
        },
        {
            "cell_type": "markdown",
            "source": [
                "Step 3: Verify the creation/presence of the TDE\\_Cert and the Database Master key."
            ],
            "metadata": {
                "language": "sql",
                "azdata_cell_guid": "1f7d52fc-9c42-49a8-b762-5a5858ddf307"
            },
            "attachments": {}
        },
        {
            "cell_type": "code",
            "source": [
                "/*  Module 2, Activity 5 - Verify the creation and presence of the database master key and TDE_Cert */\r\n",
                "USE [master]\r\n",
                "SELECT name, pvt_key_encryption_type_desc, expiry_date, Start_date, pvt_key_last_backup_date FROM sys.certificates where [name] = 'TDE_Cert'\r\n",
                "GO\r\n",
                "\r\n",
                "Select name, create_date from sys.symmetric_keys WHERE name like '%DatabaseMaster%'"
            ],
            "metadata": {
                "language": "sql",
                "azdata_cell_guid": "a593f6a9-be16-4434-9071-05be0f27fc5d",
                "tags": []
            },
            "outputs": [
                {
                    "output_type": "display_data",
                    "data": {
                        "text/html": "(1 row affected)"
                    },
                    "metadata": {}
                },
                {
                    "output_type": "display_data",
                    "data": {
                        "text/html": "(1 row affected)"
                    },
                    "metadata": {}
                },
                {
                    "output_type": "display_data",
                    "data": {
                        "text/html": "Total execution time: 00:00:00.016"
                    },
                    "metadata": {}
                },
                {
                    "output_type": "execute_result",
                    "metadata": {},
                    "execution_count": 35,
                    "data": {
                        "application/vnd.dataresource+json": {
                            "schema": {
                                "fields": [
                                    {
                                        "name": "name"
                                    },
                                    {
                                        "name": "pvt_key_encryption_type_desc"
                                    },
                                    {
                                        "name": "expiry_date"
                                    },
                                    {
                                        "name": "Start_date"
                                    },
                                    {
                                        "name": "pvt_key_last_backup_date"
                                    }
                                ]
                            },
                            "data": [
                                {
                                    "0": "TDE_Cert",
                                    "1": "ENCRYPTED_BY_MASTER_KEY",
                                    "2": "2023-08-02 23:50:23.000",
                                    "3": "2022-08-02 23:50:23.000",
                                    "4": "2022-08-02 23:50:23.617"
                                }
                            ]
                        },
                        "text/html": [
                            "<table>",
                            "<tr><th>name</th><th>pvt_key_encryption_type_desc</th><th>expiry_date</th><th>Start_date</th><th>pvt_key_last_backup_date</th></tr>",
                            "<tr><td>TDE_Cert</td><td>ENCRYPTED_BY_MASTER_KEY</td><td>2023-08-02 23:50:23.000</td><td>2022-08-02 23:50:23.000</td><td>2022-08-02 23:50:23.617</td></tr>",
                            "</table>"
                        ]
                    }
                },
                {
                    "output_type": "execute_result",
                    "metadata": {},
                    "execution_count": 35,
                    "data": {
                        "application/vnd.dataresource+json": {
                            "schema": {
                                "fields": [
                                    {
                                        "name": "name"
                                    },
                                    {
                                        "name": "create_date"
                                    }
                                ]
                            },
                            "data": [
                                {
                                    "0": "##MS_DatabaseMasterKey##",
                                    "1": "2022-08-02 19:40:55.170"
                                }
                            ]
                        },
                        "text/html": [
                            "<table>",
                            "<tr><th>name</th><th>create_date</th></tr>",
                            "<tr><td>##MS_DatabaseMasterKey##</td><td>2022-08-02 19:40:55.170</td></tr>",
                            "</table>"
                        ]
                    }
                }
            ],
            "execution_count": 35
        },
        {
            "cell_type": "markdown",
            "source": [
                "Step 4: Encrypt the test Database. The time of this process is dependent on the size of the database being encrypted and should be done in a low-use time period when possible."
            ],
            "metadata": {
                "azdata_cell_guid": "bf17d6c0-c49f-461c-a7ce-04ffb0f20741"
            },
            "attachments": {}
        },
        {
            "cell_type": "code",
            "source": [
                "/*  Module 2, Activity 5 - Encrypt the Test Database */\r\n",
                "USE SQLSecurityTest\r\n",
                "GO\r\n",
                "\r\n",
                "/*Create Encryption key*/\r\n",
                "CREATE DATABASE ENCRYPTION KEY\r\n",
                "    WITH ALGORITHM = AES_256\r\n",
                "    ENCRYPTION BY SERVER CERTIFICATE TDE_Cert;\r\n",
                "GO\r\n",
                "\r\n",
                "/* Encrypt database */\r\n",
                "ALTER DATABASE SQLSecurityTest SET ENCRYPTION ON;\r\n",
                "GO"
            ],
            "metadata": {
                "azdata_cell_guid": "281bab4e-ed43-46db-940e-6ee271c42fe5",
                "language": "sql",
                "tags": []
            },
            "outputs": [
                {
                    "output_type": "display_data",
                    "data": {
                        "text/html": "Commands completed successfully."
                    },
                    "metadata": {}
                },
                {
                    "output_type": "display_data",
                    "data": {
                        "text/html": "Commands completed successfully."
                    },
                    "metadata": {}
                },
                {
                    "output_type": "display_data",
                    "data": {
                        "text/html": "Commands completed successfully."
                    },
                    "metadata": {}
                },
                {
                    "output_type": "display_data",
                    "data": {
                        "text/html": "Total execution time: 00:00:00.140"
                    },
                    "metadata": {}
                }
            ],
            "execution_count": 36
        },
        {
            "cell_type": "markdown",
            "source": [
                "Step 5: Verify encryption"
            ],
            "metadata": {
                "language": "sql",
                "azdata_cell_guid": "da8cc83c-ff81-4410-aa28-06bfc332f802"
            },
            "attachments": {}
        },
        {
            "cell_type": "code",
            "source": [
                "/*  Module 2, Activity 5 - Verify Encryption */\r\n",
                "SELECT \r\n",
                "DB_NAME(database_id) AS DatabaseName\r\n",
                ", encryption_state_desc AS EncryptionState\r\n",
                ", key_algorithm AS Algorithm\r\n",
                ", key_length AS KeyLength\r\n",
                "FROM sys.dm_database_encryption_keys\r\n",
                "GO\r\n",
                "\r\n",
                "SELECT \r\n",
                "NAME AS DatabaseName\r\n",
                ", IS_ENCRYPTED AS IsEncrypted \r\n",
                "FROM sys.databases where name ='SQLSecurityTest'\r\n",
                "GO"
            ],
            "metadata": {
                "azdata_cell_guid": "e9cf21d6-06ab-4406-831a-307d040192cb",
                "language": "sql",
                "tags": []
            },
            "outputs": [
                {
                    "output_type": "display_data",
                    "data": {
                        "text/html": "(2 rows affected)"
                    },
                    "metadata": {}
                },
                {
                    "output_type": "display_data",
                    "data": {
                        "text/html": "(1 row affected)"
                    },
                    "metadata": {}
                },
                {
                    "output_type": "display_data",
                    "data": {
                        "text/html": "Total execution time: 00:00:00.045"
                    },
                    "metadata": {}
                },
                {
                    "output_type": "execute_result",
                    "metadata": {},
                    "execution_count": 37,
                    "data": {
                        "application/vnd.dataresource+json": {
                            "schema": {
                                "fields": [
                                    {
                                        "name": "DatabaseName"
                                    },
                                    {
                                        "name": "EncryptionState"
                                    },
                                    {
                                        "name": "Algorithm"
                                    },
                                    {
                                        "name": "KeyLength"
                                    }
                                ]
                            },
                            "data": [
                                {
                                    "0": "SQLSecurityTest",
                                    "1": "ENCRYPTED",
                                    "2": "AES",
                                    "3": "256"
                                },
                                {
                                    "0": "tempdb",
                                    "1": "ENCRYPTED",
                                    "2": "AES",
                                    "3": "256"
                                }
                            ]
                        },
                        "text/html": [
                            "<table>",
                            "<tr><th>DatabaseName</th><th>EncryptionState</th><th>Algorithm</th><th>KeyLength</th></tr>",
                            "<tr><td>SQLSecurityTest</td><td>ENCRYPTED</td><td>AES</td><td>256</td></tr>",
                            "<tr><td>tempdb</td><td>ENCRYPTED</td><td>AES</td><td>256</td></tr>",
                            "</table>"
                        ]
                    }
                },
                {
                    "output_type": "execute_result",
                    "metadata": {},
                    "execution_count": 37,
                    "data": {
                        "application/vnd.dataresource+json": {
                            "schema": {
                                "fields": [
                                    {
                                        "name": "DatabaseName"
                                    },
                                    {
                                        "name": "IsEncrypted"
                                    }
                                ]
                            },
                            "data": [
                                {
                                    "0": "SQLSecurityTest",
                                    "1": "1"
                                }
                            ]
                        },
                        "text/html": [
                            "<table>",
                            "<tr><th>DatabaseName</th><th>IsEncrypted</th></tr>",
                            "<tr><td>SQLSecurityTest</td><td>1</td></tr>",
                            "</table>"
                        ]
                    }
                }
            ],
            "execution_count": 37
        },
        {
            "cell_type": "markdown",
            "source": [
                "## 2.6 Auditing\n",
                "\n",
                "Step 1: Create a SQL Server Audit for the Patient table data"
            ],
            "metadata": {
                "language": "sql",
                "azdata_cell_guid": "cf1ebaac-2776-4526-958a-3a4be71809fd"
            },
            "attachments": {}
        },
        {
            "cell_type": "code",
            "source": [
                "/*  Module 2, Activity 6 - Create and enable the  Server Audit */\r\n",
                "USE [master]\r\n",
                "GO\r\n",
                "\r\n",
                "CREATE SERVER AUDIT [Patient_Data_Audit]\r\n",
                "TO FILE \r\n",
                "(\tFILEPATH = N'C:\\EncryptedDrive'\r\n",
                "\t,MAXSIZE = 1024 MB\r\n",
                "\t,MAX_ROLLOVER_FILES = 10\r\n",
                "\t,RESERVE_DISK_SPACE = OFF\r\n",
                ") WITH (QUEUE_DELAY = 1000, ON_FAILURE = CONTINUE)\r\n",
                "\r\n",
                "GO\r\n",
                "\r\n",
                "ALTER SERVER AUDIT [Patient_Data_Audit]  \r\n",
                "WITH (STATE = ON) ;  \r\n",
                "GO  "
            ],
            "metadata": {
                "language": "sql",
                "azdata_cell_guid": "0b08e426-2e8a-4249-bc78-3ca3b4489f01",
                "tags": []
            },
            "outputs": [
                {
                    "output_type": "display_data",
                    "data": {
                        "text/html": "Commands completed successfully."
                    },
                    "metadata": {}
                },
                {
                    "output_type": "display_data",
                    "data": {
                        "text/html": "Commands completed successfully."
                    },
                    "metadata": {}
                },
                {
                    "output_type": "display_data",
                    "data": {
                        "text/html": "Commands completed successfully."
                    },
                    "metadata": {}
                },
                {
                    "output_type": "display_data",
                    "data": {
                        "text/html": "Total execution time: 00:00:00.008"
                    },
                    "metadata": {}
                }
            ],
            "execution_count": 38
        },
        {
            "cell_type": "markdown",
            "source": [
                "Step 2: Add an Audit Specification that catches actions on the table"
            ],
            "metadata": {
                "language": "sql",
                "azdata_cell_guid": "4fb1c5e2-6fa1-4ca2-a977-637973c5f161"
            },
            "attachments": {}
        },
        {
            "cell_type": "code",
            "source": [
                "/*  Module 2, Activity 6 - Create the database audit specification.  */\r\n",
                "USE [SQLSecurityTest]\r\n",
                "CREATE DATABASE AUDIT SPECIFICATION Audit_Data_Select_On_Patient_Table\r\n",
                "FOR SERVER AUDIT [Patient_Data_Audit]\r\n",
                "ADD ( SELECT, INSERT, UPDATE, DELETE  \r\n",
                "     ON SQLSecurityTest.dbo.Patient BY Public )  \r\n",
                "WITH (STATE = ON) ;    \r\n",
                "GO  "
            ],
            "metadata": {
                "language": "sql",
                "azdata_cell_guid": "50397eb7-575a-42f3-b8e2-1ce06e197d91",
                "tags": []
            },
            "outputs": [
                {
                    "output_type": "display_data",
                    "data": {
                        "text/html": "Commands completed successfully."
                    },
                    "metadata": {}
                },
                {
                    "output_type": "display_data",
                    "data": {
                        "text/html": "Total execution time: 00:00:00.002"
                    },
                    "metadata": {}
                }
            ],
            "execution_count": 39
        },
        {
            "cell_type": "markdown",
            "source": [
                "Step 3: Perform auditable actions:"
            ],
            "metadata": {
                "azdata_cell_guid": "5ac8661c-bf93-41d4-a764-009b167761ef"
            },
            "attachments": {}
        },
        {
            "cell_type": "code",
            "source": [
                "/*  Module 2, Activity 6 - Run queries that will be caught by the audit  */\r\n",
                "USE [SQLSecurityTest]\r\n",
                "INSERT INTO Patient (LoginID,FirstName,LastName,Address,City,SSN,CardNumber)\r\n",
                "VALUES ('6','Fred','Fernandez', '66 Freedom Fwy.', 'Fremont', '666-66-6666', '6666-6666-6666-6666')\r\n",
                "GO\r\n",
                "\r\n",
                "USE [SQLSecurityTest]\r\n",
                "SELECT * FROM Patient\r\n",
                "WHERE LoginID > 3\r\n",
                "GO\r\n",
                "\r\n",
                "USE [SQLSecurityTest]\r\n",
                "UPDATE Patient\r\n",
                "SET City = 'Fresno' \r\n",
                "WHERE City = 'Fremont'\r\n",
                "GO\r\n",
                "\r\n",
                "USE [SQLSecurityTest]\r\n",
                "SELECT * FROM Patient\r\n",
                "WHERE LoginID > 3\r\n",
                "GO\r\n",
                "\r\n",
                "USE [SQLSecurityTest]\r\n",
                "DELETE FROM Patient\r\n",
                "WHERE FirstName = 'Fred'\r\n",
                "GO\r\n",
                "\r\n",
                "USE [SQLSecurityTest]\r\n",
                "SELECT * FROM Patient\r\n",
                "GO"
            ],
            "metadata": {
                "azdata_cell_guid": "836540d2-ed4b-4f15-9ef3-3a053a63ae1e",
                "language": "sql",
                "tags": []
            },
            "outputs": [
                {
                    "output_type": "display_data",
                    "data": {
                        "text/html": "(1 row affected)"
                    },
                    "metadata": {}
                },
                {
                    "output_type": "display_data",
                    "data": {
                        "text/html": "(3 rows affected)"
                    },
                    "metadata": {}
                },
                {
                    "output_type": "display_data",
                    "data": {
                        "text/html": "(1 row affected)"
                    },
                    "metadata": {}
                },
                {
                    "output_type": "display_data",
                    "data": {
                        "text/html": "(3 rows affected)"
                    },
                    "metadata": {}
                },
                {
                    "output_type": "display_data",
                    "data": {
                        "text/html": "(1 row affected)"
                    },
                    "metadata": {}
                },
                {
                    "output_type": "display_data",
                    "data": {
                        "text/html": "(5 rows affected)"
                    },
                    "metadata": {}
                },
                {
                    "output_type": "display_data",
                    "data": {
                        "text/html": "Total execution time: 00:00:00.087"
                    },
                    "metadata": {}
                },
                {
                    "output_type": "execute_result",
                    "metadata": {},
                    "execution_count": 40,
                    "data": {
                        "application/vnd.dataresource+json": {
                            "schema": {
                                "fields": [
                                    {
                                        "name": "LoginID"
                                    },
                                    {
                                        "name": "LastName"
                                    },
                                    {
                                        "name": "FirstName"
                                    },
                                    {
                                        "name": "Address"
                                    },
                                    {
                                        "name": "City"
                                    },
                                    {
                                        "name": "SSN"
                                    },
                                    {
                                        "name": "CardNumber"
                                    }
                                ]
                            },
                            "data": [
                                {
                                    "0": "4",
                                    "1": "Dangerfield",
                                    "2": "David",
                                    "3": "4444 Denvue Drive",
                                    "4": "Denver",
                                    "5": "444-44-4444",
                                    "6": "4444-4444-4444-4444"
                                },
                                {
                                    "0": "5",
                                    "1": "Engleton",
                                    "2": "Edbert",
                                    "3": "5555 Esquire Rd. E",
                                    "4": "Easton",
                                    "5": "555-55-5555",
                                    "6": "5555-5555-5555-5555"
                                },
                                {
                                    "0": "6",
                                    "1": "Fernandez",
                                    "2": "Fred",
                                    "3": "66 Freedom Fwy.",
                                    "4": "Fremont",
                                    "5": "666-66-6666",
                                    "6": "6666-6666-6666-6666"
                                }
                            ]
                        },
                        "text/html": [
                            "<table>",
                            "<tr><th>LoginID</th><th>LastName</th><th>FirstName</th><th>Address</th><th>City</th><th>SSN</th><th>CardNumber</th></tr>",
                            "<tr><td>4</td><td>Dangerfield</td><td>David</td><td>4444 Denvue Drive</td><td>Denver</td><td>444-44-4444</td><td>4444-4444-4444-4444</td></tr>",
                            "<tr><td>5</td><td>Engleton</td><td>Edbert</td><td>5555 Esquire Rd. E</td><td>Easton</td><td>555-55-5555</td><td>5555-5555-5555-5555</td></tr>",
                            "<tr><td>6</td><td>Fernandez</td><td>Fred</td><td>66 Freedom Fwy.</td><td>Fremont</td><td>666-66-6666</td><td>6666-6666-6666-6666</td></tr>",
                            "</table>"
                        ]
                    }
                },
                {
                    "output_type": "execute_result",
                    "metadata": {},
                    "execution_count": 40,
                    "data": {
                        "application/vnd.dataresource+json": {
                            "schema": {
                                "fields": [
                                    {
                                        "name": "LoginID"
                                    },
                                    {
                                        "name": "LastName"
                                    },
                                    {
                                        "name": "FirstName"
                                    },
                                    {
                                        "name": "Address"
                                    },
                                    {
                                        "name": "City"
                                    },
                                    {
                                        "name": "SSN"
                                    },
                                    {
                                        "name": "CardNumber"
                                    }
                                ]
                            },
                            "data": [
                                {
                                    "0": "4",
                                    "1": "Dangerfield",
                                    "2": "David",
                                    "3": "4444 Denvue Drive",
                                    "4": "Denver",
                                    "5": "444-44-4444",
                                    "6": "4444-4444-4444-4444"
                                },
                                {
                                    "0": "5",
                                    "1": "Engleton",
                                    "2": "Edbert",
                                    "3": "5555 Esquire Rd. E",
                                    "4": "Easton",
                                    "5": "555-55-5555",
                                    "6": "5555-5555-5555-5555"
                                },
                                {
                                    "0": "6",
                                    "1": "Fernandez",
                                    "2": "Fred",
                                    "3": "66 Freedom Fwy.",
                                    "4": "Fresno",
                                    "5": "666-66-6666",
                                    "6": "6666-6666-6666-6666"
                                }
                            ]
                        },
                        "text/html": [
                            "<table>",
                            "<tr><th>LoginID</th><th>LastName</th><th>FirstName</th><th>Address</th><th>City</th><th>SSN</th><th>CardNumber</th></tr>",
                            "<tr><td>4</td><td>Dangerfield</td><td>David</td><td>4444 Denvue Drive</td><td>Denver</td><td>444-44-4444</td><td>4444-4444-4444-4444</td></tr>",
                            "<tr><td>5</td><td>Engleton</td><td>Edbert</td><td>5555 Esquire Rd. E</td><td>Easton</td><td>555-55-5555</td><td>5555-5555-5555-5555</td></tr>",
                            "<tr><td>6</td><td>Fernandez</td><td>Fred</td><td>66 Freedom Fwy.</td><td>Fresno</td><td>666-66-6666</td><td>6666-6666-6666-6666</td></tr>",
                            "</table>"
                        ]
                    }
                },
                {
                    "output_type": "execute_result",
                    "metadata": {},
                    "execution_count": 40,
                    "data": {
                        "application/vnd.dataresource+json": {
                            "schema": {
                                "fields": [
                                    {
                                        "name": "LoginID"
                                    },
                                    {
                                        "name": "LastName"
                                    },
                                    {
                                        "name": "FirstName"
                                    },
                                    {
                                        "name": "Address"
                                    },
                                    {
                                        "name": "City"
                                    },
                                    {
                                        "name": "SSN"
                                    },
                                    {
                                        "name": "CardNumber"
                                    }
                                ]
                            },
                            "data": [
                                {
                                    "0": "1",
                                    "1": "Arbiter",
                                    "2": "Agatha",
                                    "3": "111 Apple Ave.",
                                    "4": "Atlanta",
                                    "5": "111-11-1111",
                                    "6": "1111-1111-1111-1111"
                                },
                                {
                                    "0": "2",
                                    "1": "Bob",
                                    "2": "Billy",
                                    "3": "222 Bayshore Blvd.",
                                    "4": "Boice",
                                    "5": "222-22-2222",
                                    "6": "2222-2222-2222-2222"
                                },
                                {
                                    "0": "3",
                                    "1": "Choice",
                                    "2": "Charley",
                                    "3": "333 Castaway Ct.",
                                    "4": "Chesterfield",
                                    "5": "333-33-3333",
                                    "6": "3333-3333-3333-3333"
                                },
                                {
                                    "0": "4",
                                    "1": "Dangerfield",
                                    "2": "David",
                                    "3": "4444 Denvue Drive",
                                    "4": "Denver",
                                    "5": "444-44-4444",
                                    "6": "4444-4444-4444-4444"
                                },
                                {
                                    "0": "5",
                                    "1": "Engleton",
                                    "2": "Edbert",
                                    "3": "5555 Esquire Rd. E",
                                    "4": "Easton",
                                    "5": "555-55-5555",
                                    "6": "5555-5555-5555-5555"
                                }
                            ]
                        },
                        "text/html": [
                            "<table>",
                            "<tr><th>LoginID</th><th>LastName</th><th>FirstName</th><th>Address</th><th>City</th><th>SSN</th><th>CardNumber</th></tr>",
                            "<tr><td>1</td><td>Arbiter</td><td>Agatha</td><td>111 Apple Ave.</td><td>Atlanta</td><td>111-11-1111</td><td>1111-1111-1111-1111</td></tr>",
                            "<tr><td>2</td><td>Bob</td><td>Billy</td><td>222 Bayshore Blvd.</td><td>Boice</td><td>222-22-2222</td><td>2222-2222-2222-2222</td></tr>",
                            "<tr><td>3</td><td>Choice</td><td>Charley</td><td>333 Castaway Ct.</td><td>Chesterfield</td><td>333-33-3333</td><td>3333-3333-3333-3333</td></tr>",
                            "<tr><td>4</td><td>Dangerfield</td><td>David</td><td>4444 Denvue Drive</td><td>Denver</td><td>444-44-4444</td><td>4444-4444-4444-4444</td></tr>",
                            "<tr><td>5</td><td>Engleton</td><td>Edbert</td><td>5555 Esquire Rd. E</td><td>Easton</td><td>555-55-5555</td><td>5555-5555-5555-5555</td></tr>",
                            "</table>"
                        ]
                    }
                }
            ],
            "execution_count": 40
        },
        {
            "cell_type": "markdown",
            "source": [
                "Step 4: Read the audit log events."
            ],
            "metadata": {
                "language": "sql",
                "azdata_cell_guid": "1d0f6745-bdf7-4d18-9c8c-dc5e6cfb9609"
            },
            "attachments": {}
        },
        {
            "cell_type": "code",
            "source": [
                "/*  Module 2, Activity 6 - Read the Audit log events  */\r\n",
                "SELECT event_time, server_instance_name, server_principal_name, database_name, object_name, [statement] FROM sys.fn_get_audit_file ('C:\\EncryptedDrive\\Pa*',default,default)  \r\n",
                "WHERE server_principal_name NOT IN ('sa');\r\n",
                "GO  "
            ],
            "metadata": {
                "language": "sql",
                "azdata_cell_guid": "409c7ea5-c5ba-42a3-bafc-98cfe47dea12",
                "tags": []
            },
            "outputs": [
                {
                    "output_type": "display_data",
                    "data": {
                        "text/html": "(9 rows affected)"
                    },
                    "metadata": {}
                },
                {
                    "output_type": "display_data",
                    "data": {
                        "text/html": "Total execution time: 00:00:00.069"
                    },
                    "metadata": {}
                },
                {
                    "output_type": "execute_result",
                    "metadata": {},
                    "execution_count": 41,
                    "data": {
                        "application/vnd.dataresource+json": {
                            "schema": {
                                "fields": [
                                    {
                                        "name": "event_time"
                                    },
                                    {
                                        "name": "server_instance_name"
                                    },
                                    {
                                        "name": "server_principal_name"
                                    },
                                    {
                                        "name": "database_name"
                                    },
                                    {
                                        "name": "object_name"
                                    },
                                    {
                                        "name": "statement"
                                    }
                                ]
                            },
                            "data": [
                                {
                                    "0": "2022-08-24 01:18:34.5929327",
                                    "1": "A1",
                                    "2": "A1\\Administrator",
                                    "3": "",
                                    "4": "",
                                    "5": ""
                                },
                                {
                                    "0": "2022-08-24 01:18:39.2197736",
                                    "1": "A1",
                                    "2": "A1\\Administrator",
                                    "3": "SQLSecurityTest",
                                    "4": "Patient",
                                    "5": "INSERT INTO Patient (LoginID,FirstName,LastName,Address,City,SSN,CardNumber)\r\nVALUES ('6','Fred','Fernandez', '66 Freedom Fwy.', 'Fremont', '666-66-6666', '6666-6666-6666-6666')"
                                },
                                {
                                    "0": "2022-08-24 01:18:39.2227684",
                                    "1": "A1",
                                    "2": "A1\\Administrator",
                                    "3": "SQLSecurityTest",
                                    "4": "Patient",
                                    "5": "SELECT * FROM Patient\r\nWHERE LoginID > 3"
                                },
                                {
                                    "0": "2022-08-24 01:18:39.2297820",
                                    "1": "A1",
                                    "2": "A1\\Administrator",
                                    "3": "SQLSecurityTest",
                                    "4": "Patient",
                                    "5": "UPDATE Patient\r\nSET City = 'Fresno' \r\nWHERE City = 'Fremont'"
                                },
                                {
                                    "0": "2022-08-24 01:18:39.2297820",
                                    "1": "A1",
                                    "2": "A1\\Administrator",
                                    "3": "SQLSecurityTest",
                                    "4": "Patient",
                                    "5": "UPDATE Patient\r\nSET City = 'Fresno' \r\nWHERE City = 'Fremont'"
                                },
                                {
                                    "0": "2022-08-24 01:18:39.2637665",
                                    "1": "A1",
                                    "2": "A1\\Administrator",
                                    "3": "SQLSecurityTest",
                                    "4": "Patient",
                                    "5": "SELECT * FROM Patient\r\nWHERE LoginID > 3"
                                },
                                {
                                    "0": "2022-08-24 01:18:39.2727682",
                                    "1": "A1",
                                    "2": "A1\\Administrator",
                                    "3": "SQLSecurityTest",
                                    "4": "Patient",
                                    "5": "DELETE FROM Patient\r\nWHERE FirstName = 'Fred'"
                                },
                                {
                                    "0": "2022-08-24 01:18:39.2727682",
                                    "1": "A1",
                                    "2": "A1\\Administrator",
                                    "3": "SQLSecurityTest",
                                    "4": "Patient",
                                    "5": "DELETE FROM Patient\r\nWHERE FirstName = 'Fred'"
                                },
                                {
                                    "0": "2022-08-24 01:18:39.3077678",
                                    "1": "A1",
                                    "2": "A1\\Administrator",
                                    "3": "SQLSecurityTest",
                                    "4": "Patient",
                                    "5": "SELECT * FROM Patient"
                                }
                            ]
                        },
                        "text/html": [
                            "<table>",
                            "<tr><th>event_time</th><th>server_instance_name</th><th>server_principal_name</th><th>database_name</th><th>object_name</th><th>statement</th></tr>",
                            "<tr><td>2022-08-24 01:18:34.5929327</td><td>A1</td><td>A1\\Administrator</td><td></td><td></td><td></td></tr>",
                            "<tr><td>2022-08-24 01:18:39.2197736</td><td>A1</td><td>A1\\Administrator</td><td>SQLSecurityTest</td><td>Patient</td><td>INSERT INTO Patient (LoginID,FirstName,LastName,Address,City,SSN,CardNumber)\r\nVALUES ('6','Fred','Fernandez', '66 Freedom Fwy.', 'Fremont', '666-66-6666', '6666-6666-6666-6666')</td></tr>",
                            "<tr><td>2022-08-24 01:18:39.2227684</td><td>A1</td><td>A1\\Administrator</td><td>SQLSecurityTest</td><td>Patient</td><td>SELECT * FROM Patient\r\nWHERE LoginID &gt; 3</td></tr>",
                            "<tr><td>2022-08-24 01:18:39.2297820</td><td>A1</td><td>A1\\Administrator</td><td>SQLSecurityTest</td><td>Patient</td><td>UPDATE Patient\r\nSET City = 'Fresno' \r\nWHERE City = 'Fremont'</td></tr>",
                            "<tr><td>2022-08-24 01:18:39.2297820</td><td>A1</td><td>A1\\Administrator</td><td>SQLSecurityTest</td><td>Patient</td><td>UPDATE Patient\r\nSET City = 'Fresno' \r\nWHERE City = 'Fremont'</td></tr>",
                            "<tr><td>2022-08-24 01:18:39.2637665</td><td>A1</td><td>A1\\Administrator</td><td>SQLSecurityTest</td><td>Patient</td><td>SELECT * FROM Patient\r\nWHERE LoginID &gt; 3</td></tr>",
                            "<tr><td>2022-08-24 01:18:39.2727682</td><td>A1</td><td>A1\\Administrator</td><td>SQLSecurityTest</td><td>Patient</td><td>DELETE FROM Patient\r\nWHERE FirstName = 'Fred'</td></tr>",
                            "<tr><td>2022-08-24 01:18:39.2727682</td><td>A1</td><td>A1\\Administrator</td><td>SQLSecurityTest</td><td>Patient</td><td>DELETE FROM Patient\r\nWHERE FirstName = 'Fred'</td></tr>",
                            "<tr><td>2022-08-24 01:18:39.3077678</td><td>A1</td><td>A1\\Administrator</td><td>SQLSecurityTest</td><td>Patient</td><td>SELECT * FROM Patient</td></tr>",
                            "</table>"
                        ]
                    }
                }
            ],
            "execution_count": 41
        },
        {
            "cell_type": "markdown",
            "source": [
                "Step 5: Add a few more server-audits that can be useful in your organization:"
            ],
            "metadata": {
                "language": "sql",
                "azdata_cell_guid": "4410f99f-f0da-469a-a1cf-5c26343538b9"
            },
            "attachments": {}
        },
        {
            "cell_type": "code",
            "source": [
                "/* Module 2, Activity 6 - Create a few more audits, and check the reads from our testing sessions  */\r\n",
                "\r\n",
                "USE [master]\r\n",
                "GO\r\n",
                "CREATE SERVER AUDIT [Database-Wide-Audit]\r\n",
                "TO FILE \r\n",
                "(\tFILEPATH = N'C:\\EncryptedDrive'\r\n",
                "\t,MAXSIZE = 1000 MB\r\n",
                "\t,MAX_ROLLOVER_FILES = 100\r\n",
                "\t,RESERVE_DISK_SPACE = OFF\r\n",
                ") WITH (QUEUE_DELAY = 1000, ON_FAILURE = CONTINUE)\r\n",
                "\r\n",
                "GO\r\n",
                "\r\n",
                "-- This Audit is focused on Security events related to Databases\r\n",
                "CREATE SERVER AUDIT SPECIFICATION Database_Wide_Security_Specification  \r\n",
                "FOR SERVER AUDIT [Database-Wide-Audit]  \r\n",
                "\tADD (DATABASE_CHANGE_GROUP),\r\n",
                "\tADD (DATABASE_OBJECT_CHANGE_GROUP),\r\n",
                "\tADD (DATABASE_OBJECT_PERMISSION_CHANGE_GROUP),\r\n",
                "\tADD (DATABASE_OBJECT_OWNERSHIP_CHANGE_GROUP),\r\n",
                "\tADD (DATABASE_PERMISSION_CHANGE_GROUP),\r\n",
                "\tADD (DATABASE_OWNERSHIP_CHANGE_GROUP),\r\n",
                "\tADD (DATABASE_PRINCIPAL_CHANGE_GROUP),\r\n",
                "\tADD (DATABASE_ROLE_MEMBER_CHANGE_GROUP),\r\n",
                "\tADD (SCHEMA_OBJECT_CHANGE_GROUP),\r\n",
                "\tADD (SCHEMA_OBJECT_OWNERSHIP_CHANGE_GROUP),\r\n",
                "\tADD (SCHEMA_OBJECT_PERMISSION_CHANGE_GROUP)\r\n",
                "    WITH (STATE = ON);\r\n",
                "GO \r\n",
                "\r\n",
                "ALTER SERVER AUDIT [Database-Wide-Audit]  \r\n",
                "WITH (STATE = ON);  \r\n",
                "GO  \r\n",
                "\r\n",
                "\r\n",
                "USE [master]\r\n",
                "GO\r\n",
                "CREATE SERVER AUDIT [Server-Audit]\r\n",
                "TO FILE \r\n",
                "(\tFILEPATH = N'C:\\EncryptedDrive'\r\n",
                "\t,MAXSIZE = 1000 MB\r\n",
                "\t,MAX_ROLLOVER_FILES = 100\r\n",
                "\t,RESERVE_DISK_SPACE = OFF\r\n",
                ") WITH (QUEUE_DELAY = 1000, ON_FAILURE = CONTINUE)\r\n",
                "\r\n",
                "GO\r\n",
                "-- This Audit is focused on Security events related to the server\r\n",
                "CREATE SERVER AUDIT SPECIFICATION Server_Security_Specification  \r\n",
                "FOR SERVER AUDIT [Server-Audit]  \r\n",
                "    ADD (SERVER_OBJECT_OWNERSHIP_CHANGE_GROUP),\r\n",
                "\tADD (SERVER_OBJECT_PERMISSION_CHANGE_GROUP),\r\n",
                "\tADD (SERVER_PERMISSION_CHANGE_GROUP),\r\n",
                "\tADD (SERVER_PRINCIPAL_CHANGE_GROUP),\r\n",
                "\tADD (SERVER_ROLE_MEMBER_CHANGE_GROUP),\r\n",
                "\tADD (SERVER_STATE_CHANGE_GROUP),\r\n",
                "\tADD (TRACE_CHANGE_GROUP),\r\n",
                "    ADD (FAILED_LOGIN_GROUP),\r\n",
                "\tADD (SERVER_OPERATION_GROUP),\r\n",
                "\tADD (USER_DEFINED_AUDIT_GROUP),\r\n",
                "\tADD (DATABASE_PRINCIPAL_CHANGE_GROUP),\r\n",
                "\tADD (LOGOUT_GROUP)\r\n",
                "    WITH (STATE = ON);\r\n",
                "GO \r\n",
                "\r\n",
                "ALTER SERVER AUDIT [Server-Audit]  \r\n",
                "WITH (STATE = ON);  \r\n",
                "GO  "
            ],
            "metadata": {
                "language": "sql",
                "azdata_cell_guid": "58786229-5983-435e-9546-c3db156aa4d8",
                "tags": []
            },
            "outputs": [
                {
                    "output_type": "display_data",
                    "data": {
                        "text/html": "Commands completed successfully."
                    },
                    "metadata": {}
                },
                {
                    "output_type": "display_data",
                    "data": {
                        "text/html": "Commands completed successfully."
                    },
                    "metadata": {}
                },
                {
                    "output_type": "display_data",
                    "data": {
                        "text/html": "Commands completed successfully."
                    },
                    "metadata": {}
                },
                {
                    "output_type": "display_data",
                    "data": {
                        "text/html": "Commands completed successfully."
                    },
                    "metadata": {}
                },
                {
                    "output_type": "display_data",
                    "data": {
                        "text/html": "Commands completed successfully."
                    },
                    "metadata": {}
                },
                {
                    "output_type": "display_data",
                    "data": {
                        "text/html": "Commands completed successfully."
                    },
                    "metadata": {}
                },
                {
                    "output_type": "display_data",
                    "data": {
                        "text/html": "Commands completed successfully."
                    },
                    "metadata": {}
                },
                {
                    "output_type": "display_data",
                    "data": {
                        "text/html": "Commands completed successfully."
                    },
                    "metadata": {}
                },
                {
                    "output_type": "display_data",
                    "data": {
                        "text/html": "Total execution time: 00:00:00.226"
                    },
                    "metadata": {}
                }
            ],
            "execution_count": 3
        },
        {
            "cell_type": "markdown",
            "source": [
                "Step 7: Review the audit logs for the events that happened in this training"
            ],
            "metadata": {
                "language": "sql",
                "azdata_cell_guid": "961dcffa-1e4a-4eb6-ae37-276f69cb0c5d"
            },
            "attachments": {}
        },
        {
            "cell_type": "code",
            "source": [
                "/* Module 2, Activity 6 - Review the audit data from the actions taken from this security course  */\r\n",
                "SELECT event_time, server_instance_name, server_principal_name, action_id, succeeded, class_type, database_name, schema_name, object_name, [statement] FROM sys.fn_get_audit_file ('C:\\EncryptedDrive\\*.sqlaudit',default,default)  \r\n",
                "WHERE session_server_principal_name NOT LIKE '%NT%' and [statement] NOT LIKE '%Endpoint%'\r\n",
                "GO  "
            ],
            "metadata": {
                "language": "sql",
                "azdata_cell_guid": "907ae631-8290-4c80-adae-a48563b820eb",
                "tags": []
            },
            "outputs": [
                {
                    "output_type": "display_data",
                    "data": {
                        "text/html": "(239 rows affected)"
                    },
                    "metadata": {}
                },
                {
                    "output_type": "display_data",
                    "data": {
                        "text/html": "Total execution time: 00:00:00.802"
                    },
                    "metadata": {}
                },
                {
                    "output_type": "execute_result",
                    "metadata": {},
                    "execution_count": 44,
                    "data": {
                        "application/vnd.dataresource+json": {
                            "schema": {
                                "fields": [
                                    {
                                        "name": "event_time"
                                    },
                                    {
                                        "name": "server_instance_name"
                                    },
                                    {
                                        "name": "server_principal_name"
                                    },
                                    {
                                        "name": "action_id"
                                    },
                                    {
                                        "name": "succeeded"
                                    },
                                    {
                                        "name": "class_type"
                                    },
                                    {
                                        "name": "database_name"
                                    },
                                    {
                                        "name": "schema_name"
                                    },
                                    {
                                        "name": "object_name"
                                    },
                                    {
                                        "name": "statement"
                                    }
                                ]
                            },
                            "data": [
                                {
                                    "0": "2022-08-24 00:59:28.1688473",
                                    "1": "A1",
                                    "2": "A1\\Administrator",
                                    "3": "AUSC",
                                    "4": "1",
                                    "5": "A ",
                                    "6": "",
                                    "7": "",
                                    "8": "",
                                    "9": ""
                                },
                                {
                                    "0": "2022-08-24 00:59:45.0287001",
                                    "1": "A1",
                                    "2": "A1\\Administrator",
                                    "3": "AUSC",
                                    "4": "1",
                                    "5": "A ",
                                    "6": "",
                                    "7": "",
                                    "8": "",
                                    "9": ""
                                },
                                {
                                    "0": "2022-08-24 00:59:45.0444211",
                                    "1": "A1",
                                    "2": "A1\\Administrator",
                                    "3": "AUSC",
                                    "4": "1",
                                    "5": "A ",
                                    "6": "",
                                    "7": "",
                                    "8": "",
                                    "9": ""
                                },
                                {
                                    "0": "2022-08-24 00:59:28.1778395",
                                    "1": "A1",
                                    "2": "A1\\Administrator",
                                    "3": "AUSC",
                                    "4": "1",
                                    "5": "A ",
                                    "6": "",
                                    "7": "",
                                    "8": "",
                                    "9": ""
                                },
                                {
                                    "0": "2022-08-24 00:59:47.8988099",
                                    "1": "A1",
                                    "2": "A1\\Administrator",
                                    "3": "AUSC",
                                    "4": "1",
                                    "5": "A ",
                                    "6": "",
                                    "7": "",
                                    "8": "",
                                    "9": ""
                                },
                                {
                                    "0": "2022-08-24 00:59:47.9305220",
                                    "1": "A1",
                                    "2": "A1\\Administrator",
                                    "3": "AUSC",
                                    "4": "1",
                                    "5": "A ",
                                    "6": "",
                                    "7": "",
                                    "8": "",
                                    "9": ""
                                },
                                {
                                    "0": "2022-08-24 01:05:47.5856178",
                                    "1": "A1",
                                    "2": "A1\\Administrator",
                                    "3": "AUSC",
                                    "4": "1",
                                    "5": "A ",
                                    "6": "",
                                    "7": "",
                                    "8": "",
                                    "9": ""
                                },
                                {
                                    "0": "2022-08-24 01:06:01.7001445",
                                    "1": "A1",
                                    "2": "A1\\Administrator",
                                    "3": "CR  ",
                                    "4": "1",
                                    "5": "DB",
                                    "6": "master",
                                    "7": "",
                                    "8": "SQLSecurityTest",
                                    "9": "CREATE DATABASE SQLSecurityTest"
                                },
                                {
                                    "0": "2022-08-24 01:08:35.4628254",
                                    "1": "A1",
                                    "2": "A1\\Administrator",
                                    "3": "CR  ",
                                    "4": "1",
                                    "5": "US",
                                    "6": "SQLSecurityTest",
                                    "7": "",
                                    "8": "",
                                    "9": "CREATE USER [-Placeholder-\\User1] FOR LOGIN [-Placeholder-\\User1]\r\n"
                                },
                                {
                                    "0": "2022-08-24 01:08:35.4666681",
                                    "1": "A1",
                                    "2": "A1\\Administrator",
                                    "3": "CR  ",
                                    "4": "1",
                                    "5": "US",
                                    "6": "SQLSecurityTest",
                                    "7": "",
                                    "8": "",
                                    "9": "CREATE USER [-Placeholder-\\User2] FOR LOGIN [-Placeholder-\\User2]\r\n"
                                },
                                {
                                    "0": "2022-08-24 01:08:35.4696695",
                                    "1": "A1",
                                    "2": "A1\\Administrator",
                                    "3": "CR  ",
                                    "4": "1",
                                    "5": "SU",
                                    "6": "SQLSecurityTest",
                                    "7": "",
                                    "8": "User3",
                                    "9": "CREATE USER [User3] FOR LOGIN [User3]\r\n"
                                },
                                {
                                    "0": "2022-08-24 01:08:35.4736673",
                                    "1": "A1",
                                    "2": "A1\\Administrator",
                                    "3": "CR  ",
                                    "4": "1",
                                    "5": "SU",
                                    "6": "SQLSecurityTest",
                                    "7": "",
                                    "8": "User4",
                                    "9": "CREATE USER [User4] FOR LOGIN [User4]\r\n"
                                },
                                {
                                    "0": "2022-08-24 01:09:37.5845166",
                                    "1": "A1",
                                    "2": "A1\\Administrator",
                                    "3": "DR  ",
                                    "4": "1",
                                    "5": "SU",
                                    "6": "SQLSecurityTest",
                                    "7": "",
                                    "8": "User3",
                                    "9": "DROP USER [User3]"
                                },
                                {
                                    "0": "2022-08-24 01:09:41.4247531",
                                    "1": "A1",
                                    "2": "A1\\Administrator",
                                    "3": "DR  ",
                                    "4": "1",
                                    "5": "SU",
                                    "6": "SQLSecurityTest",
                                    "7": "",
                                    "8": "User4",
                                    "9": "DROP USER [User4]"
                                },
                                {
                                    "0": "2022-08-24 01:09:43.4903977",
                                    "1": "A1",
                                    "2": "A1\\Administrator",
                                    "3": "CR  ",
                                    "4": "1",
                                    "5": "WU",
                                    "6": "SQLSecurityTest",
                                    "7": "",
                                    "8": "A1\\User1",
                                    "9": "CREATE USER [A1\\User1] FOR LOGIN [A1\\User1]\r\n"
                                },
                                {
                                    "0": "2022-08-24 01:09:43.4943968",
                                    "1": "A1",
                                    "2": "A1\\Administrator",
                                    "3": "CR  ",
                                    "4": "1",
                                    "5": "WU",
                                    "6": "SQLSecurityTest",
                                    "7": "",
                                    "8": "A1\\User2",
                                    "9": "CREATE USER [A1\\User2] FOR LOGIN [A1\\User2]\r\n"
                                },
                                {
                                    "0": "2022-08-24 01:09:43.4973966",
                                    "1": "A1",
                                    "2": "A1\\Administrator",
                                    "3": "CR  ",
                                    "4": "1",
                                    "5": "SU",
                                    "6": "SQLSecurityTest",
                                    "7": "",
                                    "8": "User3",
                                    "9": "CREATE USER [User3] FOR LOGIN [User3]\r\n"
                                },
                                {
                                    "0": "2022-08-24 01:09:43.5013971",
                                    "1": "A1",
                                    "2": "A1\\Administrator",
                                    "3": "CR  ",
                                    "4": "1",
                                    "5": "SU",
                                    "6": "SQLSecurityTest",
                                    "7": "",
                                    "8": "User4",
                                    "9": "CREATE USER [User4] FOR LOGIN [User4]\r\n"
                                },
                                {
                                    "0": "2022-08-24 01:10:13.9076331",
                                    "1": "A1",
                                    "2": "A1\\Administrator",
                                    "3": "CR  ",
                                    "4": "1",
                                    "5": "RL",
                                    "6": "SQLSecurityTest",
                                    "7": "",
                                    "8": "Stored_procedure_user_role",
                                    "9": "CREATE ROLE Stored_procedure_user_role;\r\n\r\n--Create a database role that will have permisison to query a view in the database\r\n"
                                },
                                {
                                    "0": "2022-08-24 01:10:13.9094963",
                                    "1": "A1",
                                    "2": "A1\\Administrator",
                                    "3": "CR  ",
                                    "4": "1",
                                    "5": "RL",
                                    "6": "SQLSecurityTest",
                                    "7": "",
                                    "8": "View_user_role",
                                    "9": "CREATE ROLE View_user_role;"
                                },
                                {
                                    "0": "2022-08-24 01:10:30.4313265",
                                    "1": "A1",
                                    "2": "A1\\Administrator",
                                    "3": "DR  ",
                                    "4": "1",
                                    "5": "RL",
                                    "6": "SQLSecurityTest",
                                    "7": "",
                                    "8": "Stored_procedure_user_role",
                                    "9": "DROP ROLE [Stored_procedure_user_role]"
                                },
                                {
                                    "0": "2022-08-24 01:10:33.4246312",
                                    "1": "A1",
                                    "2": "A1\\Administrator",
                                    "3": "DR  ",
                                    "4": "1",
                                    "5": "RL",
                                    "6": "SQLSecurityTest",
                                    "7": "",
                                    "8": "View_user_role",
                                    "9": "DROP ROLE [View_user_role]"
                                },
                                {
                                    "0": "2022-08-24 01:10:40.1652861",
                                    "1": "A1",
                                    "2": "A1\\Administrator",
                                    "3": "CR  ",
                                    "4": "1",
                                    "5": "RL",
                                    "6": "SQLSecurityTest",
                                    "7": "",
                                    "8": "Stored_procedure_user_role",
                                    "9": "CREATE ROLE Stored_procedure_user_role;\r\n\r\n--Create a database role that will have permisison to query a view in the database\r\n"
                                },
                                {
                                    "0": "2022-08-24 01:10:40.1662918",
                                    "1": "A1",
                                    "2": "A1\\Administrator",
                                    "3": "CR  ",
                                    "4": "1",
                                    "5": "RL",
                                    "6": "SQLSecurityTest",
                                    "7": "",
                                    "8": "View_user_role",
                                    "9": "CREATE ROLE View_user_role;"
                                },
                                {
                                    "0": "2022-08-24 01:11:09.4777309",
                                    "1": "A1",
                                    "2": "A1\\Administrator",
                                    "3": "APRL",
                                    "4": "1",
                                    "5": "RL",
                                    "6": "SQLSecurityTest",
                                    "7": "",
                                    "8": "Stored_procedure_user_role",
                                    "9": "ALTER ROLE [Stored_procedure_user_role] ADD MEMBER [A1\\User2]\r\n"
                                },
                                {
                                    "0": "2022-08-24 01:11:09.4797291",
                                    "1": "A1",
                                    "2": "A1\\Administrator",
                                    "3": "APRL",
                                    "4": "1",
                                    "5": "RL",
                                    "6": "SQLSecurityTest",
                                    "7": "",
                                    "8": "Stored_procedure_user_role",
                                    "9": "ALTER ROLE [Stored_procedure_user_role] ADD MEMBER [User3]\r\n"
                                },
                                {
                                    "0": "2022-08-24 01:11:09.4817359",
                                    "1": "A1",
                                    "2": "A1\\Administrator",
                                    "3": "APRL",
                                    "4": "1",
                                    "5": "RL",
                                    "6": "SQLSecurityTest",
                                    "7": "",
                                    "8": "View_user_role",
                                    "9": "ALTER ROLE [View_user_role] ADD MEMBER [A1\\User1]\r\n"
                                },
                                {
                                    "0": "2022-08-24 01:11:09.4827537",
                                    "1": "A1",
                                    "2": "A1\\Administrator",
                                    "3": "APRL",
                                    "4": "1",
                                    "5": "RL",
                                    "6": "SQLSecurityTest",
                                    "7": "",
                                    "8": "View_user_role",
                                    "9": "ALTER ROLE [View_user_role] ADD MEMBER [User4]\r\n"
                                },
                                {
                                    "0": "2022-08-24 01:12:02.1123794",
                                    "1": "A1",
                                    "2": "A1\\Administrator",
                                    "3": "AL  ",
                                    "4": "1",
                                    "5": "SC",
                                    "6": "SQLSecurityTest",
                                    "7": "",
                                    "8": "dbo",
                                    "9": "CREATE TABLE Patient (\r\n    LoginID tinyint\r\n    ,   LastName varchar(255)\r\n    ,   FirstName varchar(255)\r\n    ,   Address varchar(255)\r\n    ,   City varchar(255)\r\n    ,   SSN nvarchar(11)\r\n    ,   CardNumber nvarchar(19)\r\n    )"
                                },
                                {
                                    "0": "2022-08-24 01:12:02.1133966",
                                    "1": "A1",
                                    "2": "A1\\Administrator",
                                    "3": "CR  ",
                                    "4": "1",
                                    "5": "U ",
                                    "6": "SQLSecurityTest",
                                    "7": "dbo",
                                    "8": "Patient",
                                    "9": "CREATE TABLE Patient (\r\n    LoginID tinyint\r\n    ,   LastName varchar(255)\r\n    ,   FirstName varchar(255)\r\n    ,   Address varchar(255)\r\n    ,   City varchar(255)\r\n    ,   SSN nvarchar(11)\r\n    ,   CardNumber nvarchar(19)\r\n    )"
                                },
                                {
                                    "0": "2022-08-24 01:12:06.9172112",
                                    "1": "A1",
                                    "2": "A1\\Administrator",
                                    "3": "AL  ",
                                    "4": "1",
                                    "5": "SC",
                                    "6": "SQLSecurityTest",
                                    "7": "",
                                    "8": "dbo",
                                    "9": "CREATE VIEW Patient_Mailing_Address AS\r\nSELECT FirstName, LastName, Address, City\r\nFROM Patient"
                                },
                                {
                                    "0": "2022-08-24 01:12:06.9172112",
                                    "1": "A1",
                                    "2": "A1\\Administrator",
                                    "3": "CR  ",
                                    "4": "1",
                                    "5": "V ",
                                    "6": "SQLSecurityTest",
                                    "7": "dbo",
                                    "8": "Patient_Mailing_Address",
                                    "9": "CREATE VIEW Patient_Mailing_Address AS\r\nSELECT FirstName, LastName, Address, City\r\nFROM Patient"
                                },
                                {
                                    "0": "2022-08-24 01:12:15.9402791",
                                    "1": "A1",
                                    "2": "A1\\Administrator",
                                    "3": "AL  ",
                                    "4": "1",
                                    "5": "SC",
                                    "6": "SQLSecurityTest",
                                    "7": "",
                                    "8": "dbo",
                                    "9": "CREATE PROCEDURE uspGetCardInformation   \r\n    @Loginid tinyint  \r\nAS   \r\n\r\n    SET NOCOUNT ON;  \r\n    SELECT Loginid, cardnumber  \r\n    FROM Patient  \r\n    WHERE loginId= @loginId   \r\n"
                                },
                                {
                                    "0": "2022-08-24 01:12:15.9402791",
                                    "1": "A1",
                                    "2": "A1\\Administrator",
                                    "3": "CR  ",
                                    "4": "1",
                                    "5": "P ",
                                    "6": "SQLSecurityTest",
                                    "7": "dbo",
                                    "8": "uspGetCardInformation",
                                    "9": "CREATE PROCEDURE uspGetCardInformation   \r\n    @Loginid tinyint  \r\nAS   \r\n\r\n    SET NOCOUNT ON;  \r\n    SELECT Loginid, cardnumber  \r\n    FROM Patient  \r\n    WHERE loginId= @loginId   \r\n"
                                },
                                {
                                    "0": "2022-08-24 01:12:24.2169944",
                                    "1": "A1",
                                    "2": "A1\\Administrator",
                                    "3": "G   ",
                                    "4": "1",
                                    "5": "U ",
                                    "6": "SQLSecurityTest",
                                    "7": "dbo",
                                    "8": "Patient",
                                    "9": "GRANT CONTROL ON [dbo].[Patient] TO [A1\\User1]\r\n"
                                },
                                {
                                    "0": "2022-08-24 01:12:34.4740266",
                                    "1": "A1",
                                    "2": "A1\\Administrator",
                                    "3": "G   ",
                                    "4": "1",
                                    "5": "P ",
                                    "6": "SQLSecurityTest",
                                    "7": "dbo",
                                    "8": "uspGetCardInformation",
                                    "9": "GRANT EXECUTE ON [dbo].[uspGetCardInformation] TO [Stored_procedure_user_role]\r\n"
                                },
                                {
                                    "0": "2022-08-24 01:12:37.8398834",
                                    "1": "A1",
                                    "2": "A1\\Administrator",
                                    "3": "G   ",
                                    "4": "1",
                                    "5": "V ",
                                    "6": "SQLSecurityTest",
                                    "7": "dbo",
                                    "8": "Patient_Mailing_Address",
                                    "9": "GRANT SELECT ON [dbo].[Patient_Mailing_Address] TO [View_user_role]\r\n"
                                },
                                {
                                    "0": "2022-08-24 01:14:14.1621297",
                                    "1": "A1",
                                    "2": "A1\\Administrator",
                                    "3": "DR  ",
                                    "4": "1",
                                    "5": "P ",
                                    "6": "SQLSecurityTest",
                                    "7": "dbo",
                                    "8": "uspGetCardInformation",
                                    "9": "DROP PROCEDURE [dbo].[uspGetCardInformation]"
                                },
                                {
                                    "0": "2022-08-24 01:14:16.7672897",
                                    "1": "A1",
                                    "2": "A1\\Administrator",
                                    "3": "AL  ",
                                    "4": "1",
                                    "5": "SC",
                                    "6": "SQLSecurityTest",
                                    "7": "",
                                    "8": "dbo",
                                    "9": "CREATE PROCEDURE uspGetCardInformation   \r\n    @Loginid tinyint  \r\nAS   \r\n\r\n    SET NOCOUNT ON;  \r\n    SELECT cardnumber  \r\n    FROM Patient  \r\n    WHERE loginId= @loginId   \r\n"
                                },
                                {
                                    "0": "2022-08-24 01:14:16.7672897",
                                    "1": "A1",
                                    "2": "A1\\Administrator",
                                    "3": "CR  ",
                                    "4": "1",
                                    "5": "P ",
                                    "6": "SQLSecurityTest",
                                    "7": "dbo",
                                    "8": "uspGetCardInformation",
                                    "9": "CREATE PROCEDURE uspGetCardInformation   \r\n    @Loginid tinyint  \r\nAS   \r\n\r\n    SET NOCOUNT ON;  \r\n    SELECT cardnumber  \r\n    FROM Patient  \r\n    WHERE loginId= @loginId   \r\n"
                                },
                                {
                                    "0": "2022-08-24 01:16:00.9071213",
                                    "1": "A1",
                                    "2": "A1\\Administrator",
                                    "3": "G   ",
                                    "4": "0",
                                    "5": "U ",
                                    "6": "SQLSecurityTest",
                                    "7": "dbo",
                                    "8": "Patient",
                                    "9": "GRANT CONTROL ON [dbo].[Patient] TO [-Placeholder-\\User1]\r\n"
                                },
                                {
                                    "0": "2022-08-24 01:16:07.9720266",
                                    "1": "A1",
                                    "2": "A1\\Administrator",
                                    "3": "G   ",
                                    "4": "1",
                                    "5": "U ",
                                    "6": "SQLSecurityTest",
                                    "7": "dbo",
                                    "8": "Patient",
                                    "9": "GRANT CONTROL ON [dbo].[Patient] TO [A1\\User1]\r\n"
                                },
                                {
                                    "0": "2022-08-24 01:16:11.4720695",
                                    "1": "A1",
                                    "2": "A1\\Administrator",
                                    "3": "G   ",
                                    "4": "1",
                                    "5": "P ",
                                    "6": "SQLSecurityTest",
                                    "7": "dbo",
                                    "8": "uspGetCardInformation",
                                    "9": "GRANT EXECUTE ON [dbo].[uspGetCardInformation] TO [Stored_procedure_user_role]\r\n"
                                },
                                {
                                    "0": "2022-08-24 01:16:13.2262384",
                                    "1": "A1",
                                    "2": "A1\\Administrator",
                                    "3": "G   ",
                                    "4": "1",
                                    "5": "V ",
                                    "6": "SQLSecurityTest",
                                    "7": "dbo",
                                    "8": "Patient_Mailing_Address",
                                    "9": "GRANT SELECT ON [dbo].[Patient_Mailing_Address] TO [View_user_role]\r\n"
                                },
                                {
                                    "0": "2022-08-24 01:17:14.2493765",
                                    "1": "A1",
                                    "2": "A1\\Administrator",
                                    "3": "CR  ",
                                    "4": "1",
                                    "5": "MK",
                                    "6": "SQLSecurityTest",
                                    "7": "",
                                    "8": "##MS_DatabaseMasterKey##",
                                    "9": "CREATE MASTER KEY ENCRYPTION BY PASSWORD = '******';\r\n"
                                },
                                {
                                    "0": "2022-08-24 01:17:14.2543708",
                                    "1": "A1",
                                    "2": "A1\\Administrator",
                                    "3": "OP  ",
                                    "4": "1",
                                    "5": "MK",
                                    "6": "SQLSecurityTest",
                                    "7": "",
                                    "8": "##MS_DatabaseMasterKey##",
                                    "9": "OPEN MASTER KEY DECRYPTION BY PASSWORD = '******';\r\n"
                                },
                                {
                                    "0": "2022-08-24 01:17:14.2543708",
                                    "1": "A1",
                                    "2": "A1\\Administrator",
                                    "3": "BA  ",
                                    "4": "1",
                                    "5": "MK",
                                    "6": "SQLSecurityTest",
                                    "7": "",
                                    "8": "##MS_DatabaseMasterKey##",
                                    "9": "BACKUP MASTER KEY TO FILE = 'C:\\EncryptedDrive\\masterkey.mk' \r\n    ENCRYPTION BY PASSWORD = '******';\r\n"
                                },
                                {
                                    "0": "2022-08-24 01:18:03.3833183",
                                    "1": "A1",
                                    "2": "A1\\Administrator",
                                    "3": "CR  ",
                                    "4": "1",
                                    "5": "CR",
                                    "6": "SQLSecurityTest",
                                    "7": "",
                                    "8": "TDE_Cert",
                                    "9": "CREATE CERTIFICATE TDE_Cert WITH SUBJECT = 'TDE Certificate';\r\n"
                                },
                                {
                                    "0": "2022-08-24 01:18:03.3853078",
                                    "1": "A1",
                                    "2": "A1\\Administrator",
                                    "3": "BA  ",
                                    "4": "1",
                                    "5": "CR",
                                    "6": "SQLSecurityTest",
                                    "7": "",
                                    "8": "TDE_Cert",
                                    "9": "BACKUP CERTIFICATE TDE_Cert TO FILE = 'C:\\EncryptedDrive\\TDE_Cert.cer'\r\n    WITH PRIVATE KEY (\r\n        FILE = 'C:\\EncryptedDrive\\TDE_Cert.pvk',\r\n        ENCRYPTION BY PASSWORD = '******');\r\n"
                                },
                                {
                                    "0": "2022-08-24 01:18:26.4619552",
                                    "1": "A1",
                                    "2": "A1\\Administrator",
                                    "3": "CR  ",
                                    "4": "1",
                                    "5": "DK",
                                    "6": "SQLSecurityTest",
                                    "7": "",
                                    "8": "SQLSecurityTest",
                                    "9": "CREATE DATABASE ENCRYPTION KEY\r\n    WITH ALGORITHM = AES_256\r\n    ENCRYPTION BY SERVER CERTIFICATE TDE_Cert;\r\n"
                                },
                                {
                                    "0": "2022-08-24 01:18:26.5040940",
                                    "1": "A1",
                                    "2": "A1\\Administrator",
                                    "3": "AL  ",
                                    "4": "1",
                                    "5": "DB",
                                    "6": "SQLSecurityTest",
                                    "7": "",
                                    "8": "SQLSecurityTest",
                                    "9": "ALTER DATABASE SQLSecurityTest SET ENCRYPTION ON"
                                },
                                {
                                    "0": "2022-08-24 01:05:47.6465749",
                                    "1": "A1",
                                    "2": "A1\\Administrator",
                                    "3": "AUSC",
                                    "4": "1",
                                    "5": "A ",
                                    "6": "",
                                    "7": "",
                                    "8": "",
                                    "9": ""
                                },
                                {
                                    "0": "2022-08-24 01:05:56.6506002",
                                    "1": "A1",
                                    "2": "A1\\Administrator",
                                    "3": "LGO ",
                                    "4": "1",
                                    "5": "LX",
                                    "6": "",
                                    "7": "",
                                    "8": "",
                                    "9": ""
                                },
                                {
                                    "0": "2022-08-24 01:06:00.6379453",
                                    "1": "A1",
                                    "2": "A1\\Administrator",
                                    "3": "LGO ",
                                    "4": "1",
                                    "5": "LX",
                                    "6": "",
                                    "7": "",
                                    "8": "",
                                    "9": ""
                                },
                                {
                                    "0": "2022-08-24 01:07:26.7150525",
                                    "1": "A1",
                                    "2": "A1\\Administrator",
                                    "3": "LGO ",
                                    "4": "1",
                                    "5": "LX",
                                    "6": "",
                                    "7": "",
                                    "8": "",
                                    "9": ""
                                },
                                {
                                    "0": "2022-08-24 01:07:28.7297349",
                                    "1": "A1",
                                    "2": "A1\\Administrator",
                                    "3": "LGO ",
                                    "4": "1",
                                    "5": "LX",
                                    "6": "",
                                    "7": "",
                                    "8": "",
                                    "9": ""
                                },
                                {
                                    "0": "2022-08-24 01:07:32.3769376",
                                    "1": "A1",
                                    "2": "A1\\Administrator",
                                    "3": "DR  ",
                                    "4": "1",
                                    "5": "WL",
                                    "6": "master",
                                    "7": "",
                                    "8": "A1\\User1",
                                    "9": "DROP LOGIN [A1\\User1]"
                                },
                                {
                                    "0": "2022-08-24 01:07:32.4984639",
                                    "1": "A1",
                                    "2": "A1\\Administrator",
                                    "3": "LGO ",
                                    "4": "1",
                                    "5": "LX",
                                    "6": "",
                                    "7": "",
                                    "8": "",
                                    "9": ""
                                },
                                {
                                    "0": "2022-08-24 01:07:32.5342717",
                                    "1": "A1",
                                    "2": "A1\\Administrator",
                                    "3": "LGO ",
                                    "4": "1",
                                    "5": "LX",
                                    "6": "",
                                    "7": "",
                                    "8": "",
                                    "9": ""
                                },
                                {
                                    "0": "2022-08-24 01:07:34.1665267",
                                    "1": "A1",
                                    "2": "A1\\Administrator",
                                    "3": "LGO ",
                                    "4": "1",
                                    "5": "LX",
                                    "6": "",
                                    "7": "",
                                    "8": "",
                                    "9": ""
                                },
                                {
                                    "0": "2022-08-24 01:07:36.1769612",
                                    "1": "A1",
                                    "2": "A1\\Administrator",
                                    "3": "DR  ",
                                    "4": "1",
                                    "5": "WL",
                                    "6": "master",
                                    "7": "",
                                    "8": "A1\\User2",
                                    "9": "DROP LOGIN [A1\\User2]"
                                },
                                {
                                    "0": "2022-08-24 01:07:36.2550356",
                                    "1": "A1",
                                    "2": "A1\\Administrator",
                                    "3": "LGO ",
                                    "4": "1",
                                    "5": "LX",
                                    "6": "",
                                    "7": "",
                                    "8": "",
                                    "9": ""
                                },
                                {
                                    "0": "2022-08-24 01:07:36.2867913",
                                    "1": "A1",
                                    "2": "A1\\Administrator",
                                    "3": "LGO ",
                                    "4": "1",
                                    "5": "LX",
                                    "6": "",
                                    "7": "",
                                    "8": "",
                                    "9": ""
                                },
                                {
                                    "0": "2022-08-24 01:07:37.9854587",
                                    "1": "A1",
                                    "2": "A1\\Administrator",
                                    "3": "LGO ",
                                    "4": "1",
                                    "5": "LX",
                                    "6": "",
                                    "7": "",
                                    "8": "",
                                    "9": ""
                                },
                                {
                                    "0": "2022-08-24 01:07:39.5809461",
                                    "1": "A1",
                                    "2": "A1\\Administrator",
                                    "3": "DR  ",
                                    "4": "1",
                                    "5": "SL",
                                    "6": "master",
                                    "7": "",
                                    "8": "User3",
                                    "9": "DROP LOGIN [User3]"
                                },
                                {
                                    "0": "2022-08-24 01:07:39.6351635",
                                    "1": "A1",
                                    "2": "A1\\Administrator",
                                    "3": "LGO ",
                                    "4": "1",
                                    "5": "LX",
                                    "6": "",
                                    "7": "",
                                    "8": "",
                                    "9": ""
                                },
                                {
                                    "0": "2022-08-24 01:07:39.6661707",
                                    "1": "A1",
                                    "2": "A1\\Administrator",
                                    "3": "LGO ",
                                    "4": "1",
                                    "5": "LX",
                                    "6": "",
                                    "7": "",
                                    "8": "",
                                    "9": ""
                                },
                                {
                                    "0": "2022-08-24 01:07:41.6014483",
                                    "1": "A1",
                                    "2": "A1\\Administrator",
                                    "3": "LGO ",
                                    "4": "1",
                                    "5": "LX",
                                    "6": "",
                                    "7": "",
                                    "8": "",
                                    "9": ""
                                },
                                {
                                    "0": "2022-08-24 01:07:43.7509964",
                                    "1": "A1",
                                    "2": "A1\\Administrator",
                                    "3": "DR  ",
                                    "4": "1",
                                    "5": "SL",
                                    "6": "master",
                                    "7": "",
                                    "8": "User4",
                                    "9": "DROP LOGIN [User4]"
                                },
                                {
                                    "0": "2022-08-24 01:07:43.8367722",
                                    "1": "A1",
                                    "2": "A1\\Administrator",
                                    "3": "LGO ",
                                    "4": "1",
                                    "5": "LX",
                                    "6": "",
                                    "7": "",
                                    "8": "",
                                    "9": ""
                                },
                                {
                                    "0": "2022-08-24 01:07:43.8847673",
                                    "1": "A1",
                                    "2": "A1\\Administrator",
                                    "3": "LGO ",
                                    "4": "1",
                                    "5": "LX",
                                    "6": "",
                                    "7": "",
                                    "8": "",
                                    "9": ""
                                },
                                {
                                    "0": "2022-08-24 01:07:53.4568604",
                                    "1": "A1",
                                    "2": "A1\\Administrator",
                                    "3": "LGO ",
                                    "4": "1",
                                    "5": "LX",
                                    "6": "",
                                    "7": "",
                                    "8": "",
                                    "9": ""
                                },
                                {
                                    "0": "2022-08-24 01:07:53.4648548",
                                    "1": "A1",
                                    "2": "A1\\Administrator",
                                    "3": "LGO ",
                                    "4": "1",
                                    "5": "LX",
                                    "6": "",
                                    "7": "",
                                    "8": "",
                                    "9": ""
                                },
                                {
                                    "0": "2022-08-24 01:07:53.4678636",
                                    "1": "A1",
                                    "2": "A1\\Administrator",
                                    "3": "LGO ",
                                    "4": "1",
                                    "5": "LX",
                                    "6": "",
                                    "7": "",
                                    "8": "",
                                    "9": ""
                                },
                                {
                                    "0": "2022-08-24 01:07:53.4698553",
                                    "1": "A1",
                                    "2": "A1\\Administrator",
                                    "3": "LGO ",
                                    "4": "1",
                                    "5": "LX",
                                    "6": "",
                                    "7": "",
                                    "8": "",
                                    "9": ""
                                },
                                {
                                    "0": "2022-08-24 01:07:53.4842368",
                                    "1": "A1",
                                    "2": "A1\\Administrator",
                                    "3": "LGO ",
                                    "4": "1",
                                    "5": "LX",
                                    "6": "",
                                    "7": "",
                                    "8": "",
                                    "9": ""
                                },
                                {
                                    "0": "2022-08-24 01:07:53.5072329",
                                    "1": "A1",
                                    "2": "A1\\Administrator",
                                    "3": "LGO ",
                                    "4": "1",
                                    "5": "LX",
                                    "6": "",
                                    "7": "",
                                    "8": "",
                                    "9": ""
                                },
                                {
                                    "0": "2022-08-24 01:07:53.5142361",
                                    "1": "A1",
                                    "2": "A1\\Administrator",
                                    "3": "LGO ",
                                    "4": "1",
                                    "5": "LX",
                                    "6": "",
                                    "7": "",
                                    "8": "",
                                    "9": ""
                                },
                                {
                                    "0": "2022-08-24 01:07:53.5182275",
                                    "1": "A1",
                                    "2": "A1\\Administrator",
                                    "3": "LGO ",
                                    "4": "1",
                                    "5": "LX",
                                    "6": "",
                                    "7": "",
                                    "8": "",
                                    "9": ""
                                },
                                {
                                    "0": "2022-08-24 01:07:53.5302508",
                                    "1": "A1",
                                    "2": "A1\\Administrator",
                                    "3": "LGO ",
                                    "4": "1",
                                    "5": "LX",
                                    "6": "",
                                    "7": "",
                                    "8": "",
                                    "9": ""
                                },
                                {
                                    "0": "2022-08-24 01:07:53.5512272",
                                    "1": "A1",
                                    "2": "A1\\Administrator",
                                    "3": "LGO ",
                                    "4": "1",
                                    "5": "LX",
                                    "6": "",
                                    "7": "",
                                    "8": "",
                                    "9": ""
                                },
                                {
                                    "0": "2022-08-24 01:07:53.5672667",
                                    "1": "A1",
                                    "2": "A1\\Administrator",
                                    "3": "LGO ",
                                    "4": "1",
                                    "5": "LX",
                                    "6": "",
                                    "7": "",
                                    "8": "",
                                    "9": ""
                                },
                                {
                                    "0": "2022-08-24 01:07:53.5712263",
                                    "1": "A1",
                                    "2": "A1\\Administrator",
                                    "3": "LGO ",
                                    "4": "1",
                                    "5": "LX",
                                    "6": "",
                                    "7": "",
                                    "8": "",
                                    "9": ""
                                },
                                {
                                    "0": "2022-08-24 01:07:53.5732331",
                                    "1": "A1",
                                    "2": "A1\\Administrator",
                                    "3": "LGO ",
                                    "4": "1",
                                    "5": "LX",
                                    "6": "",
                                    "7": "",
                                    "8": "",
                                    "9": ""
                                },
                                {
                                    "0": "2022-08-24 01:07:53.5762673",
                                    "1": "A1",
                                    "2": "A1\\Administrator",
                                    "3": "LGO ",
                                    "4": "1",
                                    "5": "LX",
                                    "6": "",
                                    "7": "",
                                    "8": "",
                                    "9": ""
                                },
                                {
                                    "0": "2022-08-24 01:07:53.5912379",
                                    "1": "A1",
                                    "2": "A1\\Administrator",
                                    "3": "LGO ",
                                    "4": "1",
                                    "5": "LX",
                                    "6": "",
                                    "7": "",
                                    "8": "",
                                    "9": ""
                                },
                                {
                                    "0": "2022-08-24 01:07:53.6002259",
                                    "1": "A1",
                                    "2": "A1\\Administrator",
                                    "3": "LGO ",
                                    "4": "1",
                                    "5": "LX",
                                    "6": "",
                                    "7": "",
                                    "8": "",
                                    "9": ""
                                },
                                {
                                    "0": "2022-08-24 01:07:53.6489807",
                                    "1": "A1",
                                    "2": "A1\\Administrator",
                                    "3": "LGO ",
                                    "4": "1",
                                    "5": "LX",
                                    "6": "",
                                    "7": "",
                                    "8": "",
                                    "9": ""
                                },
                                {
                                    "0": "2022-08-24 01:07:53.6807208",
                                    "1": "A1",
                                    "2": "A1\\Administrator",
                                    "3": "LGO ",
                                    "4": "1",
                                    "5": "LX",
                                    "6": "",
                                    "7": "",
                                    "8": "",
                                    "9": ""
                                },
                                {
                                    "0": "2022-08-24 01:07:53.7372278",
                                    "1": "A1",
                                    "2": "A1\\Administrator",
                                    "3": "LGO ",
                                    "4": "1",
                                    "5": "LX",
                                    "6": "",
                                    "7": "",
                                    "8": "",
                                    "9": ""
                                },
                                {
                                    "0": "2022-08-24 01:07:53.7442437",
                                    "1": "A1",
                                    "2": "A1\\Administrator",
                                    "3": "LGO ",
                                    "4": "1",
                                    "5": "LX",
                                    "6": "",
                                    "7": "",
                                    "8": "",
                                    "9": ""
                                },
                                {
                                    "0": "2022-08-24 01:07:53.7599002",
                                    "1": "A1",
                                    "2": "A1\\Administrator",
                                    "3": "LGO ",
                                    "4": "1",
                                    "5": "LX",
                                    "6": "",
                                    "7": "",
                                    "8": "",
                                    "9": ""
                                },
                                {
                                    "0": "2022-08-24 01:07:53.7664913",
                                    "1": "A1",
                                    "2": "A1\\Administrator",
                                    "3": "LGO ",
                                    "4": "1",
                                    "5": "LX",
                                    "6": "",
                                    "7": "",
                                    "8": "",
                                    "9": ""
                                },
                                {
                                    "0": "2022-08-24 01:07:53.7734886",
                                    "1": "A1",
                                    "2": "A1\\Administrator",
                                    "3": "LGO ",
                                    "4": "1",
                                    "5": "LX",
                                    "6": "",
                                    "7": "",
                                    "8": "",
                                    "9": ""
                                },
                                {
                                    "0": "2022-08-24 01:07:53.7814892",
                                    "1": "A1",
                                    "2": "A1\\Administrator",
                                    "3": "LGO ",
                                    "4": "1",
                                    "5": "LX",
                                    "6": "",
                                    "7": "",
                                    "8": "",
                                    "9": ""
                                },
                                {
                                    "0": "2022-08-24 01:08:35.4277109",
                                    "1": "A1",
                                    "2": "A1\\Administrator",
                                    "3": "CR  ",
                                    "4": "1",
                                    "5": "WL",
                                    "6": "master",
                                    "7": "",
                                    "8": "",
                                    "9": "CREATE LOGIN [-Placeholder-\\User1] FROM WINDOWS WITH DEFAULT_DATABASE=[SQLSecurityTest]\r\n"
                                },
                                {
                                    "0": "2022-08-24 01:08:35.4628254",
                                    "1": "A1",
                                    "2": "A1\\Administrator",
                                    "3": "CR  ",
                                    "4": "1",
                                    "5": "US",
                                    "6": "SQLSecurityTest",
                                    "7": "",
                                    "8": "",
                                    "9": "CREATE USER [-Placeholder-\\User1] FOR LOGIN [-Placeholder-\\User1]\r\n"
                                },
                                {
                                    "0": "2022-08-24 01:08:35.4646710",
                                    "1": "A1",
                                    "2": "A1\\Administrator",
                                    "3": "CR  ",
                                    "4": "1",
                                    "5": "WL",
                                    "6": "master",
                                    "7": "",
                                    "8": "",
                                    "9": "CREATE LOGIN [-Placeholder-\\User2] FROM WINDOWS WITH DEFAULT_DATABASE=[SQLSecurityTest]\r\n"
                                },
                                {
                                    "0": "2022-08-24 01:08:35.4666681",
                                    "1": "A1",
                                    "2": "A1\\Administrator",
                                    "3": "CR  ",
                                    "4": "1",
                                    "5": "US",
                                    "6": "SQLSecurityTest",
                                    "7": "",
                                    "8": "",
                                    "9": "CREATE USER [-Placeholder-\\User2] FOR LOGIN [-Placeholder-\\User2]\r\n"
                                },
                                {
                                    "0": "2022-08-24 01:08:35.4676688",
                                    "1": "A1",
                                    "2": "A1\\Administrator",
                                    "3": "CR  ",
                                    "4": "1",
                                    "5": "SL",
                                    "6": "master",
                                    "7": "",
                                    "8": "User3",
                                    "9": "CREATE LOGIN [User3] WITH PASSWORD=N'******', DEFAULT_DATABASE=[SQLSecurityTest], CHECK_EXPIRATION=OFF, CHECK_POLICY=OFF\r\n"
                                },
                                {
                                    "0": "2022-08-24 01:08:35.4696695",
                                    "1": "A1",
                                    "2": "A1\\Administrator",
                                    "3": "CR  ",
                                    "4": "1",
                                    "5": "SU",
                                    "6": "SQLSecurityTest",
                                    "7": "",
                                    "8": "User3",
                                    "9": "CREATE USER [User3] FOR LOGIN [User3]\r\n"
                                },
                                {
                                    "0": "2022-08-24 01:08:35.4716707",
                                    "1": "A1",
                                    "2": "A1\\Administrator",
                                    "3": "CR  ",
                                    "4": "1",
                                    "5": "SL",
                                    "6": "master",
                                    "7": "",
                                    "8": "User4",
                                    "9": "CREATE LOGIN [User4] WITH PASSWORD=N'******', DEFAULT_DATABASE=[SQLSecurityTest], CHECK_EXPIRATION=OFF, CHECK_POLICY=OFF\r\n"
                                },
                                {
                                    "0": "2022-08-24 01:08:35.4736673",
                                    "1": "A1",
                                    "2": "A1\\Administrator",
                                    "3": "CR  ",
                                    "4": "1",
                                    "5": "SU",
                                    "6": "SQLSecurityTest",
                                    "7": "",
                                    "8": "User4",
                                    "9": "CREATE USER [User4] FOR LOGIN [User4]\r\n"
                                },
                                {
                                    "0": "2022-08-24 01:08:43.6067100",
                                    "1": "A1",
                                    "2": "A1\\Administrator",
                                    "3": "LGO ",
                                    "4": "1",
                                    "5": "LX",
                                    "6": "",
                                    "7": "",
                                    "8": "",
                                    "9": ""
                                },
                                {
                                    "0": "2022-08-24 01:08:43.6087459",
                                    "1": "A1",
                                    "2": "A1\\Administrator",
                                    "3": "LGO ",
                                    "4": "1",
                                    "5": "LX",
                                    "6": "",
                                    "7": "",
                                    "8": "",
                                    "9": ""
                                },
                                {
                                    "0": "2022-08-24 01:09:08.3264886",
                                    "1": "A1",
                                    "2": "A1\\Administrator",
                                    "3": "LGO ",
                                    "4": "1",
                                    "5": "LX",
                                    "6": "",
                                    "7": "",
                                    "8": "",
                                    "9": ""
                                },
                                {
                                    "0": "2022-08-24 01:09:10.4893595",
                                    "1": "A1",
                                    "2": "A1\\Administrator",
                                    "3": "LGO ",
                                    "4": "1",
                                    "5": "LX",
                                    "6": "",
                                    "7": "",
                                    "8": "",
                                    "9": ""
                                },
                                {
                                    "0": "2022-08-24 01:09:12.9390128",
                                    "1": "A1",
                                    "2": "A1\\Administrator",
                                    "3": "DR  ",
                                    "4": "1",
                                    "5": "SL",
                                    "6": "master",
                                    "7": "",
                                    "8": "User3",
                                    "9": "DROP LOGIN [User3]"
                                },
                                {
                                    "0": "2022-08-24 01:09:13.0046967",
                                    "1": "A1",
                                    "2": "A1\\Administrator",
                                    "3": "LGO ",
                                    "4": "1",
                                    "5": "LX",
                                    "6": "",
                                    "7": "",
                                    "8": "",
                                    "9": ""
                                },
                                {
                                    "0": "2022-08-24 01:09:13.0376940",
                                    "1": "A1",
                                    "2": "A1\\Administrator",
                                    "3": "LGO ",
                                    "4": "1",
                                    "5": "LX",
                                    "6": "",
                                    "7": "",
                                    "8": "",
                                    "9": ""
                                },
                                {
                                    "0": "2022-08-24 01:09:14.6254667",
                                    "1": "A1",
                                    "2": "A1\\Administrator",
                                    "3": "LGO ",
                                    "4": "1",
                                    "5": "LX",
                                    "6": "",
                                    "7": "",
                                    "8": "",
                                    "9": ""
                                },
                                {
                                    "0": "2022-08-24 01:09:16.7699100",
                                    "1": "A1",
                                    "2": "A1\\Administrator",
                                    "3": "DR  ",
                                    "4": "1",
                                    "5": "SL",
                                    "6": "master",
                                    "7": "",
                                    "8": "User4",
                                    "9": "DROP LOGIN [User4]"
                                },
                                {
                                    "0": "2022-08-24 01:09:16.8364234",
                                    "1": "A1",
                                    "2": "A1\\Administrator",
                                    "3": "LGO ",
                                    "4": "1",
                                    "5": "LX",
                                    "6": "",
                                    "7": "",
                                    "8": "",
                                    "9": ""
                                },
                                {
                                    "0": "2022-08-24 01:09:16.8824681",
                                    "1": "A1",
                                    "2": "A1\\Administrator",
                                    "3": "LGO ",
                                    "4": "1",
                                    "5": "LX",
                                    "6": "",
                                    "7": "",
                                    "8": "",
                                    "9": ""
                                },
                                {
                                    "0": "2022-08-24 01:09:28.7061867",
                                    "1": "A1",
                                    "2": "A1\\Administrator",
                                    "3": "LGO ",
                                    "4": "1",
                                    "5": "LX",
                                    "6": "",
                                    "7": "",
                                    "8": "",
                                    "9": ""
                                },
                                {
                                    "0": "2022-08-24 01:09:28.7061867",
                                    "1": "A1",
                                    "2": "A1\\Administrator",
                                    "3": "LGO ",
                                    "4": "1",
                                    "5": "LX",
                                    "6": "",
                                    "7": "",
                                    "8": "",
                                    "9": ""
                                },
                                {
                                    "0": "2022-08-24 01:09:29.5663751",
                                    "1": "A1",
                                    "2": "A1\\Administrator",
                                    "3": "LGO ",
                                    "4": "1",
                                    "5": "LX",
                                    "6": "",
                                    "7": "",
                                    "8": "",
                                    "9": ""
                                },
                                {
                                    "0": "2022-08-24 01:09:30.2015572",
                                    "1": "A1",
                                    "2": "A1\\Administrator",
                                    "3": "LGO ",
                                    "4": "1",
                                    "5": "LX",
                                    "6": "",
                                    "7": "",
                                    "8": "",
                                    "9": ""
                                },
                                {
                                    "0": "2022-08-24 01:09:34.4559608",
                                    "1": "A1",
                                    "2": "A1\\Administrator",
                                    "3": "LGO ",
                                    "4": "1",
                                    "5": "LX",
                                    "6": "",
                                    "7": "",
                                    "8": "",
                                    "9": ""
                                },
                                {
                                    "0": "2022-08-24 01:09:36.3657181",
                                    "1": "A1",
                                    "2": "A1\\Administrator",
                                    "3": "LGO ",
                                    "4": "1",
                                    "5": "LX",
                                    "6": "",
                                    "7": "",
                                    "8": "",
                                    "9": ""
                                },
                                {
                                    "0": "2022-08-24 01:09:37.5845166",
                                    "1": "A1",
                                    "2": "A1\\Administrator",
                                    "3": "DR  ",
                                    "4": "1",
                                    "5": "SU",
                                    "6": "SQLSecurityTest",
                                    "7": "",
                                    "8": "User3",
                                    "9": "DROP USER [User3]"
                                },
                                {
                                    "0": "2022-08-24 01:09:37.7183972",
                                    "1": "A1",
                                    "2": "A1\\Administrator",
                                    "3": "LGO ",
                                    "4": "1",
                                    "5": "LX",
                                    "6": "",
                                    "7": "",
                                    "8": "",
                                    "9": ""
                                },
                                {
                                    "0": "2022-08-24 01:09:37.7531139",
                                    "1": "A1",
                                    "2": "A1\\Administrator",
                                    "3": "LGO ",
                                    "4": "1",
                                    "5": "LX",
                                    "6": "",
                                    "7": "",
                                    "8": "",
                                    "9": ""
                                },
                                {
                                    "0": "2022-08-24 01:09:40.1125650",
                                    "1": "A1",
                                    "2": "A1\\Administrator",
                                    "3": "LGO ",
                                    "4": "1",
                                    "5": "LX",
                                    "6": "",
                                    "7": "",
                                    "8": "",
                                    "9": ""
                                },
                                {
                                    "0": "2022-08-24 01:09:41.4247531",
                                    "1": "A1",
                                    "2": "A1\\Administrator",
                                    "3": "DR  ",
                                    "4": "1",
                                    "5": "SU",
                                    "6": "SQLSecurityTest",
                                    "7": "",
                                    "8": "User4",
                                    "9": "DROP USER [User4]"
                                },
                                {
                                    "0": "2022-08-24 01:09:41.4770342",
                                    "1": "A1",
                                    "2": "A1\\Administrator",
                                    "3": "LGO ",
                                    "4": "1",
                                    "5": "LX",
                                    "6": "",
                                    "7": "",
                                    "8": "",
                                    "9": ""
                                },
                                {
                                    "0": "2022-08-24 01:09:41.5070413",
                                    "1": "A1",
                                    "2": "A1\\Administrator",
                                    "3": "LGO ",
                                    "4": "1",
                                    "5": "LX",
                                    "6": "",
                                    "7": "",
                                    "8": "",
                                    "9": ""
                                },
                                {
                                    "0": "2022-08-24 01:09:43.4873981",
                                    "1": "A1",
                                    "2": "A1\\Administrator",
                                    "3": "CR  ",
                                    "4": "1",
                                    "5": "WL",
                                    "6": "master",
                                    "7": "",
                                    "8": "A1\\User1",
                                    "9": "CREATE LOGIN [A1\\User1] FROM WINDOWS WITH DEFAULT_DATABASE=[SQLSecurityTest]\r\n"
                                },
                                {
                                    "0": "2022-08-24 01:09:43.4903977",
                                    "1": "A1",
                                    "2": "A1\\Administrator",
                                    "3": "CR  ",
                                    "4": "1",
                                    "5": "WU",
                                    "6": "SQLSecurityTest",
                                    "7": "",
                                    "8": "A1\\User1",
                                    "9": "CREATE USER [A1\\User1] FOR LOGIN [A1\\User1]\r\n"
                                },
                                {
                                    "0": "2022-08-24 01:09:43.4923970",
                                    "1": "A1",
                                    "2": "A1\\Administrator",
                                    "3": "CR  ",
                                    "4": "1",
                                    "5": "WL",
                                    "6": "master",
                                    "7": "",
                                    "8": "A1\\User2",
                                    "9": "CREATE LOGIN [A1\\User2] FROM WINDOWS WITH DEFAULT_DATABASE=[SQLSecurityTest]\r\n"
                                },
                                {
                                    "0": "2022-08-24 01:09:43.4943968",
                                    "1": "A1",
                                    "2": "A1\\Administrator",
                                    "3": "CR  ",
                                    "4": "1",
                                    "5": "WU",
                                    "6": "SQLSecurityTest",
                                    "7": "",
                                    "8": "A1\\User2",
                                    "9": "CREATE USER [A1\\User2] FOR LOGIN [A1\\User2]\r\n"
                                },
                                {
                                    "0": "2022-08-24 01:09:43.4963969",
                                    "1": "A1",
                                    "2": "A1\\Administrator",
                                    "3": "CR  ",
                                    "4": "1",
                                    "5": "SL",
                                    "6": "master",
                                    "7": "",
                                    "8": "User3",
                                    "9": "CREATE LOGIN [User3] WITH PASSWORD=N'******', DEFAULT_DATABASE=[SQLSecurityTest], CHECK_EXPIRATION=OFF, CHECK_POLICY=OFF\r\n"
                                },
                                {
                                    "0": "2022-08-24 01:09:43.4973966",
                                    "1": "A1",
                                    "2": "A1\\Administrator",
                                    "3": "CR  ",
                                    "4": "1",
                                    "5": "SU",
                                    "6": "SQLSecurityTest",
                                    "7": "",
                                    "8": "User3",
                                    "9": "CREATE USER [User3] FOR LOGIN [User3]\r\n"
                                },
                                {
                                    "0": "2022-08-24 01:09:43.4993968",
                                    "1": "A1",
                                    "2": "A1\\Administrator",
                                    "3": "CR  ",
                                    "4": "1",
                                    "5": "SL",
                                    "6": "master",
                                    "7": "",
                                    "8": "User4",
                                    "9": "CREATE LOGIN [User4] WITH PASSWORD=N'******', DEFAULT_DATABASE=[SQLSecurityTest], CHECK_EXPIRATION=OFF, CHECK_POLICY=OFF\r\n"
                                },
                                {
                                    "0": "2022-08-24 01:09:43.5013971",
                                    "1": "A1",
                                    "2": "A1\\Administrator",
                                    "3": "CR  ",
                                    "4": "1",
                                    "5": "SU",
                                    "6": "SQLSecurityTest",
                                    "7": "",
                                    "8": "User4",
                                    "9": "CREATE USER [User4] FOR LOGIN [User4]\r\n"
                                },
                                {
                                    "0": "2022-08-24 01:09:54.9877036",
                                    "1": "A1",
                                    "2": "A1\\Administrator",
                                    "3": "LGO ",
                                    "4": "1",
                                    "5": "LX",
                                    "6": "",
                                    "7": "",
                                    "8": "",
                                    "9": ""
                                },
                                {
                                    "0": "2022-08-24 01:09:54.9877036",
                                    "1": "A1",
                                    "2": "A1\\Administrator",
                                    "3": "LGO ",
                                    "4": "1",
                                    "5": "LX",
                                    "6": "",
                                    "7": "",
                                    "8": "",
                                    "9": ""
                                },
                                {
                                    "0": "2022-08-24 01:09:54.9997091",
                                    "1": "A1",
                                    "2": "A1\\Administrator",
                                    "3": "LGO ",
                                    "4": "1",
                                    "5": "LX",
                                    "6": "",
                                    "7": "",
                                    "8": "",
                                    "9": ""
                                },
                                {
                                    "0": "2022-08-24 01:09:54.9997091",
                                    "1": "A1",
                                    "2": "A1\\Administrator",
                                    "3": "LGO ",
                                    "4": "1",
                                    "5": "LX",
                                    "6": "",
                                    "7": "",
                                    "8": "",
                                    "9": ""
                                },
                                {
                                    "0": "2022-08-24 01:09:55.0628275",
                                    "1": "A1",
                                    "2": "A1\\Administrator",
                                    "3": "LGO ",
                                    "4": "1",
                                    "5": "LX",
                                    "6": "",
                                    "7": "",
                                    "8": "",
                                    "9": ""
                                },
                                {
                                    "0": "2022-08-24 01:09:55.0628275",
                                    "1": "A1",
                                    "2": "A1\\Administrator",
                                    "3": "LGO ",
                                    "4": "1",
                                    "5": "LX",
                                    "6": "",
                                    "7": "",
                                    "8": "",
                                    "9": ""
                                },
                                {
                                    "0": "2022-08-24 01:09:55.0784782",
                                    "1": "A1",
                                    "2": "A1\\Administrator",
                                    "3": "LGO ",
                                    "4": "1",
                                    "5": "LX",
                                    "6": "",
                                    "7": "",
                                    "8": "",
                                    "9": ""
                                },
                                {
                                    "0": "2022-08-24 01:10:12.0158258",
                                    "1": "A1",
                                    "2": "A1\\Administrator",
                                    "3": "LGO ",
                                    "4": "1",
                                    "5": "LX",
                                    "6": "",
                                    "7": "",
                                    "8": "",
                                    "9": ""
                                },
                                {
                                    "0": "2022-08-24 01:10:13.9076331",
                                    "1": "A1",
                                    "2": "A1\\Administrator",
                                    "3": "CR  ",
                                    "4": "1",
                                    "5": "SG",
                                    "6": "master",
                                    "7": "",
                                    "8": "",
                                    "9": "CREATE SERVER ROLE SQLSecurityTest_Table_Owner;\r\n\r\n-- Create a database role that will eventually have rights to execute a stored procedure in the database\r\n"
                                },
                                {
                                    "0": "2022-08-24 01:10:13.9076331",
                                    "1": "A1",
                                    "2": "A1\\Administrator",
                                    "3": "CR  ",
                                    "4": "1",
                                    "5": "RL",
                                    "6": "SQLSecurityTest",
                                    "7": "",
                                    "8": "Stored_procedure_user_role",
                                    "9": "CREATE ROLE Stored_procedure_user_role;\r\n\r\n--Create a database role that will have permisison to query a view in the database\r\n"
                                },
                                {
                                    "0": "2022-08-24 01:10:13.9094963",
                                    "1": "A1",
                                    "2": "A1\\Administrator",
                                    "3": "CR  ",
                                    "4": "1",
                                    "5": "RL",
                                    "6": "SQLSecurityTest",
                                    "7": "",
                                    "8": "View_user_role",
                                    "9": "CREATE ROLE View_user_role;"
                                },
                                {
                                    "0": "2022-08-24 01:10:25.6035199",
                                    "1": "A1",
                                    "2": "A1\\Administrator",
                                    "3": "LGO ",
                                    "4": "1",
                                    "5": "LX",
                                    "6": "",
                                    "7": "",
                                    "8": "",
                                    "9": ""
                                },
                                {
                                    "0": "2022-08-24 01:10:29.0978115",
                                    "1": "A1",
                                    "2": "A1\\Administrator",
                                    "3": "LGO ",
                                    "4": "1",
                                    "5": "LX",
                                    "6": "",
                                    "7": "",
                                    "8": "",
                                    "9": ""
                                },
                                {
                                    "0": "2022-08-24 01:10:30.4313265",
                                    "1": "A1",
                                    "2": "A1\\Administrator",
                                    "3": "DR  ",
                                    "4": "1",
                                    "5": "RL",
                                    "6": "SQLSecurityTest",
                                    "7": "",
                                    "8": "Stored_procedure_user_role",
                                    "9": "DROP ROLE [Stored_procedure_user_role]"
                                },
                                {
                                    "0": "2022-08-24 01:10:30.4658175",
                                    "1": "A1",
                                    "2": "A1\\Administrator",
                                    "3": "LGO ",
                                    "4": "1",
                                    "5": "LX",
                                    "6": "",
                                    "7": "",
                                    "8": "",
                                    "9": ""
                                },
                                {
                                    "0": "2022-08-24 01:10:30.5018221",
                                    "1": "A1",
                                    "2": "A1\\Administrator",
                                    "3": "LGO ",
                                    "4": "1",
                                    "5": "LX",
                                    "6": "",
                                    "7": "",
                                    "8": "",
                                    "9": ""
                                },
                                {
                                    "0": "2022-08-24 01:10:32.4538087",
                                    "1": "A1",
                                    "2": "A1\\Administrator",
                                    "3": "LGO ",
                                    "4": "1",
                                    "5": "LX",
                                    "6": "",
                                    "7": "",
                                    "8": "",
                                    "9": ""
                                },
                                {
                                    "0": "2022-08-24 01:10:33.4246312",
                                    "1": "A1",
                                    "2": "A1\\Administrator",
                                    "3": "DR  ",
                                    "4": "1",
                                    "5": "RL",
                                    "6": "SQLSecurityTest",
                                    "7": "",
                                    "8": "View_user_role",
                                    "9": "DROP ROLE [View_user_role]"
                                },
                                {
                                    "0": "2022-08-24 01:10:33.4660238",
                                    "1": "A1",
                                    "2": "A1\\Administrator",
                                    "3": "LGO ",
                                    "4": "1",
                                    "5": "LX",
                                    "6": "",
                                    "7": "",
                                    "8": "",
                                    "9": ""
                                },
                                {
                                    "0": "2022-08-24 01:10:33.5170715",
                                    "1": "A1",
                                    "2": "A1\\Administrator",
                                    "3": "LGO ",
                                    "4": "1",
                                    "5": "LX",
                                    "6": "",
                                    "7": "",
                                    "8": "",
                                    "9": ""
                                },
                                {
                                    "0": "2022-08-24 01:10:34.9177782",
                                    "1": "A1",
                                    "2": "A1\\Administrator",
                                    "3": "LGO ",
                                    "4": "1",
                                    "5": "LX",
                                    "6": "",
                                    "7": "",
                                    "8": "",
                                    "9": ""
                                },
                                {
                                    "0": "2022-08-24 01:10:37.4189128",
                                    "1": "A1",
                                    "2": "A1\\Administrator",
                                    "3": "LGO ",
                                    "4": "1",
                                    "5": "LX",
                                    "6": "",
                                    "7": "",
                                    "8": "",
                                    "9": ""
                                },
                                {
                                    "0": "2022-08-24 01:10:38.8022146",
                                    "1": "A1",
                                    "2": "A1\\Administrator",
                                    "3": "DR  ",
                                    "4": "1",
                                    "5": "SG",
                                    "6": "master",
                                    "7": "",
                                    "8": "SQLSecurityTest_Table_Owner",
                                    "9": "DROP SERVER ROLE [SQLSecurityTest_Table_Owner]"
                                },
                                {
                                    "0": "2022-08-24 01:10:38.8452138",
                                    "1": "A1",
                                    "2": "A1\\Administrator",
                                    "3": "LGO ",
                                    "4": "1",
                                    "5": "LX",
                                    "6": "",
                                    "7": "",
                                    "8": "",
                                    "9": ""
                                },
                                {
                                    "0": "2022-08-24 01:10:38.8752135",
                                    "1": "A1",
                                    "2": "A1\\Administrator",
                                    "3": "LGO ",
                                    "4": "1",
                                    "5": "LX",
                                    "6": "",
                                    "7": "",
                                    "8": "",
                                    "9": ""
                                },
                                {
                                    "0": "2022-08-24 01:10:40.1642940",
                                    "1": "A1",
                                    "2": "A1\\Administrator",
                                    "3": "CR  ",
                                    "4": "1",
                                    "5": "SG",
                                    "6": "master",
                                    "7": "",
                                    "8": "SQLSecurityTest_Table_Owner",
                                    "9": "CREATE SERVER ROLE SQLSecurityTest_Table_Owner;\r\n\r\n-- Create a database role that will eventually have rights to execute a stored procedure in the database\r\n"
                                },
                                {
                                    "0": "2022-08-24 01:10:40.1652861",
                                    "1": "A1",
                                    "2": "A1\\Administrator",
                                    "3": "CR  ",
                                    "4": "1",
                                    "5": "RL",
                                    "6": "SQLSecurityTest",
                                    "7": "",
                                    "8": "Stored_procedure_user_role",
                                    "9": "CREATE ROLE Stored_procedure_user_role;\r\n\r\n--Create a database role that will have permisison to query a view in the database\r\n"
                                },
                                {
                                    "0": "2022-08-24 01:10:40.1662918",
                                    "1": "A1",
                                    "2": "A1\\Administrator",
                                    "3": "CR  ",
                                    "4": "1",
                                    "5": "RL",
                                    "6": "SQLSecurityTest",
                                    "7": "",
                                    "8": "View_user_role",
                                    "9": "CREATE ROLE View_user_role;"
                                },
                                {
                                    "0": "2022-08-24 01:10:45.5818190",
                                    "1": "A1",
                                    "2": "A1\\Administrator",
                                    "3": "LGO ",
                                    "4": "1",
                                    "5": "LX",
                                    "6": "",
                                    "7": "",
                                    "8": "",
                                    "9": ""
                                },
                                {
                                    "0": "2022-08-24 01:10:46.1603637",
                                    "1": "A1",
                                    "2": "A1\\Administrator",
                                    "3": "LGO ",
                                    "4": "1",
                                    "5": "LX",
                                    "6": "",
                                    "7": "",
                                    "8": "",
                                    "9": ""
                                },
                                {
                                    "0": "2022-08-24 01:10:46.1623708",
                                    "1": "A1",
                                    "2": "A1\\Administrator",
                                    "3": "LGO ",
                                    "4": "1",
                                    "5": "LX",
                                    "6": "",
                                    "7": "",
                                    "8": "",
                                    "9": ""
                                },
                                {
                                    "0": "2022-08-24 01:11:09.4755470",
                                    "1": "A1",
                                    "2": "A1\\Administrator",
                                    "3": "APRL",
                                    "4": "1",
                                    "5": "SG",
                                    "6": "master",
                                    "7": "",
                                    "8": "SQLSecurityTest_Table_Owner",
                                    "9": "ALTER SERVER ROLE [SQLSecurityTest_Table_Owner] ADD MEMBER [A1\\User1]\r\n"
                                },
                                {
                                    "0": "2022-08-24 01:11:15.5324495",
                                    "1": "A1",
                                    "2": "A1\\Administrator",
                                    "3": "LGO ",
                                    "4": "1",
                                    "5": "LX",
                                    "6": "",
                                    "7": "",
                                    "8": "",
                                    "9": ""
                                },
                                {
                                    "0": "2022-08-24 01:11:15.5364321",
                                    "1": "A1",
                                    "2": "A1\\Administrator",
                                    "3": "LGO ",
                                    "4": "1",
                                    "5": "LX",
                                    "6": "",
                                    "7": "",
                                    "8": "",
                                    "9": ""
                                },
                                {
                                    "0": "2022-08-24 01:11:15.5394323",
                                    "1": "A1",
                                    "2": "A1\\Administrator",
                                    "3": "LGO ",
                                    "4": "1",
                                    "5": "LX",
                                    "6": "",
                                    "7": "",
                                    "8": "",
                                    "9": ""
                                },
                                {
                                    "0": "2022-08-24 01:11:31.3702575",
                                    "1": "A1",
                                    "2": "A1\\Administrator",
                                    "3": "LGO ",
                                    "4": "1",
                                    "5": "LX",
                                    "6": "",
                                    "7": "",
                                    "8": "",
                                    "9": ""
                                },
                                {
                                    "0": "2022-08-24 01:11:32.2373949",
                                    "1": "A1",
                                    "2": "A1\\Administrator",
                                    "3": "DR  ",
                                    "4": "1",
                                    "5": "SG",
                                    "6": "master",
                                    "7": "",
                                    "8": "examplerole",
                                    "9": "DROP SERVER ROLE [examplerole]"
                                },
                                {
                                    "0": "2022-08-24 01:11:32.2837266",
                                    "1": "A1",
                                    "2": "A1\\Administrator",
                                    "3": "LGO ",
                                    "4": "1",
                                    "5": "LX",
                                    "6": "",
                                    "7": "",
                                    "8": "",
                                    "9": ""
                                },
                                {
                                    "0": "2022-08-24 01:11:32.3137361",
                                    "1": "A1",
                                    "2": "A1\\Administrator",
                                    "3": "LGO ",
                                    "4": "1",
                                    "5": "LX",
                                    "6": "",
                                    "7": "",
                                    "8": "",
                                    "9": ""
                                },
                                {
                                    "0": "2022-08-24 01:11:48.3309712",
                                    "1": "A1",
                                    "2": "A1\\Administrator",
                                    "3": "LGO ",
                                    "4": "1",
                                    "5": "LX",
                                    "6": "",
                                    "7": "",
                                    "8": "",
                                    "9": ""
                                },
                                {
                                    "0": "2022-08-24 01:11:57.7998190",
                                    "1": "A1",
                                    "2": "A1\\Administrator",
                                    "3": "LGO ",
                                    "4": "1",
                                    "5": "LX",
                                    "6": "",
                                    "7": "",
                                    "8": "",
                                    "9": ""
                                },
                                {
                                    "0": "2022-08-24 01:11:57.8310476",
                                    "1": "A1",
                                    "2": "A1\\Administrator",
                                    "3": "LGO ",
                                    "4": "1",
                                    "5": "LX",
                                    "6": "",
                                    "7": "",
                                    "8": "",
                                    "9": ""
                                },
                                {
                                    "0": "2022-08-24 01:11:57.8310476",
                                    "1": "A1",
                                    "2": "A1\\Administrator",
                                    "3": "LGO ",
                                    "4": "1",
                                    "5": "LX",
                                    "6": "",
                                    "7": "",
                                    "8": "",
                                    "9": ""
                                },
                                {
                                    "0": "2022-08-24 01:12:05.5353495",
                                    "1": "A1",
                                    "2": "A1\\Administrator",
                                    "3": "LGO ",
                                    "4": "1",
                                    "5": "LX",
                                    "6": "",
                                    "7": "",
                                    "8": "",
                                    "9": ""
                                },
                                {
                                    "0": "2022-08-24 01:12:08.9899874",
                                    "1": "A1",
                                    "2": "A1\\Administrator",
                                    "3": "LGO ",
                                    "4": "1",
                                    "5": "LX",
                                    "6": "",
                                    "7": "",
                                    "8": "",
                                    "9": ""
                                },
                                {
                                    "0": "2022-08-24 01:12:14.1581044",
                                    "1": "A1",
                                    "2": "A1\\Administrator",
                                    "3": "LGO ",
                                    "4": "1",
                                    "5": "LX",
                                    "6": "",
                                    "7": "",
                                    "8": "",
                                    "9": ""
                                },
                                {
                                    "0": "2022-08-24 01:12:18.6447596",
                                    "1": "A1",
                                    "2": "A1\\Administrator",
                                    "3": "LGO ",
                                    "4": "1",
                                    "5": "LX",
                                    "6": "",
                                    "7": "",
                                    "8": "",
                                    "9": ""
                                },
                                {
                                    "0": "2022-08-24 01:12:31.4668058",
                                    "1": "A1",
                                    "2": "A1\\Administrator",
                                    "3": "LGO ",
                                    "4": "1",
                                    "5": "LX",
                                    "6": "",
                                    "7": "",
                                    "8": "",
                                    "9": ""
                                },
                                {
                                    "0": "2022-08-24 01:12:36.1488814",
                                    "1": "A1",
                                    "2": "A1\\Administrator",
                                    "3": "LGO ",
                                    "4": "1",
                                    "5": "LX",
                                    "6": "",
                                    "7": "",
                                    "8": "",
                                    "9": ""
                                },
                                {
                                    "0": "2022-08-24 01:14:06.5413067",
                                    "1": "A1",
                                    "2": "A1\\Administrator",
                                    "3": "LGO ",
                                    "4": "1",
                                    "5": "LX",
                                    "6": "",
                                    "7": "",
                                    "8": "",
                                    "9": ""
                                },
                                {
                                    "0": "2022-08-24 01:14:11.0343967",
                                    "1": "A1",
                                    "2": "A1\\Administrator",
                                    "3": "LGO ",
                                    "4": "1",
                                    "5": "LX",
                                    "6": "",
                                    "7": "",
                                    "8": "",
                                    "9": ""
                                },
                                {
                                    "0": "2022-08-24 01:14:11.0499497",
                                    "1": "A1",
                                    "2": "A1\\Administrator",
                                    "3": "LGO ",
                                    "4": "1",
                                    "5": "LX",
                                    "6": "",
                                    "7": "",
                                    "8": "",
                                    "9": ""
                                },
                                {
                                    "0": "2022-08-24 01:14:13.1021738",
                                    "1": "A1",
                                    "2": "A1\\Administrator",
                                    "3": "LGO ",
                                    "4": "1",
                                    "5": "LX",
                                    "6": "",
                                    "7": "",
                                    "8": "",
                                    "9": ""
                                },
                                {
                                    "0": "2022-08-24 01:14:14.2118114",
                                    "1": "A1",
                                    "2": "A1\\Administrator",
                                    "3": "LGO ",
                                    "4": "1",
                                    "5": "LX",
                                    "6": "",
                                    "7": "",
                                    "8": "",
                                    "9": ""
                                },
                                {
                                    "0": "2022-08-24 01:14:14.2618139",
                                    "1": "A1",
                                    "2": "A1\\Administrator",
                                    "3": "LGO ",
                                    "4": "1",
                                    "5": "LX",
                                    "6": "",
                                    "7": "",
                                    "8": "",
                                    "9": ""
                                },
                                {
                                    "0": "2022-08-24 01:14:17.2483354",
                                    "1": "A1",
                                    "2": "A1\\Administrator",
                                    "3": "LGO ",
                                    "4": "1",
                                    "5": "LX",
                                    "6": "",
                                    "7": "",
                                    "8": "",
                                    "9": ""
                                },
                                {
                                    "0": "2022-08-24 01:14:17.2513373",
                                    "1": "A1",
                                    "2": "A1\\Administrator",
                                    "3": "LGO ",
                                    "4": "1",
                                    "5": "LX",
                                    "6": "",
                                    "7": "",
                                    "8": "",
                                    "9": ""
                                },
                                {
                                    "0": "2022-08-24 01:14:17.2543349",
                                    "1": "A1",
                                    "2": "A1\\Administrator",
                                    "3": "LGO ",
                                    "4": "1",
                                    "5": "LX",
                                    "6": "",
                                    "7": "",
                                    "8": "",
                                    "9": ""
                                },
                                {
                                    "0": "2022-08-24 01:15:00.7372388",
                                    "1": "A1",
                                    "2": "NT SERVICE\\SQLSERVERAGENT",
                                    "3": "LGIF",
                                    "4": "0",
                                    "5": "LX",
                                    "6": "",
                                    "7": "",
                                    "8": "",
                                    "9": "Login failed for user 'NT SERVICE\\SQLSERVERAGENT'. Reason: Failed to open the explicitly specified database 'DB_Administration'. [CLIENT: <local machine>]"
                                },
                                {
                                    "0": "2022-08-24 01:16:01.0120752",
                                    "1": "A1",
                                    "2": "A1\\Administrator",
                                    "3": "LGO ",
                                    "4": "1",
                                    "5": "LX",
                                    "6": "",
                                    "7": "",
                                    "8": "",
                                    "9": ""
                                },
                                {
                                    "0": "2022-08-24 01:16:08.9777445",
                                    "1": "A1",
                                    "2": "A1\\Administrator",
                                    "3": "LGO ",
                                    "4": "1",
                                    "5": "LX",
                                    "6": "",
                                    "7": "",
                                    "8": "",
                                    "9": ""
                                },
                                {
                                    "0": "2022-08-24 01:16:08.9807228",
                                    "1": "A1",
                                    "2": "A1\\Administrator",
                                    "3": "LGO ",
                                    "4": "1",
                                    "5": "LX",
                                    "6": "",
                                    "7": "",
                                    "8": "",
                                    "9": ""
                                },
                                {
                                    "0": "2022-08-24 01:16:09.0795536",
                                    "1": "A1",
                                    "2": "A1\\Administrator",
                                    "3": "LGO ",
                                    "4": "1",
                                    "5": "LX",
                                    "6": "",
                                    "7": "",
                                    "8": "",
                                    "9": ""
                                },
                                {
                                    "0": "2022-08-24 01:16:09.0825628",
                                    "1": "A1",
                                    "2": "A1\\Administrator",
                                    "3": "LGO ",
                                    "4": "1",
                                    "5": "LX",
                                    "6": "",
                                    "7": "",
                                    "8": "",
                                    "9": ""
                                },
                                {
                                    "0": "2022-08-24 01:16:09.0865318",
                                    "1": "A1",
                                    "2": "A1\\Administrator",
                                    "3": "LGO ",
                                    "4": "1",
                                    "5": "LX",
                                    "6": "",
                                    "7": "",
                                    "8": "",
                                    "9": ""
                                },
                                {
                                    "0": "2022-08-24 01:16:09.0884989",
                                    "1": "A1",
                                    "2": "A1\\Administrator",
                                    "3": "LGO ",
                                    "4": "1",
                                    "5": "LX",
                                    "6": "",
                                    "7": "",
                                    "8": "",
                                    "9": ""
                                },
                                {
                                    "0": "2022-08-24 01:16:09.0904917",
                                    "1": "A1",
                                    "2": "A1\\Administrator",
                                    "3": "LGO ",
                                    "4": "1",
                                    "5": "LX",
                                    "6": "",
                                    "7": "",
                                    "8": "",
                                    "9": ""
                                },
                                {
                                    "0": "2022-08-24 01:16:09.0924896",
                                    "1": "A1",
                                    "2": "A1\\Administrator",
                                    "3": "LGO ",
                                    "4": "1",
                                    "5": "LX",
                                    "6": "",
                                    "7": "",
                                    "8": "",
                                    "9": ""
                                },
                                {
                                    "0": "2022-08-24 01:16:11.6132048",
                                    "1": "A1",
                                    "2": "A1\\Administrator",
                                    "3": "LGO ",
                                    "4": "1",
                                    "5": "LX",
                                    "6": "",
                                    "7": "",
                                    "8": "",
                                    "9": ""
                                },
                                {
                                    "0": "2022-08-24 01:16:13.3292360",
                                    "1": "A1",
                                    "2": "A1\\Administrator",
                                    "3": "LGO ",
                                    "4": "1",
                                    "5": "LX",
                                    "6": "",
                                    "7": "",
                                    "8": "",
                                    "9": ""
                                },
                                {
                                    "0": "2022-08-24 01:16:48.2073304",
                                    "1": "A1",
                                    "2": "A1\\Administrator",
                                    "3": "LGO ",
                                    "4": "1",
                                    "5": "LX",
                                    "6": "",
                                    "7": "",
                                    "8": "",
                                    "9": ""
                                },
                                {
                                    "0": "2022-08-24 01:16:48.2103258",
                                    "1": "A1",
                                    "2": "A1\\Administrator",
                                    "3": "LGO ",
                                    "4": "1",
                                    "5": "LX",
                                    "6": "",
                                    "7": "",
                                    "8": "",
                                    "9": ""
                                },
                                {
                                    "0": "2022-08-24 01:16:48.2133821",
                                    "1": "A1",
                                    "2": "A1\\Administrator",
                                    "3": "LGO ",
                                    "4": "1",
                                    "5": "LX",
                                    "6": "",
                                    "7": "",
                                    "8": "",
                                    "9": ""
                                },
                                {
                                    "0": "2022-08-24 01:16:55.9801907",
                                    "1": "A1",
                                    "2": "A1\\Administrator",
                                    "3": "LGO ",
                                    "4": "1",
                                    "5": "LX",
                                    "6": "",
                                    "7": "",
                                    "8": "",
                                    "9": ""
                                },
                                {
                                    "0": "2022-08-24 01:17:00.2122994",
                                    "1": "A1",
                                    "2": "A1\\Administrator",
                                    "3": "LGO ",
                                    "4": "1",
                                    "5": "LX",
                                    "6": "",
                                    "7": "",
                                    "8": "",
                                    "9": ""
                                },
                                {
                                    "0": "2022-08-24 01:17:03.1127899",
                                    "1": "A1",
                                    "2": "A1\\Administrator",
                                    "3": "LGO ",
                                    "4": "1",
                                    "5": "LX",
                                    "6": "",
                                    "7": "",
                                    "8": "",
                                    "9": ""
                                },
                                {
                                    "0": "2022-08-24 01:17:06.3940480",
                                    "1": "A1",
                                    "2": "A1\\Administrator",
                                    "3": "LGO ",
                                    "4": "1",
                                    "5": "LX",
                                    "6": "",
                                    "7": "",
                                    "8": "",
                                    "9": ""
                                },
                                {
                                    "0": "2022-08-24 01:17:10.9579376",
                                    "1": "A1",
                                    "2": "A1\\Administrator",
                                    "3": "LGO ",
                                    "4": "1",
                                    "5": "LX",
                                    "6": "",
                                    "7": "",
                                    "8": "",
                                    "9": ""
                                },
                                {
                                    "0": "2022-08-24 01:17:14.3403207",
                                    "1": "A1",
                                    "2": "A1\\Administrator",
                                    "3": "LGO ",
                                    "4": "1",
                                    "5": "LX",
                                    "6": "",
                                    "7": "",
                                    "8": "",
                                    "9": ""
                                },
                                {
                                    "0": "2022-08-24 01:18:03.4673077",
                                    "1": "A1",
                                    "2": "A1\\Administrator",
                                    "3": "LGO ",
                                    "4": "1",
                                    "5": "LX",
                                    "6": "",
                                    "7": "",
                                    "8": "",
                                    "9": ""
                                },
                                {
                                    "0": "2022-08-24 01:18:06.4988056",
                                    "1": "A1",
                                    "2": "A1\\Administrator",
                                    "3": "LGO ",
                                    "4": "1",
                                    "5": "LX",
                                    "6": "",
                                    "7": "",
                                    "8": "",
                                    "9": ""
                                },
                                {
                                    "0": "2022-08-24 01:18:26.5969804",
                                    "1": "A1",
                                    "2": "A1\\Administrator",
                                    "3": "LGO ",
                                    "4": "1",
                                    "5": "LX",
                                    "6": "",
                                    "7": "",
                                    "8": "",
                                    "9": ""
                                },
                                {
                                    "0": "2022-08-24 01:18:28.8140879",
                                    "1": "A1",
                                    "2": "A1\\Administrator",
                                    "3": "VSST",
                                    "4": "1",
                                    "5": "SR",
                                    "6": "master",
                                    "7": "",
                                    "8": "",
                                    "9": "SELECT \r\nDB_NAME(database_id) AS DatabaseName\r\n, encryption_state_desc AS EncryptionState\r\n, key_algorithm AS Algorithm\r\n, key_length AS KeyLength\r\nFROM sys.dm_database_encryption_keys"
                                },
                                {
                                    "0": "2022-08-24 01:18:29.7566236",
                                    "1": "A1",
                                    "2": "A1\\Administrator",
                                    "3": "LGO ",
                                    "4": "1",
                                    "5": "LX",
                                    "6": "",
                                    "7": "",
                                    "8": "",
                                    "9": ""
                                },
                                {
                                    "0": "2022-08-24 01:18:29.7605370",
                                    "1": "A1",
                                    "2": "A1\\Administrator",
                                    "3": "LGO ",
                                    "4": "1",
                                    "5": "LX",
                                    "6": "",
                                    "7": "",
                                    "8": "",
                                    "9": ""
                                },
                                {
                                    "0": "2022-08-24 01:18:34.7684761",
                                    "1": "A1",
                                    "2": "A1\\Administrator",
                                    "3": "LGO ",
                                    "4": "1",
                                    "5": "LX",
                                    "6": "",
                                    "7": "",
                                    "8": "",
                                    "9": ""
                                },
                                {
                                    "0": "2022-08-24 01:18:37.1139617",
                                    "1": "A1",
                                    "2": "A1\\Administrator",
                                    "3": "LGO ",
                                    "4": "1",
                                    "5": "LX",
                                    "6": "",
                                    "7": "",
                                    "8": "",
                                    "9": ""
                                },
                                {
                                    "0": "2022-08-24 01:18:40.4847754",
                                    "1": "A1",
                                    "2": "A1\\Administrator",
                                    "3": "LGO ",
                                    "4": "1",
                                    "5": "LX",
                                    "6": "",
                                    "7": "",
                                    "8": "",
                                    "9": ""
                                },
                                {
                                    "0": "2022-08-24 01:18:55.6987374",
                                    "1": "A1",
                                    "2": "A1\\Administrator",
                                    "3": "LGO ",
                                    "4": "1",
                                    "5": "LX",
                                    "6": "",
                                    "7": "",
                                    "8": "",
                                    "9": ""
                                },
                                {
                                    "0": "2022-08-24 01:18:55.7017426",
                                    "1": "A1",
                                    "2": "A1\\Administrator",
                                    "3": "LGO ",
                                    "4": "1",
                                    "5": "LX",
                                    "6": "",
                                    "7": "",
                                    "8": "",
                                    "9": ""
                                },
                                {
                                    "0": "2022-08-24 01:18:55.7037202",
                                    "1": "A1",
                                    "2": "A1\\Administrator",
                                    "3": "LGO ",
                                    "4": "1",
                                    "5": "LX",
                                    "6": "",
                                    "7": "",
                                    "8": "",
                                    "9": ""
                                },
                                {
                                    "0": "2022-08-24 01:19:08.4161511",
                                    "1": "A1",
                                    "2": "A1\\Administrator",
                                    "3": "LGO ",
                                    "4": "1",
                                    "5": "LX",
                                    "6": "",
                                    "7": "",
                                    "8": "",
                                    "9": ""
                                },
                                {
                                    "0": "2022-08-24 01:21:10.5156882",
                                    "1": "A1",
                                    "2": "A1\\Administrator",
                                    "3": "LGO ",
                                    "4": "1",
                                    "5": "LX",
                                    "6": "",
                                    "7": "",
                                    "8": "",
                                    "9": ""
                                },
                                {
                                    "0": "2022-08-24 01:21:47.0547850",
                                    "1": "A1",
                                    "2": "A1\\Administrator",
                                    "3": "LGO ",
                                    "4": "1",
                                    "5": "LX",
                                    "6": "",
                                    "7": "",
                                    "8": "",
                                    "9": ""
                                },
                                {
                                    "0": "2022-08-24 01:21:47.0577656",
                                    "1": "A1",
                                    "2": "A1\\Administrator",
                                    "3": "LGO ",
                                    "4": "1",
                                    "5": "LX",
                                    "6": "",
                                    "7": "",
                                    "8": "",
                                    "9": ""
                                },
                                {
                                    "0": "2022-08-24 01:18:34.5929327",
                                    "1": "A1",
                                    "2": "A1\\Administrator",
                                    "3": "AUSC",
                                    "4": "1",
                                    "5": "A ",
                                    "6": "",
                                    "7": "",
                                    "8": "",
                                    "9": ""
                                },
                                {
                                    "0": "2022-08-24 01:18:39.2197736",
                                    "1": "A1",
                                    "2": "A1\\Administrator",
                                    "3": "IN  ",
                                    "4": "1",
                                    "5": "U ",
                                    "6": "SQLSecurityTest",
                                    "7": "dbo",
                                    "8": "Patient",
                                    "9": "INSERT INTO Patient (LoginID,FirstName,LastName,Address,City,SSN,CardNumber)\r\nVALUES ('6','Fred','Fernandez', '66 Freedom Fwy.', 'Fremont', '666-66-6666', '6666-6666-6666-6666')"
                                },
                                {
                                    "0": "2022-08-24 01:18:39.2227684",
                                    "1": "A1",
                                    "2": "A1\\Administrator",
                                    "3": "SL  ",
                                    "4": "1",
                                    "5": "U ",
                                    "6": "SQLSecurityTest",
                                    "7": "dbo",
                                    "8": "Patient",
                                    "9": "SELECT * FROM Patient\r\nWHERE LoginID > 3"
                                },
                                {
                                    "0": "2022-08-24 01:18:39.2297820",
                                    "1": "A1",
                                    "2": "A1\\Administrator",
                                    "3": "SL  ",
                                    "4": "1",
                                    "5": "U ",
                                    "6": "SQLSecurityTest",
                                    "7": "dbo",
                                    "8": "Patient",
                                    "9": "UPDATE Patient\r\nSET City = 'Fresno' \r\nWHERE City = 'Fremont'"
                                },
                                {
                                    "0": "2022-08-24 01:18:39.2297820",
                                    "1": "A1",
                                    "2": "A1\\Administrator",
                                    "3": "UP  ",
                                    "4": "1",
                                    "5": "U ",
                                    "6": "SQLSecurityTest",
                                    "7": "dbo",
                                    "8": "Patient",
                                    "9": "UPDATE Patient\r\nSET City = 'Fresno' \r\nWHERE City = 'Fremont'"
                                },
                                {
                                    "0": "2022-08-24 01:18:39.2637665",
                                    "1": "A1",
                                    "2": "A1\\Administrator",
                                    "3": "SL  ",
                                    "4": "1",
                                    "5": "U ",
                                    "6": "SQLSecurityTest",
                                    "7": "dbo",
                                    "8": "Patient",
                                    "9": "SELECT * FROM Patient\r\nWHERE LoginID > 3"
                                },
                                {
                                    "0": "2022-08-24 01:18:39.2727682",
                                    "1": "A1",
                                    "2": "A1\\Administrator",
                                    "3": "SL  ",
                                    "4": "1",
                                    "5": "U ",
                                    "6": "SQLSecurityTest",
                                    "7": "dbo",
                                    "8": "Patient",
                                    "9": "DELETE FROM Patient\r\nWHERE FirstName = 'Fred'"
                                },
                                {
                                    "0": "2022-08-24 01:18:39.2727682",
                                    "1": "A1",
                                    "2": "A1\\Administrator",
                                    "3": "DL  ",
                                    "4": "1",
                                    "5": "U ",
                                    "6": "SQLSecurityTest",
                                    "7": "dbo",
                                    "8": "Patient",
                                    "9": "DELETE FROM Patient\r\nWHERE FirstName = 'Fred'"
                                },
                                {
                                    "0": "2022-08-24 01:18:39.3077678",
                                    "1": "A1",
                                    "2": "A1\\Administrator",
                                    "3": "SL  ",
                                    "4": "1",
                                    "5": "U ",
                                    "6": "SQLSecurityTest",
                                    "7": "dbo",
                                    "8": "Patient",
                                    "9": "SELECT * FROM Patient"
                                }
                            ]
                        },
                        "text/html": [
                            "<table>",
                            "<tr><th>event_time</th><th>server_instance_name</th><th>server_principal_name</th><th>action_id</th><th>succeeded</th><th>class_type</th><th>database_name</th><th>schema_name</th><th>object_name</th><th>statement</th></tr>",
                            "<tr><td>2022-08-24 00:59:28.1688473</td><td>A1</td><td>A1\\Administrator</td><td>AUSC</td><td>1</td><td>A </td><td></td><td></td><td></td><td></td></tr>",
                            "<tr><td>2022-08-24 00:59:45.0287001</td><td>A1</td><td>A1\\Administrator</td><td>AUSC</td><td>1</td><td>A </td><td></td><td></td><td></td><td></td></tr>",
                            "<tr><td>2022-08-24 00:59:45.0444211</td><td>A1</td><td>A1\\Administrator</td><td>AUSC</td><td>1</td><td>A </td><td></td><td></td><td></td><td></td></tr>",
                            "<tr><td>2022-08-24 00:59:28.1778395</td><td>A1</td><td>A1\\Administrator</td><td>AUSC</td><td>1</td><td>A </td><td></td><td></td><td></td><td></td></tr>",
                            "<tr><td>2022-08-24 00:59:47.8988099</td><td>A1</td><td>A1\\Administrator</td><td>AUSC</td><td>1</td><td>A </td><td></td><td></td><td></td><td></td></tr>",
                            "<tr><td>2022-08-24 00:59:47.9305220</td><td>A1</td><td>A1\\Administrator</td><td>AUSC</td><td>1</td><td>A </td><td></td><td></td><td></td><td></td></tr>",
                            "<tr><td>2022-08-24 01:05:47.5856178</td><td>A1</td><td>A1\\Administrator</td><td>AUSC</td><td>1</td><td>A </td><td></td><td></td><td></td><td></td></tr>",
                            "<tr><td>2022-08-24 01:06:01.7001445</td><td>A1</td><td>A1\\Administrator</td><td>CR  </td><td>1</td><td>DB</td><td>master</td><td></td><td>SQLSecurityTest</td><td>CREATE DATABASE SQLSecurityTest</td></tr>",
                            "<tr><td>2022-08-24 01:08:35.4628254</td><td>A1</td><td>A1\\Administrator</td><td>CR  </td><td>1</td><td>US</td><td>SQLSecurityTest</td><td></td><td></td><td>CREATE USER [-Placeholder-\\User1] FOR LOGIN [-Placeholder-\\User1]\r\n</td></tr>",
                            "<tr><td>2022-08-24 01:08:35.4666681</td><td>A1</td><td>A1\\Administrator</td><td>CR  </td><td>1</td><td>US</td><td>SQLSecurityTest</td><td></td><td></td><td>CREATE USER [-Placeholder-\\User2] FOR LOGIN [-Placeholder-\\User2]\r\n</td></tr>",
                            "<tr><td>2022-08-24 01:08:35.4696695</td><td>A1</td><td>A1\\Administrator</td><td>CR  </td><td>1</td><td>SU</td><td>SQLSecurityTest</td><td></td><td>User3</td><td>CREATE USER [User3] FOR LOGIN [User3]\r\n</td></tr>",
                            "<tr><td>2022-08-24 01:08:35.4736673</td><td>A1</td><td>A1\\Administrator</td><td>CR  </td><td>1</td><td>SU</td><td>SQLSecurityTest</td><td></td><td>User4</td><td>CREATE USER [User4] FOR LOGIN [User4]\r\n</td></tr>",
                            "<tr><td>2022-08-24 01:09:37.5845166</td><td>A1</td><td>A1\\Administrator</td><td>DR  </td><td>1</td><td>SU</td><td>SQLSecurityTest</td><td></td><td>User3</td><td>DROP USER [User3]</td></tr>",
                            "<tr><td>2022-08-24 01:09:41.4247531</td><td>A1</td><td>A1\\Administrator</td><td>DR  </td><td>1</td><td>SU</td><td>SQLSecurityTest</td><td></td><td>User4</td><td>DROP USER [User4]</td></tr>",
                            "<tr><td>2022-08-24 01:09:43.4903977</td><td>A1</td><td>A1\\Administrator</td><td>CR  </td><td>1</td><td>WU</td><td>SQLSecurityTest</td><td></td><td>A1\\User1</td><td>CREATE USER [A1\\User1] FOR LOGIN [A1\\User1]\r\n</td></tr>",
                            "<tr><td>2022-08-24 01:09:43.4943968</td><td>A1</td><td>A1\\Administrator</td><td>CR  </td><td>1</td><td>WU</td><td>SQLSecurityTest</td><td></td><td>A1\\User2</td><td>CREATE USER [A1\\User2] FOR LOGIN [A1\\User2]\r\n</td></tr>",
                            "<tr><td>2022-08-24 01:09:43.4973966</td><td>A1</td><td>A1\\Administrator</td><td>CR  </td><td>1</td><td>SU</td><td>SQLSecurityTest</td><td></td><td>User3</td><td>CREATE USER [User3] FOR LOGIN [User3]\r\n</td></tr>",
                            "<tr><td>2022-08-24 01:09:43.5013971</td><td>A1</td><td>A1\\Administrator</td><td>CR  </td><td>1</td><td>SU</td><td>SQLSecurityTest</td><td></td><td>User4</td><td>CREATE USER [User4] FOR LOGIN [User4]\r\n</td></tr>",
                            "<tr><td>2022-08-24 01:10:13.9076331</td><td>A1</td><td>A1\\Administrator</td><td>CR  </td><td>1</td><td>RL</td><td>SQLSecurityTest</td><td></td><td>Stored_procedure_user_role</td><td>CREATE ROLE Stored_procedure_user_role;\r\n\r\n--Create a database role that will have permisison to query a view in the database\r\n</td></tr>",
                            "<tr><td>2022-08-24 01:10:13.9094963</td><td>A1</td><td>A1\\Administrator</td><td>CR  </td><td>1</td><td>RL</td><td>SQLSecurityTest</td><td></td><td>View_user_role</td><td>CREATE ROLE View_user_role;</td></tr>",
                            "<tr><td>2022-08-24 01:10:30.4313265</td><td>A1</td><td>A1\\Administrator</td><td>DR  </td><td>1</td><td>RL</td><td>SQLSecurityTest</td><td></td><td>Stored_procedure_user_role</td><td>DROP ROLE [Stored_procedure_user_role]</td></tr>",
                            "<tr><td>2022-08-24 01:10:33.4246312</td><td>A1</td><td>A1\\Administrator</td><td>DR  </td><td>1</td><td>RL</td><td>SQLSecurityTest</td><td></td><td>View_user_role</td><td>DROP ROLE [View_user_role]</td></tr>",
                            "<tr><td>2022-08-24 01:10:40.1652861</td><td>A1</td><td>A1\\Administrator</td><td>CR  </td><td>1</td><td>RL</td><td>SQLSecurityTest</td><td></td><td>Stored_procedure_user_role</td><td>CREATE ROLE Stored_procedure_user_role;\r\n\r\n--Create a database role that will have permisison to query a view in the database\r\n</td></tr>",
                            "<tr><td>2022-08-24 01:10:40.1662918</td><td>A1</td><td>A1\\Administrator</td><td>CR  </td><td>1</td><td>RL</td><td>SQLSecurityTest</td><td></td><td>View_user_role</td><td>CREATE ROLE View_user_role;</td></tr>",
                            "<tr><td>2022-08-24 01:11:09.4777309</td><td>A1</td><td>A1\\Administrator</td><td>APRL</td><td>1</td><td>RL</td><td>SQLSecurityTest</td><td></td><td>Stored_procedure_user_role</td><td>ALTER ROLE [Stored_procedure_user_role] ADD MEMBER [A1\\User2]\r\n</td></tr>",
                            "<tr><td>2022-08-24 01:11:09.4797291</td><td>A1</td><td>A1\\Administrator</td><td>APRL</td><td>1</td><td>RL</td><td>SQLSecurityTest</td><td></td><td>Stored_procedure_user_role</td><td>ALTER ROLE [Stored_procedure_user_role] ADD MEMBER [User3]\r\n</td></tr>",
                            "<tr><td>2022-08-24 01:11:09.4817359</td><td>A1</td><td>A1\\Administrator</td><td>APRL</td><td>1</td><td>RL</td><td>SQLSecurityTest</td><td></td><td>View_user_role</td><td>ALTER ROLE [View_user_role] ADD MEMBER [A1\\User1]\r\n</td></tr>",
                            "<tr><td>2022-08-24 01:11:09.4827537</td><td>A1</td><td>A1\\Administrator</td><td>APRL</td><td>1</td><td>RL</td><td>SQLSecurityTest</td><td></td><td>View_user_role</td><td>ALTER ROLE [View_user_role] ADD MEMBER [User4]\r\n</td></tr>",
                            "<tr><td>2022-08-24 01:12:02.1123794</td><td>A1</td><td>A1\\Administrator</td><td>AL  </td><td>1</td><td>SC</td><td>SQLSecurityTest</td><td></td><td>dbo</td><td>CREATE TABLE Patient (\r\n    LoginID tinyint\r\n    ,   LastName varchar(255)\r\n    ,   FirstName varchar(255)\r\n    ,   Address varchar(255)\r\n    ,   City varchar(255)\r\n    ,   SSN nvarchar(11)\r\n    ,   CardNumber nvarchar(19)\r\n    )</td></tr>",
                            "<tr><td>2022-08-24 01:12:02.1133966</td><td>A1</td><td>A1\\Administrator</td><td>CR  </td><td>1</td><td>U </td><td>SQLSecurityTest</td><td>dbo</td><td>Patient</td><td>CREATE TABLE Patient (\r\n    LoginID tinyint\r\n    ,   LastName varchar(255)\r\n    ,   FirstName varchar(255)\r\n    ,   Address varchar(255)\r\n    ,   City varchar(255)\r\n    ,   SSN nvarchar(11)\r\n    ,   CardNumber nvarchar(19)\r\n    )</td></tr>",
                            "<tr><td>2022-08-24 01:12:06.9172112</td><td>A1</td><td>A1\\Administrator</td><td>AL  </td><td>1</td><td>SC</td><td>SQLSecurityTest</td><td></td><td>dbo</td><td>CREATE VIEW Patient_Mailing_Address AS\r\nSELECT FirstName, LastName, Address, City\r\nFROM Patient</td></tr>",
                            "<tr><td>2022-08-24 01:12:06.9172112</td><td>A1</td><td>A1\\Administrator</td><td>CR  </td><td>1</td><td>V </td><td>SQLSecurityTest</td><td>dbo</td><td>Patient_Mailing_Address</td><td>CREATE VIEW Patient_Mailing_Address AS\r\nSELECT FirstName, LastName, Address, City\r\nFROM Patient</td></tr>",
                            "<tr><td>2022-08-24 01:12:15.9402791</td><td>A1</td><td>A1\\Administrator</td><td>AL  </td><td>1</td><td>SC</td><td>SQLSecurityTest</td><td></td><td>dbo</td><td>CREATE PROCEDURE uspGetCardInformation   \r\n    @Loginid tinyint  \r\nAS   \r\n\r\n    SET NOCOUNT ON;  \r\n    SELECT Loginid, cardnumber  \r\n    FROM Patient  \r\n    WHERE loginId= @loginId   \r\n</td></tr>",
                            "<tr><td>2022-08-24 01:12:15.9402791</td><td>A1</td><td>A1\\Administrator</td><td>CR  </td><td>1</td><td>P </td><td>SQLSecurityTest</td><td>dbo</td><td>uspGetCardInformation</td><td>CREATE PROCEDURE uspGetCardInformation   \r\n    @Loginid tinyint  \r\nAS   \r\n\r\n    SET NOCOUNT ON;  \r\n    SELECT Loginid, cardnumber  \r\n    FROM Patient  \r\n    WHERE loginId= @loginId   \r\n</td></tr>",
                            "<tr><td>2022-08-24 01:12:24.2169944</td><td>A1</td><td>A1\\Administrator</td><td>G   </td><td>1</td><td>U </td><td>SQLSecurityTest</td><td>dbo</td><td>Patient</td><td>GRANT CONTROL ON [dbo].[Patient] TO [A1\\User1]\r\n</td></tr>",
                            "<tr><td>2022-08-24 01:12:34.4740266</td><td>A1</td><td>A1\\Administrator</td><td>G   </td><td>1</td><td>P </td><td>SQLSecurityTest</td><td>dbo</td><td>uspGetCardInformation</td><td>GRANT EXECUTE ON [dbo].[uspGetCardInformation] TO [Stored_procedure_user_role]\r\n</td></tr>",
                            "<tr><td>2022-08-24 01:12:37.8398834</td><td>A1</td><td>A1\\Administrator</td><td>G   </td><td>1</td><td>V </td><td>SQLSecurityTest</td><td>dbo</td><td>Patient_Mailing_Address</td><td>GRANT SELECT ON [dbo].[Patient_Mailing_Address] TO [View_user_role]\r\n</td></tr>",
                            "<tr><td>2022-08-24 01:14:14.1621297</td><td>A1</td><td>A1\\Administrator</td><td>DR  </td><td>1</td><td>P </td><td>SQLSecurityTest</td><td>dbo</td><td>uspGetCardInformation</td><td>DROP PROCEDURE [dbo].[uspGetCardInformation]</td></tr>",
                            "<tr><td>2022-08-24 01:14:16.7672897</td><td>A1</td><td>A1\\Administrator</td><td>AL  </td><td>1</td><td>SC</td><td>SQLSecurityTest</td><td></td><td>dbo</td><td>CREATE PROCEDURE uspGetCardInformation   \r\n    @Loginid tinyint  \r\nAS   \r\n\r\n    SET NOCOUNT ON;  \r\n    SELECT cardnumber  \r\n    FROM Patient  \r\n    WHERE loginId= @loginId   \r\n</td></tr>",
                            "<tr><td>2022-08-24 01:14:16.7672897</td><td>A1</td><td>A1\\Administrator</td><td>CR  </td><td>1</td><td>P </td><td>SQLSecurityTest</td><td>dbo</td><td>uspGetCardInformation</td><td>CREATE PROCEDURE uspGetCardInformation   \r\n    @Loginid tinyint  \r\nAS   \r\n\r\n    SET NOCOUNT ON;  \r\n    SELECT cardnumber  \r\n    FROM Patient  \r\n    WHERE loginId= @loginId   \r\n</td></tr>",
                            "<tr><td>2022-08-24 01:16:00.9071213</td><td>A1</td><td>A1\\Administrator</td><td>G   </td><td>0</td><td>U </td><td>SQLSecurityTest</td><td>dbo</td><td>Patient</td><td>GRANT CONTROL ON [dbo].[Patient] TO [-Placeholder-\\User1]\r\n</td></tr>",
                            "<tr><td>2022-08-24 01:16:07.9720266</td><td>A1</td><td>A1\\Administrator</td><td>G   </td><td>1</td><td>U </td><td>SQLSecurityTest</td><td>dbo</td><td>Patient</td><td>GRANT CONTROL ON [dbo].[Patient] TO [A1\\User1]\r\n</td></tr>",
                            "<tr><td>2022-08-24 01:16:11.4720695</td><td>A1</td><td>A1\\Administrator</td><td>G   </td><td>1</td><td>P </td><td>SQLSecurityTest</td><td>dbo</td><td>uspGetCardInformation</td><td>GRANT EXECUTE ON [dbo].[uspGetCardInformation] TO [Stored_procedure_user_role]\r\n</td></tr>",
                            "<tr><td>2022-08-24 01:16:13.2262384</td><td>A1</td><td>A1\\Administrator</td><td>G   </td><td>1</td><td>V </td><td>SQLSecurityTest</td><td>dbo</td><td>Patient_Mailing_Address</td><td>GRANT SELECT ON [dbo].[Patient_Mailing_Address] TO [View_user_role]\r\n</td></tr>",
                            "<tr><td>2022-08-24 01:17:14.2493765</td><td>A1</td><td>A1\\Administrator</td><td>CR  </td><td>1</td><td>MK</td><td>SQLSecurityTest</td><td></td><td>##MS_DatabaseMasterKey##</td><td>CREATE MASTER KEY ENCRYPTION BY PASSWORD = '******';\r\n</td></tr>",
                            "<tr><td>2022-08-24 01:17:14.2543708</td><td>A1</td><td>A1\\Administrator</td><td>OP  </td><td>1</td><td>MK</td><td>SQLSecurityTest</td><td></td><td>##MS_DatabaseMasterKey##</td><td>OPEN MASTER KEY DECRYPTION BY PASSWORD = '******';\r\n</td></tr>",
                            "<tr><td>2022-08-24 01:17:14.2543708</td><td>A1</td><td>A1\\Administrator</td><td>BA  </td><td>1</td><td>MK</td><td>SQLSecurityTest</td><td></td><td>##MS_DatabaseMasterKey##</td><td>BACKUP MASTER KEY TO FILE = 'C:\\EncryptedDrive\\masterkey.mk' \r\n    ENCRYPTION BY PASSWORD = '******';\r\n</td></tr>",
                            "<tr><td>2022-08-24 01:18:03.3833183</td><td>A1</td><td>A1\\Administrator</td><td>CR  </td><td>1</td><td>CR</td><td>SQLSecurityTest</td><td></td><td>TDE_Cert</td><td>CREATE CERTIFICATE TDE_Cert WITH SUBJECT = 'TDE Certificate';\r\n</td></tr>",
                            "<tr><td>2022-08-24 01:18:03.3853078</td><td>A1</td><td>A1\\Administrator</td><td>BA  </td><td>1</td><td>CR</td><td>SQLSecurityTest</td><td></td><td>TDE_Cert</td><td>BACKUP CERTIFICATE TDE_Cert TO FILE = 'C:\\EncryptedDrive\\TDE_Cert.cer'\r\n    WITH PRIVATE KEY (\r\n        FILE = 'C:\\EncryptedDrive\\TDE_Cert.pvk',\r\n        ENCRYPTION BY PASSWORD = '******');\r\n</td></tr>",
                            "<tr><td>2022-08-24 01:18:26.4619552</td><td>A1</td><td>A1\\Administrator</td><td>CR  </td><td>1</td><td>DK</td><td>SQLSecurityTest</td><td></td><td>SQLSecurityTest</td><td>CREATE DATABASE ENCRYPTION KEY\r\n    WITH ALGORITHM = AES_256\r\n    ENCRYPTION BY SERVER CERTIFICATE TDE_Cert;\r\n</td></tr>",
                            "<tr><td>2022-08-24 01:18:26.5040940</td><td>A1</td><td>A1\\Administrator</td><td>AL  </td><td>1</td><td>DB</td><td>SQLSecurityTest</td><td></td><td>SQLSecurityTest</td><td>ALTER DATABASE SQLSecurityTest SET ENCRYPTION ON</td></tr>",
                            "<tr><td>2022-08-24 01:05:47.6465749</td><td>A1</td><td>A1\\Administrator</td><td>AUSC</td><td>1</td><td>A </td><td></td><td></td><td></td><td></td></tr>",
                            "<tr><td>2022-08-24 01:05:56.6506002</td><td>A1</td><td>A1\\Administrator</td><td>LGO </td><td>1</td><td>LX</td><td></td><td></td><td></td><td></td></tr>",
                            "<tr><td>2022-08-24 01:06:00.6379453</td><td>A1</td><td>A1\\Administrator</td><td>LGO </td><td>1</td><td>LX</td><td></td><td></td><td></td><td></td></tr>",
                            "<tr><td>2022-08-24 01:07:26.7150525</td><td>A1</td><td>A1\\Administrator</td><td>LGO </td><td>1</td><td>LX</td><td></td><td></td><td></td><td></td></tr>",
                            "<tr><td>2022-08-24 01:07:28.7297349</td><td>A1</td><td>A1\\Administrator</td><td>LGO </td><td>1</td><td>LX</td><td></td><td></td><td></td><td></td></tr>",
                            "<tr><td>2022-08-24 01:07:32.3769376</td><td>A1</td><td>A1\\Administrator</td><td>DR  </td><td>1</td><td>WL</td><td>master</td><td></td><td>A1\\User1</td><td>DROP LOGIN [A1\\User1]</td></tr>",
                            "<tr><td>2022-08-24 01:07:32.4984639</td><td>A1</td><td>A1\\Administrator</td><td>LGO </td><td>1</td><td>LX</td><td></td><td></td><td></td><td></td></tr>",
                            "<tr><td>2022-08-24 01:07:32.5342717</td><td>A1</td><td>A1\\Administrator</td><td>LGO </td><td>1</td><td>LX</td><td></td><td></td><td></td><td></td></tr>",
                            "<tr><td>2022-08-24 01:07:34.1665267</td><td>A1</td><td>A1\\Administrator</td><td>LGO </td><td>1</td><td>LX</td><td></td><td></td><td></td><td></td></tr>",
                            "<tr><td>2022-08-24 01:07:36.1769612</td><td>A1</td><td>A1\\Administrator</td><td>DR  </td><td>1</td><td>WL</td><td>master</td><td></td><td>A1\\User2</td><td>DROP LOGIN [A1\\User2]</td></tr>",
                            "<tr><td>2022-08-24 01:07:36.2550356</td><td>A1</td><td>A1\\Administrator</td><td>LGO </td><td>1</td><td>LX</td><td></td><td></td><td></td><td></td></tr>",
                            "<tr><td>2022-08-24 01:07:36.2867913</td><td>A1</td><td>A1\\Administrator</td><td>LGO </td><td>1</td><td>LX</td><td></td><td></td><td></td><td></td></tr>",
                            "<tr><td>2022-08-24 01:07:37.9854587</td><td>A1</td><td>A1\\Administrator</td><td>LGO </td><td>1</td><td>LX</td><td></td><td></td><td></td><td></td></tr>",
                            "<tr><td>2022-08-24 01:07:39.5809461</td><td>A1</td><td>A1\\Administrator</td><td>DR  </td><td>1</td><td>SL</td><td>master</td><td></td><td>User3</td><td>DROP LOGIN [User3]</td></tr>",
                            "<tr><td>2022-08-24 01:07:39.6351635</td><td>A1</td><td>A1\\Administrator</td><td>LGO </td><td>1</td><td>LX</td><td></td><td></td><td></td><td></td></tr>",
                            "<tr><td>2022-08-24 01:07:39.6661707</td><td>A1</td><td>A1\\Administrator</td><td>LGO </td><td>1</td><td>LX</td><td></td><td></td><td></td><td></td></tr>",
                            "<tr><td>2022-08-24 01:07:41.6014483</td><td>A1</td><td>A1\\Administrator</td><td>LGO </td><td>1</td><td>LX</td><td></td><td></td><td></td><td></td></tr>",
                            "<tr><td>2022-08-24 01:07:43.7509964</td><td>A1</td><td>A1\\Administrator</td><td>DR  </td><td>1</td><td>SL</td><td>master</td><td></td><td>User4</td><td>DROP LOGIN [User4]</td></tr>",
                            "<tr><td>2022-08-24 01:07:43.8367722</td><td>A1</td><td>A1\\Administrator</td><td>LGO </td><td>1</td><td>LX</td><td></td><td></td><td></td><td></td></tr>",
                            "<tr><td>2022-08-24 01:07:43.8847673</td><td>A1</td><td>A1\\Administrator</td><td>LGO </td><td>1</td><td>LX</td><td></td><td></td><td></td><td></td></tr>",
                            "<tr><td>2022-08-24 01:07:53.4568604</td><td>A1</td><td>A1\\Administrator</td><td>LGO </td><td>1</td><td>LX</td><td></td><td></td><td></td><td></td></tr>",
                            "<tr><td>2022-08-24 01:07:53.4648548</td><td>A1</td><td>A1\\Administrator</td><td>LGO </td><td>1</td><td>LX</td><td></td><td></td><td></td><td></td></tr>",
                            "<tr><td>2022-08-24 01:07:53.4678636</td><td>A1</td><td>A1\\Administrator</td><td>LGO </td><td>1</td><td>LX</td><td></td><td></td><td></td><td></td></tr>",
                            "<tr><td>2022-08-24 01:07:53.4698553</td><td>A1</td><td>A1\\Administrator</td><td>LGO </td><td>1</td><td>LX</td><td></td><td></td><td></td><td></td></tr>",
                            "<tr><td>2022-08-24 01:07:53.4842368</td><td>A1</td><td>A1\\Administrator</td><td>LGO </td><td>1</td><td>LX</td><td></td><td></td><td></td><td></td></tr>",
                            "<tr><td>2022-08-24 01:07:53.5072329</td><td>A1</td><td>A1\\Administrator</td><td>LGO </td><td>1</td><td>LX</td><td></td><td></td><td></td><td></td></tr>",
                            "<tr><td>2022-08-24 01:07:53.5142361</td><td>A1</td><td>A1\\Administrator</td><td>LGO </td><td>1</td><td>LX</td><td></td><td></td><td></td><td></td></tr>",
                            "<tr><td>2022-08-24 01:07:53.5182275</td><td>A1</td><td>A1\\Administrator</td><td>LGO </td><td>1</td><td>LX</td><td></td><td></td><td></td><td></td></tr>",
                            "<tr><td>2022-08-24 01:07:53.5302508</td><td>A1</td><td>A1\\Administrator</td><td>LGO </td><td>1</td><td>LX</td><td></td><td></td><td></td><td></td></tr>",
                            "<tr><td>2022-08-24 01:07:53.5512272</td><td>A1</td><td>A1\\Administrator</td><td>LGO </td><td>1</td><td>LX</td><td></td><td></td><td></td><td></td></tr>",
                            "<tr><td>2022-08-24 01:07:53.5672667</td><td>A1</td><td>A1\\Administrator</td><td>LGO </td><td>1</td><td>LX</td><td></td><td></td><td></td><td></td></tr>",
                            "<tr><td>2022-08-24 01:07:53.5712263</td><td>A1</td><td>A1\\Administrator</td><td>LGO </td><td>1</td><td>LX</td><td></td><td></td><td></td><td></td></tr>",
                            "<tr><td>2022-08-24 01:07:53.5732331</td><td>A1</td><td>A1\\Administrator</td><td>LGO </td><td>1</td><td>LX</td><td></td><td></td><td></td><td></td></tr>",
                            "<tr><td>2022-08-24 01:07:53.5762673</td><td>A1</td><td>A1\\Administrator</td><td>LGO </td><td>1</td><td>LX</td><td></td><td></td><td></td><td></td></tr>",
                            "<tr><td>2022-08-24 01:07:53.5912379</td><td>A1</td><td>A1\\Administrator</td><td>LGO </td><td>1</td><td>LX</td><td></td><td></td><td></td><td></td></tr>",
                            "<tr><td>2022-08-24 01:07:53.6002259</td><td>A1</td><td>A1\\Administrator</td><td>LGO </td><td>1</td><td>LX</td><td></td><td></td><td></td><td></td></tr>",
                            "<tr><td>2022-08-24 01:07:53.6489807</td><td>A1</td><td>A1\\Administrator</td><td>LGO </td><td>1</td><td>LX</td><td></td><td></td><td></td><td></td></tr>",
                            "<tr><td>2022-08-24 01:07:53.6807208</td><td>A1</td><td>A1\\Administrator</td><td>LGO </td><td>1</td><td>LX</td><td></td><td></td><td></td><td></td></tr>",
                            "<tr><td>2022-08-24 01:07:53.7372278</td><td>A1</td><td>A1\\Administrator</td><td>LGO </td><td>1</td><td>LX</td><td></td><td></td><td></td><td></td></tr>",
                            "<tr><td>2022-08-24 01:07:53.7442437</td><td>A1</td><td>A1\\Administrator</td><td>LGO </td><td>1</td><td>LX</td><td></td><td></td><td></td><td></td></tr>",
                            "<tr><td>2022-08-24 01:07:53.7599002</td><td>A1</td><td>A1\\Administrator</td><td>LGO </td><td>1</td><td>LX</td><td></td><td></td><td></td><td></td></tr>",
                            "<tr><td>2022-08-24 01:07:53.7664913</td><td>A1</td><td>A1\\Administrator</td><td>LGO </td><td>1</td><td>LX</td><td></td><td></td><td></td><td></td></tr>",
                            "<tr><td>2022-08-24 01:07:53.7734886</td><td>A1</td><td>A1\\Administrator</td><td>LGO </td><td>1</td><td>LX</td><td></td><td></td><td></td><td></td></tr>",
                            "<tr><td>2022-08-24 01:07:53.7814892</td><td>A1</td><td>A1\\Administrator</td><td>LGO </td><td>1</td><td>LX</td><td></td><td></td><td></td><td></td></tr>",
                            "<tr><td>2022-08-24 01:08:35.4277109</td><td>A1</td><td>A1\\Administrator</td><td>CR  </td><td>1</td><td>WL</td><td>master</td><td></td><td></td><td>CREATE LOGIN [-Placeholder-\\User1] FROM WINDOWS WITH DEFAULT_DATABASE=[SQLSecurityTest]\r\n</td></tr>",
                            "<tr><td>2022-08-24 01:08:35.4628254</td><td>A1</td><td>A1\\Administrator</td><td>CR  </td><td>1</td><td>US</td><td>SQLSecurityTest</td><td></td><td></td><td>CREATE USER [-Placeholder-\\User1] FOR LOGIN [-Placeholder-\\User1]\r\n</td></tr>",
                            "<tr><td>2022-08-24 01:08:35.4646710</td><td>A1</td><td>A1\\Administrator</td><td>CR  </td><td>1</td><td>WL</td><td>master</td><td></td><td></td><td>CREATE LOGIN [-Placeholder-\\User2] FROM WINDOWS WITH DEFAULT_DATABASE=[SQLSecurityTest]\r\n</td></tr>",
                            "<tr><td>2022-08-24 01:08:35.4666681</td><td>A1</td><td>A1\\Administrator</td><td>CR  </td><td>1</td><td>US</td><td>SQLSecurityTest</td><td></td><td></td><td>CREATE USER [-Placeholder-\\User2] FOR LOGIN [-Placeholder-\\User2]\r\n</td></tr>",
                            "<tr><td>2022-08-24 01:08:35.4676688</td><td>A1</td><td>A1\\Administrator</td><td>CR  </td><td>1</td><td>SL</td><td>master</td><td></td><td>User3</td><td>CREATE LOGIN [User3] WITH PASSWORD=N'******', DEFAULT_DATABASE=[SQLSecurityTest], CHECK_EXPIRATION=OFF, CHECK_POLICY=OFF\r\n</td></tr>",
                            "<tr><td>2022-08-24 01:08:35.4696695</td><td>A1</td><td>A1\\Administrator</td><td>CR  </td><td>1</td><td>SU</td><td>SQLSecurityTest</td><td></td><td>User3</td><td>CREATE USER [User3] FOR LOGIN [User3]\r\n</td></tr>",
                            "<tr><td>2022-08-24 01:08:35.4716707</td><td>A1</td><td>A1\\Administrator</td><td>CR  </td><td>1</td><td>SL</td><td>master</td><td></td><td>User4</td><td>CREATE LOGIN [User4] WITH PASSWORD=N'******', DEFAULT_DATABASE=[SQLSecurityTest], CHECK_EXPIRATION=OFF, CHECK_POLICY=OFF\r\n</td></tr>",
                            "<tr><td>2022-08-24 01:08:35.4736673</td><td>A1</td><td>A1\\Administrator</td><td>CR  </td><td>1</td><td>SU</td><td>SQLSecurityTest</td><td></td><td>User4</td><td>CREATE USER [User4] FOR LOGIN [User4]\r\n</td></tr>",
                            "<tr><td>2022-08-24 01:08:43.6067100</td><td>A1</td><td>A1\\Administrator</td><td>LGO </td><td>1</td><td>LX</td><td></td><td></td><td></td><td></td></tr>",
                            "<tr><td>2022-08-24 01:08:43.6087459</td><td>A1</td><td>A1\\Administrator</td><td>LGO </td><td>1</td><td>LX</td><td></td><td></td><td></td><td></td></tr>",
                            "<tr><td>2022-08-24 01:09:08.3264886</td><td>A1</td><td>A1\\Administrator</td><td>LGO </td><td>1</td><td>LX</td><td></td><td></td><td></td><td></td></tr>",
                            "<tr><td>2022-08-24 01:09:10.4893595</td><td>A1</td><td>A1\\Administrator</td><td>LGO </td><td>1</td><td>LX</td><td></td><td></td><td></td><td></td></tr>",
                            "<tr><td>2022-08-24 01:09:12.9390128</td><td>A1</td><td>A1\\Administrator</td><td>DR  </td><td>1</td><td>SL</td><td>master</td><td></td><td>User3</td><td>DROP LOGIN [User3]</td></tr>",
                            "<tr><td>2022-08-24 01:09:13.0046967</td><td>A1</td><td>A1\\Administrator</td><td>LGO </td><td>1</td><td>LX</td><td></td><td></td><td></td><td></td></tr>",
                            "<tr><td>2022-08-24 01:09:13.0376940</td><td>A1</td><td>A1\\Administrator</td><td>LGO </td><td>1</td><td>LX</td><td></td><td></td><td></td><td></td></tr>",
                            "<tr><td>2022-08-24 01:09:14.6254667</td><td>A1</td><td>A1\\Administrator</td><td>LGO </td><td>1</td><td>LX</td><td></td><td></td><td></td><td></td></tr>",
                            "<tr><td>2022-08-24 01:09:16.7699100</td><td>A1</td><td>A1\\Administrator</td><td>DR  </td><td>1</td><td>SL</td><td>master</td><td></td><td>User4</td><td>DROP LOGIN [User4]</td></tr>",
                            "<tr><td>2022-08-24 01:09:16.8364234</td><td>A1</td><td>A1\\Administrator</td><td>LGO </td><td>1</td><td>LX</td><td></td><td></td><td></td><td></td></tr>",
                            "<tr><td>2022-08-24 01:09:16.8824681</td><td>A1</td><td>A1\\Administrator</td><td>LGO </td><td>1</td><td>LX</td><td></td><td></td><td></td><td></td></tr>",
                            "<tr><td>2022-08-24 01:09:28.7061867</td><td>A1</td><td>A1\\Administrator</td><td>LGO </td><td>1</td><td>LX</td><td></td><td></td><td></td><td></td></tr>",
                            "<tr><td>2022-08-24 01:09:28.7061867</td><td>A1</td><td>A1\\Administrator</td><td>LGO </td><td>1</td><td>LX</td><td></td><td></td><td></td><td></td></tr>",
                            "<tr><td>2022-08-24 01:09:29.5663751</td><td>A1</td><td>A1\\Administrator</td><td>LGO </td><td>1</td><td>LX</td><td></td><td></td><td></td><td></td></tr>",
                            "<tr><td>2022-08-24 01:09:30.2015572</td><td>A1</td><td>A1\\Administrator</td><td>LGO </td><td>1</td><td>LX</td><td></td><td></td><td></td><td></td></tr>",
                            "<tr><td>2022-08-24 01:09:34.4559608</td><td>A1</td><td>A1\\Administrator</td><td>LGO </td><td>1</td><td>LX</td><td></td><td></td><td></td><td></td></tr>",
                            "<tr><td>2022-08-24 01:09:36.3657181</td><td>A1</td><td>A1\\Administrator</td><td>LGO </td><td>1</td><td>LX</td><td></td><td></td><td></td><td></td></tr>",
                            "<tr><td>2022-08-24 01:09:37.5845166</td><td>A1</td><td>A1\\Administrator</td><td>DR  </td><td>1</td><td>SU</td><td>SQLSecurityTest</td><td></td><td>User3</td><td>DROP USER [User3]</td></tr>",
                            "<tr><td>2022-08-24 01:09:37.7183972</td><td>A1</td><td>A1\\Administrator</td><td>LGO </td><td>1</td><td>LX</td><td></td><td></td><td></td><td></td></tr>",
                            "<tr><td>2022-08-24 01:09:37.7531139</td><td>A1</td><td>A1\\Administrator</td><td>LGO </td><td>1</td><td>LX</td><td></td><td></td><td></td><td></td></tr>",
                            "<tr><td>2022-08-24 01:09:40.1125650</td><td>A1</td><td>A1\\Administrator</td><td>LGO </td><td>1</td><td>LX</td><td></td><td></td><td></td><td></td></tr>",
                            "<tr><td>2022-08-24 01:09:41.4247531</td><td>A1</td><td>A1\\Administrator</td><td>DR  </td><td>1</td><td>SU</td><td>SQLSecurityTest</td><td></td><td>User4</td><td>DROP USER [User4]</td></tr>",
                            "<tr><td>2022-08-24 01:09:41.4770342</td><td>A1</td><td>A1\\Administrator</td><td>LGO </td><td>1</td><td>LX</td><td></td><td></td><td></td><td></td></tr>",
                            "<tr><td>2022-08-24 01:09:41.5070413</td><td>A1</td><td>A1\\Administrator</td><td>LGO </td><td>1</td><td>LX</td><td></td><td></td><td></td><td></td></tr>",
                            "<tr><td>2022-08-24 01:09:43.4873981</td><td>A1</td><td>A1\\Administrator</td><td>CR  </td><td>1</td><td>WL</td><td>master</td><td></td><td>A1\\User1</td><td>CREATE LOGIN [A1\\User1] FROM WINDOWS WITH DEFAULT_DATABASE=[SQLSecurityTest]\r\n</td></tr>",
                            "<tr><td>2022-08-24 01:09:43.4903977</td><td>A1</td><td>A1\\Administrator</td><td>CR  </td><td>1</td><td>WU</td><td>SQLSecurityTest</td><td></td><td>A1\\User1</td><td>CREATE USER [A1\\User1] FOR LOGIN [A1\\User1]\r\n</td></tr>",
                            "<tr><td>2022-08-24 01:09:43.4923970</td><td>A1</td><td>A1\\Administrator</td><td>CR  </td><td>1</td><td>WL</td><td>master</td><td></td><td>A1\\User2</td><td>CREATE LOGIN [A1\\User2] FROM WINDOWS WITH DEFAULT_DATABASE=[SQLSecurityTest]\r\n</td></tr>",
                            "<tr><td>2022-08-24 01:09:43.4943968</td><td>A1</td><td>A1\\Administrator</td><td>CR  </td><td>1</td><td>WU</td><td>SQLSecurityTest</td><td></td><td>A1\\User2</td><td>CREATE USER [A1\\User2] FOR LOGIN [A1\\User2]\r\n</td></tr>",
                            "<tr><td>2022-08-24 01:09:43.4963969</td><td>A1</td><td>A1\\Administrator</td><td>CR  </td><td>1</td><td>SL</td><td>master</td><td></td><td>User3</td><td>CREATE LOGIN [User3] WITH PASSWORD=N'******', DEFAULT_DATABASE=[SQLSecurityTest], CHECK_EXPIRATION=OFF, CHECK_POLICY=OFF\r\n</td></tr>",
                            "<tr><td>2022-08-24 01:09:43.4973966</td><td>A1</td><td>A1\\Administrator</td><td>CR  </td><td>1</td><td>SU</td><td>SQLSecurityTest</td><td></td><td>User3</td><td>CREATE USER [User3] FOR LOGIN [User3]\r\n</td></tr>",
                            "<tr><td>2022-08-24 01:09:43.4993968</td><td>A1</td><td>A1\\Administrator</td><td>CR  </td><td>1</td><td>SL</td><td>master</td><td></td><td>User4</td><td>CREATE LOGIN [User4] WITH PASSWORD=N'******', DEFAULT_DATABASE=[SQLSecurityTest], CHECK_EXPIRATION=OFF, CHECK_POLICY=OFF\r\n</td></tr>",
                            "<tr><td>2022-08-24 01:09:43.5013971</td><td>A1</td><td>A1\\Administrator</td><td>CR  </td><td>1</td><td>SU</td><td>SQLSecurityTest</td><td></td><td>User4</td><td>CREATE USER [User4] FOR LOGIN [User4]\r\n</td></tr>",
                            "<tr><td>2022-08-24 01:09:54.9877036</td><td>A1</td><td>A1\\Administrator</td><td>LGO </td><td>1</td><td>LX</td><td></td><td></td><td></td><td></td></tr>",
                            "<tr><td>2022-08-24 01:09:54.9877036</td><td>A1</td><td>A1\\Administrator</td><td>LGO </td><td>1</td><td>LX</td><td></td><td></td><td></td><td></td></tr>",
                            "<tr><td>2022-08-24 01:09:54.9997091</td><td>A1</td><td>A1\\Administrator</td><td>LGO </td><td>1</td><td>LX</td><td></td><td></td><td></td><td></td></tr>",
                            "<tr><td>2022-08-24 01:09:54.9997091</td><td>A1</td><td>A1\\Administrator</td><td>LGO </td><td>1</td><td>LX</td><td></td><td></td><td></td><td></td></tr>",
                            "<tr><td>2022-08-24 01:09:55.0628275</td><td>A1</td><td>A1\\Administrator</td><td>LGO </td><td>1</td><td>LX</td><td></td><td></td><td></td><td></td></tr>",
                            "<tr><td>2022-08-24 01:09:55.0628275</td><td>A1</td><td>A1\\Administrator</td><td>LGO </td><td>1</td><td>LX</td><td></td><td></td><td></td><td></td></tr>",
                            "<tr><td>2022-08-24 01:09:55.0784782</td><td>A1</td><td>A1\\Administrator</td><td>LGO </td><td>1</td><td>LX</td><td></td><td></td><td></td><td></td></tr>",
                            "<tr><td>2022-08-24 01:10:12.0158258</td><td>A1</td><td>A1\\Administrator</td><td>LGO </td><td>1</td><td>LX</td><td></td><td></td><td></td><td></td></tr>",
                            "<tr><td>2022-08-24 01:10:13.9076331</td><td>A1</td><td>A1\\Administrator</td><td>CR  </td><td>1</td><td>SG</td><td>master</td><td></td><td></td><td>CREATE SERVER ROLE SQLSecurityTest_Table_Owner;\r\n\r\n-- Create a database role that will eventually have rights to execute a stored procedure in the database\r\n</td></tr>",
                            "<tr><td>2022-08-24 01:10:13.9076331</td><td>A1</td><td>A1\\Administrator</td><td>CR  </td><td>1</td><td>RL</td><td>SQLSecurityTest</td><td></td><td>Stored_procedure_user_role</td><td>CREATE ROLE Stored_procedure_user_role;\r\n\r\n--Create a database role that will have permisison to query a view in the database\r\n</td></tr>",
                            "<tr><td>2022-08-24 01:10:13.9094963</td><td>A1</td><td>A1\\Administrator</td><td>CR  </td><td>1</td><td>RL</td><td>SQLSecurityTest</td><td></td><td>View_user_role</td><td>CREATE ROLE View_user_role;</td></tr>",
                            "<tr><td>2022-08-24 01:10:25.6035199</td><td>A1</td><td>A1\\Administrator</td><td>LGO </td><td>1</td><td>LX</td><td></td><td></td><td></td><td></td></tr>",
                            "<tr><td>2022-08-24 01:10:29.0978115</td><td>A1</td><td>A1\\Administrator</td><td>LGO </td><td>1</td><td>LX</td><td></td><td></td><td></td><td></td></tr>",
                            "<tr><td>2022-08-24 01:10:30.4313265</td><td>A1</td><td>A1\\Administrator</td><td>DR  </td><td>1</td><td>RL</td><td>SQLSecurityTest</td><td></td><td>Stored_procedure_user_role</td><td>DROP ROLE [Stored_procedure_user_role]</td></tr>",
                            "<tr><td>2022-08-24 01:10:30.4658175</td><td>A1</td><td>A1\\Administrator</td><td>LGO </td><td>1</td><td>LX</td><td></td><td></td><td></td><td></td></tr>",
                            "<tr><td>2022-08-24 01:10:30.5018221</td><td>A1</td><td>A1\\Administrator</td><td>LGO </td><td>1</td><td>LX</td><td></td><td></td><td></td><td></td></tr>",
                            "<tr><td>2022-08-24 01:10:32.4538087</td><td>A1</td><td>A1\\Administrator</td><td>LGO </td><td>1</td><td>LX</td><td></td><td></td><td></td><td></td></tr>",
                            "<tr><td>2022-08-24 01:10:33.4246312</td><td>A1</td><td>A1\\Administrator</td><td>DR  </td><td>1</td><td>RL</td><td>SQLSecurityTest</td><td></td><td>View_user_role</td><td>DROP ROLE [View_user_role]</td></tr>",
                            "<tr><td>2022-08-24 01:10:33.4660238</td><td>A1</td><td>A1\\Administrator</td><td>LGO </td><td>1</td><td>LX</td><td></td><td></td><td></td><td></td></tr>",
                            "<tr><td>2022-08-24 01:10:33.5170715</td><td>A1</td><td>A1\\Administrator</td><td>LGO </td><td>1</td><td>LX</td><td></td><td></td><td></td><td></td></tr>",
                            "<tr><td>2022-08-24 01:10:34.9177782</td><td>A1</td><td>A1\\Administrator</td><td>LGO </td><td>1</td><td>LX</td><td></td><td></td><td></td><td></td></tr>",
                            "<tr><td>2022-08-24 01:10:37.4189128</td><td>A1</td><td>A1\\Administrator</td><td>LGO </td><td>1</td><td>LX</td><td></td><td></td><td></td><td></td></tr>",
                            "<tr><td>2022-08-24 01:10:38.8022146</td><td>A1</td><td>A1\\Administrator</td><td>DR  </td><td>1</td><td>SG</td><td>master</td><td></td><td>SQLSecurityTest_Table_Owner</td><td>DROP SERVER ROLE [SQLSecurityTest_Table_Owner]</td></tr>",
                            "<tr><td>2022-08-24 01:10:38.8452138</td><td>A1</td><td>A1\\Administrator</td><td>LGO </td><td>1</td><td>LX</td><td></td><td></td><td></td><td></td></tr>",
                            "<tr><td>2022-08-24 01:10:38.8752135</td><td>A1</td><td>A1\\Administrator</td><td>LGO </td><td>1</td><td>LX</td><td></td><td></td><td></td><td></td></tr>",
                            "<tr><td>2022-08-24 01:10:40.1642940</td><td>A1</td><td>A1\\Administrator</td><td>CR  </td><td>1</td><td>SG</td><td>master</td><td></td><td>SQLSecurityTest_Table_Owner</td><td>CREATE SERVER ROLE SQLSecurityTest_Table_Owner;\r\n\r\n-- Create a database role that will eventually have rights to execute a stored procedure in the database\r\n</td></tr>",
                            "<tr><td>2022-08-24 01:10:40.1652861</td><td>A1</td><td>A1\\Administrator</td><td>CR  </td><td>1</td><td>RL</td><td>SQLSecurityTest</td><td></td><td>Stored_procedure_user_role</td><td>CREATE ROLE Stored_procedure_user_role;\r\n\r\n--Create a database role that will have permisison to query a view in the database\r\n</td></tr>",
                            "<tr><td>2022-08-24 01:10:40.1662918</td><td>A1</td><td>A1\\Administrator</td><td>CR  </td><td>1</td><td>RL</td><td>SQLSecurityTest</td><td></td><td>View_user_role</td><td>CREATE ROLE View_user_role;</td></tr>",
                            "<tr><td>2022-08-24 01:10:45.5818190</td><td>A1</td><td>A1\\Administrator</td><td>LGO </td><td>1</td><td>LX</td><td></td><td></td><td></td><td></td></tr>",
                            "<tr><td>2022-08-24 01:10:46.1603637</td><td>A1</td><td>A1\\Administrator</td><td>LGO </td><td>1</td><td>LX</td><td></td><td></td><td></td><td></td></tr>",
                            "<tr><td>2022-08-24 01:10:46.1623708</td><td>A1</td><td>A1\\Administrator</td><td>LGO </td><td>1</td><td>LX</td><td></td><td></td><td></td><td></td></tr>",
                            "<tr><td>2022-08-24 01:11:09.4755470</td><td>A1</td><td>A1\\Administrator</td><td>APRL</td><td>1</td><td>SG</td><td>master</td><td></td><td>SQLSecurityTest_Table_Owner</td><td>ALTER SERVER ROLE [SQLSecurityTest_Table_Owner] ADD MEMBER [A1\\User1]\r\n</td></tr>",
                            "<tr><td>2022-08-24 01:11:15.5324495</td><td>A1</td><td>A1\\Administrator</td><td>LGO </td><td>1</td><td>LX</td><td></td><td></td><td></td><td></td></tr>",
                            "<tr><td>2022-08-24 01:11:15.5364321</td><td>A1</td><td>A1\\Administrator</td><td>LGO </td><td>1</td><td>LX</td><td></td><td></td><td></td><td></td></tr>",
                            "<tr><td>2022-08-24 01:11:15.5394323</td><td>A1</td><td>A1\\Administrator</td><td>LGO </td><td>1</td><td>LX</td><td></td><td></td><td></td><td></td></tr>",
                            "<tr><td>2022-08-24 01:11:31.3702575</td><td>A1</td><td>A1\\Administrator</td><td>LGO </td><td>1</td><td>LX</td><td></td><td></td><td></td><td></td></tr>",
                            "<tr><td>2022-08-24 01:11:32.2373949</td><td>A1</td><td>A1\\Administrator</td><td>DR  </td><td>1</td><td>SG</td><td>master</td><td></td><td>examplerole</td><td>DROP SERVER ROLE [examplerole]</td></tr>",
                            "<tr><td>2022-08-24 01:11:32.2837266</td><td>A1</td><td>A1\\Administrator</td><td>LGO </td><td>1</td><td>LX</td><td></td><td></td><td></td><td></td></tr>",
                            "<tr><td>2022-08-24 01:11:32.3137361</td><td>A1</td><td>A1\\Administrator</td><td>LGO </td><td>1</td><td>LX</td><td></td><td></td><td></td><td></td></tr>",
                            "<tr><td>2022-08-24 01:11:48.3309712</td><td>A1</td><td>A1\\Administrator</td><td>LGO </td><td>1</td><td>LX</td><td></td><td></td><td></td><td></td></tr>",
                            "<tr><td>2022-08-24 01:11:57.7998190</td><td>A1</td><td>A1\\Administrator</td><td>LGO </td><td>1</td><td>LX</td><td></td><td></td><td></td><td></td></tr>",
                            "<tr><td>2022-08-24 01:11:57.8310476</td><td>A1</td><td>A1\\Administrator</td><td>LGO </td><td>1</td><td>LX</td><td></td><td></td><td></td><td></td></tr>",
                            "<tr><td>2022-08-24 01:11:57.8310476</td><td>A1</td><td>A1\\Administrator</td><td>LGO </td><td>1</td><td>LX</td><td></td><td></td><td></td><td></td></tr>",
                            "<tr><td>2022-08-24 01:12:05.5353495</td><td>A1</td><td>A1\\Administrator</td><td>LGO </td><td>1</td><td>LX</td><td></td><td></td><td></td><td></td></tr>",
                            "<tr><td>2022-08-24 01:12:08.9899874</td><td>A1</td><td>A1\\Administrator</td><td>LGO </td><td>1</td><td>LX</td><td></td><td></td><td></td><td></td></tr>",
                            "<tr><td>2022-08-24 01:12:14.1581044</td><td>A1</td><td>A1\\Administrator</td><td>LGO </td><td>1</td><td>LX</td><td></td><td></td><td></td><td></td></tr>",
                            "<tr><td>2022-08-24 01:12:18.6447596</td><td>A1</td><td>A1\\Administrator</td><td>LGO </td><td>1</td><td>LX</td><td></td><td></td><td></td><td></td></tr>",
                            "<tr><td>2022-08-24 01:12:31.4668058</td><td>A1</td><td>A1\\Administrator</td><td>LGO </td><td>1</td><td>LX</td><td></td><td></td><td></td><td></td></tr>",
                            "<tr><td>2022-08-24 01:12:36.1488814</td><td>A1</td><td>A1\\Administrator</td><td>LGO </td><td>1</td><td>LX</td><td></td><td></td><td></td><td></td></tr>",
                            "<tr><td>2022-08-24 01:14:06.5413067</td><td>A1</td><td>A1\\Administrator</td><td>LGO </td><td>1</td><td>LX</td><td></td><td></td><td></td><td></td></tr>",
                            "<tr><td>2022-08-24 01:14:11.0343967</td><td>A1</td><td>A1\\Administrator</td><td>LGO </td><td>1</td><td>LX</td><td></td><td></td><td></td><td></td></tr>",
                            "<tr><td>2022-08-24 01:14:11.0499497</td><td>A1</td><td>A1\\Administrator</td><td>LGO </td><td>1</td><td>LX</td><td></td><td></td><td></td><td></td></tr>",
                            "<tr><td>2022-08-24 01:14:13.1021738</td><td>A1</td><td>A1\\Administrator</td><td>LGO </td><td>1</td><td>LX</td><td></td><td></td><td></td><td></td></tr>",
                            "<tr><td>2022-08-24 01:14:14.2118114</td><td>A1</td><td>A1\\Administrator</td><td>LGO </td><td>1</td><td>LX</td><td></td><td></td><td></td><td></td></tr>",
                            "<tr><td>2022-08-24 01:14:14.2618139</td><td>A1</td><td>A1\\Administrator</td><td>LGO </td><td>1</td><td>LX</td><td></td><td></td><td></td><td></td></tr>",
                            "<tr><td>2022-08-24 01:14:17.2483354</td><td>A1</td><td>A1\\Administrator</td><td>LGO </td><td>1</td><td>LX</td><td></td><td></td><td></td><td></td></tr>",
                            "<tr><td>2022-08-24 01:14:17.2513373</td><td>A1</td><td>A1\\Administrator</td><td>LGO </td><td>1</td><td>LX</td><td></td><td></td><td></td><td></td></tr>",
                            "<tr><td>2022-08-24 01:14:17.2543349</td><td>A1</td><td>A1\\Administrator</td><td>LGO </td><td>1</td><td>LX</td><td></td><td></td><td></td><td></td></tr>",
                            "<tr><td>2022-08-24 01:15:00.7372388</td><td>A1</td><td>NT SERVICE\\SQLSERVERAGENT</td><td>LGIF</td><td>0</td><td>LX</td><td></td><td></td><td></td><td>Login failed for user 'NT SERVICE\\SQLSERVERAGENT'. Reason: Failed to open the explicitly specified database 'DB_Administration'. [CLIENT: &lt;local machine&gt;]</td></tr>",
                            "<tr><td>2022-08-24 01:16:01.0120752</td><td>A1</td><td>A1\\Administrator</td><td>LGO </td><td>1</td><td>LX</td><td></td><td></td><td></td><td></td></tr>",
                            "<tr><td>2022-08-24 01:16:08.9777445</td><td>A1</td><td>A1\\Administrator</td><td>LGO </td><td>1</td><td>LX</td><td></td><td></td><td></td><td></td></tr>",
                            "<tr><td>2022-08-24 01:16:08.9807228</td><td>A1</td><td>A1\\Administrator</td><td>LGO </td><td>1</td><td>LX</td><td></td><td></td><td></td><td></td></tr>",
                            "<tr><td>2022-08-24 01:16:09.0795536</td><td>A1</td><td>A1\\Administrator</td><td>LGO </td><td>1</td><td>LX</td><td></td><td></td><td></td><td></td></tr>",
                            "<tr><td>2022-08-24 01:16:09.0825628</td><td>A1</td><td>A1\\Administrator</td><td>LGO </td><td>1</td><td>LX</td><td></td><td></td><td></td><td></td></tr>",
                            "<tr><td>2022-08-24 01:16:09.0865318</td><td>A1</td><td>A1\\Administrator</td><td>LGO </td><td>1</td><td>LX</td><td></td><td></td><td></td><td></td></tr>",
                            "<tr><td>2022-08-24 01:16:09.0884989</td><td>A1</td><td>A1\\Administrator</td><td>LGO </td><td>1</td><td>LX</td><td></td><td></td><td></td><td></td></tr>",
                            "<tr><td>2022-08-24 01:16:09.0904917</td><td>A1</td><td>A1\\Administrator</td><td>LGO </td><td>1</td><td>LX</td><td></td><td></td><td></td><td></td></tr>",
                            "<tr><td>2022-08-24 01:16:09.0924896</td><td>A1</td><td>A1\\Administrator</td><td>LGO </td><td>1</td><td>LX</td><td></td><td></td><td></td><td></td></tr>",
                            "<tr><td>2022-08-24 01:16:11.6132048</td><td>A1</td><td>A1\\Administrator</td><td>LGO </td><td>1</td><td>LX</td><td></td><td></td><td></td><td></td></tr>",
                            "<tr><td>2022-08-24 01:16:13.3292360</td><td>A1</td><td>A1\\Administrator</td><td>LGO </td><td>1</td><td>LX</td><td></td><td></td><td></td><td></td></tr>",
                            "<tr><td>2022-08-24 01:16:48.2073304</td><td>A1</td><td>A1\\Administrator</td><td>LGO </td><td>1</td><td>LX</td><td></td><td></td><td></td><td></td></tr>",
                            "<tr><td>2022-08-24 01:16:48.2103258</td><td>A1</td><td>A1\\Administrator</td><td>LGO </td><td>1</td><td>LX</td><td></td><td></td><td></td><td></td></tr>",
                            "<tr><td>2022-08-24 01:16:48.2133821</td><td>A1</td><td>A1\\Administrator</td><td>LGO </td><td>1</td><td>LX</td><td></td><td></td><td></td><td></td></tr>",
                            "<tr><td>2022-08-24 01:16:55.9801907</td><td>A1</td><td>A1\\Administrator</td><td>LGO </td><td>1</td><td>LX</td><td></td><td></td><td></td><td></td></tr>",
                            "<tr><td>2022-08-24 01:17:00.2122994</td><td>A1</td><td>A1\\Administrator</td><td>LGO </td><td>1</td><td>LX</td><td></td><td></td><td></td><td></td></tr>",
                            "<tr><td>2022-08-24 01:17:03.1127899</td><td>A1</td><td>A1\\Administrator</td><td>LGO </td><td>1</td><td>LX</td><td></td><td></td><td></td><td></td></tr>",
                            "<tr><td>2022-08-24 01:17:06.3940480</td><td>A1</td><td>A1\\Administrator</td><td>LGO </td><td>1</td><td>LX</td><td></td><td></td><td></td><td></td></tr>",
                            "<tr><td>2022-08-24 01:17:10.9579376</td><td>A1</td><td>A1\\Administrator</td><td>LGO </td><td>1</td><td>LX</td><td></td><td></td><td></td><td></td></tr>",
                            "<tr><td>2022-08-24 01:17:14.3403207</td><td>A1</td><td>A1\\Administrator</td><td>LGO </td><td>1</td><td>LX</td><td></td><td></td><td></td><td></td></tr>",
                            "<tr><td>2022-08-24 01:18:03.4673077</td><td>A1</td><td>A1\\Administrator</td><td>LGO </td><td>1</td><td>LX</td><td></td><td></td><td></td><td></td></tr>",
                            "<tr><td>2022-08-24 01:18:06.4988056</td><td>A1</td><td>A1\\Administrator</td><td>LGO </td><td>1</td><td>LX</td><td></td><td></td><td></td><td></td></tr>",
                            "<tr><td>2022-08-24 01:18:26.5969804</td><td>A1</td><td>A1\\Administrator</td><td>LGO </td><td>1</td><td>LX</td><td></td><td></td><td></td><td></td></tr>",
                            "<tr><td>2022-08-24 01:18:28.8140879</td><td>A1</td><td>A1\\Administrator</td><td>VSST</td><td>1</td><td>SR</td><td>master</td><td></td><td></td><td>SELECT \r\nDB_NAME(database_id) AS DatabaseName\r\n, encryption_state_desc AS EncryptionState\r\n, key_algorithm AS Algorithm\r\n, key_length AS KeyLength\r\nFROM sys.dm_database_encryption_keys</td></tr>",
                            "<tr><td>2022-08-24 01:18:29.7566236</td><td>A1</td><td>A1\\Administrator</td><td>LGO </td><td>1</td><td>LX</td><td></td><td></td><td></td><td></td></tr>",
                            "<tr><td>2022-08-24 01:18:29.7605370</td><td>A1</td><td>A1\\Administrator</td><td>LGO </td><td>1</td><td>LX</td><td></td><td></td><td></td><td></td></tr>",
                            "<tr><td>2022-08-24 01:18:34.7684761</td><td>A1</td><td>A1\\Administrator</td><td>LGO </td><td>1</td><td>LX</td><td></td><td></td><td></td><td></td></tr>",
                            "<tr><td>2022-08-24 01:18:37.1139617</td><td>A1</td><td>A1\\Administrator</td><td>LGO </td><td>1</td><td>LX</td><td></td><td></td><td></td><td></td></tr>",
                            "<tr><td>2022-08-24 01:18:40.4847754</td><td>A1</td><td>A1\\Administrator</td><td>LGO </td><td>1</td><td>LX</td><td></td><td></td><td></td><td></td></tr>",
                            "<tr><td>2022-08-24 01:18:55.6987374</td><td>A1</td><td>A1\\Administrator</td><td>LGO </td><td>1</td><td>LX</td><td></td><td></td><td></td><td></td></tr>",
                            "<tr><td>2022-08-24 01:18:55.7017426</td><td>A1</td><td>A1\\Administrator</td><td>LGO </td><td>1</td><td>LX</td><td></td><td></td><td></td><td></td></tr>",
                            "<tr><td>2022-08-24 01:18:55.7037202</td><td>A1</td><td>A1\\Administrator</td><td>LGO </td><td>1</td><td>LX</td><td></td><td></td><td></td><td></td></tr>",
                            "<tr><td>2022-08-24 01:19:08.4161511</td><td>A1</td><td>A1\\Administrator</td><td>LGO </td><td>1</td><td>LX</td><td></td><td></td><td></td><td></td></tr>",
                            "<tr><td>2022-08-24 01:21:10.5156882</td><td>A1</td><td>A1\\Administrator</td><td>LGO </td><td>1</td><td>LX</td><td></td><td></td><td></td><td></td></tr>",
                            "<tr><td>2022-08-24 01:21:47.0547850</td><td>A1</td><td>A1\\Administrator</td><td>LGO </td><td>1</td><td>LX</td><td></td><td></td><td></td><td></td></tr>",
                            "<tr><td>2022-08-24 01:21:47.0577656</td><td>A1</td><td>A1\\Administrator</td><td>LGO </td><td>1</td><td>LX</td><td></td><td></td><td></td><td></td></tr>",
                            "<tr><td>2022-08-24 01:18:34.5929327</td><td>A1</td><td>A1\\Administrator</td><td>AUSC</td><td>1</td><td>A </td><td></td><td></td><td></td><td></td></tr>",
                            "<tr><td>2022-08-24 01:18:39.2197736</td><td>A1</td><td>A1\\Administrator</td><td>IN  </td><td>1</td><td>U </td><td>SQLSecurityTest</td><td>dbo</td><td>Patient</td><td>INSERT INTO Patient (LoginID,FirstName,LastName,Address,City,SSN,CardNumber)\r\nVALUES ('6','Fred','Fernandez', '66 Freedom Fwy.', 'Fremont', '666-66-6666', '6666-6666-6666-6666')</td></tr>",
                            "<tr><td>2022-08-24 01:18:39.2227684</td><td>A1</td><td>A1\\Administrator</td><td>SL  </td><td>1</td><td>U </td><td>SQLSecurityTest</td><td>dbo</td><td>Patient</td><td>SELECT * FROM Patient\r\nWHERE LoginID &gt; 3</td></tr>",
                            "<tr><td>2022-08-24 01:18:39.2297820</td><td>A1</td><td>A1\\Administrator</td><td>SL  </td><td>1</td><td>U </td><td>SQLSecurityTest</td><td>dbo</td><td>Patient</td><td>UPDATE Patient\r\nSET City = 'Fresno' \r\nWHERE City = 'Fremont'</td></tr>",
                            "<tr><td>2022-08-24 01:18:39.2297820</td><td>A1</td><td>A1\\Administrator</td><td>UP  </td><td>1</td><td>U </td><td>SQLSecurityTest</td><td>dbo</td><td>Patient</td><td>UPDATE Patient\r\nSET City = 'Fresno' \r\nWHERE City = 'Fremont'</td></tr>",
                            "<tr><td>2022-08-24 01:18:39.2637665</td><td>A1</td><td>A1\\Administrator</td><td>SL  </td><td>1</td><td>U </td><td>SQLSecurityTest</td><td>dbo</td><td>Patient</td><td>SELECT * FROM Patient\r\nWHERE LoginID &gt; 3</td></tr>",
                            "<tr><td>2022-08-24 01:18:39.2727682</td><td>A1</td><td>A1\\Administrator</td><td>SL  </td><td>1</td><td>U </td><td>SQLSecurityTest</td><td>dbo</td><td>Patient</td><td>DELETE FROM Patient\r\nWHERE FirstName = 'Fred'</td></tr>",
                            "<tr><td>2022-08-24 01:18:39.2727682</td><td>A1</td><td>A1\\Administrator</td><td>DL  </td><td>1</td><td>U </td><td>SQLSecurityTest</td><td>dbo</td><td>Patient</td><td>DELETE FROM Patient\r\nWHERE FirstName = 'Fred'</td></tr>",
                            "<tr><td>2022-08-24 01:18:39.3077678</td><td>A1</td><td>A1\\Administrator</td><td>SL  </td><td>1</td><td>U </td><td>SQLSecurityTest</td><td>dbo</td><td>Patient</td><td>SELECT * FROM Patient</td></tr>",
                            "</table>"
                        ]
                    }
                }
            ],
            "execution_count": 44
        },
        {
            "cell_type": "markdown",
            "source": [
                "Step 8: Disable all running server and database Audits:"
            ],
            "metadata": {
                "language": "sql",
                "azdata_cell_guid": "5e10c212-3105-4cce-b46b-1c296f08ab1a"
            },
            "attachments": {}
        },
        {
            "cell_type": "code",
            "source": [
                "/* Module 2, Activity 6 - Disable all running audits */\r\n",
                "USE [master]\r\n",
                "ALTER SERVER AUDIT [Patient_Data_Audit]  \r\n",
                "WITH (STATE = OFF);  \r\n",
                "GO  \r\n",
                "\r\n",
                "ALTER SERVER AUDIT [Server-Audit]  \r\n",
                "WITH (STATE = OFF);  \r\n",
                "GO  \r\n",
                "\r\n",
                "ALTER SERVER AUDIT [Database-Wide-Audit]  \r\n",
                "WITH (STATE = OFF);  \r\n",
                "GO  "
            ],
            "metadata": {
                "language": "sql",
                "azdata_cell_guid": "5d7412c7-61c8-4b5a-99d9-5d9a52c8c12f"
            },
            "outputs": [
                {
                    "output_type": "display_data",
                    "data": {
                        "text/html": "Commands completed successfully."
                    },
                    "metadata": {}
                },
                {
                    "output_type": "display_data",
                    "data": {
                        "text/html": "Commands completed successfully."
                    },
                    "metadata": {}
                },
                {
                    "output_type": "display_data",
                    "data": {
                        "text/html": "Commands completed successfully."
                    },
                    "metadata": {}
                },
                {
                    "output_type": "display_data",
                    "data": {
                        "text/html": "Total execution time: 00:00:00.011"
                    },
                    "metadata": {}
                }
            ],
            "execution_count": 46
        },
        {
            "cell_type": "markdown",
            "source": [
                "# Module 3 - Azure SQL Security\n",
                "\n",
                "Activities from the [SQL Server Security Course](https://github.com/David-Seis/SecureYourAzureData), for [Module 3](https://github.com/David-Seis/SecureYourAzureData/blob/main/SQLSecurity/03%20-%20SQLAzureSecurity.md)."
            ],
            "metadata": {
                "language": "sql",
                "azdata_cell_guid": "26db209e-61a1-465c-becc-baa23e9e56fe"
            },
            "attachments": {}
        },
        {
            "cell_type": "markdown",
            "source": [
                "## 3.1 Accessing Azure SQL DB\n",
                "\n",
                "Step 1: Log into the Azure Portal and set up [Database Firewall rules](https://docs.microsoft.com/en-us/azure/azure-sql/database/secure-database-tutorial?view=azuresql#create-firewall-rules). You can skip this step if you already added your ip address when making the Azure SQL Database.\n",
                "\n",
                "Step 2: Connect to your Azure SQL DB in the master database."
            ],
            "metadata": {
                "language": "sql",
                "azdata_cell_guid": "607aa2cc-15f8-4722-aa19-f9f4e2dae4dd"
            },
            "attachments": {}
        },
        {
            "cell_type": "code",
            "source": [
                "/*  Module 3, Activity 1 - Verity connection to the Azure SQl DB  */\r\n",
                "SELECT @@SERVERNAME AS [Server Name]\r\n",
                "SELECT SERVERPROPERTY('MACHINENAME') AS [Machine Name] -- this returns null because the OS is abstracted away."
            ],
            "metadata": {
                "language": "sql",
                "azdata_cell_guid": "071e8ed8-2c09-4db2-9a09-c1c076c31f66",
                "tags": []
            },
            "outputs": [
                {
                    "output_type": "display_data",
                    "data": {
                        "text/html": "(1 row affected)"
                    },
                    "metadata": {}
                },
                {
                    "output_type": "display_data",
                    "data": {
                        "text/html": "(1 row affected)"
                    },
                    "metadata": {}
                },
                {
                    "output_type": "display_data",
                    "data": {
                        "text/html": "Total execution time: 00:00:00.058"
                    },
                    "metadata": {}
                },
                {
                    "output_type": "execute_result",
                    "execution_count": 113,
                    "data": {
                        "application/vnd.dataresource+json": {
                            "schema": {
                                "fields": [
                                    {
                                        "name": "Server Name"
                                    }
                                ]
                            },
                            "data": [
                                {
                                    "0": "sqlsecuritytest"
                                }
                            ]
                        },
                        "text/html": "<table><tr><th>Server Name</th></tr><tr><td>sqlsecuritytest</td></tr></table>"
                    },
                    "metadata": {}
                },
                {
                    "output_type": "execute_result",
                    "execution_count": 113,
                    "data": {
                        "application/vnd.dataresource+json": {
                            "schema": {
                                "fields": [
                                    {
                                        "name": "Machine Name"
                                    }
                                ]
                            },
                            "data": [
                                {
                                    "0": "NULL"
                                }
                            ]
                        },
                        "text/html": "<table><tr><th>Machine Name</th></tr><tr><td>NULL</td></tr></table>"
                    },
                    "metadata": {}
                }
            ],
            "execution_count": 113
        },
        {
            "cell_type": "markdown",
            "source": [
                "## 3.2 Principals\n",
                "\n",
                "Step 1: Create users in the Master database in the SQL DB"
            ],
            "metadata": {
                "language": "sql",
                "azdata_cell_guid": "e6755b5d-7764-44f0-aaf8-876be8bb1c61"
            },
            "attachments": {}
        },
        {
            "cell_type": "code",
            "source": [
                "/*  Module 3, Activity 2 - Add the Users to the Azure SQL DB  */\r\n",
                "CREATE LOGIN [User1] \r\n",
                "WITH PASSWORD=N'Tes#20. Use12!'\r\n",
                "GO\r\n",
                "\r\n",
                "CREATE LOGIN [User2] \r\n",
                "WITH PASSWORD=N'Tes#20. Use22!'\r\n",
                "GO"
            ],
            "metadata": {
                "language": "sql",
                "azdata_cell_guid": "ec87d409-3d47-49bd-beac-e51398f9b94b",
                "tags": []
            },
            "outputs": [
                {
                    "output_type": "display_data",
                    "data": {
                        "text/html": "Commands completed successfully."
                    },
                    "metadata": {}
                },
                {
                    "output_type": "display_data",
                    "data": {
                        "text/html": "Commands completed successfully."
                    },
                    "metadata": {}
                },
                {
                    "output_type": "display_data",
                    "data": {
                        "text/html": "Total execution time: 00:00:00.086"
                    },
                    "metadata": {}
                }
            ],
            "execution_count": 21
        },
        {
            "cell_type": "markdown",
            "source": [
                "Step 2: Change connection to the B1 Database and add the user logins."
            ],
            "metadata": {
                "language": "sql",
                "azdata_cell_guid": "9721574e-9048-4025-ad3c-dbce6297876c"
            },
            "attachments": {}
        },
        {
            "cell_type": "code",
            "source": [
                "/*  Module 3, Activity 2 - Add the Users to the B1 Database  */\r\n",
                "CREATE USER [User1] \r\n",
                "FROM LOGIN [User1]\r\n",
                "GO\r\n",
                "\r\n",
                "CREATE USER [User2] \r\n",
                "FROM LOGIN [User2]\r\n",
                "GO"
            ],
            "metadata": {
                "language": "sql",
                "azdata_cell_guid": "05721e0d-368e-4460-a404-051d91bc0e44",
                "tags": []
            },
            "outputs": [
                {
                    "output_type": "display_data",
                    "data": {
                        "text/html": "Commands completed successfully."
                    },
                    "metadata": {}
                },
                {
                    "output_type": "display_data",
                    "data": {
                        "text/html": "Commands completed successfully."
                    },
                    "metadata": {}
                },
                {
                    "output_type": "display_data",
                    "data": {
                        "text/html": "Total execution time: 00:00:00.091"
                    },
                    "metadata": {}
                }
            ],
            "execution_count": 23
        },
        {
            "cell_type": "markdown",
            "source": [
                "Step 3: Create a Database role:"
            ],
            "metadata": {
                "language": "sql",
                "azdata_cell_guid": "7857272e-887f-4f99-99c9-3abed93c51cd"
            },
            "attachments": {}
        },
        {
            "cell_type": "code",
            "source": [
                "/*  Module 3, Activity 2 - Create a database role  */\r\n",
                "CREATE ROLE Elevated_permissions;\r\n",
                "GO"
            ],
            "metadata": {
                "language": "sql",
                "azdata_cell_guid": "cd826fff-7b51-45a6-be26-d37e5651a5d6",
                "tags": []
            },
            "outputs": [
                {
                    "output_type": "display_data",
                    "data": {
                        "text/html": "Commands completed successfully."
                    },
                    "metadata": {}
                },
                {
                    "output_type": "display_data",
                    "data": {
                        "text/html": "Total execution time: 00:00:00.041"
                    },
                    "metadata": {}
                }
            ],
            "execution_count": 24
        },
        {
            "cell_type": "markdown",
            "source": [
                "Step 4: Add User1 to the new role:"
            ],
            "metadata": {
                "language": "sql",
                "azdata_cell_guid": "38ac624d-7711-48e7-a21c-42830e0ad5ec"
            },
            "attachments": {}
        },
        {
            "cell_type": "code",
            "source": [
                "/*  Module 3, Activity 2 - Add User1 to the new role  */\r\n",
                "ALTER ROLE [Elevated_permissions] ADD MEMBER [User1]\r\n",
                "GO"
            ],
            "metadata": {
                "language": "sql",
                "azdata_cell_guid": "a1240276-2de2-4c93-889e-63747ab5ac2b",
                "tags": []
            },
            "outputs": [
                {
                    "output_type": "display_data",
                    "data": {
                        "text/html": "Commands completed successfully."
                    },
                    "metadata": {}
                },
                {
                    "output_type": "display_data",
                    "data": {
                        "text/html": "Total execution time: 00:00:00.062"
                    },
                    "metadata": {}
                }
            ],
            "execution_count": 25
        },
        {
            "cell_type": "markdown",
            "source": [
                "Step 5: Query all users and role memberships:"
            ],
            "metadata": {
                "language": "sql",
                "azdata_cell_guid": "3185ea7d-4609-427f-900a-e55c7dd04b96"
            },
            "attachments": {}
        },
        {
            "cell_type": "code",
            "source": [
                "/*  Module 3, Activity 2 - Query Users and roles, and role memberships  */\r\n",
                "--Server Principals\r\n",
                "SELECT Name, type_desc, create_date FROM sys.database_principals\r\n",
                "WHERE type = 'S' AND is_fixed_role = 0 AND authentication_type= 1 AND name NOT IN ('dbo')\r\n",
                "\r\n",
                "--Database Principals\r\n",
                "SELECT Name, type_desc, create_date FROM sys.database_principals \r\n",
                "WHERE type = 'R' AND is_fixed_role = 0  AND name NOT IN ('public')\r\n",
                "\r\n",
                "--Find Role Memberships \r\n",
                "SELECT DP1.name AS DatabaseRoleName,   \r\n",
                "   isnull (DP2.name, 'No members') AS DatabaseUserName   \r\n",
                " FROM sys.database_role_members AS DRM  \r\n",
                " RIGHT OUTER JOIN sys.database_principals AS DP1  \r\n",
                "   ON DRM.role_principal_id = DP1.principal_id  \r\n",
                " LEFT OUTER JOIN sys.database_principals AS DP2  \r\n",
                "   ON DRM.member_principal_id = DP2.principal_id  \r\n",
                "WHERE DP1.type = 'R'\r\n",
                "ORDER BY DP1.name; "
            ],
            "metadata": {
                "language": "sql",
                "azdata_cell_guid": "42c91bbe-a7fd-4746-bb94-ef7b5f4ef714",
                "tags": []
            },
            "outputs": [
                {
                    "output_type": "display_data",
                    "data": {
                        "text/html": "(2 rows affected)"
                    },
                    "metadata": {}
                },
                {
                    "output_type": "display_data",
                    "data": {
                        "text/html": "(1 row affected)"
                    },
                    "metadata": {}
                },
                {
                    "output_type": "display_data",
                    "data": {
                        "text/html": "(11 rows affected)"
                    },
                    "metadata": {}
                },
                {
                    "output_type": "display_data",
                    "data": {
                        "text/html": "Total execution time: 00:00:00.110"
                    },
                    "metadata": {}
                },
                {
                    "output_type": "execute_result",
                    "execution_count": 36,
                    "data": {
                        "application/vnd.dataresource+json": {
                            "schema": {
                                "fields": [
                                    {
                                        "name": "Name"
                                    },
                                    {
                                        "name": "type_desc"
                                    },
                                    {
                                        "name": "create_date"
                                    }
                                ]
                            },
                            "data": [
                                {
                                    "0": "User1",
                                    "1": "SQL_USER",
                                    "2": "2022-08-04 02:57:53.567"
                                },
                                {
                                    "0": "User2",
                                    "1": "SQL_USER",
                                    "2": "2022-08-04 02:57:53.610"
                                }
                            ]
                        },
                        "text/html": "<table><tr><th>Name</th><th>type_desc</th><th>create_date</th></tr><tr><td>User1</td><td>SQL_USER</td><td>2022-08-04 02:57:53.567</td></tr><tr><td>User2</td><td>SQL_USER</td><td>2022-08-04 02:57:53.610</td></tr></table>"
                    },
                    "metadata": {}
                },
                {
                    "output_type": "execute_result",
                    "execution_count": 36,
                    "data": {
                        "application/vnd.dataresource+json": {
                            "schema": {
                                "fields": [
                                    {
                                        "name": "Name"
                                    },
                                    {
                                        "name": "type_desc"
                                    },
                                    {
                                        "name": "create_date"
                                    }
                                ]
                            },
                            "data": [
                                {
                                    "0": "Elevated_permissions",
                                    "1": "DATABASE_ROLE",
                                    "2": "2022-08-04 03:06:15.883"
                                }
                            ]
                        },
                        "text/html": "<table><tr><th>Name</th><th>type_desc</th><th>create_date</th></tr><tr><td>Elevated_permissions</td><td>DATABASE_ROLE</td><td>2022-08-04 03:06:15.883</td></tr></table>"
                    },
                    "metadata": {}
                },
                {
                    "output_type": "execute_result",
                    "execution_count": 36,
                    "data": {
                        "application/vnd.dataresource+json": {
                            "schema": {
                                "fields": [
                                    {
                                        "name": "DatabaseRoleName"
                                    },
                                    {
                                        "name": "DatabaseUserName"
                                    }
                                ]
                            },
                            "data": [
                                {
                                    "0": "db_accessadmin",
                                    "1": "No members"
                                },
                                {
                                    "0": "db_backupoperator",
                                    "1": "No members"
                                },
                                {
                                    "0": "db_datareader",
                                    "1": "No members"
                                },
                                {
                                    "0": "db_datawriter",
                                    "1": "No members"
                                },
                                {
                                    "0": "db_ddladmin",
                                    "1": "No members"
                                },
                                {
                                    "0": "db_denydatareader",
                                    "1": "No members"
                                },
                                {
                                    "0": "db_denydatawriter",
                                    "1": "No members"
                                },
                                {
                                    "0": "db_owner",
                                    "1": "dbo"
                                },
                                {
                                    "0": "db_securityadmin",
                                    "1": "No members"
                                },
                                {
                                    "0": "Elevated_permissions",
                                    "1": "User1"
                                },
                                {
                                    "0": "public",
                                    "1": "No members"
                                }
                            ]
                        },
                        "text/html": "<table><tr><th>DatabaseRoleName</th><th>DatabaseUserName</th></tr><tr><td>db_accessadmin</td><td>No members</td></tr><tr><td>db_backupoperator</td><td>No members</td></tr><tr><td>db_datareader</td><td>No members</td></tr><tr><td>db_datawriter</td><td>No members</td></tr><tr><td>db_ddladmin</td><td>No members</td></tr><tr><td>db_denydatareader</td><td>No members</td></tr><tr><td>db_denydatawriter</td><td>No members</td></tr><tr><td>db_owner</td><td>dbo</td></tr><tr><td>db_securityadmin</td><td>No members</td></tr><tr><td>Elevated_permissions</td><td>User1</td></tr><tr><td>public</td><td>No members</td></tr></table>"
                    },
                    "metadata": {}
                }
            ],
            "execution_count": 36
        },
        {
            "cell_type": "markdown",
            "source": [
                "## 3.3 Securables\n",
                "\n",
                "Step 1: Create objects to assign permissions:"
            ],
            "metadata": {
                "language": "sql",
                "azdata_cell_guid": "420552aa-9263-44f3-a1ad-29b0ed784275"
            },
            "attachments": {}
        },
        {
            "cell_type": "code",
            "source": [
                "/*  Module 3, Activity 3 - Create a table  */\r\n",
                "CREATE TABLE Patient (\r\n",
                "LoginID tinyint\r\n",
                ",   LastName varchar(255)\r\n",
                ",   FirstName varchar(255)\r\n",
                ",   Address varchar(255)\r\n",
                ",   City varchar(255)\r\n",
                ",   SSN nvarchar(11)\r\n",
                ",   CardNumber nvarchar(19)\r\n",
                ");\r\n",
                "\r\n",
                "INSERT INTO Patient (loginid, lastname, firstname, address, city, ssn, cardnumber)\r\n",
                "VALUES\t\r\n",
                "    (1,'Arbiter', 'Agatha', '111 Apple Ave.', 'Atlanta', '111-11-1111', '1111-1111-1111-1111')\r\n",
                "    , (2, 'Bob', 'Billy', '222 Bayshore Blvd.', 'Boice', '222-22-2222', '2222-2222-2222-2222')\r\n",
                "    , (3, 'Choice', 'Charley', '333 Castaway Ct.', 'Chesterfield', '333-33-3333', '3333-3333-3333-3333')\r\n",
                "    , (4, 'Dangerfield', 'David', '4444 Denvue Drive', 'Denver', '444-44-4444', '4444-4444-4444-4444')\r\n",
                "    , (5, 'Engleton', 'Edbert', '5555 Esquire Rd. E', 'Easton', '555-55-5555', '5555-5555-5555-5555')"
            ],
            "metadata": {
                "language": "sql",
                "azdata_cell_guid": "b3d94d4d-e22f-4856-b23c-da3c181a5e19",
                "tags": []
            },
            "outputs": [
                {
                    "output_type": "display_data",
                    "data": {
                        "text/html": "(5 rows affected)"
                    },
                    "metadata": {}
                },
                {
                    "output_type": "display_data",
                    "data": {
                        "text/html": "Total execution time: 00:00:00.073"
                    },
                    "metadata": {}
                }
            ],
            "execution_count": 41
        },
        {
            "cell_type": "code",
            "source": [
                "/*  Module 3, Activity 3 - Create a View  */\r\n",
                "CREATE VIEW Patient_Mailing_Address AS\r\n",
                "SELECT FirstName, LastName, Address, City\r\n",
                "FROM Patient"
            ],
            "metadata": {
                "language": "sql",
                "azdata_cell_guid": "8d212f79-9a7c-43f2-8206-18e13ee2335b",
                "tags": []
            },
            "outputs": [
                {
                    "output_type": "display_data",
                    "data": {
                        "text/html": "Commands completed successfully."
                    },
                    "metadata": {}
                },
                {
                    "output_type": "display_data",
                    "data": {
                        "text/html": "Total execution time: 00:00:00.046"
                    },
                    "metadata": {}
                }
            ],
            "execution_count": 43
        },
        {
            "cell_type": "code",
            "source": [
                "/*  Module 3, Activity 3 - Create a stored procedure */\r\n",
                "CREATE PROCEDURE uspGetCardInformation   \r\n",
                "    @Loginid tinyint  \r\n",
                "AS   \r\n",
                "\r\n",
                "    SET NOCOUNT ON;  \r\n",
                "    SELECT Loginid, cardnumber  \r\n",
                "    FROM Patient  \r\n",
                "    WHERE loginId= @loginId   \r\n",
                "GO  "
            ],
            "metadata": {
                "language": "sql",
                "azdata_cell_guid": "5280bb33-b1ea-4fba-936a-d7e944656cae",
                "tags": []
            },
            "outputs": [
                {
                    "output_type": "display_data",
                    "data": {
                        "text/html": "Commands completed successfully."
                    },
                    "metadata": {}
                },
                {
                    "output_type": "display_data",
                    "data": {
                        "text/html": "Total execution time: 00:00:00.042"
                    },
                    "metadata": {}
                }
            ],
            "execution_count": 44
        },
        {
            "cell_type": "markdown",
            "source": [
                "Step 2: Connect with a user (they both currently have the same permissions) and take note of the permissions on the different objects."
            ],
            "metadata": {
                "language": "sql",
                "azdata_cell_guid": "ad553e4a-2ec6-4945-bb2c-709306db0409"
            },
            "attachments": {}
        },
        {
            "cell_type": "code",
            "source": [
                "/*  Module 3, Activity 3 - Access these objects with a basic account (User1 or User2) */\r\n",
                "Select LoginId FROM Patient WHERE Loginid = 1\r\n",
                "GO\r\n",
                "\r\n",
                "EXEC uspGetCardInformation @Loginid = 2\r\n",
                "GO\r\n",
                "\r\n",
                "SELECT * FROM Patient_Mailing_Address\r\n",
                "GO"
            ],
            "metadata": {
                "language": "sql",
                "azdata_cell_guid": "35ceee26-746e-4c9f-9a29-efdb1496a7f0",
                "tags": []
            },
            "outputs": [
                {
                    "output_type": "error",
                    "ename": "",
                    "evalue": "Msg 229, Level 14, State 5, Line 2\r\nThe SELECT permission was denied on the object 'Patient', database 'B1', schema 'dbo'.",
                    "traceback": []
                },
                {
                    "output_type": "error",
                    "ename": "",
                    "evalue": "Msg 229, Level 14, State 5, Procedure uspGetCardInformation, Line 1\r\nThe EXECUTE permission was denied on the object 'uspGetCardInformation', database 'B1', schema 'dbo'.",
                    "traceback": []
                },
                {
                    "output_type": "error",
                    "ename": "",
                    "evalue": "Msg 229, Level 14, State 5, Line 8\r\nThe SELECT permission was denied on the object 'Patient_Mailing_Address', database 'B1', schema 'dbo'.",
                    "traceback": []
                },
                {
                    "output_type": "display_data",
                    "data": {
                        "text/html": "Total execution time: 00:00:00.119"
                    },
                    "metadata": {}
                }
            ],
            "execution_count": 47
        },
        {
            "cell_type": "markdown",
            "source": [
                "Step 3: Swich back to admin account, GRANT CONTROL on all three objects for the Elevated\\_Permissions role."
            ],
            "metadata": {
                "language": "sql",
                "azdata_cell_guid": "40fe5300-54bd-42eb-a0e6-9b6c12ef31cd"
            },
            "attachments": {}
        },
        {
            "cell_type": "code",
            "source": [
                "/*  Module 3, Activity 3 - Grant control on all three objects to the Elevated_Permissions role */\r\n",
                "GRANT CONTROL ON Patient TO Elevated_Permissions\r\n",
                "GRANT CONTROL ON Patient_Mailing_Address TO Elevated_Permissions\r\n",
                "GRANT CONTROL ON uspGetCardInformation TO Elevated_Permissions"
            ],
            "metadata": {
                "language": "sql",
                "azdata_cell_guid": "359977a7-8e2a-4249-9a9c-58a6c4cf6a79",
                "tags": []
            },
            "outputs": [
                {
                    "output_type": "display_data",
                    "data": {
                        "text/html": "Commands completed successfully."
                    },
                    "metadata": {}
                },
                {
                    "output_type": "display_data",
                    "data": {
                        "text/html": "Total execution time: 00:00:00.054"
                    },
                    "metadata": {}
                }
            ],
            "execution_count": 48
        },
        {
            "cell_type": "markdown",
            "source": [
                "Step 4: Go back to User1 to see how this changed access across the three objects:"
            ],
            "metadata": {
                "language": "sql",
                "azdata_cell_guid": "af549544-6276-4dff-8666-85d876844e34"
            },
            "attachments": {}
        },
        {
            "cell_type": "code",
            "source": [
                "/*  Module 3, Activity 3 - Access these objects with a User1, member of Elevated_Permissions */\r\n",
                "Select * FROM Patient WHERE Loginid = 1\r\n",
                "GO\r\n",
                "\r\n",
                "EXEC uspGetCardInformation @Loginid = 2\r\n",
                "GO\r\n",
                "\r\n",
                "SELECT * FROM Patient_Mailing_Address\r\n",
                "GO"
            ],
            "metadata": {
                "language": "sql",
                "azdata_cell_guid": "bd8c32cb-3336-4517-98a0-e2e49b5b43ba",
                "tags": []
            },
            "outputs": [
                {
                    "output_type": "display_data",
                    "data": {
                        "text/html": "(1 row affected)"
                    },
                    "metadata": {}
                },
                {
                    "output_type": "display_data",
                    "data": {
                        "text/html": "Commands completed successfully."
                    },
                    "metadata": {}
                },
                {
                    "output_type": "display_data",
                    "data": {
                        "text/html": "(5 rows affected)"
                    },
                    "metadata": {}
                },
                {
                    "output_type": "display_data",
                    "data": {
                        "text/html": "Total execution time: 00:00:00.119"
                    },
                    "metadata": {}
                },
                {
                    "output_type": "execute_result",
                    "execution_count": 50,
                    "data": {
                        "application/vnd.dataresource+json": {
                            "schema": {
                                "fields": [
                                    {
                                        "name": "LoginID"
                                    },
                                    {
                                        "name": "LastName"
                                    },
                                    {
                                        "name": "FirstName"
                                    },
                                    {
                                        "name": "Address"
                                    },
                                    {
                                        "name": "City"
                                    },
                                    {
                                        "name": "SSN"
                                    },
                                    {
                                        "name": "CardNumber"
                                    }
                                ]
                            },
                            "data": [
                                {
                                    "0": "1",
                                    "1": "Arbiter",
                                    "2": "Agatha",
                                    "3": "111 Apple Ave.",
                                    "4": "Atlanta",
                                    "5": "111-11-1111",
                                    "6": "1111-1111-1111-1111"
                                }
                            ]
                        },
                        "text/html": "<table><tr><th>LoginID</th><th>LastName</th><th>FirstName</th><th>Address</th><th>City</th><th>SSN</th><th>CardNumber</th></tr><tr><td>1</td><td>Arbiter</td><td>Agatha</td><td>111 Apple Ave.</td><td>Atlanta</td><td>111-11-1111</td><td>1111-1111-1111-1111</td></tr></table>"
                    },
                    "metadata": {}
                },
                {
                    "output_type": "execute_result",
                    "execution_count": 50,
                    "data": {
                        "application/vnd.dataresource+json": {
                            "schema": {
                                "fields": [
                                    {
                                        "name": "Loginid"
                                    },
                                    {
                                        "name": "cardnumber"
                                    }
                                ]
                            },
                            "data": [
                                {
                                    "0": "2",
                                    "1": "2222-2222-2222-2222"
                                }
                            ]
                        },
                        "text/html": "<table><tr><th>Loginid</th><th>cardnumber</th></tr><tr><td>2</td><td>2222-2222-2222-2222</td></tr></table>"
                    },
                    "metadata": {}
                },
                {
                    "output_type": "execute_result",
                    "execution_count": 50,
                    "data": {
                        "application/vnd.dataresource+json": {
                            "schema": {
                                "fields": [
                                    {
                                        "name": "FirstName"
                                    },
                                    {
                                        "name": "LastName"
                                    },
                                    {
                                        "name": "Address"
                                    },
                                    {
                                        "name": "City"
                                    }
                                ]
                            },
                            "data": [
                                {
                                    "0": "Agatha",
                                    "1": "Arbiter",
                                    "2": "111 Apple Ave.",
                                    "3": "Atlanta"
                                },
                                {
                                    "0": "Billy",
                                    "1": "Bob",
                                    "2": "222 Bayshore Blvd.",
                                    "3": "Boice"
                                },
                                {
                                    "0": "Charley",
                                    "1": "Choice",
                                    "2": "333 Castaway Ct.",
                                    "3": "Chesterfield"
                                },
                                {
                                    "0": "David",
                                    "1": "Dangerfield",
                                    "2": "4444 Denvue Drive",
                                    "3": "Denver"
                                },
                                {
                                    "0": "Edbert",
                                    "1": "Engleton",
                                    "2": "5555 Esquire Rd. E",
                                    "3": "Easton"
                                }
                            ]
                        },
                        "text/html": "<table><tr><th>FirstName</th><th>LastName</th><th>Address</th><th>City</th></tr><tr><td>Agatha</td><td>Arbiter</td><td>111 Apple Ave.</td><td>Atlanta</td></tr><tr><td>Billy</td><td>Bob</td><td>222 Bayshore Blvd.</td><td>Boice</td></tr><tr><td>Charley</td><td>Choice</td><td>333 Castaway Ct.</td><td>Chesterfield</td></tr><tr><td>David</td><td>Dangerfield</td><td>4444 Denvue Drive</td><td>Denver</td></tr><tr><td>Edbert</td><td>Engleton</td><td>5555 Esquire Rd. E</td><td>Easton</td></tr></table>"
                    },
                    "metadata": {}
                }
            ],
            "execution_count": 50
        },
        {
            "cell_type": "markdown",
            "source": [
                "Step 5: Using admin, Revoke SELECT for User1 on the Patient\\_Mailing\\_Address view:"
            ],
            "metadata": {
                "language": "sql",
                "azdata_cell_guid": "e87fac48-e5cd-41fc-9520-e5cdf08e1234"
            },
            "attachments": {}
        },
        {
            "cell_type": "code",
            "source": [
                "/*  Module 3, Activity 3 - REVOKE SELECT to the specific user */\r\n",
                "REVOKE SELECT ON Patient_Mailing_Address TO User1"
            ],
            "metadata": {
                "language": "sql",
                "azdata_cell_guid": "efa725a8-4e1d-49a3-9062-7fad1317de5a",
                "tags": []
            },
            "outputs": [
                {
                    "output_type": "display_data",
                    "data": {
                        "text/html": "Commands completed successfully."
                    },
                    "metadata": {}
                },
                {
                    "output_type": "display_data",
                    "data": {
                        "text/html": "Total execution time: 00:00:00.066"
                    },
                    "metadata": {}
                }
            ],
            "execution_count": 51
        },
        {
            "cell_type": "markdown",
            "source": [
                "Step 6: Return to User1's conenction, run the query again:"
            ],
            "metadata": {
                "azdata_cell_guid": "0623d928-821f-4595-890b-501680ba6aed"
            },
            "attachments": {}
        },
        {
            "cell_type": "code",
            "source": [
                "/*  Module 3, Activity 3 - query with REVOKED permissions */\r\n",
                "SELECT * FROM Patient_Mailing_Address\r\n",
                "GO"
            ],
            "metadata": {
                "azdata_cell_guid": "46c30156-509f-46c7-9c8c-e77f49b696f6",
                "language": "sql",
                "tags": []
            },
            "outputs": [
                {
                    "output_type": "display_data",
                    "data": {
                        "text/html": "(5 rows affected)"
                    },
                    "metadata": {}
                },
                {
                    "output_type": "display_data",
                    "data": {
                        "text/html": "Total execution time: 00:00:00.038"
                    },
                    "metadata": {}
                },
                {
                    "output_type": "execute_result",
                    "execution_count": 52,
                    "data": {
                        "application/vnd.dataresource+json": {
                            "schema": {
                                "fields": [
                                    {
                                        "name": "FirstName"
                                    },
                                    {
                                        "name": "LastName"
                                    },
                                    {
                                        "name": "Address"
                                    },
                                    {
                                        "name": "City"
                                    }
                                ]
                            },
                            "data": [
                                {
                                    "0": "Agatha",
                                    "1": "Arbiter",
                                    "2": "111 Apple Ave.",
                                    "3": "Atlanta"
                                },
                                {
                                    "0": "Billy",
                                    "1": "Bob",
                                    "2": "222 Bayshore Blvd.",
                                    "3": "Boice"
                                },
                                {
                                    "0": "Charley",
                                    "1": "Choice",
                                    "2": "333 Castaway Ct.",
                                    "3": "Chesterfield"
                                },
                                {
                                    "0": "David",
                                    "1": "Dangerfield",
                                    "2": "4444 Denvue Drive",
                                    "3": "Denver"
                                },
                                {
                                    "0": "Edbert",
                                    "1": "Engleton",
                                    "2": "5555 Esquire Rd. E",
                                    "3": "Easton"
                                }
                            ]
                        },
                        "text/html": "<table><tr><th>FirstName</th><th>LastName</th><th>Address</th><th>City</th></tr><tr><td>Agatha</td><td>Arbiter</td><td>111 Apple Ave.</td><td>Atlanta</td></tr><tr><td>Billy</td><td>Bob</td><td>222 Bayshore Blvd.</td><td>Boice</td></tr><tr><td>Charley</td><td>Choice</td><td>333 Castaway Ct.</td><td>Chesterfield</td></tr><tr><td>David</td><td>Dangerfield</td><td>4444 Denvue Drive</td><td>Denver</td></tr><tr><td>Edbert</td><td>Engleton</td><td>5555 Esquire Rd. E</td><td>Easton</td></tr></table>"
                    },
                    "metadata": {}
                }
            ],
            "execution_count": 52
        },
        {
            "cell_type": "markdown",
            "source": [
                "Step 7: As you can see, GRANT supercedes REVOKE, how about DENY? Return to admin and DENY SELECT on the view:"
            ],
            "metadata": {
                "language": "sql",
                "azdata_cell_guid": "a0595a60-08c4-482c-9ff2-09904b6b3cb2"
            },
            "attachments": {}
        },
        {
            "cell_type": "code",
            "source": [
                "/*  Module 3, Activity 3 - DENY SELECT to the specific user */\n",
                "DENY SELECT ON Patient_Mailing_Address TO User1"
            ],
            "metadata": {
                "language": "sql",
                "azdata_cell_guid": "fb212cc7-2b3f-46fa-8cac-914c8770daa3",
                "tags": []
            },
            "outputs": [
                {
                    "output_type": "display_data",
                    "data": {
                        "text/html": "Commands completed successfully."
                    },
                    "metadata": {}
                },
                {
                    "output_type": "display_data",
                    "data": {
                        "text/html": "Total execution time: 00:00:00.055"
                    },
                    "metadata": {}
                }
            ],
            "execution_count": 54
        },
        {
            "cell_type": "markdown",
            "source": [
                "Step 8: Finally, rerun the same query with User1"
            ],
            "metadata": {
                "language": "sql",
                "azdata_cell_guid": "b64fd950-f7d4-420e-95ac-b53c2c6cf609"
            },
            "attachments": {}
        },
        {
            "cell_type": "code",
            "source": [
                "/*  Module 3, Activity 3 - query with DENIED permissions */\r\n",
                "SELECT * FROM Patient_Mailing_Address\r\n",
                "GO"
            ],
            "metadata": {
                "language": "sql",
                "azdata_cell_guid": "26c99dc9-6dd1-4033-99c1-6d9f817cee1b",
                "tags": []
            },
            "outputs": [
                {
                    "output_type": "error",
                    "ename": "",
                    "evalue": "Msg 229, Level 14, State 5, Line 2\r\nThe SELECT permission was denied on the object 'Patient_Mailing_Address', database 'B1', schema 'dbo'.",
                    "traceback": []
                },
                {
                    "output_type": "display_data",
                    "data": {
                        "text/html": "Total execution time: 00:00:00.038"
                    },
                    "metadata": {}
                }
            ],
            "execution_count": 55
        },
        {
            "cell_type": "markdown",
            "source": [
                "## 3.4 Applications"
            ],
            "metadata": {
                "language": "sql",
                "azdata_cell_guid": "abb6e491-d5af-48cf-bc52-81ffa41a1051"
            },
            "attachments": {}
        },
        {
            "cell_type": "markdown",
            "source": [
                "[Navigate to this reference, and follow all the steps you see there for Scenario \"A\"](https://docs.microsoft.com/en-us/sql/relational-databases/security/row-level-security?view=sql-server-ver16#CodeExamples), using your sample Azure SQL DB environment."
            ],
            "metadata": {
                "language": "sql",
                "azdata_cell_guid": "2d15eaba-3766-4991-bc4c-c5869433c527"
            },
            "attachments": {}
        },
        {
            "cell_type": "markdown",
            "source": [
                "## 3.5 Encryption, Certificates, and Keys\n",
                "\n",
                "[Navigate to this reference, and follow all the steps you see there](https://docs.microsoft.com/en-us/sql/relational-databases/security/encryption/always-encrypted-wizard?view=azuresqldb-current)<span style=\"color: rgb(51, 51, 51); font-family: &quot;Helvetica Neue&quot;, Helvetica, &quot;Segoe UI&quot;, Arial, freesans, sans-serif; font-size: 16px; background-color: rgb(255, 255, 255);\">, using your sample Azure SQL DB environment</span>"
            ],
            "metadata": {
                "language": "sql",
                "azdata_cell_guid": "a0e2204e-d438-4dde-ad34-84308da5c545"
            },
            "attachments": {}
        },
        {
            "cell_type": "markdown",
            "source": [
                "## 3.6 Auditing\n",
                "\n",
                "[Navigate to this reference, and follow all the steps you see there](https://docs.microsoft.com/en-us/azure/azure-sql/database/auditing-overview?view=azuresql#setup-auditing)<span style=\"font-size: 14px;\">, using your sample Azure SQL DB environment.</span>"
            ],
            "metadata": {
                "language": "sql",
                "azdata_cell_guid": "97d5ba8f-5bcc-4a6e-a8b0-b1f834671dcd"
            },
            "attachments": {}
        }
    ]
}