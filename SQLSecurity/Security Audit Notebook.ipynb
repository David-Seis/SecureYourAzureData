{
    "metadata": {
        "kernelspec": {
            "name": "SQL",
            "display_name": "SQL",
            "language": "sql"
        },
        "language_info": {
            "name": "sql",
            "version": ""
        }
    },
    "nbformat_minor": 2,
    "nbformat": 4,
    "cells": [
        {
            "cell_type": "markdown",
            "source": [
                "# SQL Server Ground to Cloud Security Workshop\n",
                "\n",
                "_Last Updated: 25 July 2022_\n",
                "\n",
                "In [this workshop](https://github.com/David-Seis/SecureYourAzureData) you'll cover the basics of securing SQL Server installations and databases, from on-premises systems to Microsoft Azure deployments.\n",
                "\n",
                "_Note that this Notebook is an example only; and should not be used in production. It should be evaluated as a training implement only, and you should use these scripts and statements in a read-only fashion on a test system not connected to your production environment._"
            ],
            "metadata": {
                "azdata_cell_guid": "c95624e2-bbdd-4d56-bf9f-68ffbd7b25d5"
            },
            "attachments": {}
        }
    ]
}