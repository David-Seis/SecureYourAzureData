{
    "metadata": {
        "kernelspec": {
            "name": "python3",
            "display_name": "Python 3",
            "language": "python"
        },
        "language_info": {
            "name": "python",
            "version": "3.8.10",
            "mimetype": "text/x-python",
            "codemirror_mode": {
                "name": "ipython",
                "version": 3
            },
            "pygments_lexer": "ipython3",
            "nbconvert_exporter": "python",
            "file_extension": ".py"
        }
    },
    "nbformat_minor": 2,
    "nbformat": 4,
    "cells": [
        {
            "cell_type": "markdown",
            "source": [
                "## Setup\n",
                "\n",
                "First, let's install our pre-requisites using the shell-escape in Python:"
            ],
            "metadata": {
                "azdata_cell_guid": "56062f10-1a0a-472f-a815-83a07ea34de1"
            },
            "attachments": {}
        },
        {
            "cell_type": "code",
            "source": [
                "!python -m pip install -U pip\r\n",
                "!python -m pip install pyodbc"
            ],
            "metadata": {
                "azdata_cell_guid": "20291054-5c9b-4239-8eab-38943d6ea220",
                "language": "python",
                "tags": []
            },
            "outputs": [
                {
                    "name": "stdout",
                    "text": "Requirement already satisfied: pip in c:\\users\\bwoody\\azuredatastudio-python\\lib\\site-packages (21.3.1)\nCollecting pip\n  Downloading pip-22.2.1-py3-none-any.whl (2.0 MB)\nInstalling collected packages: pip\n  Attempting uninstall: pip\n    Found existing installation: pip 21.3.1\n    Uninstalling pip-21.3.1:\n      Successfully uninstalled pip-21.3.1\nSuccessfully installed pip-22.2.1\n",
                    "output_type": "stream"
                },
                {
                    "name": "stdout",
                    "text": "Requirement already satisfied: pyodbc in c:\\users\\bwoody\\azuredatastudio-python\\lib\\site-packages (4.0.32)\n",
                    "output_type": "stream"
                }
            ],
            "execution_count": 3
        },
        {
            "cell_type": "markdown",
            "source": [
                "Describe Thing"
            ],
            "metadata": {
                "language": "python",
                "azdata_cell_guid": "c37c167f-043d-4288-a0f3-fba7fe255479"
            },
            "attachments": {}
        },
        {
            "cell_type": "code",
            "source": [
                "import pyodbc \r\n",
                "cnxn = pyodbc.connect('DRIVER={ODBC Driver 17 for SQL Server};Server=(local);Database=master;Trusted_Connection=yes;Application Name=DBConnectionAppFromPython;')\r\n",
                "cursor = cnxn.cursor()"
            ],
            "metadata": {
                "language": "python",
                "azdata_cell_guid": "a3e70841-a38e-4d3b-aab3-d90a90eacebb"
            },
            "outputs": [],
            "execution_count": null
        },
        {
            "cell_type": "markdown",
            "source": [
                "Describe Thing"
            ],
            "metadata": {
                "language": "python",
                "azdata_cell_guid": "2bc9ae2c-ac29-4543-9d29-d8246b6b1995"
            },
            "attachments": {}
        },
        {
            "cell_type": "code",
            "source": [
                "import pyodbc \r\n",
                "cnxn = pyodbc.connect('DRIVER={ODBC Driver 17 for SQL Server};Server=(local);Database=master;Trusted_Connection=yes;Application Name=DBConnectionAppFromPython;')"
            ],
            "metadata": {
                "language": "python",
                "azdata_cell_guid": "61ad88f9-59dc-4e0b-aaeb-dffa1e5eb341"
            },
            "outputs": [],
            "execution_count": null
        },
        {
            "cell_type": "markdown",
            "source": [
                "Dewscribe Thing"
            ],
            "metadata": {
                "language": "python",
                "azdata_cell_guid": "996bb95f-bde8-440b-b88f-79862168be93"
            },
            "attachments": {}
        },
        {
            "cell_type": "code",
            "source": [
                "cursor = cnxn.cursor()\r\n",
                "# Connect and return version information\r\n",
                "cursor.execute(\"SELECT @@version;\") \r\n",
                "row = cursor.fetchone() \r\n",
                "while row: \r\n",
                "    print(row[0])\r\n",
                "    row = cursor.fetchone()"
            ],
            "metadata": {
                "language": "python",
                "azdata_cell_guid": "e4198188-5f57-40ae-bd06-cfea2ff5c826",
                "tags": []
            },
            "outputs": [],
            "execution_count": null
        }
    ]
}