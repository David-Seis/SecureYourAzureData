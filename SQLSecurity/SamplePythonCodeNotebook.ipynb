{
    "metadata": {
        "kernelspec": {
            "name": "python3",
            "display_name": "Python 3 (ipykernel)",
            "language": "python"
        },
        "language_info": {
            "name": "python",
            "version": "3.8.10",
            "mimetype": "text/x-python",
            "codemirror_mode": {
                "name": "ipython",
                "version": 3
            },
            "pygments_lexer": "ipython3",
            "nbconvert_exporter": "python",
            "file_extension": ".py"
        }
    },
    "nbformat_minor": 2,
    "nbformat": 4,
    "cells": [
        {
            "cell_type": "markdown",
            "source": [
                "# Setup\n",
                "\n",
                "Azure Data studio will detect the intended Kernal and have you approve the python installation. This install is necessary for this notebook to work as expected."
            ],
            "metadata": {
                "azdata_cell_guid": "0d0ac447-e1b4-4b64-8a76-cf6c3e01554e"
            },
            "attachments": {}
        },
        {
            "cell_type": "markdown",
            "source": [
                "## Python App Setup:"
            ],
            "metadata": {
                "azdata_cell_guid": "a385a55e-dd6c-4415-beb1-682c5d688718"
            },
            "attachments": {}
        },
        {
            "cell_type": "markdown",
            "source": [
                "Step 1: Install the pre-requisites using the shell-escape in Python:"
            ],
            "metadata": {
                "azdata_cell_guid": "56062f10-1a0a-472f-a815-83a07ea34de1"
            },
            "attachments": {}
        },
        {
            "cell_type": "code",
            "source": [
                "!python -m pip install -U pip\r\n",
                "!python -m pip install pyodbc"
            ],
            "metadata": {
                "azdata_cell_guid": "20291054-5c9b-4239-8eab-38943d6ea220",
                "language": "python",
                "tags": []
            },
            "outputs": [
                {
                    "output_type": "stream",
                    "name": "stdout",
                    "text": "Requirement already satisfied: pip in c:\\users\\administrator\\azuredatastudio-python\\lib\\site-packages (21.1.1)\nCollecting pip\n  Downloading pip-22.2.1-py3-none-any.whl (2.0 MB)\nInstalling collected packages: pip\n  Attempting uninstall: pip\n    Found existing installation: pip 21.1.1\n    Uninstalling pip-21.1.1:\n      Successfully uninstalled pip-21.1.1\nSuccessfully installed pip-22.2.1\n"
                },
                {
                    "output_type": "stream",
                    "name": "stdout",
                    "text": "Collecting pyodbc\n  Downloading pyodbc-4.0.34-cp38-cp38-win_amd64.whl (75 kB)\n     -------------------------------------- 75.1/75.1 kB 275.9 kB/s eta 0:00:00\nInstalling collected packages: pyodbc\nSuccessfully installed pyodbc-4.0.34\n"
                }
            ],
            "execution_count": 1
        },
        {
            "cell_type": "markdown",
            "source": [
                "Step 2: Import Python ODBC driver for SQL."
            ],
            "metadata": {
                "language": "python",
                "azdata_cell_guid": "288e330d-14b1-4b6c-aa36-82dcfc826d13"
            },
            "attachments": {}
        },
        {
            "cell_type": "code",
            "source": [
                "import pyodbc \r\n",
                "cnxn = pyodbc.connect('DRIVER={ODBC Driver 17 for SQL Server};Server=(local);Database=master;Trusted_Connection=yes;Application Name=DBConnectionAppFromPython;')\r\n",
                "cursor = cnxn.cursor()\r\n",
                "print ('Complete')"
            ],
            "metadata": {
                "language": "python",
                "azdata_cell_guid": "a3e70841-a38e-4d3b-aab3-d90a90eacebb"
            },
            "outputs": [
                {
                    "output_type": "stream",
                    "name": "stdout",
                    "text": "Complete\n"
                }
            ],
            "execution_count": 13
        },
        {
            "cell_type": "markdown",
            "source": [
                "Step 3: Test connection to SQL Server"
            ],
            "metadata": {
                "language": "python",
                "azdata_cell_guid": "ff597fa9-4bce-4550-a284-7fb34f631e02"
            },
            "attachments": {}
        },
        {
            "cell_type": "code",
            "source": [
                "cursor = cnxn.cursor()\r\n",
                "# Connect and return version information\r\n",
                "cursor.execute(\"SELECT @@version;\") \r\n",
                "row = cursor.fetchone() \r\n",
                "while row: \r\n",
                "    print(row[0])\r\n",
                "    row = cursor.fetchone()"
            ],
            "metadata": {
                "language": "python",
                "azdata_cell_guid": "e4198188-5f57-40ae-bd06-cfea2ff5c826",
                "tags": []
            },
            "outputs": [
                {
                    "output_type": "stream",
                    "name": "stdout",
                    "text": "Microsoft SQL Server 2019 (RTM) - 15.0.2000.5 (X64) \n\tSep 24 2019 13:48:23 \n\tCopyright (C) 2019 Microsoft Corporation\n\tEnterprise Edition (64-bit) on Windows Server 2022 Datacenter 10.0 <X64> (Build 20348: ) (Hypervisor)\n\n"
                }
            ],
            "execution_count": 7
        },
        {
            "cell_type": "markdown",
            "source": [
                "# Module 2 : Python App Examples"
            ],
            "metadata": {
                "language": "python",
                "azdata_cell_guid": "441db036-c4e4-407d-81b6-3ba8c2999da7"
            },
            "attachments": {}
        },
        {
            "cell_type": "markdown",
            "source": [
                "## 2.1 Principals"
            ],
            "metadata": {
                "language": "python",
                "azdata_cell_guid": "99d2534a-b3b6-48dd-a793-d6fda97734d6"
            },
            "attachments": {}
        },
        {
            "cell_type": "markdown",
            "source": [
                "Activity 1 Step 2: Create Windows users"
            ],
            "metadata": {
                "language": "python",
                "azdata_cell_guid": "e80d2efa-90fb-410c-bc46-1614002e7348"
            },
            "attachments": {}
        },
        {
            "cell_type": "code",
            "source": [
                "#  Module 2, Activity 1 - Create Windows users #\r\n",
                "!net user User1 \"Tes#20. Use12!\" /add\r\n",
                "!net user User2 \"Tes#20. Use22!\" /add"
            ],
            "metadata": {
                "language": "python",
                "azdata_cell_guid": "ee31ca1c-eed4-4093-8547-eb8a8dd5bd7f",
                "tags": []
            },
            "outputs": [
                {
                    "output_type": "stream",
                    "name": "stdout",
                    "text": "The command completed successfully.\n\n"
                },
                {
                    "output_type": "stream",
                    "name": "stdout",
                    "text": "The command completed successfully.\n\n"
                }
            ],
            "execution_count": 3
        },
        {
            "cell_type": "markdown",
            "source": [
                "## 2.1.1 Roles"
            ],
            "metadata": {
                "language": "python",
                "azdata_cell_guid": "1ed750d9-e2cc-46c5-81b0-ac2d2491bdf3"
            },
            "attachments": {}
        },
        {
            "cell_type": "markdown",
            "source": [
                "Activity 2 Step 5: Declare user specific conenciton variables and the queries to be run:"
            ],
            "metadata": {
                "language": "python",
                "azdata_cell_guid": "1ed69c9c-6218-4011-aa1d-eda017ef435f"
            },
            "attachments": {}
        },
        {
            "cell_type": "code",
            "source": [
                "#  Module 2, Activity 2 - Add connection and query details #\r\n",
                "\r\n",
                "# ---------------------------- #\r\n",
                "# Declare connection variables #\r\n",
                "# ---------------------------- #\r\n",
                "string = 'DRIVER={ODBC Driver 17 for SQL Server};Server=(local);DATABASE=SQLSecurityTest;'\r\n",
                "user3 = 'User3'\r\n",
                "pw3 = 'Tes#20. Use32!'\r\n",
                "user4 = 'User4'\r\n",
                "pw4 = 'Tes#20. Use42!'\r\n",
                "\r\n",
                "# -------------------------------------------------- #\r\n",
                "# Declare the queries you want to test for each user #\r\n",
                "# -------------------------------------------------- #\r\n",
                "\r\n",
                "query1 = \"SELECT 'Connecting user name = ' + suser_name()\"\r\n",
                "query2 = \"SELECT 'Select Server Name = ' + @@SERVERNAME\"\r\n",
                "query3 = \"Select 'Test Database = ' + name FROM SYS.Databases WHERE name LIKE '%Security%'\"\r\n",
                "query4 = \"Select 'SQL Version = ' + @@VERSION\"\r\n",
                "\r\n",
                "# ---------------------------------------- #\r\n",
                "# Declare connection strings for each user # \r\n",
                "# ---------------------------------------- #\r\n",
                "\r\n",
                "conn1 = pyodbc.connect(string+'Trusted_Connection=yes;')\r\n",
                "conn2 = pyodbc.connect(string+'UID='+ user3 +';PWD=' + pw3)\r\n",
                "conn3 = pyodbc.connect(string+'UID='+ user4 +';PWD=' + pw4)\r\n",
                "cursor1 = conn1.cursor()\r\n",
                "cursor2 = conn2.cursor()\r\n",
                "cursor3 = conn3.cursor()\r\n",
                "\r\n",
                "print ('Complete')"
            ],
            "metadata": {
                "language": "python",
                "azdata_cell_guid": "6fe67bf3-af9a-4f73-b6cd-7a16cdbfcbb3"
            },
            "outputs": [
                {
                    "output_type": "stream",
                    "name": "stdout",
                    "text": "Complete\n"
                }
            ],
            "execution_count": 34
        },
        {
            "cell_type": "markdown",
            "source": [
                "Activity 2 Step 5, contd: Test connection of current user (logged in user) as well as the two SQL users; User3 and User4. We would need to log in as User1 and User2 to use the trusted connection capabilities of the ODBC driver."
            ],
            "metadata": {
                "language": "python",
                "azdata_cell_guid": "2bc9ae2c-ac29-4543-9d29-d8246b6b1995"
            },
            "attachments": {}
        },
        {
            "cell_type": "code",
            "source": [
                "#  Module 2, Activity 2 - Test Connectivity to SQL Server for 3/5 users #\r\n",
                "\r\n",
                "# ------------------------------------ #\r\n",
                "# This will run as the powershell user #\r\n",
                "# ------------------------------------ #\r\n",
                "\r\n",
                "cursor1.execute(query1)\r\n",
                "row = cursor1.fetchone() \r\n",
                "while row: \r\n",
                "    print(row[0])\r\n",
                "    row = cursor1.fetchone()\r\n",
                "cursor1.execute(query2)\r\n",
                "row = cursor1.fetchone() \r\n",
                "while row: \r\n",
                "    print(row[0])\r\n",
                "    row = cursor1.fetchone()\r\n",
                "# ----------------------------- #\r\n",
                "# Execute the Queries for User3 #\r\n",
                "# ----------------------------- #\r\n",
                "\r\n",
                "cursor2.execute(query1)\r\n",
                "row = cursor2.fetchone() \r\n",
                "while row: \r\n",
                "    print(row[0])\r\n",
                "    row = cursor2.fetchone()\r\n",
                "cursor2.execute(query3)\r\n",
                "row = cursor2.fetchone() \r\n",
                "while row: \r\n",
                "    print(row[0])\r\n",
                "    row = cursor2.fetchone()\r\n",
                "\r\n",
                "# ----------------------------- #\r\n",
                "# Execute the queries for User4 #\r\n",
                "# ----------------------------- #\r\n",
                "\r\n",
                "cursor3.execute(query1)\r\n",
                "row = cursor3.fetchone() \r\n",
                "while row: \r\n",
                "    print(row[0])\r\n",
                "    row = cursor3.fetchone()\r\n",
                "cursor3.execute(query4)\r\n",
                "row = cursor3.fetchone() \r\n",
                "while row: \r\n",
                "    print(row[0])\r\n",
                "    row = cursor3.fetchone()\r\n",
                ""
            ],
            "metadata": {
                "language": "python",
                "azdata_cell_guid": "61ad88f9-59dc-4e0b-aaeb-dffa1e5eb341"
            },
            "outputs": [
                {
                    "output_type": "stream",
                    "name": "stdout",
                    "text": "Connecting user name = A1\\Administrator\nSelect Server Name = A1\nConnecting user name = User3\nTest Database = SQLSecurityTest\nConnecting user name = User4\nSQL Version = Microsoft SQL Server 2019 (RTM) - 15.0.2000.5 (X64) \n\tSep 24 2019 13:48:23 \n\tCopyright (C) 2019 Microsoft Corporation\n\tEnterprise Edition (64-bit) on Windows Server 2022 Datacenter 10.0 <X64> (Build 20348: ) (Hypervisor)\n\n"
                }
            ],
            "execution_count": 35
        },
        {
            "cell_type": "markdown",
            "source": [
                "## 2.2 Securables"
            ],
            "metadata": {
                "language": "python",
                "azdata_cell_guid": "996bb95f-bde8-440b-b88f-79862168be93"
            },
            "attachments": {}
        },
        {
            "cell_type": "markdown",
            "source": [
                "### Activity 3 Step 7: Test Connections with changed permissions"
            ],
            "metadata": {
                "language": "python",
                "azdata_cell_guid": "689ea3e9-e8f3-4275-86ca-0bd77c3672fe"
            },
            "attachments": {}
        },
        {
            "cell_type": "code",
            "source": [
                "# Declare the new queries #\r\n",
                "\r\n",
                "# -------------------------------------------------- #\r\n",
                "# Declare the queries you want to test for each user #\r\n",
                "# -------------------------------------------------- #\r\n",
                "\r\n",
                "query5 = \"EXEC dbo.uspGetCardInformation @LoginID = 2\"\r\n",
                "query6 = \"SELECT FirstName + ' ' + Lastname + ' ' + Address + ' ' + City FROM Patient_Mailing_Address\"\r\n",
                "query7 = \"SELECT FirstName + ' ' + LastName +', ' + SSN FROM Patient\" #this could be any combination of columns\r\n",
                "\r\n",
                "\r\n",
                "print ('Complete')"
            ],
            "metadata": {
                "language": "python",
                "azdata_cell_guid": "7d20794c-203c-4c06-af1d-ed8c08f55f07"
            },
            "outputs": [
                {
                    "output_type": "stream",
                    "name": "stdout",
                    "text": "Complete\n"
                }
            ],
            "execution_count": 80
        },
        {
            "cell_type": "markdown",
            "source": [
                "### Administrator: full permission on all objects as sysadmin:"
            ],
            "metadata": {
                "azdata_cell_guid": "9262b0f2-f644-49bd-8266-5f39158e7aae"
            },
            "attachments": {}
        },
        {
            "cell_type": "code",
            "source": [
                "# ------------------------------------ #\r\n",
                "# This will run as the powershell user #\r\n",
                "# ------------------------------------ #\r\n",
                "\r\n",
                "print ('--Credit Card Information--')\r\n",
                "cursor1.execute(query5)\r\n",
                "row = cursor1.fetchone() \r\n",
                "while row: \r\n",
                "    print(row[0])\r\n",
                "    row = cursor1.fetchone()"
            ],
            "metadata": {
                "azdata_cell_guid": "f133dda1-bec5-4ca9-b287-0dab1f07e24f",
                "language": "python"
            },
            "outputs": [
                {
                    "output_type": "stream",
                    "name": "stdout",
                    "text": "--Credit Card Information--\n2\n"
                }
            ],
            "execution_count": 81
        },
        {
            "cell_type": "code",
            "source": [
                "# ------------------------------------ #\r\n",
                "# This will run as the powershell user #\r\n",
                "# ------------------------------------ #\r\n",
                "print ('--Address information--')\r\n",
                "cursor1.execute(query6)\r\n",
                "row = cursor1.fetchone() \r\n",
                "while row: \r\n",
                "    print(row[0])\r\n",
                "    row = cursor1.fetchone()"
            ],
            "metadata": {
                "azdata_cell_guid": "13056c08-4920-4a2a-9945-fb4852aa852a",
                "language": "python"
            },
            "outputs": [
                {
                    "output_type": "stream",
                    "name": "stdout",
                    "text": "--Address information--\nAgatha Arbiter 111 Apple Ave. Atlanta\nBilly Bob 222 Bayshore Blvd. Boice\nCharley Choice 333 Castaway Ct. Chesterfield\nDavid Dangerfield 4444 Denvue Drive Denver\nEdbert Engleton 5555 Esquire Rd. E Easton\n"
                }
            ],
            "execution_count": 82
        },
        {
            "cell_type": "code",
            "source": [
                "# ------------------------------------ #\r\n",
                "# This will run as the powershell user #\r\n",
                "# ------------------------------------ #\r\n",
                "print ('--Social Security Information--')\r\n",
                "cursor1.execute(query7)\r\n",
                "row = cursor1.fetchone() \r\n",
                "while row: \r\n",
                "    print(row[0])\r\n",
                "    row = cursor1.fetchone()"
            ],
            "metadata": {
                "language": "python",
                "azdata_cell_guid": "60fe37e0-3dbd-4a82-bc12-ac8462ba8474"
            },
            "outputs": [
                {
                    "output_type": "stream",
                    "name": "stdout",
                    "text": "--Social Security Information--\nAgatha Arbiter, 111-11-1111\nBilly Bob, 222-22-2222\nCharley Choice, 333-33-3333\nDavid Dangerfield, 444-44-4444\nEdbert Engleton, 555-55-5555\n"
                }
            ],
            "execution_count": 83
        },
        {
            "cell_type": "markdown",
            "source": [
                "### User3:  Only permission to execute the stored procedure"
            ],
            "metadata": {
                "language": "python",
                "azdata_cell_guid": "02b2906d-defa-4ff4-b36f-ac906a627936"
            },
            "attachments": {}
        },
        {
            "cell_type": "code",
            "source": [
                "# ----------------------------- #\r\n",
                "# Execute the Queries for User3 #\r\n",
                "# ----------------------------- #\r\n",
                "\r\n",
                "print ('--Credit Card Information--')\r\n",
                "cursor2.execute(query5)\r\n",
                "row = cursor2.fetchone() \r\n",
                "while row: \r\n",
                "    print(row[0])\r\n",
                "    row = cursor2.fetchone()"
            ],
            "metadata": {
                "azdata_cell_guid": "ec2f02ba-b2a5-49b5-aa3a-d054f544b316",
                "language": "python"
            },
            "outputs": [
                {
                    "output_type": "stream",
                    "name": "stdout",
                    "text": "--Credit Card Information--\n2\n"
                }
            ],
            "execution_count": 84
        },
        {
            "cell_type": "code",
            "source": [
                "# ----------------------------- #\r\n",
                "# Execute the Queries for User3 #\r\n",
                "# ----------------------------- #\r\n",
                "print ('--Address information--')\r\n",
                "cursor2.execute(query6)\r\n",
                "row = cursor2.fetchone() \r\n",
                "while row: \r\n",
                "    print(row[0])\r\n",
                "    row = cursor2.fetchone()"
            ],
            "metadata": {
                "language": "python",
                "azdata_cell_guid": "b7f78e3d-2653-43ed-bbc9-3f2fd93b637c"
            },
            "outputs": [
                {
                    "output_type": "stream",
                    "name": "stdout",
                    "text": "--Address information--\n"
                },
                {
                    "output_type": "error",
                    "ename": "ProgrammingError",
                    "evalue": "('42000', \"[42000] [Microsoft][ODBC Driver 17 for SQL Server][SQL Server]The SELECT permission was denied on the object 'Patient_Mailing_Address', database 'SQLSecurityTest', schema 'dbo'. (229) (SQLExecDirectW)\")",
                    "traceback": [
                        "\u001b[1;31m---------------------------------------------------------------------------\u001b[0m",
                        "\u001b[1;31mProgrammingError\u001b[0m                          Traceback (most recent call last)",
                        "Input \u001b[1;32mIn [85]\u001b[0m, in \u001b[0;36m<cell line: 5>\u001b[1;34m()\u001b[0m\n\u001b[0;32m      1\u001b[0m \u001b[38;5;66;03m# ----------------------------- #\u001b[39;00m\n\u001b[0;32m      2\u001b[0m \u001b[38;5;66;03m# Execute the Queries for User3 #\u001b[39;00m\n\u001b[0;32m      3\u001b[0m \u001b[38;5;66;03m# ----------------------------- #\u001b[39;00m\n\u001b[0;32m      4\u001b[0m \u001b[38;5;28mprint\u001b[39m (\u001b[38;5;124m'\u001b[39m\u001b[38;5;124m--Address information--\u001b[39m\u001b[38;5;124m'\u001b[39m)\n\u001b[1;32m----> 5\u001b[0m \u001b[43mcursor2\u001b[49m\u001b[38;5;241;43m.\u001b[39;49m\u001b[43mexecute\u001b[49m\u001b[43m(\u001b[49m\u001b[43mquery6\u001b[49m\u001b[43m)\u001b[49m\n\u001b[0;32m      6\u001b[0m row \u001b[38;5;241m=\u001b[39m cursor2\u001b[38;5;241m.\u001b[39mfetchone() \n\u001b[0;32m      7\u001b[0m \u001b[38;5;28;01mwhile\u001b[39;00m row: \n",
                        "\u001b[1;31mProgrammingError\u001b[0m: ('42000', \"[42000] [Microsoft][ODBC Driver 17 for SQL Server][SQL Server]The SELECT permission was denied on the object 'Patient_Mailing_Address', database 'SQLSecurityTest', schema 'dbo'. (229) (SQLExecDirectW)\")"
                    ]
                }
            ],
            "execution_count": 85
        },
        {
            "cell_type": "code",
            "source": [
                "# ----------------------------- #\r\n",
                "# Execute the Queries for User3 #\r\n",
                "# ----------------------------- #\r\n",
                "print ('--Social Security Information--')\r\n",
                "cursor2.execute(query7)\r\n",
                "row = cursor2.fetchone() \r\n",
                "while row: \r\n",
                "    print(row[0])\r\n",
                "    row = cursor2.fetchone()"
            ],
            "metadata": {
                "language": "python",
                "azdata_cell_guid": "134bb5db-83b6-455a-9af8-179b30077c7b"
            },
            "outputs": [
                {
                    "output_type": "stream",
                    "name": "stdout",
                    "text": "--Social Security Information--\n"
                },
                {
                    "output_type": "error",
                    "ename": "ProgrammingError",
                    "evalue": "('42000', \"[42000] [Microsoft][ODBC Driver 17 for SQL Server][SQL Server]The SELECT permission was denied on the object 'Patient', database 'SQLSecurityTest', schema 'dbo'. (229) (SQLExecDirectW)\")",
                    "traceback": [
                        "\u001b[1;31m---------------------------------------------------------------------------\u001b[0m",
                        "\u001b[1;31mProgrammingError\u001b[0m                          Traceback (most recent call last)",
                        "Input \u001b[1;32mIn [86]\u001b[0m, in \u001b[0;36m<cell line: 5>\u001b[1;34m()\u001b[0m\n\u001b[0;32m      1\u001b[0m \u001b[38;5;66;03m# ----------------------------- #\u001b[39;00m\n\u001b[0;32m      2\u001b[0m \u001b[38;5;66;03m# Execute the Queries for User3 #\u001b[39;00m\n\u001b[0;32m      3\u001b[0m \u001b[38;5;66;03m# ----------------------------- #\u001b[39;00m\n\u001b[0;32m      4\u001b[0m \u001b[38;5;28mprint\u001b[39m (\u001b[38;5;124m'\u001b[39m\u001b[38;5;124m--Social Security Information--\u001b[39m\u001b[38;5;124m'\u001b[39m)\n\u001b[1;32m----> 5\u001b[0m \u001b[43mcursor2\u001b[49m\u001b[38;5;241;43m.\u001b[39;49m\u001b[43mexecute\u001b[49m\u001b[43m(\u001b[49m\u001b[43mquery7\u001b[49m\u001b[43m)\u001b[49m\n\u001b[0;32m      6\u001b[0m row \u001b[38;5;241m=\u001b[39m cursor2\u001b[38;5;241m.\u001b[39mfetchone() \n\u001b[0;32m      7\u001b[0m \u001b[38;5;28;01mwhile\u001b[39;00m row: \n",
                        "\u001b[1;31mProgrammingError\u001b[0m: ('42000', \"[42000] [Microsoft][ODBC Driver 17 for SQL Server][SQL Server]The SELECT permission was denied on the object 'Patient', database 'SQLSecurityTest', schema 'dbo'. (229) (SQLExecDirectW)\")"
                    ]
                }
            ],
            "execution_count": 86
        },
        {
            "cell_type": "markdown",
            "source": [
                "### User4: Only permission to access the view!"
            ],
            "metadata": {
                "language": "python",
                "azdata_cell_guid": "1337e956-add6-4147-b053-408637714f6d"
            },
            "attachments": {}
        },
        {
            "cell_type": "code",
            "source": [
                "# ----------------------------- #\r\n",
                "# Execute the queries for User4 #\r\n",
                "# ----------------------------- #\r\n",
                "print ('--Credit Card Information--')\r\n",
                "cursor3.execute(query5)\r\n",
                "row = cursor3.fetchone() \r\n",
                "while row: \r\n",
                "    print(row[0])\r\n",
                "    row = cursor3.fetchone()"
            ],
            "metadata": {
                "language": "python",
                "azdata_cell_guid": "8af6b6f3-262d-442a-a85e-fbbe2b253716"
            },
            "outputs": [
                {
                    "output_type": "stream",
                    "name": "stdout",
                    "text": "--Credit Card Information--\n"
                },
                {
                    "output_type": "error",
                    "ename": "ProgrammingError",
                    "evalue": "('42000', \"[42000] [Microsoft][ODBC Driver 17 for SQL Server][SQL Server]The EXECUTE permission was denied on the object 'uspGetCardInformation', database 'SQLSecurityTest', schema 'dbo'. (229) (SQLExecDirectW)\")",
                    "traceback": [
                        "\u001b[1;31m---------------------------------------------------------------------------\u001b[0m",
                        "\u001b[1;31mProgrammingError\u001b[0m                          Traceback (most recent call last)",
                        "Input \u001b[1;32mIn [87]\u001b[0m, in \u001b[0;36m<cell line: 5>\u001b[1;34m()\u001b[0m\n\u001b[0;32m      1\u001b[0m \u001b[38;5;66;03m# ----------------------------- #\u001b[39;00m\n\u001b[0;32m      2\u001b[0m \u001b[38;5;66;03m# Execute the queries for User4 #\u001b[39;00m\n\u001b[0;32m      3\u001b[0m \u001b[38;5;66;03m# ----------------------------- #\u001b[39;00m\n\u001b[0;32m      4\u001b[0m \u001b[38;5;28mprint\u001b[39m (\u001b[38;5;124m'\u001b[39m\u001b[38;5;124m--Credit Card Information--\u001b[39m\u001b[38;5;124m'\u001b[39m)\n\u001b[1;32m----> 5\u001b[0m \u001b[43mcursor3\u001b[49m\u001b[38;5;241;43m.\u001b[39;49m\u001b[43mexecute\u001b[49m\u001b[43m(\u001b[49m\u001b[43mquery5\u001b[49m\u001b[43m)\u001b[49m\n\u001b[0;32m      6\u001b[0m row \u001b[38;5;241m=\u001b[39m cursor3\u001b[38;5;241m.\u001b[39mfetchone() \n\u001b[0;32m      7\u001b[0m \u001b[38;5;28;01mwhile\u001b[39;00m row: \n",
                        "\u001b[1;31mProgrammingError\u001b[0m: ('42000', \"[42000] [Microsoft][ODBC Driver 17 for SQL Server][SQL Server]The EXECUTE permission was denied on the object 'uspGetCardInformation', database 'SQLSecurityTest', schema 'dbo'. (229) (SQLExecDirectW)\")"
                    ]
                }
            ],
            "execution_count": 87
        },
        {
            "cell_type": "code",
            "source": [
                "# ----------------------------- #\r\n",
                "# Execute the queries for User4 #\r\n",
                "# ----------------------------- #\r\n",
                "print ('--Address information--')\r\n",
                "cursor3.execute(query6)\r\n",
                "row = cursor3.fetchone() \r\n",
                "while row: \r\n",
                "    print(row[0])\r\n",
                "    row = cursor3.fetchone()"
            ],
            "metadata": {
                "language": "python",
                "azdata_cell_guid": "d6b5078e-2345-4bb7-85f3-d0cc3ebb846e"
            },
            "outputs": [
                {
                    "output_type": "stream",
                    "name": "stdout",
                    "text": "--Address information--\nAgatha Arbiter 111 Apple Ave. Atlanta\nBilly Bob 222 Bayshore Blvd. Boice\nCharley Choice 333 Castaway Ct. Chesterfield\nDavid Dangerfield 4444 Denvue Drive Denver\nEdbert Engleton 5555 Esquire Rd. E Easton\n"
                }
            ],
            "execution_count": 88
        },
        {
            "cell_type": "code",
            "source": [
                "# ----------------------------- #\r\n",
                "# Execute the queries for User4 #\r\n",
                "# ----------------------------- #\r\n",
                "print ('--Social Security Information--')\r\n",
                "cursor3.execute(query7)\r\n",
                "row = cursor3.fetchone() \r\n",
                "while row: \r\n",
                "    print(row[0])\r\n",
                "    row = cursor3.fetchone()"
            ],
            "metadata": {
                "language": "python",
                "azdata_cell_guid": "ad56593d-986b-48af-9cc5-717e91618cd3"
            },
            "outputs": [
                {
                    "output_type": "stream",
                    "name": "stdout",
                    "text": "--Social Security Information--\n"
                },
                {
                    "output_type": "error",
                    "ename": "ProgrammingError",
                    "evalue": "('42000', \"[42000] [Microsoft][ODBC Driver 17 for SQL Server][SQL Server]The SELECT permission was denied on the object 'Patient', database 'SQLSecurityTest', schema 'dbo'. (229) (SQLExecDirectW)\")",
                    "traceback": [
                        "\u001b[1;31m---------------------------------------------------------------------------\u001b[0m",
                        "\u001b[1;31mProgrammingError\u001b[0m                          Traceback (most recent call last)",
                        "Input \u001b[1;32mIn [89]\u001b[0m, in \u001b[0;36m<cell line: 5>\u001b[1;34m()\u001b[0m\n\u001b[0;32m      1\u001b[0m \u001b[38;5;66;03m# ----------------------------- #\u001b[39;00m\n\u001b[0;32m      2\u001b[0m \u001b[38;5;66;03m# Execute the queries for User4 #\u001b[39;00m\n\u001b[0;32m      3\u001b[0m \u001b[38;5;66;03m# ----------------------------- #\u001b[39;00m\n\u001b[0;32m      4\u001b[0m \u001b[38;5;28mprint\u001b[39m (\u001b[38;5;124m'\u001b[39m\u001b[38;5;124m--Social Security Information--\u001b[39m\u001b[38;5;124m'\u001b[39m)\n\u001b[1;32m----> 5\u001b[0m \u001b[43mcursor3\u001b[49m\u001b[38;5;241;43m.\u001b[39;49m\u001b[43mexecute\u001b[49m\u001b[43m(\u001b[49m\u001b[43mquery7\u001b[49m\u001b[43m)\u001b[49m\n\u001b[0;32m      6\u001b[0m row \u001b[38;5;241m=\u001b[39m cursor3\u001b[38;5;241m.\u001b[39mfetchone() \n\u001b[0;32m      7\u001b[0m \u001b[38;5;28;01mwhile\u001b[39;00m row: \n",
                        "\u001b[1;31mProgrammingError\u001b[0m: ('42000', \"[42000] [Microsoft][ODBC Driver 17 for SQL Server][SQL Server]The SELECT permission was denied on the object 'Patient', database 'SQLSecurityTest', schema 'dbo'. (229) (SQLExecDirectW)\")"
                    ]
                }
            ],
            "execution_count": 89
        },
        {
            "cell_type": "markdown",
            "source": [
                "Return to the 'Security Audit Notebook' To review these results:  \n",
                "![](attachment:image.png)"
            ],
            "metadata": {
                "language": "python",
                "azdata_cell_guid": "f6147e98-a725-43e3-a727-6399f346af04"
            },
            "attachments": {
                "image.png": {
                    "image/png": "[encoded data removed]"
                }
            }
        }
    ]
}